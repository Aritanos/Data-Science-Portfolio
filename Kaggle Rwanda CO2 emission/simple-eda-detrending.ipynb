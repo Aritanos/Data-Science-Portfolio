{
 "cells": [
  {
   "cell_type": "code",
   "execution_count": 1,
   "id": "8076cedd",
   "metadata": {
    "_cell_guid": "b1076dfc-b9ad-4769-8c92-a6c4dae69d19",
    "_uuid": "8f2839f25d086af736a60e9eeb907d3b93b6e0e5",
    "execution": {
     "iopub.execute_input": "2023-08-15T20:56:04.761192Z",
     "iopub.status.busy": "2023-08-15T20:56:04.760649Z",
     "iopub.status.idle": "2023-08-15T20:56:06.359734Z",
     "shell.execute_reply": "2023-08-15T20:56:06.358255Z"
    },
    "papermill": {
     "duration": 1.618602,
     "end_time": "2023-08-15T20:56:06.362627",
     "exception": false,
     "start_time": "2023-08-15T20:56:04.744025",
     "status": "completed"
    },
    "tags": []
   },
   "outputs": [
    {
     "name": "stderr",
     "output_type": "stream",
     "text": [
      "/opt/conda/lib/python3.10/site-packages/scipy/__init__.py:146: UserWarning: A NumPy version >=1.16.5 and <1.23.0 is required for this version of SciPy (detected version 1.23.5\n",
      "  warnings.warn(f\"A NumPy version >={np_minversion} and <{np_maxversion}\"\n"
     ]
    },
    {
     "name": "stdout",
     "output_type": "stream",
     "text": [
      "/kaggle/input/playground-series-s3e20/sample_submission.csv\n",
      "/kaggle/input/playground-series-s3e20/train.csv\n",
      "/kaggle/input/playground-series-s3e20/test.csv\n"
     ]
    }
   ],
   "source": [
    "# This Python 3 environment comes with many helpful analytics libraries installed\n",
    "# It is defined by the kaggle/python Docker image: https://github.com/kaggle/docker-python\n",
    "# For example, here's several helpful packages to load\n",
    "\n",
    "import numpy as np # linear algebra\n",
    "import pandas as pd # data processing, CSV file I/O (e.g. pd.read_csv)\n",
    "\n",
    "import matplotlib as mpl\n",
    "import matplotlib.pyplot as plt\n",
    "import seaborn as sns\n",
    "\n",
    "# Input data files are available in the read-only \"../input/\" directory\n",
    "# For example, running this (by clicking run or pressing Shift+Enter) will list all files under the input directory\n",
    "\n",
    "import os\n",
    "for dirname, _, filenames in os.walk('/kaggle/input'):\n",
    "    for filename in filenames:\n",
    "        print(os.path.join(dirname, filename))\n",
    "\n",
    "# You can write up to 20GB to the current directory (/kaggle/working/) that gets preserved as output when you create a version using \"Save & Run All\" \n",
    "# You can also write temporary files to /kaggle/temp/, but they won't be saved outside of the current session"
   ]
  },
  {
   "cell_type": "markdown",
   "id": "19915a5c",
   "metadata": {
    "papermill": {
     "duration": 0.01224,
     "end_time": "2023-08-15T20:56:06.387818",
     "exception": false,
     "start_time": "2023-08-15T20:56:06.375578",
     "status": "completed"
    },
    "tags": []
   },
   "source": [
    "We know that training data was recorded during years of Covid-19 pandemic, which significantly increased emissions all oer the world. That means that trends, recorded during this period, are much different from trends, recorded later. We can try detrending so that predictions won't be affected by previous data."
   ]
  },
  {
   "cell_type": "code",
   "execution_count": 2,
   "id": "826ba6af",
   "metadata": {
    "execution": {
     "iopub.execute_input": "2023-08-15T20:56:06.415124Z",
     "iopub.status.busy": "2023-08-15T20:56:06.414354Z",
     "iopub.status.idle": "2023-08-15T20:56:08.185642Z",
     "shell.execute_reply": "2023-08-15T20:56:08.184288Z"
    },
    "papermill": {
     "duration": 1.788264,
     "end_time": "2023-08-15T20:56:08.188669",
     "exception": false,
     "start_time": "2023-08-15T20:56:06.400405",
     "status": "completed"
    },
    "tags": []
   },
   "outputs": [],
   "source": [
    "from statsmodels.tsa.seasonal import seasonal_decompose\n",
    "from sklearn.model_selection import train_test_split, TimeSeriesSplit, GridSearchCV\n",
    "from sklearn.linear_model import LinearRegression\n",
    "from sklearn.pipeline import Pipeline\n",
    "from sklearn.metrics import mean_squared_error\n",
    "from sklearn.base import BaseEstimator, TransformerMixin\n",
    "from statsmodels.tsa.tsatools import detrend\n",
    "from lightgbm import LGBMRegressor as lgbm_r"
   ]
  },
  {
   "cell_type": "markdown",
   "id": "14144069",
   "metadata": {
    "papermill": {
     "duration": 0.012729,
     "end_time": "2023-08-15T20:56:08.214327",
     "exception": false,
     "start_time": "2023-08-15T20:56:08.201598",
     "status": "completed"
    },
    "tags": []
   },
   "source": [
    "#### Dataset import"
   ]
  },
  {
   "cell_type": "code",
   "execution_count": 3,
   "id": "a7633785",
   "metadata": {
    "execution": {
     "iopub.execute_input": "2023-08-15T20:56:08.242198Z",
     "iopub.status.busy": "2023-08-15T20:56:08.241717Z",
     "iopub.status.idle": "2023-08-15T20:56:11.771095Z",
     "shell.execute_reply": "2023-08-15T20:56:11.769903Z"
    },
    "papermill": {
     "duration": 3.547027,
     "end_time": "2023-08-15T20:56:11.774470",
     "exception": false,
     "start_time": "2023-08-15T20:56:08.227443",
     "status": "completed"
    },
    "tags": []
   },
   "outputs": [],
   "source": [
    "#dataset import\n",
    "train_data = pd.read_csv('/kaggle/input/playground-series-s3e20/train.csv', index_col=['ID_LAT_LON_YEAR_WEEK'])\n",
    "test_data = pd.read_csv('/kaggle/input/playground-series-s3e20/test.csv', index_col=['ID_LAT_LON_YEAR_WEEK'])"
   ]
  },
  {
   "cell_type": "code",
   "execution_count": 4,
   "id": "377058af",
   "metadata": {
    "execution": {
     "iopub.execute_input": "2023-08-15T20:56:11.801717Z",
     "iopub.status.busy": "2023-08-15T20:56:11.801287Z",
     "iopub.status.idle": "2023-08-15T20:56:11.845514Z",
     "shell.execute_reply": "2023-08-15T20:56:11.844290Z"
    },
    "papermill": {
     "duration": 0.062473,
     "end_time": "2023-08-15T20:56:11.849634",
     "exception": false,
     "start_time": "2023-08-15T20:56:11.787161",
     "status": "completed"
    },
    "tags": []
   },
   "outputs": [
    {
     "data": {
      "text/html": [
       "<div>\n",
       "<style scoped>\n",
       "    .dataframe tbody tr th:only-of-type {\n",
       "        vertical-align: middle;\n",
       "    }\n",
       "\n",
       "    .dataframe tbody tr th {\n",
       "        vertical-align: top;\n",
       "    }\n",
       "\n",
       "    .dataframe thead th {\n",
       "        text-align: right;\n",
       "    }\n",
       "</style>\n",
       "<table border=\"1\" class=\"dataframe\">\n",
       "  <thead>\n",
       "    <tr style=\"text-align: right;\">\n",
       "      <th></th>\n",
       "      <th>latitude</th>\n",
       "      <th>longitude</th>\n",
       "      <th>year</th>\n",
       "      <th>week_no</th>\n",
       "      <th>SulphurDioxide_SO2_column_number_density</th>\n",
       "      <th>SulphurDioxide_SO2_column_number_density_amf</th>\n",
       "      <th>SulphurDioxide_SO2_slant_column_number_density</th>\n",
       "      <th>SulphurDioxide_cloud_fraction</th>\n",
       "      <th>SulphurDioxide_sensor_azimuth_angle</th>\n",
       "      <th>SulphurDioxide_sensor_zenith_angle</th>\n",
       "      <th>...</th>\n",
       "      <th>Cloud_cloud_top_height</th>\n",
       "      <th>Cloud_cloud_base_pressure</th>\n",
       "      <th>Cloud_cloud_base_height</th>\n",
       "      <th>Cloud_cloud_optical_depth</th>\n",
       "      <th>Cloud_surface_albedo</th>\n",
       "      <th>Cloud_sensor_azimuth_angle</th>\n",
       "      <th>Cloud_sensor_zenith_angle</th>\n",
       "      <th>Cloud_solar_azimuth_angle</th>\n",
       "      <th>Cloud_solar_zenith_angle</th>\n",
       "      <th>emission</th>\n",
       "    </tr>\n",
       "    <tr>\n",
       "      <th>ID_LAT_LON_YEAR_WEEK</th>\n",
       "      <th></th>\n",
       "      <th></th>\n",
       "      <th></th>\n",
       "      <th></th>\n",
       "      <th></th>\n",
       "      <th></th>\n",
       "      <th></th>\n",
       "      <th></th>\n",
       "      <th></th>\n",
       "      <th></th>\n",
       "      <th></th>\n",
       "      <th></th>\n",
       "      <th></th>\n",
       "      <th></th>\n",
       "      <th></th>\n",
       "      <th></th>\n",
       "      <th></th>\n",
       "      <th></th>\n",
       "      <th></th>\n",
       "      <th></th>\n",
       "      <th></th>\n",
       "    </tr>\n",
       "  </thead>\n",
       "  <tbody>\n",
       "    <tr>\n",
       "      <th>ID_-0.510_29.290_2019_00</th>\n",
       "      <td>-0.51</td>\n",
       "      <td>29.29</td>\n",
       "      <td>2019</td>\n",
       "      <td>0</td>\n",
       "      <td>-0.000108</td>\n",
       "      <td>0.603019</td>\n",
       "      <td>-0.000065</td>\n",
       "      <td>0.255668</td>\n",
       "      <td>-98.593887</td>\n",
       "      <td>50.843559</td>\n",
       "      <td>...</td>\n",
       "      <td>3664.436218</td>\n",
       "      <td>61085.809570</td>\n",
       "      <td>2615.120483</td>\n",
       "      <td>15.568533</td>\n",
       "      <td>0.272292</td>\n",
       "      <td>-12.628986</td>\n",
       "      <td>35.632416</td>\n",
       "      <td>-138.786423</td>\n",
       "      <td>30.752140</td>\n",
       "      <td>3.750994</td>\n",
       "    </tr>\n",
       "    <tr>\n",
       "      <th>ID_-0.510_29.290_2019_01</th>\n",
       "      <td>-0.51</td>\n",
       "      <td>29.29</td>\n",
       "      <td>2019</td>\n",
       "      <td>1</td>\n",
       "      <td>0.000021</td>\n",
       "      <td>0.728214</td>\n",
       "      <td>0.000014</td>\n",
       "      <td>0.130988</td>\n",
       "      <td>16.592861</td>\n",
       "      <td>39.137194</td>\n",
       "      <td>...</td>\n",
       "      <td>3651.190311</td>\n",
       "      <td>66969.478735</td>\n",
       "      <td>3174.572424</td>\n",
       "      <td>8.690601</td>\n",
       "      <td>0.256830</td>\n",
       "      <td>30.359375</td>\n",
       "      <td>39.557633</td>\n",
       "      <td>-145.183930</td>\n",
       "      <td>27.251779</td>\n",
       "      <td>4.025176</td>\n",
       "    </tr>\n",
       "    <tr>\n",
       "      <th>ID_-0.510_29.290_2019_02</th>\n",
       "      <td>-0.51</td>\n",
       "      <td>29.29</td>\n",
       "      <td>2019</td>\n",
       "      <td>2</td>\n",
       "      <td>0.000514</td>\n",
       "      <td>0.748199</td>\n",
       "      <td>0.000385</td>\n",
       "      <td>0.110018</td>\n",
       "      <td>72.795837</td>\n",
       "      <td>52.868816</td>\n",
       "      <td>...</td>\n",
       "      <td>4216.986492</td>\n",
       "      <td>60068.894448</td>\n",
       "      <td>3516.282669</td>\n",
       "      <td>21.103410</td>\n",
       "      <td>0.251101</td>\n",
       "      <td>15.377883</td>\n",
       "      <td>30.401823</td>\n",
       "      <td>-142.519545</td>\n",
       "      <td>26.193296</td>\n",
       "      <td>4.231381</td>\n",
       "    </tr>\n",
       "    <tr>\n",
       "      <th>ID_-0.510_29.290_2019_03</th>\n",
       "      <td>-0.51</td>\n",
       "      <td>29.29</td>\n",
       "      <td>2019</td>\n",
       "      <td>3</td>\n",
       "      <td>NaN</td>\n",
       "      <td>NaN</td>\n",
       "      <td>NaN</td>\n",
       "      <td>NaN</td>\n",
       "      <td>NaN</td>\n",
       "      <td>NaN</td>\n",
       "      <td>...</td>\n",
       "      <td>5228.507736</td>\n",
       "      <td>51064.547339</td>\n",
       "      <td>4180.973322</td>\n",
       "      <td>15.386899</td>\n",
       "      <td>0.262043</td>\n",
       "      <td>-11.293399</td>\n",
       "      <td>24.380357</td>\n",
       "      <td>-132.665828</td>\n",
       "      <td>28.829155</td>\n",
       "      <td>4.305286</td>\n",
       "    </tr>\n",
       "    <tr>\n",
       "      <th>ID_-0.510_29.290_2019_04</th>\n",
       "      <td>-0.51</td>\n",
       "      <td>29.29</td>\n",
       "      <td>2019</td>\n",
       "      <td>4</td>\n",
       "      <td>-0.000079</td>\n",
       "      <td>0.676296</td>\n",
       "      <td>-0.000048</td>\n",
       "      <td>0.121164</td>\n",
       "      <td>4.121269</td>\n",
       "      <td>35.515587</td>\n",
       "      <td>...</td>\n",
       "      <td>3980.598120</td>\n",
       "      <td>63751.125781</td>\n",
       "      <td>3355.710107</td>\n",
       "      <td>8.114694</td>\n",
       "      <td>0.235847</td>\n",
       "      <td>38.532263</td>\n",
       "      <td>37.392979</td>\n",
       "      <td>-141.509805</td>\n",
       "      <td>22.204612</td>\n",
       "      <td>4.347317</td>\n",
       "    </tr>\n",
       "    <tr>\n",
       "      <th>ID_-0.510_29.290_2019_05</th>\n",
       "      <td>-0.51</td>\n",
       "      <td>29.29</td>\n",
       "      <td>2019</td>\n",
       "      <td>5</td>\n",
       "      <td>0.000294</td>\n",
       "      <td>0.871713</td>\n",
       "      <td>0.000242</td>\n",
       "      <td>0.227656</td>\n",
       "      <td>-13.453690</td>\n",
       "      <td>57.097124</td>\n",
       "      <td>...</td>\n",
       "      <td>5530.354546</td>\n",
       "      <td>49846.001010</td>\n",
       "      <td>4495.301362</td>\n",
       "      <td>7.556143</td>\n",
       "      <td>0.250228</td>\n",
       "      <td>30.128401</td>\n",
       "      <td>37.007020</td>\n",
       "      <td>-137.388719</td>\n",
       "      <td>21.157820</td>\n",
       "      <td>4.310819</td>\n",
       "    </tr>\n",
       "    <tr>\n",
       "      <th>ID_-0.510_29.290_2019_06</th>\n",
       "      <td>-0.51</td>\n",
       "      <td>29.29</td>\n",
       "      <td>2019</td>\n",
       "      <td>6</td>\n",
       "      <td>-0.000285</td>\n",
       "      <td>0.791956</td>\n",
       "      <td>-0.000226</td>\n",
       "      <td>0.119397</td>\n",
       "      <td>72.198647</td>\n",
       "      <td>58.496368</td>\n",
       "      <td>...</td>\n",
       "      <td>4378.614648</td>\n",
       "      <td>58804.276563</td>\n",
       "      <td>3537.050659</td>\n",
       "      <td>10.493107</td>\n",
       "      <td>0.240828</td>\n",
       "      <td>4.585368</td>\n",
       "      <td>30.491541</td>\n",
       "      <td>-128.196338</td>\n",
       "      <td>21.721202</td>\n",
       "      <td>4.269334</td>\n",
       "    </tr>\n",
       "    <tr>\n",
       "      <th>ID_-0.510_29.290_2019_07</th>\n",
       "      <td>-0.51</td>\n",
       "      <td>29.29</td>\n",
       "      <td>2019</td>\n",
       "      <td>7</td>\n",
       "      <td>-0.000016</td>\n",
       "      <td>0.976311</td>\n",
       "      <td>-0.000016</td>\n",
       "      <td>0.106799</td>\n",
       "      <td>-100.956055</td>\n",
       "      <td>23.739841</td>\n",
       "      <td>...</td>\n",
       "      <td>3468.924146</td>\n",
       "      <td>63697.007267</td>\n",
       "      <td>2597.071563</td>\n",
       "      <td>20.533600</td>\n",
       "      <td>0.250168</td>\n",
       "      <td>16.374829</td>\n",
       "      <td>35.840248</td>\n",
       "      <td>-122.250699</td>\n",
       "      <td>20.432005</td>\n",
       "      <td>4.251361</td>\n",
       "    </tr>\n",
       "    <tr>\n",
       "      <th>ID_-0.510_29.290_2019_08</th>\n",
       "      <td>-0.51</td>\n",
       "      <td>29.29</td>\n",
       "      <td>2019</td>\n",
       "      <td>8</td>\n",
       "      <td>-0.000115</td>\n",
       "      <td>0.796941</td>\n",
       "      <td>-0.000101</td>\n",
       "      <td>0.164971</td>\n",
       "      <td>-40.179074</td>\n",
       "      <td>31.161560</td>\n",
       "      <td>...</td>\n",
       "      <td>3160.264670</td>\n",
       "      <td>67222.556159</td>\n",
       "      <td>2530.851476</td>\n",
       "      <td>24.253928</td>\n",
       "      <td>0.260543</td>\n",
       "      <td>-12.021751</td>\n",
       "      <td>42.688789</td>\n",
       "      <td>-114.296369</td>\n",
       "      <td>22.365602</td>\n",
       "      <td>4.281937</td>\n",
       "    </tr>\n",
       "    <tr>\n",
       "      <th>ID_-0.510_29.290_2019_09</th>\n",
       "      <td>-0.51</td>\n",
       "      <td>29.29</td>\n",
       "      <td>2019</td>\n",
       "      <td>9</td>\n",
       "      <td>0.000056</td>\n",
       "      <td>0.998541</td>\n",
       "      <td>0.000014</td>\n",
       "      <td>0.157726</td>\n",
       "      <td>-100.108744</td>\n",
       "      <td>33.592015</td>\n",
       "      <td>...</td>\n",
       "      <td>4141.073340</td>\n",
       "      <td>60298.717969</td>\n",
       "      <td>3510.293652</td>\n",
       "      <td>13.813379</td>\n",
       "      <td>0.289295</td>\n",
       "      <td>-66.258392</td>\n",
       "      <td>28.596211</td>\n",
       "      <td>-105.687177</td>\n",
       "      <td>21.084021</td>\n",
       "      <td>4.352933</td>\n",
       "    </tr>\n",
       "  </tbody>\n",
       "</table>\n",
       "<p>10 rows × 75 columns</p>\n",
       "</div>"
      ],
      "text/plain": [
       "                          latitude  longitude  year  week_no  \\\n",
       "ID_LAT_LON_YEAR_WEEK                                           \n",
       "ID_-0.510_29.290_2019_00     -0.51      29.29  2019        0   \n",
       "ID_-0.510_29.290_2019_01     -0.51      29.29  2019        1   \n",
       "ID_-0.510_29.290_2019_02     -0.51      29.29  2019        2   \n",
       "ID_-0.510_29.290_2019_03     -0.51      29.29  2019        3   \n",
       "ID_-0.510_29.290_2019_04     -0.51      29.29  2019        4   \n",
       "ID_-0.510_29.290_2019_05     -0.51      29.29  2019        5   \n",
       "ID_-0.510_29.290_2019_06     -0.51      29.29  2019        6   \n",
       "ID_-0.510_29.290_2019_07     -0.51      29.29  2019        7   \n",
       "ID_-0.510_29.290_2019_08     -0.51      29.29  2019        8   \n",
       "ID_-0.510_29.290_2019_09     -0.51      29.29  2019        9   \n",
       "\n",
       "                          SulphurDioxide_SO2_column_number_density  \\\n",
       "ID_LAT_LON_YEAR_WEEK                                                 \n",
       "ID_-0.510_29.290_2019_00                                 -0.000108   \n",
       "ID_-0.510_29.290_2019_01                                  0.000021   \n",
       "ID_-0.510_29.290_2019_02                                  0.000514   \n",
       "ID_-0.510_29.290_2019_03                                       NaN   \n",
       "ID_-0.510_29.290_2019_04                                 -0.000079   \n",
       "ID_-0.510_29.290_2019_05                                  0.000294   \n",
       "ID_-0.510_29.290_2019_06                                 -0.000285   \n",
       "ID_-0.510_29.290_2019_07                                 -0.000016   \n",
       "ID_-0.510_29.290_2019_08                                 -0.000115   \n",
       "ID_-0.510_29.290_2019_09                                  0.000056   \n",
       "\n",
       "                          SulphurDioxide_SO2_column_number_density_amf  \\\n",
       "ID_LAT_LON_YEAR_WEEK                                                     \n",
       "ID_-0.510_29.290_2019_00                                      0.603019   \n",
       "ID_-0.510_29.290_2019_01                                      0.728214   \n",
       "ID_-0.510_29.290_2019_02                                      0.748199   \n",
       "ID_-0.510_29.290_2019_03                                           NaN   \n",
       "ID_-0.510_29.290_2019_04                                      0.676296   \n",
       "ID_-0.510_29.290_2019_05                                      0.871713   \n",
       "ID_-0.510_29.290_2019_06                                      0.791956   \n",
       "ID_-0.510_29.290_2019_07                                      0.976311   \n",
       "ID_-0.510_29.290_2019_08                                      0.796941   \n",
       "ID_-0.510_29.290_2019_09                                      0.998541   \n",
       "\n",
       "                          SulphurDioxide_SO2_slant_column_number_density  \\\n",
       "ID_LAT_LON_YEAR_WEEK                                                       \n",
       "ID_-0.510_29.290_2019_00                                       -0.000065   \n",
       "ID_-0.510_29.290_2019_01                                        0.000014   \n",
       "ID_-0.510_29.290_2019_02                                        0.000385   \n",
       "ID_-0.510_29.290_2019_03                                             NaN   \n",
       "ID_-0.510_29.290_2019_04                                       -0.000048   \n",
       "ID_-0.510_29.290_2019_05                                        0.000242   \n",
       "ID_-0.510_29.290_2019_06                                       -0.000226   \n",
       "ID_-0.510_29.290_2019_07                                       -0.000016   \n",
       "ID_-0.510_29.290_2019_08                                       -0.000101   \n",
       "ID_-0.510_29.290_2019_09                                        0.000014   \n",
       "\n",
       "                          SulphurDioxide_cloud_fraction  \\\n",
       "ID_LAT_LON_YEAR_WEEK                                      \n",
       "ID_-0.510_29.290_2019_00                       0.255668   \n",
       "ID_-0.510_29.290_2019_01                       0.130988   \n",
       "ID_-0.510_29.290_2019_02                       0.110018   \n",
       "ID_-0.510_29.290_2019_03                            NaN   \n",
       "ID_-0.510_29.290_2019_04                       0.121164   \n",
       "ID_-0.510_29.290_2019_05                       0.227656   \n",
       "ID_-0.510_29.290_2019_06                       0.119397   \n",
       "ID_-0.510_29.290_2019_07                       0.106799   \n",
       "ID_-0.510_29.290_2019_08                       0.164971   \n",
       "ID_-0.510_29.290_2019_09                       0.157726   \n",
       "\n",
       "                          SulphurDioxide_sensor_azimuth_angle  \\\n",
       "ID_LAT_LON_YEAR_WEEK                                            \n",
       "ID_-0.510_29.290_2019_00                           -98.593887   \n",
       "ID_-0.510_29.290_2019_01                            16.592861   \n",
       "ID_-0.510_29.290_2019_02                            72.795837   \n",
       "ID_-0.510_29.290_2019_03                                  NaN   \n",
       "ID_-0.510_29.290_2019_04                             4.121269   \n",
       "ID_-0.510_29.290_2019_05                           -13.453690   \n",
       "ID_-0.510_29.290_2019_06                            72.198647   \n",
       "ID_-0.510_29.290_2019_07                          -100.956055   \n",
       "ID_-0.510_29.290_2019_08                           -40.179074   \n",
       "ID_-0.510_29.290_2019_09                          -100.108744   \n",
       "\n",
       "                          SulphurDioxide_sensor_zenith_angle  ...  \\\n",
       "ID_LAT_LON_YEAR_WEEK                                          ...   \n",
       "ID_-0.510_29.290_2019_00                           50.843559  ...   \n",
       "ID_-0.510_29.290_2019_01                           39.137194  ...   \n",
       "ID_-0.510_29.290_2019_02                           52.868816  ...   \n",
       "ID_-0.510_29.290_2019_03                                 NaN  ...   \n",
       "ID_-0.510_29.290_2019_04                           35.515587  ...   \n",
       "ID_-0.510_29.290_2019_05                           57.097124  ...   \n",
       "ID_-0.510_29.290_2019_06                           58.496368  ...   \n",
       "ID_-0.510_29.290_2019_07                           23.739841  ...   \n",
       "ID_-0.510_29.290_2019_08                           31.161560  ...   \n",
       "ID_-0.510_29.290_2019_09                           33.592015  ...   \n",
       "\n",
       "                          Cloud_cloud_top_height  Cloud_cloud_base_pressure  \\\n",
       "ID_LAT_LON_YEAR_WEEK                                                          \n",
       "ID_-0.510_29.290_2019_00             3664.436218               61085.809570   \n",
       "ID_-0.510_29.290_2019_01             3651.190311               66969.478735   \n",
       "ID_-0.510_29.290_2019_02             4216.986492               60068.894448   \n",
       "ID_-0.510_29.290_2019_03             5228.507736               51064.547339   \n",
       "ID_-0.510_29.290_2019_04             3980.598120               63751.125781   \n",
       "ID_-0.510_29.290_2019_05             5530.354546               49846.001010   \n",
       "ID_-0.510_29.290_2019_06             4378.614648               58804.276563   \n",
       "ID_-0.510_29.290_2019_07             3468.924146               63697.007267   \n",
       "ID_-0.510_29.290_2019_08             3160.264670               67222.556159   \n",
       "ID_-0.510_29.290_2019_09             4141.073340               60298.717969   \n",
       "\n",
       "                          Cloud_cloud_base_height  Cloud_cloud_optical_depth  \\\n",
       "ID_LAT_LON_YEAR_WEEK                                                           \n",
       "ID_-0.510_29.290_2019_00              2615.120483                  15.568533   \n",
       "ID_-0.510_29.290_2019_01              3174.572424                   8.690601   \n",
       "ID_-0.510_29.290_2019_02              3516.282669                  21.103410   \n",
       "ID_-0.510_29.290_2019_03              4180.973322                  15.386899   \n",
       "ID_-0.510_29.290_2019_04              3355.710107                   8.114694   \n",
       "ID_-0.510_29.290_2019_05              4495.301362                   7.556143   \n",
       "ID_-0.510_29.290_2019_06              3537.050659                  10.493107   \n",
       "ID_-0.510_29.290_2019_07              2597.071563                  20.533600   \n",
       "ID_-0.510_29.290_2019_08              2530.851476                  24.253928   \n",
       "ID_-0.510_29.290_2019_09              3510.293652                  13.813379   \n",
       "\n",
       "                          Cloud_surface_albedo  Cloud_sensor_azimuth_angle  \\\n",
       "ID_LAT_LON_YEAR_WEEK                                                         \n",
       "ID_-0.510_29.290_2019_00              0.272292                  -12.628986   \n",
       "ID_-0.510_29.290_2019_01              0.256830                   30.359375   \n",
       "ID_-0.510_29.290_2019_02              0.251101                   15.377883   \n",
       "ID_-0.510_29.290_2019_03              0.262043                  -11.293399   \n",
       "ID_-0.510_29.290_2019_04              0.235847                   38.532263   \n",
       "ID_-0.510_29.290_2019_05              0.250228                   30.128401   \n",
       "ID_-0.510_29.290_2019_06              0.240828                    4.585368   \n",
       "ID_-0.510_29.290_2019_07              0.250168                   16.374829   \n",
       "ID_-0.510_29.290_2019_08              0.260543                  -12.021751   \n",
       "ID_-0.510_29.290_2019_09              0.289295                  -66.258392   \n",
       "\n",
       "                          Cloud_sensor_zenith_angle  \\\n",
       "ID_LAT_LON_YEAR_WEEK                                  \n",
       "ID_-0.510_29.290_2019_00                  35.632416   \n",
       "ID_-0.510_29.290_2019_01                  39.557633   \n",
       "ID_-0.510_29.290_2019_02                  30.401823   \n",
       "ID_-0.510_29.290_2019_03                  24.380357   \n",
       "ID_-0.510_29.290_2019_04                  37.392979   \n",
       "ID_-0.510_29.290_2019_05                  37.007020   \n",
       "ID_-0.510_29.290_2019_06                  30.491541   \n",
       "ID_-0.510_29.290_2019_07                  35.840248   \n",
       "ID_-0.510_29.290_2019_08                  42.688789   \n",
       "ID_-0.510_29.290_2019_09                  28.596211   \n",
       "\n",
       "                          Cloud_solar_azimuth_angle  Cloud_solar_zenith_angle  \\\n",
       "ID_LAT_LON_YEAR_WEEK                                                            \n",
       "ID_-0.510_29.290_2019_00                -138.786423                 30.752140   \n",
       "ID_-0.510_29.290_2019_01                -145.183930                 27.251779   \n",
       "ID_-0.510_29.290_2019_02                -142.519545                 26.193296   \n",
       "ID_-0.510_29.290_2019_03                -132.665828                 28.829155   \n",
       "ID_-0.510_29.290_2019_04                -141.509805                 22.204612   \n",
       "ID_-0.510_29.290_2019_05                -137.388719                 21.157820   \n",
       "ID_-0.510_29.290_2019_06                -128.196338                 21.721202   \n",
       "ID_-0.510_29.290_2019_07                -122.250699                 20.432005   \n",
       "ID_-0.510_29.290_2019_08                -114.296369                 22.365602   \n",
       "ID_-0.510_29.290_2019_09                -105.687177                 21.084021   \n",
       "\n",
       "                          emission  \n",
       "ID_LAT_LON_YEAR_WEEK                \n",
       "ID_-0.510_29.290_2019_00  3.750994  \n",
       "ID_-0.510_29.290_2019_01  4.025176  \n",
       "ID_-0.510_29.290_2019_02  4.231381  \n",
       "ID_-0.510_29.290_2019_03  4.305286  \n",
       "ID_-0.510_29.290_2019_04  4.347317  \n",
       "ID_-0.510_29.290_2019_05  4.310819  \n",
       "ID_-0.510_29.290_2019_06  4.269334  \n",
       "ID_-0.510_29.290_2019_07  4.251361  \n",
       "ID_-0.510_29.290_2019_08  4.281937  \n",
       "ID_-0.510_29.290_2019_09  4.352933  \n",
       "\n",
       "[10 rows x 75 columns]"
      ]
     },
     "execution_count": 4,
     "metadata": {},
     "output_type": "execute_result"
    }
   ],
   "source": [
    "train_data.head(10)"
   ]
  },
  {
   "cell_type": "code",
   "execution_count": 5,
   "id": "fab17e75",
   "metadata": {
    "execution": {
     "iopub.execute_input": "2023-08-15T20:56:11.878895Z",
     "iopub.status.busy": "2023-08-15T20:56:11.877795Z",
     "iopub.status.idle": "2023-08-15T20:56:12.429495Z",
     "shell.execute_reply": "2023-08-15T20:56:12.428077Z"
    },
    "papermill": {
     "duration": 0.569389,
     "end_time": "2023-08-15T20:56:12.432496",
     "exception": false,
     "start_time": "2023-08-15T20:56:11.863107",
     "status": "completed"
    },
    "tags": []
   },
   "outputs": [
    {
     "data": {
      "text/html": [
       "<div>\n",
       "<style scoped>\n",
       "    .dataframe tbody tr th:only-of-type {\n",
       "        vertical-align: middle;\n",
       "    }\n",
       "\n",
       "    .dataframe tbody tr th {\n",
       "        vertical-align: top;\n",
       "    }\n",
       "\n",
       "    .dataframe thead th {\n",
       "        text-align: right;\n",
       "    }\n",
       "</style>\n",
       "<table border=\"1\" class=\"dataframe\">\n",
       "  <thead>\n",
       "    <tr style=\"text-align: right;\">\n",
       "      <th></th>\n",
       "      <th>latitude</th>\n",
       "      <th>longitude</th>\n",
       "      <th>year</th>\n",
       "      <th>week_no</th>\n",
       "      <th>SulphurDioxide_SO2_column_number_density</th>\n",
       "      <th>SulphurDioxide_SO2_column_number_density_amf</th>\n",
       "      <th>SulphurDioxide_SO2_slant_column_number_density</th>\n",
       "      <th>SulphurDioxide_cloud_fraction</th>\n",
       "      <th>SulphurDioxide_sensor_azimuth_angle</th>\n",
       "      <th>SulphurDioxide_sensor_zenith_angle</th>\n",
       "      <th>...</th>\n",
       "      <th>Cloud_cloud_top_height</th>\n",
       "      <th>Cloud_cloud_base_pressure</th>\n",
       "      <th>Cloud_cloud_base_height</th>\n",
       "      <th>Cloud_cloud_optical_depth</th>\n",
       "      <th>Cloud_surface_albedo</th>\n",
       "      <th>Cloud_sensor_azimuth_angle</th>\n",
       "      <th>Cloud_sensor_zenith_angle</th>\n",
       "      <th>Cloud_solar_azimuth_angle</th>\n",
       "      <th>Cloud_solar_zenith_angle</th>\n",
       "      <th>emission</th>\n",
       "    </tr>\n",
       "  </thead>\n",
       "  <tbody>\n",
       "    <tr>\n",
       "      <th>count</th>\n",
       "      <td>79023.000000</td>\n",
       "      <td>79023.000000</td>\n",
       "      <td>79023.000000</td>\n",
       "      <td>79023.000000</td>\n",
       "      <td>64414.000000</td>\n",
       "      <td>64414.000000</td>\n",
       "      <td>64414.000000</td>\n",
       "      <td>64414.000000</td>\n",
       "      <td>64414.000000</td>\n",
       "      <td>64414.000000</td>\n",
       "      <td>...</td>\n",
       "      <td>78539.000000</td>\n",
       "      <td>78539.000000</td>\n",
       "      <td>78539.000000</td>\n",
       "      <td>78539.000000</td>\n",
       "      <td>78539.000000</td>\n",
       "      <td>78539.000000</td>\n",
       "      <td>78539.000000</td>\n",
       "      <td>78539.000000</td>\n",
       "      <td>78539.000000</td>\n",
       "      <td>79023.000000</td>\n",
       "    </tr>\n",
       "    <tr>\n",
       "      <th>mean</th>\n",
       "      <td>-1.891072</td>\n",
       "      <td>29.880155</td>\n",
       "      <td>2020.000000</td>\n",
       "      <td>26.000000</td>\n",
       "      <td>0.000048</td>\n",
       "      <td>0.834848</td>\n",
       "      <td>0.000035</td>\n",
       "      <td>0.158418</td>\n",
       "      <td>-7.925870</td>\n",
       "      <td>37.436189</td>\n",
       "      <td>...</td>\n",
       "      <td>5592.377478</td>\n",
       "      <td>59420.297456</td>\n",
       "      <td>4670.430869</td>\n",
       "      <td>19.139241</td>\n",
       "      <td>0.271460</td>\n",
       "      <td>-10.784832</td>\n",
       "      <td>40.436976</td>\n",
       "      <td>-86.800583</td>\n",
       "      <td>27.925981</td>\n",
       "      <td>81.940552</td>\n",
       "    </tr>\n",
       "    <tr>\n",
       "      <th>std</th>\n",
       "      <td>0.694522</td>\n",
       "      <td>0.810375</td>\n",
       "      <td>0.816502</td>\n",
       "      <td>15.297155</td>\n",
       "      <td>0.000272</td>\n",
       "      <td>0.185382</td>\n",
       "      <td>0.000206</td>\n",
       "      <td>0.071364</td>\n",
       "      <td>64.263368</td>\n",
       "      <td>14.149950</td>\n",
       "      <td>...</td>\n",
       "      <td>1428.503002</td>\n",
       "      <td>9051.163609</td>\n",
       "      <td>1359.251583</td>\n",
       "      <td>13.547047</td>\n",
       "      <td>0.049434</td>\n",
       "      <td>30.374462</td>\n",
       "      <td>6.428216</td>\n",
       "      <td>37.837269</td>\n",
       "      <td>4.403835</td>\n",
       "      <td>144.299648</td>\n",
       "    </tr>\n",
       "    <tr>\n",
       "      <th>min</th>\n",
       "      <td>-3.299000</td>\n",
       "      <td>28.228000</td>\n",
       "      <td>2019.000000</td>\n",
       "      <td>0.000000</td>\n",
       "      <td>-0.000996</td>\n",
       "      <td>0.241822</td>\n",
       "      <td>-0.000887</td>\n",
       "      <td>0.000000</td>\n",
       "      <td>-179.537059</td>\n",
       "      <td>0.099237</td>\n",
       "      <td>...</td>\n",
       "      <td>1050.661782</td>\n",
       "      <td>24779.033704</td>\n",
       "      <td>1050.496816</td>\n",
       "      <td>1.844529</td>\n",
       "      <td>0.017697</td>\n",
       "      <td>-102.739731</td>\n",
       "      <td>2.998873</td>\n",
       "      <td>-153.464211</td>\n",
       "      <td>10.818288</td>\n",
       "      <td>0.000000</td>\n",
       "    </tr>\n",
       "    <tr>\n",
       "      <th>25%</th>\n",
       "      <td>-2.451000</td>\n",
       "      <td>29.262000</td>\n",
       "      <td>2019.000000</td>\n",
       "      <td>13.000000</td>\n",
       "      <td>-0.000096</td>\n",
       "      <td>0.705817</td>\n",
       "      <td>-0.000078</td>\n",
       "      <td>0.110535</td>\n",
       "      <td>-56.782383</td>\n",
       "      <td>28.844520</td>\n",
       "      <td>...</td>\n",
       "      <td>4595.400519</td>\n",
       "      <td>53175.779928</td>\n",
       "      <td>3680.856344</td>\n",
       "      <td>9.974574</td>\n",
       "      <td>0.241453</td>\n",
       "      <td>-30.309170</td>\n",
       "      <td>35.829907</td>\n",
       "      <td>-125.991158</td>\n",
       "      <td>24.686763</td>\n",
       "      <td>9.797995</td>\n",
       "    </tr>\n",
       "    <tr>\n",
       "      <th>50%</th>\n",
       "      <td>-1.882000</td>\n",
       "      <td>29.883000</td>\n",
       "      <td>2020.000000</td>\n",
       "      <td>26.000000</td>\n",
       "      <td>0.000024</td>\n",
       "      <td>0.809118</td>\n",
       "      <td>0.000019</td>\n",
       "      <td>0.161855</td>\n",
       "      <td>-12.441726</td>\n",
       "      <td>37.784299</td>\n",
       "      <td>...</td>\n",
       "      <td>5573.854309</td>\n",
       "      <td>59332.532548</td>\n",
       "      <td>4621.755170</td>\n",
       "      <td>15.130688</td>\n",
       "      <td>0.272747</td>\n",
       "      <td>-12.673914</td>\n",
       "      <td>41.119630</td>\n",
       "      <td>-84.644352</td>\n",
       "      <td>28.333630</td>\n",
       "      <td>45.593445</td>\n",
       "    </tr>\n",
       "    <tr>\n",
       "      <th>75%</th>\n",
       "      <td>-1.303000</td>\n",
       "      <td>30.471000</td>\n",
       "      <td>2021.000000</td>\n",
       "      <td>39.000000</td>\n",
       "      <td>0.000153</td>\n",
       "      <td>0.942792</td>\n",
       "      <td>0.000121</td>\n",
       "      <td>0.211824</td>\n",
       "      <td>72.059990</td>\n",
       "      <td>47.634875</td>\n",
       "      <td>...</td>\n",
       "      <td>6542.303642</td>\n",
       "      <td>65663.842684</td>\n",
       "      <td>5572.983223</td>\n",
       "      <td>23.785030</td>\n",
       "      <td>0.302892</td>\n",
       "      <td>9.402202</td>\n",
       "      <td>44.446272</td>\n",
       "      <td>-48.132701</td>\n",
       "      <td>31.499883</td>\n",
       "      <td>109.549595</td>\n",
       "    </tr>\n",
       "    <tr>\n",
       "      <th>max</th>\n",
       "      <td>-0.510000</td>\n",
       "      <td>31.532000</td>\n",
       "      <td>2021.000000</td>\n",
       "      <td>52.000000</td>\n",
       "      <td>0.004191</td>\n",
       "      <td>1.885239</td>\n",
       "      <td>0.004236</td>\n",
       "      <td>0.299998</td>\n",
       "      <td>122.095200</td>\n",
       "      <td>66.242012</td>\n",
       "      <td>...</td>\n",
       "      <td>12384.239458</td>\n",
       "      <td>89291.615576</td>\n",
       "      <td>11384.239458</td>\n",
       "      <td>250.000000</td>\n",
       "      <td>0.736514</td>\n",
       "      <td>78.223037</td>\n",
       "      <td>65.951248</td>\n",
       "      <td>-22.653170</td>\n",
       "      <td>42.060436</td>\n",
       "      <td>3167.768000</td>\n",
       "    </tr>\n",
       "  </tbody>\n",
       "</table>\n",
       "<p>8 rows × 75 columns</p>\n",
       "</div>"
      ],
      "text/plain": [
       "           latitude     longitude          year       week_no  \\\n",
       "count  79023.000000  79023.000000  79023.000000  79023.000000   \n",
       "mean      -1.891072     29.880155   2020.000000     26.000000   \n",
       "std        0.694522      0.810375      0.816502     15.297155   \n",
       "min       -3.299000     28.228000   2019.000000      0.000000   \n",
       "25%       -2.451000     29.262000   2019.000000     13.000000   \n",
       "50%       -1.882000     29.883000   2020.000000     26.000000   \n",
       "75%       -1.303000     30.471000   2021.000000     39.000000   \n",
       "max       -0.510000     31.532000   2021.000000     52.000000   \n",
       "\n",
       "       SulphurDioxide_SO2_column_number_density  \\\n",
       "count                              64414.000000   \n",
       "mean                                   0.000048   \n",
       "std                                    0.000272   \n",
       "min                                   -0.000996   \n",
       "25%                                   -0.000096   \n",
       "50%                                    0.000024   \n",
       "75%                                    0.000153   \n",
       "max                                    0.004191   \n",
       "\n",
       "       SulphurDioxide_SO2_column_number_density_amf  \\\n",
       "count                                  64414.000000   \n",
       "mean                                       0.834848   \n",
       "std                                        0.185382   \n",
       "min                                        0.241822   \n",
       "25%                                        0.705817   \n",
       "50%                                        0.809118   \n",
       "75%                                        0.942792   \n",
       "max                                        1.885239   \n",
       "\n",
       "       SulphurDioxide_SO2_slant_column_number_density  \\\n",
       "count                                    64414.000000   \n",
       "mean                                         0.000035   \n",
       "std                                          0.000206   \n",
       "min                                         -0.000887   \n",
       "25%                                         -0.000078   \n",
       "50%                                          0.000019   \n",
       "75%                                          0.000121   \n",
       "max                                          0.004236   \n",
       "\n",
       "       SulphurDioxide_cloud_fraction  SulphurDioxide_sensor_azimuth_angle  \\\n",
       "count                   64414.000000                         64414.000000   \n",
       "mean                        0.158418                            -7.925870   \n",
       "std                         0.071364                            64.263368   \n",
       "min                         0.000000                          -179.537059   \n",
       "25%                         0.110535                           -56.782383   \n",
       "50%                         0.161855                           -12.441726   \n",
       "75%                         0.211824                            72.059990   \n",
       "max                         0.299998                           122.095200   \n",
       "\n",
       "       SulphurDioxide_sensor_zenith_angle  ...  Cloud_cloud_top_height  \\\n",
       "count                        64414.000000  ...            78539.000000   \n",
       "mean                            37.436189  ...             5592.377478   \n",
       "std                             14.149950  ...             1428.503002   \n",
       "min                              0.099237  ...             1050.661782   \n",
       "25%                             28.844520  ...             4595.400519   \n",
       "50%                             37.784299  ...             5573.854309   \n",
       "75%                             47.634875  ...             6542.303642   \n",
       "max                             66.242012  ...            12384.239458   \n",
       "\n",
       "       Cloud_cloud_base_pressure  Cloud_cloud_base_height  \\\n",
       "count               78539.000000             78539.000000   \n",
       "mean                59420.297456              4670.430869   \n",
       "std                  9051.163609              1359.251583   \n",
       "min                 24779.033704              1050.496816   \n",
       "25%                 53175.779928              3680.856344   \n",
       "50%                 59332.532548              4621.755170   \n",
       "75%                 65663.842684              5572.983223   \n",
       "max                 89291.615576             11384.239458   \n",
       "\n",
       "       Cloud_cloud_optical_depth  Cloud_surface_albedo  \\\n",
       "count               78539.000000          78539.000000   \n",
       "mean                   19.139241              0.271460   \n",
       "std                    13.547047              0.049434   \n",
       "min                     1.844529              0.017697   \n",
       "25%                     9.974574              0.241453   \n",
       "50%                    15.130688              0.272747   \n",
       "75%                    23.785030              0.302892   \n",
       "max                   250.000000              0.736514   \n",
       "\n",
       "       Cloud_sensor_azimuth_angle  Cloud_sensor_zenith_angle  \\\n",
       "count                78539.000000               78539.000000   \n",
       "mean                   -10.784832                  40.436976   \n",
       "std                     30.374462                   6.428216   \n",
       "min                   -102.739731                   2.998873   \n",
       "25%                    -30.309170                  35.829907   \n",
       "50%                    -12.673914                  41.119630   \n",
       "75%                      9.402202                  44.446272   \n",
       "max                     78.223037                  65.951248   \n",
       "\n",
       "       Cloud_solar_azimuth_angle  Cloud_solar_zenith_angle      emission  \n",
       "count               78539.000000              78539.000000  79023.000000  \n",
       "mean                  -86.800583                 27.925981     81.940552  \n",
       "std                    37.837269                  4.403835    144.299648  \n",
       "min                  -153.464211                 10.818288      0.000000  \n",
       "25%                  -125.991158                 24.686763      9.797995  \n",
       "50%                   -84.644352                 28.333630     45.593445  \n",
       "75%                   -48.132701                 31.499883    109.549595  \n",
       "max                   -22.653170                 42.060436   3167.768000  \n",
       "\n",
       "[8 rows x 75 columns]"
      ]
     },
     "execution_count": 5,
     "metadata": {},
     "output_type": "execute_result"
    }
   ],
   "source": [
    "train_data.describe()"
   ]
  },
  {
   "cell_type": "code",
   "execution_count": 6,
   "id": "e80f4dae",
   "metadata": {
    "execution": {
     "iopub.execute_input": "2023-08-15T20:56:12.463202Z",
     "iopub.status.busy": "2023-08-15T20:56:12.462757Z",
     "iopub.status.idle": "2023-08-15T20:56:12.498919Z",
     "shell.execute_reply": "2023-08-15T20:56:12.497570Z"
    },
    "papermill": {
     "duration": 0.05466,
     "end_time": "2023-08-15T20:56:12.501988",
     "exception": false,
     "start_time": "2023-08-15T20:56:12.447328",
     "status": "completed"
    },
    "tags": []
   },
   "outputs": [
    {
     "name": "stdout",
     "output_type": "stream",
     "text": [
      "<class 'pandas.core.frame.DataFrame'>\n",
      "Index: 79023 entries, ID_-0.510_29.290_2019_00 to ID_-3.299_30.301_2021_52\n",
      "Data columns (total 75 columns):\n",
      " #   Column                                                    Non-Null Count  Dtype  \n",
      "---  ------                                                    --------------  -----  \n",
      " 0   latitude                                                  79023 non-null  float64\n",
      " 1   longitude                                                 79023 non-null  float64\n",
      " 2   year                                                      79023 non-null  int64  \n",
      " 3   week_no                                                   79023 non-null  int64  \n",
      " 4   SulphurDioxide_SO2_column_number_density                  64414 non-null  float64\n",
      " 5   SulphurDioxide_SO2_column_number_density_amf              64414 non-null  float64\n",
      " 6   SulphurDioxide_SO2_slant_column_number_density            64414 non-null  float64\n",
      " 7   SulphurDioxide_cloud_fraction                             64414 non-null  float64\n",
      " 8   SulphurDioxide_sensor_azimuth_angle                       64414 non-null  float64\n",
      " 9   SulphurDioxide_sensor_zenith_angle                        64414 non-null  float64\n",
      " 10  SulphurDioxide_solar_azimuth_angle                        64414 non-null  float64\n",
      " 11  SulphurDioxide_solar_zenith_angle                         64414 non-null  float64\n",
      " 12  SulphurDioxide_SO2_column_number_density_15km             64414 non-null  float64\n",
      " 13  CarbonMonoxide_CO_column_number_density                   76901 non-null  float64\n",
      " 14  CarbonMonoxide_H2O_column_number_density                  76901 non-null  float64\n",
      " 15  CarbonMonoxide_cloud_height                               76901 non-null  float64\n",
      " 16  CarbonMonoxide_sensor_altitude                            76901 non-null  float64\n",
      " 17  CarbonMonoxide_sensor_azimuth_angle                       76901 non-null  float64\n",
      " 18  CarbonMonoxide_sensor_zenith_angle                        76901 non-null  float64\n",
      " 19  CarbonMonoxide_solar_azimuth_angle                        76901 non-null  float64\n",
      " 20  CarbonMonoxide_solar_zenith_angle                         76901 non-null  float64\n",
      " 21  NitrogenDioxide_NO2_column_number_density                 60703 non-null  float64\n",
      " 22  NitrogenDioxide_tropospheric_NO2_column_number_density    60703 non-null  float64\n",
      " 23  NitrogenDioxide_stratospheric_NO2_column_number_density   60703 non-null  float64\n",
      " 24  NitrogenDioxide_NO2_slant_column_number_density           60703 non-null  float64\n",
      " 25  NitrogenDioxide_tropopause_pressure                       60703 non-null  float64\n",
      " 26  NitrogenDioxide_absorbing_aerosol_index                   60703 non-null  float64\n",
      " 27  NitrogenDioxide_cloud_fraction                            60703 non-null  float64\n",
      " 28  NitrogenDioxide_sensor_altitude                           60703 non-null  float64\n",
      " 29  NitrogenDioxide_sensor_azimuth_angle                      60703 non-null  float64\n",
      " 30  NitrogenDioxide_sensor_zenith_angle                       60703 non-null  float64\n",
      " 31  NitrogenDioxide_solar_azimuth_angle                       60703 non-null  float64\n",
      " 32  NitrogenDioxide_solar_zenith_angle                        60703 non-null  float64\n",
      " 33  Formaldehyde_tropospheric_HCHO_column_number_density      71746 non-null  float64\n",
      " 34  Formaldehyde_tropospheric_HCHO_column_number_density_amf  71746 non-null  float64\n",
      " 35  Formaldehyde_HCHO_slant_column_number_density             71746 non-null  float64\n",
      " 36  Formaldehyde_cloud_fraction                               71746 non-null  float64\n",
      " 37  Formaldehyde_solar_zenith_angle                           71746 non-null  float64\n",
      " 38  Formaldehyde_solar_azimuth_angle                          71746 non-null  float64\n",
      " 39  Formaldehyde_sensor_zenith_angle                          71746 non-null  float64\n",
      " 40  Formaldehyde_sensor_azimuth_angle                         71746 non-null  float64\n",
      " 41  UvAerosolIndex_absorbing_aerosol_index                    78484 non-null  float64\n",
      " 42  UvAerosolIndex_sensor_altitude                            78484 non-null  float64\n",
      " 43  UvAerosolIndex_sensor_azimuth_angle                       78484 non-null  float64\n",
      " 44  UvAerosolIndex_sensor_zenith_angle                        78484 non-null  float64\n",
      " 45  UvAerosolIndex_solar_azimuth_angle                        78484 non-null  float64\n",
      " 46  UvAerosolIndex_solar_zenith_angle                         78484 non-null  float64\n",
      " 47  Ozone_O3_column_number_density                            78475 non-null  float64\n",
      " 48  Ozone_O3_column_number_density_amf                        78475 non-null  float64\n",
      " 49  Ozone_O3_slant_column_number_density                      78475 non-null  float64\n",
      " 50  Ozone_O3_effective_temperature                            78475 non-null  float64\n",
      " 51  Ozone_cloud_fraction                                      78475 non-null  float64\n",
      " 52  Ozone_sensor_azimuth_angle                                78475 non-null  float64\n",
      " 53  Ozone_sensor_zenith_angle                                 78475 non-null  float64\n",
      " 54  Ozone_solar_azimuth_angle                                 78475 non-null  float64\n",
      " 55  Ozone_solar_zenith_angle                                  78475 non-null  float64\n",
      " 56  UvAerosolLayerHeight_aerosol_height                       439 non-null    float64\n",
      " 57  UvAerosolLayerHeight_aerosol_pressure                     439 non-null    float64\n",
      " 58  UvAerosolLayerHeight_aerosol_optical_depth                439 non-null    float64\n",
      " 59  UvAerosolLayerHeight_sensor_zenith_angle                  439 non-null    float64\n",
      " 60  UvAerosolLayerHeight_sensor_azimuth_angle                 439 non-null    float64\n",
      " 61  UvAerosolLayerHeight_solar_azimuth_angle                  439 non-null    float64\n",
      " 62  UvAerosolLayerHeight_solar_zenith_angle                   439 non-null    float64\n",
      " 63  Cloud_cloud_fraction                                      78539 non-null  float64\n",
      " 64  Cloud_cloud_top_pressure                                  78539 non-null  float64\n",
      " 65  Cloud_cloud_top_height                                    78539 non-null  float64\n",
      " 66  Cloud_cloud_base_pressure                                 78539 non-null  float64\n",
      " 67  Cloud_cloud_base_height                                   78539 non-null  float64\n",
      " 68  Cloud_cloud_optical_depth                                 78539 non-null  float64\n",
      " 69  Cloud_surface_albedo                                      78539 non-null  float64\n",
      " 70  Cloud_sensor_azimuth_angle                                78539 non-null  float64\n",
      " 71  Cloud_sensor_zenith_angle                                 78539 non-null  float64\n",
      " 72  Cloud_solar_azimuth_angle                                 78539 non-null  float64\n",
      " 73  Cloud_solar_zenith_angle                                  78539 non-null  float64\n",
      " 74  emission                                                  79023 non-null  float64\n",
      "dtypes: float64(73), int64(2)\n",
      "memory usage: 45.8+ MB\n"
     ]
    }
   ],
   "source": [
    "train_data.info()"
   ]
  },
  {
   "cell_type": "markdown",
   "id": "8d292632",
   "metadata": {
    "papermill": {
     "duration": 0.014295,
     "end_time": "2023-08-15T20:56:12.530784",
     "exception": false,
     "start_time": "2023-08-15T20:56:12.516489",
     "status": "completed"
    },
    "tags": []
   },
   "source": [
    "Emissions per measurement boxplot"
   ]
  },
  {
   "cell_type": "code",
   "execution_count": 7,
   "id": "ff702d2d",
   "metadata": {
    "execution": {
     "iopub.execute_input": "2023-08-15T20:56:12.562622Z",
     "iopub.status.busy": "2023-08-15T20:56:12.562215Z",
     "iopub.status.idle": "2023-08-15T20:56:13.108010Z",
     "shell.execute_reply": "2023-08-15T20:56:13.106706Z"
    },
    "papermill": {
     "duration": 0.565319,
     "end_time": "2023-08-15T20:56:13.110859",
     "exception": false,
     "start_time": "2023-08-15T20:56:12.545540",
     "status": "completed"
    },
    "tags": []
   },
   "outputs": [
    {
     "data": {
      "text/plain": [
       "Text(0, 0.5, 'Emission Amount')"
      ]
     },
     "execution_count": 7,
     "metadata": {},
     "output_type": "execute_result"
    },
    {
     "data": {
      "image/png": "[encoded data removed]",
      "text/plain": [
       "<Figure size 800x800 with 1 Axes>"
      ]
     },
     "metadata": {},
     "output_type": "display_data"
    }
   ],
   "source": [
    "train_data.emission.plot(kind='box', figsize=(8, 8), title = 'Emissions per measurement boxplot', grid=True)\n",
    "plt.ylabel('Emission Amount')"
   ]
  },
  {
   "cell_type": "markdown",
   "id": "0eed8651",
   "metadata": {
    "papermill": {
     "duration": 0.015027,
     "end_time": "2023-08-15T20:56:13.141735",
     "exception": false,
     "start_time": "2023-08-15T20:56:13.126708",
     "status": "completed"
    },
    "tags": []
   },
   "source": [
    "Percentage of measurements when amount of emissions was above 1500:"
   ]
  },
  {
   "cell_type": "code",
   "execution_count": 8,
   "id": "12358f5c",
   "metadata": {
    "execution": {
     "iopub.execute_input": "2023-08-15T20:56:13.174707Z",
     "iopub.status.busy": "2023-08-15T20:56:13.174313Z",
     "iopub.status.idle": "2023-08-15T20:56:13.185962Z",
     "shell.execute_reply": "2023-08-15T20:56:13.184879Z"
    },
    "papermill": {
     "duration": 0.031529,
     "end_time": "2023-08-15T20:56:13.188696",
     "exception": false,
     "start_time": "2023-08-15T20:56:13.157167",
     "status": "completed"
    },
    "tags": []
   },
   "outputs": [
    {
     "data": {
      "text/plain": [
       "'7.2%'"
      ]
     },
     "execution_count": 8,
     "metadata": {},
     "output_type": "execute_result"
    }
   ],
   "source": [
    "'{:.1%}'.format(train_data.emission[train_data.emission >= 1500].sum() / train_data.emission[train_data.emission < 1500].sum())"
   ]
  },
  {
   "cell_type": "markdown",
   "id": "4cc6e790",
   "metadata": {
    "papermill": {
     "duration": 0.014945,
     "end_time": "2023-08-15T20:56:13.218998",
     "exception": false,
     "start_time": "2023-08-15T20:56:13.204053",
     "status": "completed"
    },
    "tags": []
   },
   "source": [
    "## Creating time series"
   ]
  },
  {
   "cell_type": "code",
   "execution_count": 9,
   "id": "8c07a5db",
   "metadata": {
    "execution": {
     "iopub.execute_input": "2023-08-15T20:56:13.252400Z",
     "iopub.status.busy": "2023-08-15T20:56:13.251268Z",
     "iopub.status.idle": "2023-08-15T20:56:13.260276Z",
     "shell.execute_reply": "2023-08-15T20:56:13.258894Z"
    },
    "papermill": {
     "duration": 0.028699,
     "end_time": "2023-08-15T20:56:13.263137",
     "exception": false,
     "start_time": "2023-08-15T20:56:13.234438",
     "status": "completed"
    },
    "tags": []
   },
   "outputs": [],
   "source": [
    "#Let's cut the data and keep only coordinates, time info and target emission value.\n",
    "cleared_train_data = train_data.loc[:,['latitude','longitude','year','week_no','emission']]\n"
   ]
  },
  {
   "cell_type": "code",
   "execution_count": 10,
   "id": "be274636",
   "metadata": {
    "execution": {
     "iopub.execute_input": "2023-08-15T20:56:13.295685Z",
     "iopub.status.busy": "2023-08-15T20:56:13.295268Z",
     "iopub.status.idle": "2023-08-15T20:56:13.303084Z",
     "shell.execute_reply": "2023-08-15T20:56:13.301385Z"
    },
    "papermill": {
     "duration": 0.027352,
     "end_time": "2023-08-15T20:56:13.306104",
     "exception": false,
     "start_time": "2023-08-15T20:56:13.278752",
     "status": "completed"
    },
    "tags": []
   },
   "outputs": [],
   "source": [
    "def get_time_series(cleared_data):\n",
    "    cleared_data['date'] = pd.to_datetime(cleared_data.year.astype(str) + '-' + cleared_data.week_no.astype(str) + '0', format='%Y-%W%w')\n",
    "    cleared_data = cleared_data.set_index(pd.DatetimeIndex(cleared_data['date']))\n",
    "    return cleared_data.drop(['date'], axis=1)"
   ]
  },
  {
   "cell_type": "code",
   "execution_count": 11,
   "id": "3ea12b91",
   "metadata": {
    "execution": {
     "iopub.execute_input": "2023-08-15T20:56:13.338088Z",
     "iopub.status.busy": "2023-08-15T20:56:13.337675Z",
     "iopub.status.idle": "2023-08-15T20:56:13.529743Z",
     "shell.execute_reply": "2023-08-15T20:56:13.528357Z"
    },
    "papermill": {
     "duration": 0.211223,
     "end_time": "2023-08-15T20:56:13.532492",
     "exception": false,
     "start_time": "2023-08-15T20:56:13.321269",
     "status": "completed"
    },
    "tags": []
   },
   "outputs": [],
   "source": [
    "cleared_train_data = get_time_series(cleared_train_data)"
   ]
  },
  {
   "cell_type": "code",
   "execution_count": 12,
   "id": "f5c4ed01",
   "metadata": {
    "execution": {
     "iopub.execute_input": "2023-08-15T20:56:13.564556Z",
     "iopub.status.busy": "2023-08-15T20:56:13.564134Z",
     "iopub.status.idle": "2023-08-15T20:56:13.599478Z",
     "shell.execute_reply": "2023-08-15T20:56:13.598291Z"
    },
    "papermill": {
     "duration": 0.054924,
     "end_time": "2023-08-15T20:56:13.602570",
     "exception": false,
     "start_time": "2023-08-15T20:56:13.547646",
     "status": "completed"
    },
    "tags": []
   },
   "outputs": [
    {
     "data": {
      "text/html": [
       "<div>\n",
       "<style scoped>\n",
       "    .dataframe tbody tr th:only-of-type {\n",
       "        vertical-align: middle;\n",
       "    }\n",
       "\n",
       "    .dataframe tbody tr th {\n",
       "        vertical-align: top;\n",
       "    }\n",
       "\n",
       "    .dataframe thead th {\n",
       "        text-align: right;\n",
       "    }\n",
       "</style>\n",
       "<table border=\"1\" class=\"dataframe\">\n",
       "  <thead>\n",
       "    <tr style=\"text-align: right;\">\n",
       "      <th></th>\n",
       "      <th>latitude</th>\n",
       "      <th>longitude</th>\n",
       "      <th>year</th>\n",
       "      <th>week_no</th>\n",
       "      <th>emission</th>\n",
       "    </tr>\n",
       "    <tr>\n",
       "      <th>date</th>\n",
       "      <th></th>\n",
       "      <th></th>\n",
       "      <th></th>\n",
       "      <th></th>\n",
       "      <th></th>\n",
       "    </tr>\n",
       "  </thead>\n",
       "  <tbody>\n",
       "    <tr>\n",
       "      <th>2019-01-06</th>\n",
       "      <td>-0.510</td>\n",
       "      <td>29.290</td>\n",
       "      <td>2019</td>\n",
       "      <td>0</td>\n",
       "      <td>3.750994</td>\n",
       "    </tr>\n",
       "    <tr>\n",
       "      <th>2019-01-06</th>\n",
       "      <td>-0.528</td>\n",
       "      <td>29.472</td>\n",
       "      <td>2019</td>\n",
       "      <td>0</td>\n",
       "      <td>3.857115</td>\n",
       "    </tr>\n",
       "    <tr>\n",
       "      <th>2019-01-06</th>\n",
       "      <td>-0.547</td>\n",
       "      <td>29.653</td>\n",
       "      <td>2019</td>\n",
       "      <td>0</td>\n",
       "      <td>0.500023</td>\n",
       "    </tr>\n",
       "    <tr>\n",
       "      <th>2019-01-06</th>\n",
       "      <td>-0.569</td>\n",
       "      <td>30.031</td>\n",
       "      <td>2019</td>\n",
       "      <td>0</td>\n",
       "      <td>100.382980</td>\n",
       "    </tr>\n",
       "    <tr>\n",
       "      <th>2019-01-06</th>\n",
       "      <td>-0.598</td>\n",
       "      <td>29.102</td>\n",
       "      <td>2019</td>\n",
       "      <td>0</td>\n",
       "      <td>0.076542</td>\n",
       "    </tr>\n",
       "    <tr>\n",
       "      <th>...</th>\n",
       "      <td>...</td>\n",
       "      <td>...</td>\n",
       "      <td>...</td>\n",
       "      <td>...</td>\n",
       "      <td>...</td>\n",
       "    </tr>\n",
       "    <tr>\n",
       "      <th>2019-01-06</th>\n",
       "      <td>-3.153</td>\n",
       "      <td>30.347</td>\n",
       "      <td>2019</td>\n",
       "      <td>0</td>\n",
       "      <td>15.069341</td>\n",
       "    </tr>\n",
       "    <tr>\n",
       "      <th>2019-01-06</th>\n",
       "      <td>-3.161</td>\n",
       "      <td>28.839</td>\n",
       "      <td>2019</td>\n",
       "      <td>0</td>\n",
       "      <td>0.106631</td>\n",
       "    </tr>\n",
       "    <tr>\n",
       "      <th>2019-01-06</th>\n",
       "      <td>-3.174</td>\n",
       "      <td>29.926</td>\n",
       "      <td>2019</td>\n",
       "      <td>0</td>\n",
       "      <td>41.193130</td>\n",
       "    </tr>\n",
       "    <tr>\n",
       "      <th>2019-01-06</th>\n",
       "      <td>-3.287</td>\n",
       "      <td>29.713</td>\n",
       "      <td>2019</td>\n",
       "      <td>0</td>\n",
       "      <td>39.696404</td>\n",
       "    </tr>\n",
       "    <tr>\n",
       "      <th>2019-01-06</th>\n",
       "      <td>-3.299</td>\n",
       "      <td>30.301</td>\n",
       "      <td>2019</td>\n",
       "      <td>0</td>\n",
       "      <td>26.111166</td>\n",
       "    </tr>\n",
       "  </tbody>\n",
       "</table>\n",
       "<p>497 rows × 5 columns</p>\n",
       "</div>"
      ],
      "text/plain": [
       "            latitude  longitude  year  week_no    emission\n",
       "date                                                      \n",
       "2019-01-06    -0.510     29.290  2019        0    3.750994\n",
       "2019-01-06    -0.528     29.472  2019        0    3.857115\n",
       "2019-01-06    -0.547     29.653  2019        0    0.500023\n",
       "2019-01-06    -0.569     30.031  2019        0  100.382980\n",
       "2019-01-06    -0.598     29.102  2019        0    0.076542\n",
       "...              ...        ...   ...      ...         ...\n",
       "2019-01-06    -3.153     30.347  2019        0   15.069341\n",
       "2019-01-06    -3.161     28.839  2019        0    0.106631\n",
       "2019-01-06    -3.174     29.926  2019        0   41.193130\n",
       "2019-01-06    -3.287     29.713  2019        0   39.696404\n",
       "2019-01-06    -3.299     30.301  2019        0   26.111166\n",
       "\n",
       "[497 rows x 5 columns]"
      ]
     },
     "execution_count": 12,
     "metadata": {},
     "output_type": "execute_result"
    }
   ],
   "source": [
    "cleared_train_data.loc['2019-01-06']"
   ]
  },
  {
   "cell_type": "markdown",
   "id": "2415b440",
   "metadata": {
    "papermill": {
     "duration": 0.015818,
     "end_time": "2023-08-15T20:56:13.634549",
     "exception": false,
     "start_time": "2023-08-15T20:56:13.618731",
     "status": "completed"
    },
    "tags": []
   },
   "source": [
    "## Seasonal decomposition using STL"
   ]
  },
  {
   "cell_type": "code",
   "execution_count": 13,
   "id": "ea77e7e9",
   "metadata": {
    "execution": {
     "iopub.execute_input": "2023-08-15T20:56:13.667612Z",
     "iopub.status.busy": "2023-08-15T20:56:13.666858Z",
     "iopub.status.idle": "2023-08-15T20:56:13.671343Z",
     "shell.execute_reply": "2023-08-15T20:56:13.670455Z"
    },
    "papermill": {
     "duration": 0.023387,
     "end_time": "2023-08-15T20:56:13.673442",
     "exception": false,
     "start_time": "2023-08-15T20:56:13.650055",
     "status": "completed"
    },
    "tags": []
   },
   "outputs": [],
   "source": [
    "from statsmodels.tsa.seasonal import STL"
   ]
  },
  {
   "cell_type": "code",
   "execution_count": 14,
   "id": "6859bd9d",
   "metadata": {
    "execution": {
     "iopub.execute_input": "2023-08-15T20:56:13.706375Z",
     "iopub.status.busy": "2023-08-15T20:56:13.705544Z",
     "iopub.status.idle": "2023-08-15T20:56:18.026818Z",
     "shell.execute_reply": "2023-08-15T20:56:18.025558Z"
    },
    "papermill": {
     "duration": 4.340933,
     "end_time": "2023-08-15T20:56:18.029742",
     "exception": false,
     "start_time": "2023-08-15T20:56:13.688809",
     "status": "completed"
    },
    "tags": []
   },
   "outputs": [],
   "source": [
    "stl_decomposition = STL(cleared_train_data.emission, period=52).fit()"
   ]
  },
  {
   "cell_type": "code",
   "execution_count": 15,
   "id": "20d2f27e",
   "metadata": {
    "execution": {
     "iopub.execute_input": "2023-08-15T20:56:18.063452Z",
     "iopub.status.busy": "2023-08-15T20:56:18.063010Z",
     "iopub.status.idle": "2023-08-15T20:56:18.833815Z",
     "shell.execute_reply": "2023-08-15T20:56:18.832627Z"
    },
    "papermill": {
     "duration": 0.790306,
     "end_time": "2023-08-15T20:56:18.836377",
     "exception": false,
     "start_time": "2023-08-15T20:56:18.046071",
     "status": "completed"
    },
    "tags": []
   },
   "outputs": [
    {
     "data": {
      "image/png": "[encoded data removed]",
      "text/plain": [
       "<Figure size 1200x800 with 1 Axes>"
      ]
     },
     "metadata": {},
     "output_type": "display_data"
    }
   ],
   "source": [
    "fig = plt.figure(figsize=(12,8))\n",
    "stl_decomposition.seasonal.plot()\n",
    "plt.title('Emission seasonality 2019-2021')\n",
    "plt.show()"
   ]
  },
  {
   "cell_type": "markdown",
   "id": "639eb32e",
   "metadata": {
    "papermill": {
     "duration": 0.015977,
     "end_time": "2023-08-15T20:56:18.868681",
     "exception": false,
     "start_time": "2023-08-15T20:56:18.852704",
     "status": "completed"
    },
    "tags": []
   },
   "source": [
    "The plot shows that seasonality was yearly and the spikes were occuring between January and May."
   ]
  },
  {
   "cell_type": "code",
   "execution_count": 16,
   "id": "a5db5a33",
   "metadata": {
    "execution": {
     "iopub.execute_input": "2023-08-15T20:56:18.902955Z",
     "iopub.status.busy": "2023-08-15T20:56:18.902553Z",
     "iopub.status.idle": "2023-08-15T20:56:19.832793Z",
     "shell.execute_reply": "2023-08-15T20:56:19.831575Z"
    },
    "papermill": {
     "duration": 0.950419,
     "end_time": "2023-08-15T20:56:19.835440",
     "exception": false,
     "start_time": "2023-08-15T20:56:18.885021",
     "status": "completed"
    },
    "tags": []
   },
   "outputs": [
    {
     "data": {
      "image/png": "[encoded data removed]",
      "text/plain": [
       "<Figure size 1200x800 with 1 Axes>"
      ]
     },
     "metadata": {},
     "output_type": "display_data"
    }
   ],
   "source": [
    "fig = plt.figure(figsize=(12,8))\n",
    "stl_decomposition.trend.plot()\n",
    "plt.title('Emission trend 2019-2021')\n",
    "plt.show()"
   ]
  },
  {
   "cell_type": "markdown",
   "id": "0d681f11",
   "metadata": {
    "papermill": {
     "duration": 0.016787,
     "end_time": "2023-08-15T20:56:19.869748",
     "exception": false,
     "start_time": "2023-08-15T20:56:19.852961",
     "status": "completed"
    },
    "tags": []
   },
   "source": [
    "The plot shows that at the start of the year trend was ascending, but to the end of the year it became descending. We can work around that and try to detrend time series so it wouldn't affect our data."
   ]
  },
  {
   "cell_type": "markdown",
   "id": "7a606121",
   "metadata": {
    "papermill": {
     "duration": 0.016734,
     "end_time": "2023-08-15T20:56:19.903805",
     "exception": false,
     "start_time": "2023-08-15T20:56:19.887071",
     "status": "completed"
    },
    "tags": []
   },
   "source": [
    "## Prediction without detrending"
   ]
  },
  {
   "cell_type": "markdown",
   "id": "8da7c997",
   "metadata": {
    "papermill": {
     "duration": 0.016768,
     "end_time": "2023-08-15T20:56:19.937883",
     "exception": false,
     "start_time": "2023-08-15T20:56:19.921115",
     "status": "completed"
    },
    "tags": []
   },
   "source": [
    "Let's train LinearRegression and measure RMSE for predictions. We will split training data into train and valid with valid size = 0.2"
   ]
  },
  {
   "cell_type": "code",
   "execution_count": 17,
   "id": "cc84bda1",
   "metadata": {
    "execution": {
     "iopub.execute_input": "2023-08-15T20:56:19.974654Z",
     "iopub.status.busy": "2023-08-15T20:56:19.973904Z",
     "iopub.status.idle": "2023-08-15T20:56:19.984395Z",
     "shell.execute_reply": "2023-08-15T20:56:19.983335Z"
    },
    "papermill": {
     "duration": 0.031834,
     "end_time": "2023-08-15T20:56:19.987172",
     "exception": false,
     "start_time": "2023-08-15T20:56:19.955338",
     "status": "completed"
    },
    "tags": []
   },
   "outputs": [],
   "source": [
    "train_features, valid_features, train_target, valid_target = train_test_split(cleared_train_data.drop('emission', axis=1), cleared_train_data.emission, shuffle=False, test_size=0.2)"
   ]
  },
  {
   "cell_type": "code",
   "execution_count": 18,
   "id": "aa017127",
   "metadata": {
    "execution": {
     "iopub.execute_input": "2023-08-15T20:56:20.027096Z",
     "iopub.status.busy": "2023-08-15T20:56:20.026645Z",
     "iopub.status.idle": "2023-08-15T20:56:20.067894Z",
     "shell.execute_reply": "2023-08-15T20:56:20.066677Z"
    },
    "papermill": {
     "duration": 0.066229,
     "end_time": "2023-08-15T20:56:20.070723",
     "exception": false,
     "start_time": "2023-08-15T20:56:20.004494",
     "status": "completed"
    },
    "tags": []
   },
   "outputs": [],
   "source": [
    "fit = LinearRegression().fit(train_features, train_target)"
   ]
  },
  {
   "cell_type": "code",
   "execution_count": 19,
   "id": "1383c4b5",
   "metadata": {
    "execution": {
     "iopub.execute_input": "2023-08-15T20:56:20.108525Z",
     "iopub.status.busy": "2023-08-15T20:56:20.108069Z",
     "iopub.status.idle": "2023-08-15T20:56:20.118852Z",
     "shell.execute_reply": "2023-08-15T20:56:20.117292Z"
    },
    "papermill": {
     "duration": 0.03606,
     "end_time": "2023-08-15T20:56:20.123997",
     "exception": false,
     "start_time": "2023-08-15T20:56:20.087937",
     "status": "completed"
    },
    "tags": []
   },
   "outputs": [],
   "source": [
    "prediction = fit.predict(valid_features)"
   ]
  },
  {
   "cell_type": "code",
   "execution_count": 20,
   "id": "5f033560",
   "metadata": {
    "execution": {
     "iopub.execute_input": "2023-08-15T20:56:20.201865Z",
     "iopub.status.busy": "2023-08-15T20:56:20.201135Z",
     "iopub.status.idle": "2023-08-15T20:56:20.221159Z",
     "shell.execute_reply": "2023-08-15T20:56:20.219540Z"
    },
    "papermill": {
     "duration": 0.064623,
     "end_time": "2023-08-15T20:56:20.225812",
     "exception": false,
     "start_time": "2023-08-15T20:56:20.161189",
     "status": "completed"
    },
    "tags": []
   },
   "outputs": [
    {
     "data": {
      "text/plain": [
       "96.1109026403492"
      ]
     },
     "execution_count": 20,
     "metadata": {},
     "output_type": "execute_result"
    }
   ],
   "source": [
    "mean_squared_error(valid_target, prediction, squared=False)"
   ]
  },
  {
   "cell_type": "markdown",
   "id": "fd76de90",
   "metadata": {
    "papermill": {
     "duration": 0.016933,
     "end_time": "2023-08-15T20:56:20.266308",
     "exception": false,
     "start_time": "2023-08-15T20:56:20.249375",
     "status": "completed"
    },
    "tags": []
   },
   "source": [
    "Prediction with detrending"
   ]
  },
  {
   "cell_type": "code",
   "execution_count": 21,
   "id": "ba322196",
   "metadata": {
    "execution": {
     "iopub.execute_input": "2023-08-15T20:56:20.303399Z",
     "iopub.status.busy": "2023-08-15T20:56:20.303021Z",
     "iopub.status.idle": "2023-08-15T20:56:20.328240Z",
     "shell.execute_reply": "2023-08-15T20:56:20.326655Z"
    },
    "papermill": {
     "duration": 0.048744,
     "end_time": "2023-08-15T20:56:20.332475",
     "exception": false,
     "start_time": "2023-08-15T20:56:20.283731",
     "status": "completed"
    },
    "tags": []
   },
   "outputs": [],
   "source": [
    "train_target_d = detrend(train_target, order=2)"
   ]
  },
  {
   "cell_type": "code",
   "execution_count": 22,
   "id": "f350b983",
   "metadata": {
    "execution": {
     "iopub.execute_input": "2023-08-15T20:56:20.410152Z",
     "iopub.status.busy": "2023-08-15T20:56:20.408291Z",
     "iopub.status.idle": "2023-08-15T20:56:20.439863Z",
     "shell.execute_reply": "2023-08-15T20:56:20.438291Z"
    },
    "papermill": {
     "duration": 0.075125,
     "end_time": "2023-08-15T20:56:20.444138",
     "exception": false,
     "start_time": "2023-08-15T20:56:20.369013",
     "status": "completed"
    },
    "tags": []
   },
   "outputs": [],
   "source": [
    "fit_d = LinearRegression().fit(train_features, train_target_d)"
   ]
  },
  {
   "cell_type": "code",
   "execution_count": 23,
   "id": "3c81bd93",
   "metadata": {
    "execution": {
     "iopub.execute_input": "2023-08-15T20:56:20.482038Z",
     "iopub.status.busy": "2023-08-15T20:56:20.481250Z",
     "iopub.status.idle": "2023-08-15T20:56:20.489647Z",
     "shell.execute_reply": "2023-08-15T20:56:20.488140Z"
    },
    "papermill": {
     "duration": 0.031509,
     "end_time": "2023-08-15T20:56:20.493698",
     "exception": false,
     "start_time": "2023-08-15T20:56:20.462189",
     "status": "completed"
    },
    "tags": []
   },
   "outputs": [],
   "source": [
    "prediction_d = fit_d.predict(valid_features)"
   ]
  },
  {
   "cell_type": "code",
   "execution_count": 24,
   "id": "e1c58bfc",
   "metadata": {
    "execution": {
     "iopub.execute_input": "2023-08-15T20:56:20.569504Z",
     "iopub.status.busy": "2023-08-15T20:56:20.568784Z",
     "iopub.status.idle": "2023-08-15T20:56:20.580459Z",
     "shell.execute_reply": "2023-08-15T20:56:20.579129Z"
    },
    "papermill": {
     "duration": 0.054446,
     "end_time": "2023-08-15T20:56:20.584298",
     "exception": false,
     "start_time": "2023-08-15T20:56:20.529852",
     "status": "completed"
    },
    "scrolled": true,
    "tags": []
   },
   "outputs": [
    {
     "data": {
      "text/plain": [
       "65.31272688596043"
      ]
     },
     "execution_count": 24,
     "metadata": {},
     "output_type": "execute_result"
    }
   ],
   "source": [
    "mean_squared_error(valid_target, prediction_d, squared=False)"
   ]
  },
  {
   "cell_type": "markdown",
   "id": "e797eef6",
   "metadata": {
    "papermill": {
     "duration": 0.017051,
     "end_time": "2023-08-15T20:56:20.631313",
     "exception": false,
     "start_time": "2023-08-15T20:56:20.614262",
     "status": "completed"
    },
    "tags": []
   },
   "source": [
    "Metric improved by 67% from 96.11 to 65.31"
   ]
  },
  {
   "cell_type": "markdown",
   "id": "7046ecb9",
   "metadata": {
    "papermill": {
     "duration": 0.017569,
     "end_time": "2023-08-15T20:56:20.666345",
     "exception": false,
     "start_time": "2023-08-15T20:56:20.648776",
     "status": "completed"
    },
    "tags": []
   },
   "source": [
    "## Submission"
   ]
  },
  {
   "cell_type": "code",
   "execution_count": 25,
   "id": "1c26badf",
   "metadata": {
    "execution": {
     "iopub.execute_input": "2023-08-15T20:56:20.702887Z",
     "iopub.status.busy": "2023-08-15T20:56:20.702401Z",
     "iopub.status.idle": "2023-08-15T20:56:20.709435Z",
     "shell.execute_reply": "2023-08-15T20:56:20.708207Z"
    },
    "papermill": {
     "duration": 0.028305,
     "end_time": "2023-08-15T20:56:20.712075",
     "exception": false,
     "start_time": "2023-08-15T20:56:20.683770",
     "status": "completed"
    },
    "tags": []
   },
   "outputs": [],
   "source": [
    "cleared_test_data = test_data.loc[:,['latitude','longitude','year','week_no']]"
   ]
  },
  {
   "cell_type": "code",
   "execution_count": 26,
   "id": "bcbb4c65",
   "metadata": {
    "execution": {
     "iopub.execute_input": "2023-08-15T20:56:20.749411Z",
     "iopub.status.busy": "2023-08-15T20:56:20.748958Z",
     "iopub.status.idle": "2023-08-15T20:56:20.802681Z",
     "shell.execute_reply": "2023-08-15T20:56:20.801132Z"
    },
    "papermill": {
     "duration": 0.076852,
     "end_time": "2023-08-15T20:56:20.806927",
     "exception": false,
     "start_time": "2023-08-15T20:56:20.730075",
     "status": "completed"
    },
    "tags": []
   },
   "outputs": [
    {
     "data": {
      "text/plain": [
       "array([-23.63136447, -23.56442922, -23.49749397, ...,  10.86076742,\n",
       "        10.92770268,  10.99463793])"
      ]
     },
     "execution_count": 26,
     "metadata": {},
     "output_type": "execute_result"
    }
   ],
   "source": [
    "model = LinearRegression()\n",
    "train_features_submission = cleared_train_data.drop('emission', axis=1)\n",
    "train_target_submission = detrend(cleared_train_data.emission)\n",
    "model.fit(train_features_submission, train_target_submission)\n",
    "predicted = model.predict(cleared_test_data)\n",
    "predicted"
   ]
  },
  {
   "cell_type": "code",
   "execution_count": 27,
   "id": "ae5c63f4",
   "metadata": {
    "execution": {
     "iopub.execute_input": "2023-08-15T20:56:20.884968Z",
     "iopub.status.busy": "2023-08-15T20:56:20.884004Z",
     "iopub.status.idle": "2023-08-15T20:56:20.897766Z",
     "shell.execute_reply": "2023-08-15T20:56:20.896160Z"
    },
    "papermill": {
     "duration": 0.056576,
     "end_time": "2023-08-15T20:56:20.901492",
     "exception": false,
     "start_time": "2023-08-15T20:56:20.844916",
     "status": "completed"
    },
    "tags": []
   },
   "outputs": [
    {
     "data": {
      "text/plain": [
       "Index(['ID_-0.510_29.290_2022_00', 'ID_-0.510_29.290_2022_01',\n",
       "       'ID_-0.510_29.290_2022_02', 'ID_-0.510_29.290_2022_03',\n",
       "       'ID_-0.510_29.290_2022_04', 'ID_-0.510_29.290_2022_05',\n",
       "       'ID_-0.510_29.290_2022_06', 'ID_-0.510_29.290_2022_07',\n",
       "       'ID_-0.510_29.290_2022_08', 'ID_-0.510_29.290_2022_09',\n",
       "       ...\n",
       "       'ID_-3.299_30.301_2022_39', 'ID_-3.299_30.301_2022_40',\n",
       "       'ID_-3.299_30.301_2022_41', 'ID_-3.299_30.301_2022_42',\n",
       "       'ID_-3.299_30.301_2022_43', 'ID_-3.299_30.301_2022_44',\n",
       "       'ID_-3.299_30.301_2022_45', 'ID_-3.299_30.301_2022_46',\n",
       "       'ID_-3.299_30.301_2022_47', 'ID_-3.299_30.301_2022_48'],\n",
       "      dtype='object', name='ID_LAT_LON_YEAR_WEEK', length=24353)"
      ]
     },
     "execution_count": 27,
     "metadata": {},
     "output_type": "execute_result"
    }
   ],
   "source": [
    "test_ids = cleared_test_data.index\n",
    "test_ids"
   ]
  },
  {
   "cell_type": "code",
   "execution_count": 28,
   "id": "c97c9e5b",
   "metadata": {
    "execution": {
     "iopub.execute_input": "2023-08-15T20:56:20.946807Z",
     "iopub.status.busy": "2023-08-15T20:56:20.946430Z",
     "iopub.status.idle": "2023-08-15T20:56:21.133130Z",
     "shell.execute_reply": "2023-08-15T20:56:21.131851Z"
    },
    "papermill": {
     "duration": 0.209403,
     "end_time": "2023-08-15T20:56:21.136846",
     "exception": false,
     "start_time": "2023-08-15T20:56:20.927443",
     "status": "completed"
    },
    "tags": []
   },
   "outputs": [],
   "source": [
    "np.savetxt(\n",
    "    'submission.csv',\n",
    "    np.rec.fromarrays([test_ids, predicted]),\n",
    "    fmt=['%s', '%d'],\n",
    "    delimiter=',',\n",
    "    header='ID_LAT_LON_YEAR_WEEK,emission',\n",
    "    comments='',\n",
    ")"
   ]
  },
  {
   "cell_type": "code",
   "execution_count": null,
   "id": "fe83cdbf",
   "metadata": {
    "execution": {
     "iopub.execute_input": "2023-08-15T20:50:44.753105Z",
     "iopub.status.busy": "2023-08-15T20:50:44.752563Z",
     "iopub.status.idle": "2023-08-15T20:50:45.816194Z",
     "shell.execute_reply": "2023-08-15T20:50:45.814722Z",
     "shell.execute_reply.started": "2023-08-15T20:50:44.753065Z"
    },
    "papermill": {
     "duration": 0.018002,
     "end_time": "2023-08-15T20:56:21.178032",
     "exception": false,
     "start_time": "2023-08-15T20:56:21.160030",
     "status": "completed"
    },
    "tags": []
   },
   "outputs": [],
   "source": []
  },
  {
   "cell_type": "code",
   "execution_count": null,
   "id": "6f322922",
   "metadata": {
    "papermill": {
     "duration": 0.018522,
     "end_time": "2023-08-15T20:56:21.214677",
     "exception": false,
     "start_time": "2023-08-15T20:56:21.196155",
     "status": "completed"
    },
    "tags": []
   },
   "outputs": [],
   "source": []
  }
 ],
 "metadata": {
  "kernelspec": {
   "display_name": "Python 3",
   "language": "python",
   "name": "python3"
  },
  "language_info": {
   "codemirror_mode": {
    "name": "ipython",
    "version": 3
   },
   "file_extension": ".py",
   "mimetype": "text/x-python",
   "name": "python",
   "nbconvert_exporter": "python",
   "pygments_lexer": "ipython3",
   "version": "3.10.12"
  },
  "papermill": {
   "default_parameters": {},
   "duration": 30.148465,
   "end_time": "2023-08-15T20:56:22.456759",
   "environment_variables": {},
   "exception": null,
   "input_path": "__notebook__.ipynb",
   "output_path": "__notebook__.ipynb",
   "parameters": {},
   "start_time": "2023-08-15T20:55:52.308294",
   "version": "2.4.0"
  }
 },
 "nbformat": 4,
 "nbformat_minor": 5
}
