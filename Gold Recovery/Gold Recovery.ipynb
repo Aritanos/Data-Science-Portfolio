{
 "cells": [
  {
   "cell_type": "markdown",
   "metadata": {
    "toc": true
   },
   "source": [
    "<h1>Содержание<span class=\"tocSkip\"></span></h1>\n",
    "<div class=\"toc\"><ul class=\"toc-item\"><li><span><a href=\"#Подготовка-данных\" data-toc-modified-id=\"Подготовка-данных-1\"><span class=\"toc-item-num\">1&nbsp;&nbsp;</span>Подготовка данных</a></span><ul class=\"toc-item\"><li><ul class=\"toc-item\"><li><span><a href=\"#Обзор-данных\" data-toc-modified-id=\"Обзор-данных-1.0.1\"><span class=\"toc-item-num\">1.0.1&nbsp;&nbsp;</span>Обзор данных</a></span></li><li><span><a href=\"#Расчёт-эффективности-обогащения--rougher.output.recovery\" data-toc-modified-id=\"Расчёт-эффективности-обогащения--rougher.output.recovery-1.0.2\"><span class=\"toc-item-num\">1.0.2&nbsp;&nbsp;</span>Расчёт эффективности обогащения  rougher.output.recovery</a></span></li><li><span><a href=\"#Признаки-в-тестовой-выборке\" data-toc-modified-id=\"Признаки-в-тестовой-выборке-1.0.3\"><span class=\"toc-item-num\">1.0.3&nbsp;&nbsp;</span>Признаки в тестовой выборке</a></span></li><li><span><a href=\"#Аномальные-значения\" data-toc-modified-id=\"Аномальные-значения-1.0.4\"><span class=\"toc-item-num\">1.0.4&nbsp;&nbsp;</span>Аномальные значения</a></span></li><li><span><a href=\"#Пропущенные-значения\" data-toc-modified-id=\"Пропущенные-значения-1.0.5\"><span class=\"toc-item-num\">1.0.5&nbsp;&nbsp;</span>Пропущенные значения</a></span></li><li><span><a href=\"#Обновление-train-и-test\" data-toc-modified-id=\"Обновление-train-и-test-1.0.6\"><span class=\"toc-item-num\">1.0.6&nbsp;&nbsp;</span>Обновление train и test</a></span></li><li><span><a href=\"#Вывод\" data-toc-modified-id=\"Вывод-1.0.7\"><span class=\"toc-item-num\">1.0.7&nbsp;&nbsp;</span>Вывод</a></span></li></ul></li></ul></li><li><span><a href=\"#Анализ-данных\" data-toc-modified-id=\"Анализ-данных-2\"><span class=\"toc-item-num\">2&nbsp;&nbsp;</span>Анализ данных</a></span><ul class=\"toc-item\"><li><ul class=\"toc-item\"><li><span><a href=\"#Средняя-концентрация-металлов-на-различных-этапах\" data-toc-modified-id=\"Средняя-концентрация-металлов-на-различных-этапах-2.0.1\"><span class=\"toc-item-num\">2.0.1&nbsp;&nbsp;</span>Средняя концентрация металлов на различных этапах</a></span></li><li><span><a href=\"#Распределение-размеров-гранул-в-обучающей-и-тестовой-выборках\" data-toc-modified-id=\"Распределение-размеров-гранул-в-обучающей-и-тестовой-выборках-2.0.2\"><span class=\"toc-item-num\">2.0.2&nbsp;&nbsp;</span>Распределение размеров гранул в обучающей и тестовой выборках</a></span></li><li><span><a href=\"#Суммарная-концентрация-металлов\" data-toc-modified-id=\"Суммарная-концентрация-металлов-2.0.3\"><span class=\"toc-item-num\">2.0.3&nbsp;&nbsp;</span>Суммарная концентрация металлов</a></span></li><li><span><a href=\"#Вывод:\" data-toc-modified-id=\"Вывод:-2.0.4\"><span class=\"toc-item-num\">2.0.4&nbsp;&nbsp;</span>Вывод:</a></span></li></ul></li></ul></li><li><span><a href=\"#Модель\" data-toc-modified-id=\"Модель-3\"><span class=\"toc-item-num\">3&nbsp;&nbsp;</span>Модель</a></span><ul class=\"toc-item\"><li><ul class=\"toc-item\"><li><span><a href=\"#Разделение-на-выборки\" data-toc-modified-id=\"Разделение-на-выборки-3.0.1\"><span class=\"toc-item-num\">3.0.1&nbsp;&nbsp;</span>Разделение на выборки</a></span></li><li><span><a href=\"#Scaling\" data-toc-modified-id=\"Scaling-3.0.2\"><span class=\"toc-item-num\">3.0.2&nbsp;&nbsp;</span>Scaling</a></span></li><li><span><a href=\"#Выбор-признаков\" data-toc-modified-id=\"Выбор-признаков-3.0.3\"><span class=\"toc-item-num\">3.0.3&nbsp;&nbsp;</span>Выбор признаков</a></span></li><li><span><a href=\"#Функция-SMAPE\" data-toc-modified-id=\"Функция-SMAPE-3.0.4\"><span class=\"toc-item-num\">3.0.4&nbsp;&nbsp;</span>Функция SMAPE</a></span></li><li><span><a href=\"#Тренировка-модели\" data-toc-modified-id=\"Тренировка-модели-3.0.5\"><span class=\"toc-item-num\">3.0.5&nbsp;&nbsp;</span>Тренировка модели</a></span></li><li><span><a href=\"#Подбор-модели.-RandomForestRegressor.\" data-toc-modified-id=\"Подбор-модели.-RandomForestRegressor.-3.0.6\"><span class=\"toc-item-num\">3.0.6&nbsp;&nbsp;</span>Подбор модели. RandomForestRegressor.</a></span></li><li><span><a href=\"#Подбор-модели.-Линейная-регрессия\" data-toc-modified-id=\"Подбор-модели.-Линейная-регрессия-3.0.7\"><span class=\"toc-item-num\">3.0.7&nbsp;&nbsp;</span>Подбор модели. Линейная регрессия</a></span></li><li><span><a href=\"#Dummy-модель\" data-toc-modified-id=\"Dummy-модель-3.0.8\"><span class=\"toc-item-num\">3.0.8&nbsp;&nbsp;</span>Dummy модель</a></span></li><li><span><a href=\"#Вычисление-итогового-sMAPE\" data-toc-modified-id=\"Вычисление-итогового-sMAPE-3.0.9\"><span class=\"toc-item-num\">3.0.9&nbsp;&nbsp;</span>Вычисление итогового sMAPE</a></span></li><li><span><a href=\"#Вывод\" data-toc-modified-id=\"Вывод-3.0.10\"><span class=\"toc-item-num\">3.0.10&nbsp;&nbsp;</span>Вывод</a></span></li></ul></li></ul></li><li><span><a href=\"#Общий-вывод\" data-toc-modified-id=\"Общий-вывод-4\"><span class=\"toc-item-num\">4&nbsp;&nbsp;</span>Общий вывод</a></span></li></ul></div>"
   ]
  },
  {
   "cell_type": "markdown",
   "metadata": {},
   "source": [
    "# Восстановление золота из руды"
   ]
  },
  {
   "cell_type": "markdown",
   "metadata": {},
   "source": [
    "## Подготовка данных"
   ]
  },
  {
   "cell_type": "markdown",
   "metadata": {},
   "source": [
    "#### Обзор данных"
   ]
  },
  {
   "cell_type": "markdown",
   "metadata": {},
   "source": [
    "Изучим данные"
   ]
  },
  {
   "cell_type": "code",
   "execution_count": 1,
   "metadata": {},
   "outputs": [],
   "source": [
    "import os\n",
    "import pandas as pd\n",
    "import matplotlib.pyplot as plt\n",
    "import numpy as np\n",
    "from sklearn.dummy import DummyRegressor\n",
    "from sklearn.metrics import mean_absolute_error, make_scorer\n",
    "from sklearn.model_selection import cross_val_score\n",
    "from sklearn.linear_model import LinearRegression\n",
    "from sklearn.ensemble import RandomForestRegressor\n",
    "from sklearn.model_selection import GridSearchCV, RandomizedSearchCV\n",
    "from sklearn.preprocessing import StandardScaler"
   ]
  },
  {
   "cell_type": "code",
   "execution_count": 2,
   "metadata": {},
   "outputs": [],
   "source": [
    "local_data_test = 'C:\\\\Users\\\\Aritanos\\\\Project8\\\\gold_industry_test.csv'\n",
    "local_data_train = 'C:\\\\Users\\\\Aritanos\\\\Project8\\\\gold_industry_train.csv'\n",
    "local_data_full= 'C:\\\\Users\\\\Aritanos\\\\Project8\\\\gold_industry_full.csv'\n",
    "\n",
    "server_data_test = '/datasets/gold_industry_test.csv'\n",
    "server_data_train = '/datasets/gold_industry_train.csv'\n",
    "server_data_full= '/datasets/gold_industry_full.csv'\n",
    "\n",
    "if os.path.exists(local_data_test):\n",
    "    data_test = pd.read_csv(local_data_test, index_col='date', parse_dates=['date'])\n",
    "    data_full = pd.read_csv(local_data_full, index_col='date', parse_dates=['date'])\n",
    "    data_train = pd.read_csv(local_data_train, index_col='date', parse_dates=['date'])\n",
    "else:\n",
    "    data_test = pd.read_csv(server_data_test, index_col='date', parse_dates=['date'])\n",
    "    data_full = pd.read_csv(server_data_full, index_col='date', parse_dates=['date'])\n",
    "    data_train = pd.read_csv(server_data_train, index_col='date', parse_dates=['date'])"
   ]
  },
  {
   "cell_type": "code",
   "execution_count": 3,
   "metadata": {},
   "outputs": [
    {
     "data": {
      "text/html": [
       "<div>\n",
       "<style scoped>\n",
       "    .dataframe tbody tr th:only-of-type {\n",
       "        vertical-align: middle;\n",
       "    }\n",
       "\n",
       "    .dataframe tbody tr th {\n",
       "        vertical-align: top;\n",
       "    }\n",
       "\n",
       "    .dataframe thead th {\n",
       "        text-align: right;\n",
       "    }\n",
       "</style>\n",
       "<table border=\"1\" class=\"dataframe\">\n",
       "  <thead>\n",
       "    <tr style=\"text-align: right;\">\n",
       "      <th></th>\n",
       "      <th>rougher.input.feed_au</th>\n",
       "      <th>rougher.input.feed_ag</th>\n",
       "      <th>rougher.input.feed_pb</th>\n",
       "      <th>rougher.input.feed_sol</th>\n",
       "      <th>rougher.input.feed_rate</th>\n",
       "      <th>rougher.input.feed_size</th>\n",
       "      <th>rougher.input.floatbank10_sulfate</th>\n",
       "      <th>rougher.input.floatbank10_xanthate</th>\n",
       "      <th>rougher.state.floatbank10_a_air</th>\n",
       "      <th>rougher.state.floatbank10_a_level</th>\n",
       "      <th>...</th>\n",
       "      <th>secondary_cleaner.output.tail_sol</th>\n",
       "      <th>final.output.concentrate_au</th>\n",
       "      <th>final.output.concentrate_ag</th>\n",
       "      <th>final.output.concentrate_pb</th>\n",
       "      <th>final.output.concentrate_sol</th>\n",
       "      <th>final.output.recovery</th>\n",
       "      <th>final.output.tail_au</th>\n",
       "      <th>final.output.tail_ag</th>\n",
       "      <th>final.output.tail_pb</th>\n",
       "      <th>final.output.tail_sol</th>\n",
       "    </tr>\n",
       "    <tr>\n",
       "      <th>date</th>\n",
       "      <th></th>\n",
       "      <th></th>\n",
       "      <th></th>\n",
       "      <th></th>\n",
       "      <th></th>\n",
       "      <th></th>\n",
       "      <th></th>\n",
       "      <th></th>\n",
       "      <th></th>\n",
       "      <th></th>\n",
       "      <th></th>\n",
       "      <th></th>\n",
       "      <th></th>\n",
       "      <th></th>\n",
       "      <th></th>\n",
       "      <th></th>\n",
       "      <th></th>\n",
       "      <th></th>\n",
       "      <th></th>\n",
       "      <th></th>\n",
       "      <th></th>\n",
       "    </tr>\n",
       "  </thead>\n",
       "  <tbody>\n",
       "    <tr>\n",
       "      <th>2016-01-15 00:00:00</th>\n",
       "      <td>6.486150</td>\n",
       "      <td>6.100378</td>\n",
       "      <td>2.284912</td>\n",
       "      <td>36.808594</td>\n",
       "      <td>523.546326</td>\n",
       "      <td>55.486599</td>\n",
       "      <td>11.986616</td>\n",
       "      <td>6.007990</td>\n",
       "      <td>999.706909</td>\n",
       "      <td>-404.066986</td>\n",
       "      <td>...</td>\n",
       "      <td>8.764648</td>\n",
       "      <td>42.192020</td>\n",
       "      <td>6.055403</td>\n",
       "      <td>9.889648</td>\n",
       "      <td>5.507324</td>\n",
       "      <td>70.541216</td>\n",
       "      <td>2.143149</td>\n",
       "      <td>10.411962</td>\n",
       "      <td>0.895447</td>\n",
       "      <td>16.904297</td>\n",
       "    </tr>\n",
       "    <tr>\n",
       "      <th>2016-01-15 01:00:00</th>\n",
       "      <td>6.478583</td>\n",
       "      <td>6.161113</td>\n",
       "      <td>2.266033</td>\n",
       "      <td>35.753385</td>\n",
       "      <td>525.290581</td>\n",
       "      <td>57.278666</td>\n",
       "      <td>11.971193</td>\n",
       "      <td>6.005766</td>\n",
       "      <td>1000.286398</td>\n",
       "      <td>-400.065196</td>\n",
       "      <td>...</td>\n",
       "      <td>9.001494</td>\n",
       "      <td>42.701629</td>\n",
       "      <td>6.029369</td>\n",
       "      <td>9.968944</td>\n",
       "      <td>5.257781</td>\n",
       "      <td>69.266198</td>\n",
       "      <td>2.224930</td>\n",
       "      <td>10.462676</td>\n",
       "      <td>0.927452</td>\n",
       "      <td>16.634514</td>\n",
       "    </tr>\n",
       "    <tr>\n",
       "      <th>2016-01-15 02:00:00</th>\n",
       "      <td>6.362222</td>\n",
       "      <td>6.116455</td>\n",
       "      <td>2.159622</td>\n",
       "      <td>35.971630</td>\n",
       "      <td>530.026610</td>\n",
       "      <td>57.510649</td>\n",
       "      <td>11.920603</td>\n",
       "      <td>6.197377</td>\n",
       "      <td>999.719565</td>\n",
       "      <td>-400.074028</td>\n",
       "      <td>...</td>\n",
       "      <td>8.842896</td>\n",
       "      <td>42.657501</td>\n",
       "      <td>6.055926</td>\n",
       "      <td>10.213995</td>\n",
       "      <td>5.383759</td>\n",
       "      <td>68.116445</td>\n",
       "      <td>2.257889</td>\n",
       "      <td>10.507046</td>\n",
       "      <td>0.953716</td>\n",
       "      <td>16.208849</td>\n",
       "    </tr>\n",
       "    <tr>\n",
       "      <th>2016-01-15 03:00:00</th>\n",
       "      <td>6.118189</td>\n",
       "      <td>6.043309</td>\n",
       "      <td>2.037807</td>\n",
       "      <td>36.862241</td>\n",
       "      <td>542.590390</td>\n",
       "      <td>57.792734</td>\n",
       "      <td>11.630094</td>\n",
       "      <td>6.203177</td>\n",
       "      <td>999.814770</td>\n",
       "      <td>-400.200179</td>\n",
       "      <td>...</td>\n",
       "      <td>9.122857</td>\n",
       "      <td>42.689819</td>\n",
       "      <td>6.047977</td>\n",
       "      <td>9.977019</td>\n",
       "      <td>4.858634</td>\n",
       "      <td>68.347543</td>\n",
       "      <td>2.146849</td>\n",
       "      <td>10.422762</td>\n",
       "      <td>0.883763</td>\n",
       "      <td>16.532835</td>\n",
       "    </tr>\n",
       "    <tr>\n",
       "      <th>2016-01-15 04:00:00</th>\n",
       "      <td>5.663707</td>\n",
       "      <td>6.060915</td>\n",
       "      <td>1.786875</td>\n",
       "      <td>34.347666</td>\n",
       "      <td>540.531893</td>\n",
       "      <td>56.047189</td>\n",
       "      <td>10.957755</td>\n",
       "      <td>6.198826</td>\n",
       "      <td>999.678690</td>\n",
       "      <td>-399.752729</td>\n",
       "      <td>...</td>\n",
       "      <td>8.871028</td>\n",
       "      <td>42.774141</td>\n",
       "      <td>6.148599</td>\n",
       "      <td>10.142511</td>\n",
       "      <td>4.939416</td>\n",
       "      <td>66.927016</td>\n",
       "      <td>2.055292</td>\n",
       "      <td>10.360302</td>\n",
       "      <td>0.792826</td>\n",
       "      <td>16.525686</td>\n",
       "    </tr>\n",
       "    <tr>\n",
       "      <th>2016-01-15 05:00:00</th>\n",
       "      <td>5.687168</td>\n",
       "      <td>5.801920</td>\n",
       "      <td>1.879351</td>\n",
       "      <td>35.470082</td>\n",
       "      <td>546.173470</td>\n",
       "      <td>57.469578</td>\n",
       "      <td>11.072517</td>\n",
       "      <td>6.200383</td>\n",
       "      <td>999.934134</td>\n",
       "      <td>-400.599524</td>\n",
       "      <td>...</td>\n",
       "      <td>9.302669</td>\n",
       "      <td>41.633678</td>\n",
       "      <td>6.482968</td>\n",
       "      <td>10.049416</td>\n",
       "      <td>5.480257</td>\n",
       "      <td>69.465816</td>\n",
       "      <td>1.918586</td>\n",
       "      <td>10.182708</td>\n",
       "      <td>0.664118</td>\n",
       "      <td>16.999638</td>\n",
       "    </tr>\n",
       "    <tr>\n",
       "      <th>2016-01-15 06:00:00</th>\n",
       "      <td>6.038436</td>\n",
       "      <td>6.056253</td>\n",
       "      <td>2.105501</td>\n",
       "      <td>34.920570</td>\n",
       "      <td>523.376439</td>\n",
       "      <td>56.674647</td>\n",
       "      <td>11.535899</td>\n",
       "      <td>6.204974</td>\n",
       "      <td>999.832373</td>\n",
       "      <td>-399.353521</td>\n",
       "      <td>...</td>\n",
       "      <td>9.103047</td>\n",
       "      <td>41.995316</td>\n",
       "      <td>6.533849</td>\n",
       "      <td>10.058141</td>\n",
       "      <td>4.569100</td>\n",
       "      <td>69.300835</td>\n",
       "      <td>2.058913</td>\n",
       "      <td>10.304598</td>\n",
       "      <td>0.807342</td>\n",
       "      <td>16.723575</td>\n",
       "    </tr>\n",
       "    <tr>\n",
       "      <th>2016-01-15 07:00:00</th>\n",
       "      <td>6.433854</td>\n",
       "      <td>5.955053</td>\n",
       "      <td>2.310432</td>\n",
       "      <td>36.091386</td>\n",
       "      <td>549.842749</td>\n",
       "      <td>56.730325</td>\n",
       "      <td>12.557906</td>\n",
       "      <td>6.799275</td>\n",
       "      <td>1000.166602</td>\n",
       "      <td>-400.556601</td>\n",
       "      <td>...</td>\n",
       "      <td>9.369209</td>\n",
       "      <td>42.452727</td>\n",
       "      <td>6.130823</td>\n",
       "      <td>9.935481</td>\n",
       "      <td>4.389813</td>\n",
       "      <td>70.230976</td>\n",
       "      <td>2.143437</td>\n",
       "      <td>10.443288</td>\n",
       "      <td>0.949346</td>\n",
       "      <td>16.689959</td>\n",
       "    </tr>\n",
       "    <tr>\n",
       "      <th>2016-01-15 08:00:00</th>\n",
       "      <td>6.526612</td>\n",
       "      <td>5.878084</td>\n",
       "      <td>2.391713</td>\n",
       "      <td>35.753879</td>\n",
       "      <td>560.115242</td>\n",
       "      <td>56.649893</td>\n",
       "      <td>13.166128</td>\n",
       "      <td>6.798659</td>\n",
       "      <td>1000.026864</td>\n",
       "      <td>-399.968583</td>\n",
       "      <td>...</td>\n",
       "      <td>9.437044</td>\n",
       "      <td>43.404078</td>\n",
       "      <td>5.834140</td>\n",
       "      <td>10.071156</td>\n",
       "      <td>4.876389</td>\n",
       "      <td>69.688595</td>\n",
       "      <td>2.209881</td>\n",
       "      <td>10.420140</td>\n",
       "      <td>1.065453</td>\n",
       "      <td>17.201948</td>\n",
       "    </tr>\n",
       "    <tr>\n",
       "      <th>2016-01-15 09:00:00</th>\n",
       "      <td>6.747693</td>\n",
       "      <td>5.974832</td>\n",
       "      <td>2.539114</td>\n",
       "      <td>38.553938</td>\n",
       "      <td>566.616045</td>\n",
       "      <td>60.308763</td>\n",
       "      <td>13.996130</td>\n",
       "      <td>6.800263</td>\n",
       "      <td>1000.332327</td>\n",
       "      <td>-400.149341</td>\n",
       "      <td>...</td>\n",
       "      <td>9.582874</td>\n",
       "      <td>43.487291</td>\n",
       "      <td>5.706261</td>\n",
       "      <td>10.242511</td>\n",
       "      <td>5.214161</td>\n",
       "      <td>70.973641</td>\n",
       "      <td>2.200997</td>\n",
       "      <td>10.473539</td>\n",
       "      <td>1.171183</td>\n",
       "      <td>17.717049</td>\n",
       "    </tr>\n",
       "  </tbody>\n",
       "</table>\n",
       "<p>10 rows × 86 columns</p>\n",
       "</div>"
      ],
      "text/plain": [
       "                     rougher.input.feed_au  rougher.input.feed_ag  \\\n",
       "date                                                                \n",
       "2016-01-15 00:00:00               6.486150               6.100378   \n",
       "2016-01-15 01:00:00               6.478583               6.161113   \n",
       "2016-01-15 02:00:00               6.362222               6.116455   \n",
       "2016-01-15 03:00:00               6.118189               6.043309   \n",
       "2016-01-15 04:00:00               5.663707               6.060915   \n",
       "2016-01-15 05:00:00               5.687168               5.801920   \n",
       "2016-01-15 06:00:00               6.038436               6.056253   \n",
       "2016-01-15 07:00:00               6.433854               5.955053   \n",
       "2016-01-15 08:00:00               6.526612               5.878084   \n",
       "2016-01-15 09:00:00               6.747693               5.974832   \n",
       "\n",
       "                     rougher.input.feed_pb  rougher.input.feed_sol  \\\n",
       "date                                                                 \n",
       "2016-01-15 00:00:00               2.284912               36.808594   \n",
       "2016-01-15 01:00:00               2.266033               35.753385   \n",
       "2016-01-15 02:00:00               2.159622               35.971630   \n",
       "2016-01-15 03:00:00               2.037807               36.862241   \n",
       "2016-01-15 04:00:00               1.786875               34.347666   \n",
       "2016-01-15 05:00:00               1.879351               35.470082   \n",
       "2016-01-15 06:00:00               2.105501               34.920570   \n",
       "2016-01-15 07:00:00               2.310432               36.091386   \n",
       "2016-01-15 08:00:00               2.391713               35.753879   \n",
       "2016-01-15 09:00:00               2.539114               38.553938   \n",
       "\n",
       "                     rougher.input.feed_rate  rougher.input.feed_size  \\\n",
       "date                                                                    \n",
       "2016-01-15 00:00:00               523.546326                55.486599   \n",
       "2016-01-15 01:00:00               525.290581                57.278666   \n",
       "2016-01-15 02:00:00               530.026610                57.510649   \n",
       "2016-01-15 03:00:00               542.590390                57.792734   \n",
       "2016-01-15 04:00:00               540.531893                56.047189   \n",
       "2016-01-15 05:00:00               546.173470                57.469578   \n",
       "2016-01-15 06:00:00               523.376439                56.674647   \n",
       "2016-01-15 07:00:00               549.842749                56.730325   \n",
       "2016-01-15 08:00:00               560.115242                56.649893   \n",
       "2016-01-15 09:00:00               566.616045                60.308763   \n",
       "\n",
       "                     rougher.input.floatbank10_sulfate  \\\n",
       "date                                                     \n",
       "2016-01-15 00:00:00                          11.986616   \n",
       "2016-01-15 01:00:00                          11.971193   \n",
       "2016-01-15 02:00:00                          11.920603   \n",
       "2016-01-15 03:00:00                          11.630094   \n",
       "2016-01-15 04:00:00                          10.957755   \n",
       "2016-01-15 05:00:00                          11.072517   \n",
       "2016-01-15 06:00:00                          11.535899   \n",
       "2016-01-15 07:00:00                          12.557906   \n",
       "2016-01-15 08:00:00                          13.166128   \n",
       "2016-01-15 09:00:00                          13.996130   \n",
       "\n",
       "                     rougher.input.floatbank10_xanthate  \\\n",
       "date                                                      \n",
       "2016-01-15 00:00:00                            6.007990   \n",
       "2016-01-15 01:00:00                            6.005766   \n",
       "2016-01-15 02:00:00                            6.197377   \n",
       "2016-01-15 03:00:00                            6.203177   \n",
       "2016-01-15 04:00:00                            6.198826   \n",
       "2016-01-15 05:00:00                            6.200383   \n",
       "2016-01-15 06:00:00                            6.204974   \n",
       "2016-01-15 07:00:00                            6.799275   \n",
       "2016-01-15 08:00:00                            6.798659   \n",
       "2016-01-15 09:00:00                            6.800263   \n",
       "\n",
       "                     rougher.state.floatbank10_a_air  \\\n",
       "date                                                   \n",
       "2016-01-15 00:00:00                       999.706909   \n",
       "2016-01-15 01:00:00                      1000.286398   \n",
       "2016-01-15 02:00:00                       999.719565   \n",
       "2016-01-15 03:00:00                       999.814770   \n",
       "2016-01-15 04:00:00                       999.678690   \n",
       "2016-01-15 05:00:00                       999.934134   \n",
       "2016-01-15 06:00:00                       999.832373   \n",
       "2016-01-15 07:00:00                      1000.166602   \n",
       "2016-01-15 08:00:00                      1000.026864   \n",
       "2016-01-15 09:00:00                      1000.332327   \n",
       "\n",
       "                     rougher.state.floatbank10_a_level  ...  \\\n",
       "date                                                    ...   \n",
       "2016-01-15 00:00:00                        -404.066986  ...   \n",
       "2016-01-15 01:00:00                        -400.065196  ...   \n",
       "2016-01-15 02:00:00                        -400.074028  ...   \n",
       "2016-01-15 03:00:00                        -400.200179  ...   \n",
       "2016-01-15 04:00:00                        -399.752729  ...   \n",
       "2016-01-15 05:00:00                        -400.599524  ...   \n",
       "2016-01-15 06:00:00                        -399.353521  ...   \n",
       "2016-01-15 07:00:00                        -400.556601  ...   \n",
       "2016-01-15 08:00:00                        -399.968583  ...   \n",
       "2016-01-15 09:00:00                        -400.149341  ...   \n",
       "\n",
       "                     secondary_cleaner.output.tail_sol  \\\n",
       "date                                                     \n",
       "2016-01-15 00:00:00                           8.764648   \n",
       "2016-01-15 01:00:00                           9.001494   \n",
       "2016-01-15 02:00:00                           8.842896   \n",
       "2016-01-15 03:00:00                           9.122857   \n",
       "2016-01-15 04:00:00                           8.871028   \n",
       "2016-01-15 05:00:00                           9.302669   \n",
       "2016-01-15 06:00:00                           9.103047   \n",
       "2016-01-15 07:00:00                           9.369209   \n",
       "2016-01-15 08:00:00                           9.437044   \n",
       "2016-01-15 09:00:00                           9.582874   \n",
       "\n",
       "                     final.output.concentrate_au  final.output.concentrate_ag  \\\n",
       "date                                                                            \n",
       "2016-01-15 00:00:00                    42.192020                     6.055403   \n",
       "2016-01-15 01:00:00                    42.701629                     6.029369   \n",
       "2016-01-15 02:00:00                    42.657501                     6.055926   \n",
       "2016-01-15 03:00:00                    42.689819                     6.047977   \n",
       "2016-01-15 04:00:00                    42.774141                     6.148599   \n",
       "2016-01-15 05:00:00                    41.633678                     6.482968   \n",
       "2016-01-15 06:00:00                    41.995316                     6.533849   \n",
       "2016-01-15 07:00:00                    42.452727                     6.130823   \n",
       "2016-01-15 08:00:00                    43.404078                     5.834140   \n",
       "2016-01-15 09:00:00                    43.487291                     5.706261   \n",
       "\n",
       "                     final.output.concentrate_pb  \\\n",
       "date                                               \n",
       "2016-01-15 00:00:00                     9.889648   \n",
       "2016-01-15 01:00:00                     9.968944   \n",
       "2016-01-15 02:00:00                    10.213995   \n",
       "2016-01-15 03:00:00                     9.977019   \n",
       "2016-01-15 04:00:00                    10.142511   \n",
       "2016-01-15 05:00:00                    10.049416   \n",
       "2016-01-15 06:00:00                    10.058141   \n",
       "2016-01-15 07:00:00                     9.935481   \n",
       "2016-01-15 08:00:00                    10.071156   \n",
       "2016-01-15 09:00:00                    10.242511   \n",
       "\n",
       "                     final.output.concentrate_sol  final.output.recovery  \\\n",
       "date                                                                       \n",
       "2016-01-15 00:00:00                      5.507324              70.541216   \n",
       "2016-01-15 01:00:00                      5.257781              69.266198   \n",
       "2016-01-15 02:00:00                      5.383759              68.116445   \n",
       "2016-01-15 03:00:00                      4.858634              68.347543   \n",
       "2016-01-15 04:00:00                      4.939416              66.927016   \n",
       "2016-01-15 05:00:00                      5.480257              69.465816   \n",
       "2016-01-15 06:00:00                      4.569100              69.300835   \n",
       "2016-01-15 07:00:00                      4.389813              70.230976   \n",
       "2016-01-15 08:00:00                      4.876389              69.688595   \n",
       "2016-01-15 09:00:00                      5.214161              70.973641   \n",
       "\n",
       "                     final.output.tail_au  final.output.tail_ag  \\\n",
       "date                                                              \n",
       "2016-01-15 00:00:00              2.143149             10.411962   \n",
       "2016-01-15 01:00:00              2.224930             10.462676   \n",
       "2016-01-15 02:00:00              2.257889             10.507046   \n",
       "2016-01-15 03:00:00              2.146849             10.422762   \n",
       "2016-01-15 04:00:00              2.055292             10.360302   \n",
       "2016-01-15 05:00:00              1.918586             10.182708   \n",
       "2016-01-15 06:00:00              2.058913             10.304598   \n",
       "2016-01-15 07:00:00              2.143437             10.443288   \n",
       "2016-01-15 08:00:00              2.209881             10.420140   \n",
       "2016-01-15 09:00:00              2.200997             10.473539   \n",
       "\n",
       "                     final.output.tail_pb  final.output.tail_sol  \n",
       "date                                                              \n",
       "2016-01-15 00:00:00              0.895447              16.904297  \n",
       "2016-01-15 01:00:00              0.927452              16.634514  \n",
       "2016-01-15 02:00:00              0.953716              16.208849  \n",
       "2016-01-15 03:00:00              0.883763              16.532835  \n",
       "2016-01-15 04:00:00              0.792826              16.525686  \n",
       "2016-01-15 05:00:00              0.664118              16.999638  \n",
       "2016-01-15 06:00:00              0.807342              16.723575  \n",
       "2016-01-15 07:00:00              0.949346              16.689959  \n",
       "2016-01-15 08:00:00              1.065453              17.201948  \n",
       "2016-01-15 09:00:00              1.171183              17.717049  \n",
       "\n",
       "[10 rows x 86 columns]"
      ]
     },
     "execution_count": 3,
     "metadata": {},
     "output_type": "execute_result"
    }
   ],
   "source": [
    "data_full.head(10)"
   ]
  },
  {
   "cell_type": "code",
   "execution_count": 4,
   "metadata": {
    "scrolled": false
   },
   "outputs": [
    {
     "data": {
      "text/html": [
       "<div>\n",
       "<style scoped>\n",
       "    .dataframe tbody tr th:only-of-type {\n",
       "        vertical-align: middle;\n",
       "    }\n",
       "\n",
       "    .dataframe tbody tr th {\n",
       "        vertical-align: top;\n",
       "    }\n",
       "\n",
       "    .dataframe thead th {\n",
       "        text-align: right;\n",
       "    }\n",
       "</style>\n",
       "<table border=\"1\" class=\"dataframe\">\n",
       "  <thead>\n",
       "    <tr style=\"text-align: right;\">\n",
       "      <th></th>\n",
       "      <th>rougher.input.feed_au</th>\n",
       "      <th>rougher.input.feed_ag</th>\n",
       "      <th>rougher.input.feed_pb</th>\n",
       "      <th>rougher.input.feed_sol</th>\n",
       "      <th>rougher.input.feed_rate</th>\n",
       "      <th>rougher.input.feed_size</th>\n",
       "      <th>rougher.input.floatbank10_sulfate</th>\n",
       "      <th>rougher.input.floatbank10_xanthate</th>\n",
       "      <th>rougher.state.floatbank10_a_air</th>\n",
       "      <th>rougher.state.floatbank10_a_level</th>\n",
       "      <th>...</th>\n",
       "      <th>secondary_cleaner.output.tail_sol</th>\n",
       "      <th>final.output.concentrate_au</th>\n",
       "      <th>final.output.concentrate_ag</th>\n",
       "      <th>final.output.concentrate_pb</th>\n",
       "      <th>final.output.concentrate_sol</th>\n",
       "      <th>final.output.recovery</th>\n",
       "      <th>final.output.tail_au</th>\n",
       "      <th>final.output.tail_ag</th>\n",
       "      <th>final.output.tail_pb</th>\n",
       "      <th>final.output.tail_sol</th>\n",
       "    </tr>\n",
       "    <tr>\n",
       "      <th>date</th>\n",
       "      <th></th>\n",
       "      <th></th>\n",
       "      <th></th>\n",
       "      <th></th>\n",
       "      <th></th>\n",
       "      <th></th>\n",
       "      <th></th>\n",
       "      <th></th>\n",
       "      <th></th>\n",
       "      <th></th>\n",
       "      <th></th>\n",
       "      <th></th>\n",
       "      <th></th>\n",
       "      <th></th>\n",
       "      <th></th>\n",
       "      <th></th>\n",
       "      <th></th>\n",
       "      <th></th>\n",
       "      <th></th>\n",
       "      <th></th>\n",
       "      <th></th>\n",
       "    </tr>\n",
       "  </thead>\n",
       "  <tbody>\n",
       "    <tr>\n",
       "      <th>2016-01-15 00:00:00</th>\n",
       "      <td>6.486150</td>\n",
       "      <td>6.100378</td>\n",
       "      <td>2.284912</td>\n",
       "      <td>36.808594</td>\n",
       "      <td>523.546326</td>\n",
       "      <td>55.486599</td>\n",
       "      <td>11.986616</td>\n",
       "      <td>6.007990</td>\n",
       "      <td>999.706909</td>\n",
       "      <td>-404.066986</td>\n",
       "      <td>...</td>\n",
       "      <td>8.764648</td>\n",
       "      <td>42.192020</td>\n",
       "      <td>6.055403</td>\n",
       "      <td>9.889648</td>\n",
       "      <td>5.507324</td>\n",
       "      <td>70.541216</td>\n",
       "      <td>2.143149</td>\n",
       "      <td>10.411962</td>\n",
       "      <td>0.895447</td>\n",
       "      <td>16.904297</td>\n",
       "    </tr>\n",
       "    <tr>\n",
       "      <th>2016-01-15 01:00:00</th>\n",
       "      <td>6.478583</td>\n",
       "      <td>6.161113</td>\n",
       "      <td>2.266033</td>\n",
       "      <td>35.753385</td>\n",
       "      <td>525.290581</td>\n",
       "      <td>57.278666</td>\n",
       "      <td>11.971193</td>\n",
       "      <td>6.005766</td>\n",
       "      <td>1000.286398</td>\n",
       "      <td>-400.065196</td>\n",
       "      <td>...</td>\n",
       "      <td>9.001494</td>\n",
       "      <td>42.701629</td>\n",
       "      <td>6.029369</td>\n",
       "      <td>9.968944</td>\n",
       "      <td>5.257781</td>\n",
       "      <td>69.266198</td>\n",
       "      <td>2.224930</td>\n",
       "      <td>10.462676</td>\n",
       "      <td>0.927452</td>\n",
       "      <td>16.634514</td>\n",
       "    </tr>\n",
       "    <tr>\n",
       "      <th>2016-01-15 02:00:00</th>\n",
       "      <td>6.362222</td>\n",
       "      <td>6.116455</td>\n",
       "      <td>2.159622</td>\n",
       "      <td>35.971630</td>\n",
       "      <td>530.026610</td>\n",
       "      <td>57.510649</td>\n",
       "      <td>11.920603</td>\n",
       "      <td>6.197377</td>\n",
       "      <td>999.719565</td>\n",
       "      <td>-400.074028</td>\n",
       "      <td>...</td>\n",
       "      <td>8.842896</td>\n",
       "      <td>42.657501</td>\n",
       "      <td>6.055926</td>\n",
       "      <td>10.213995</td>\n",
       "      <td>5.383759</td>\n",
       "      <td>68.116445</td>\n",
       "      <td>2.257889</td>\n",
       "      <td>10.507046</td>\n",
       "      <td>0.953716</td>\n",
       "      <td>16.208849</td>\n",
       "    </tr>\n",
       "    <tr>\n",
       "      <th>2016-01-15 03:00:00</th>\n",
       "      <td>6.118189</td>\n",
       "      <td>6.043309</td>\n",
       "      <td>2.037807</td>\n",
       "      <td>36.862241</td>\n",
       "      <td>542.590390</td>\n",
       "      <td>57.792734</td>\n",
       "      <td>11.630094</td>\n",
       "      <td>6.203177</td>\n",
       "      <td>999.814770</td>\n",
       "      <td>-400.200179</td>\n",
       "      <td>...</td>\n",
       "      <td>9.122857</td>\n",
       "      <td>42.689819</td>\n",
       "      <td>6.047977</td>\n",
       "      <td>9.977019</td>\n",
       "      <td>4.858634</td>\n",
       "      <td>68.347543</td>\n",
       "      <td>2.146849</td>\n",
       "      <td>10.422762</td>\n",
       "      <td>0.883763</td>\n",
       "      <td>16.532835</td>\n",
       "    </tr>\n",
       "    <tr>\n",
       "      <th>2016-01-15 04:00:00</th>\n",
       "      <td>5.663707</td>\n",
       "      <td>6.060915</td>\n",
       "      <td>1.786875</td>\n",
       "      <td>34.347666</td>\n",
       "      <td>540.531893</td>\n",
       "      <td>56.047189</td>\n",
       "      <td>10.957755</td>\n",
       "      <td>6.198826</td>\n",
       "      <td>999.678690</td>\n",
       "      <td>-399.752729</td>\n",
       "      <td>...</td>\n",
       "      <td>8.871028</td>\n",
       "      <td>42.774141</td>\n",
       "      <td>6.148599</td>\n",
       "      <td>10.142511</td>\n",
       "      <td>4.939416</td>\n",
       "      <td>66.927016</td>\n",
       "      <td>2.055292</td>\n",
       "      <td>10.360302</td>\n",
       "      <td>0.792826</td>\n",
       "      <td>16.525686</td>\n",
       "    </tr>\n",
       "  </tbody>\n",
       "</table>\n",
       "<p>5 rows × 86 columns</p>\n",
       "</div>"
      ],
      "text/plain": [
       "                     rougher.input.feed_au  rougher.input.feed_ag  \\\n",
       "date                                                                \n",
       "2016-01-15 00:00:00               6.486150               6.100378   \n",
       "2016-01-15 01:00:00               6.478583               6.161113   \n",
       "2016-01-15 02:00:00               6.362222               6.116455   \n",
       "2016-01-15 03:00:00               6.118189               6.043309   \n",
       "2016-01-15 04:00:00               5.663707               6.060915   \n",
       "\n",
       "                     rougher.input.feed_pb  rougher.input.feed_sol  \\\n",
       "date                                                                 \n",
       "2016-01-15 00:00:00               2.284912               36.808594   \n",
       "2016-01-15 01:00:00               2.266033               35.753385   \n",
       "2016-01-15 02:00:00               2.159622               35.971630   \n",
       "2016-01-15 03:00:00               2.037807               36.862241   \n",
       "2016-01-15 04:00:00               1.786875               34.347666   \n",
       "\n",
       "                     rougher.input.feed_rate  rougher.input.feed_size  \\\n",
       "date                                                                    \n",
       "2016-01-15 00:00:00               523.546326                55.486599   \n",
       "2016-01-15 01:00:00               525.290581                57.278666   \n",
       "2016-01-15 02:00:00               530.026610                57.510649   \n",
       "2016-01-15 03:00:00               542.590390                57.792734   \n",
       "2016-01-15 04:00:00               540.531893                56.047189   \n",
       "\n",
       "                     rougher.input.floatbank10_sulfate  \\\n",
       "date                                                     \n",
       "2016-01-15 00:00:00                          11.986616   \n",
       "2016-01-15 01:00:00                          11.971193   \n",
       "2016-01-15 02:00:00                          11.920603   \n",
       "2016-01-15 03:00:00                          11.630094   \n",
       "2016-01-15 04:00:00                          10.957755   \n",
       "\n",
       "                     rougher.input.floatbank10_xanthate  \\\n",
       "date                                                      \n",
       "2016-01-15 00:00:00                            6.007990   \n",
       "2016-01-15 01:00:00                            6.005766   \n",
       "2016-01-15 02:00:00                            6.197377   \n",
       "2016-01-15 03:00:00                            6.203177   \n",
       "2016-01-15 04:00:00                            6.198826   \n",
       "\n",
       "                     rougher.state.floatbank10_a_air  \\\n",
       "date                                                   \n",
       "2016-01-15 00:00:00                       999.706909   \n",
       "2016-01-15 01:00:00                      1000.286398   \n",
       "2016-01-15 02:00:00                       999.719565   \n",
       "2016-01-15 03:00:00                       999.814770   \n",
       "2016-01-15 04:00:00                       999.678690   \n",
       "\n",
       "                     rougher.state.floatbank10_a_level  ...  \\\n",
       "date                                                    ...   \n",
       "2016-01-15 00:00:00                        -404.066986  ...   \n",
       "2016-01-15 01:00:00                        -400.065196  ...   \n",
       "2016-01-15 02:00:00                        -400.074028  ...   \n",
       "2016-01-15 03:00:00                        -400.200179  ...   \n",
       "2016-01-15 04:00:00                        -399.752729  ...   \n",
       "\n",
       "                     secondary_cleaner.output.tail_sol  \\\n",
       "date                                                     \n",
       "2016-01-15 00:00:00                           8.764648   \n",
       "2016-01-15 01:00:00                           9.001494   \n",
       "2016-01-15 02:00:00                           8.842896   \n",
       "2016-01-15 03:00:00                           9.122857   \n",
       "2016-01-15 04:00:00                           8.871028   \n",
       "\n",
       "                     final.output.concentrate_au  final.output.concentrate_ag  \\\n",
       "date                                                                            \n",
       "2016-01-15 00:00:00                    42.192020                     6.055403   \n",
       "2016-01-15 01:00:00                    42.701629                     6.029369   \n",
       "2016-01-15 02:00:00                    42.657501                     6.055926   \n",
       "2016-01-15 03:00:00                    42.689819                     6.047977   \n",
       "2016-01-15 04:00:00                    42.774141                     6.148599   \n",
       "\n",
       "                     final.output.concentrate_pb  \\\n",
       "date                                               \n",
       "2016-01-15 00:00:00                     9.889648   \n",
       "2016-01-15 01:00:00                     9.968944   \n",
       "2016-01-15 02:00:00                    10.213995   \n",
       "2016-01-15 03:00:00                     9.977019   \n",
       "2016-01-15 04:00:00                    10.142511   \n",
       "\n",
       "                     final.output.concentrate_sol  final.output.recovery  \\\n",
       "date                                                                       \n",
       "2016-01-15 00:00:00                      5.507324              70.541216   \n",
       "2016-01-15 01:00:00                      5.257781              69.266198   \n",
       "2016-01-15 02:00:00                      5.383759              68.116445   \n",
       "2016-01-15 03:00:00                      4.858634              68.347543   \n",
       "2016-01-15 04:00:00                      4.939416              66.927016   \n",
       "\n",
       "                     final.output.tail_au  final.output.tail_ag  \\\n",
       "date                                                              \n",
       "2016-01-15 00:00:00              2.143149             10.411962   \n",
       "2016-01-15 01:00:00              2.224930             10.462676   \n",
       "2016-01-15 02:00:00              2.257889             10.507046   \n",
       "2016-01-15 03:00:00              2.146849             10.422762   \n",
       "2016-01-15 04:00:00              2.055292             10.360302   \n",
       "\n",
       "                     final.output.tail_pb  final.output.tail_sol  \n",
       "date                                                              \n",
       "2016-01-15 00:00:00              0.895447              16.904297  \n",
       "2016-01-15 01:00:00              0.927452              16.634514  \n",
       "2016-01-15 02:00:00              0.953716              16.208849  \n",
       "2016-01-15 03:00:00              0.883763              16.532835  \n",
       "2016-01-15 04:00:00              0.792826              16.525686  \n",
       "\n",
       "[5 rows x 86 columns]"
      ]
     },
     "execution_count": 4,
     "metadata": {},
     "output_type": "execute_result"
    }
   ],
   "source": [
    "data_full.head()"
   ]
  },
  {
   "cell_type": "code",
   "execution_count": 5,
   "metadata": {},
   "outputs": [
    {
     "name": "stdout",
     "output_type": "stream",
     "text": [
      "<class 'pandas.core.frame.DataFrame'>\n",
      "DatetimeIndex: 19439 entries, 2016-01-15 00:00:00 to 2018-08-18 10:59:59\n",
      "Data columns (total 86 columns):\n",
      " #   Column                                              Non-Null Count  Dtype  \n",
      "---  ------                                              --------------  -----  \n",
      " 0   rougher.input.feed_au                               19439 non-null  float64\n",
      " 1   rougher.input.feed_ag                               19439 non-null  float64\n",
      " 2   rougher.input.feed_pb                               19339 non-null  float64\n",
      " 3   rougher.input.feed_sol                              19340 non-null  float64\n",
      " 4   rougher.input.feed_rate                             19428 non-null  float64\n",
      " 5   rougher.input.feed_size                             19294 non-null  float64\n",
      " 6   rougher.input.floatbank10_sulfate                   19405 non-null  float64\n",
      " 7   rougher.input.floatbank10_xanthate                  19431 non-null  float64\n",
      " 8   rougher.state.floatbank10_a_air                     19438 non-null  float64\n",
      " 9   rougher.state.floatbank10_a_level                   19438 non-null  float64\n",
      " 10  rougher.state.floatbank10_b_air                     19438 non-null  float64\n",
      " 11  rougher.state.floatbank10_b_level                   19438 non-null  float64\n",
      " 12  rougher.state.floatbank10_c_air                     19438 non-null  float64\n",
      " 13  rougher.state.floatbank10_c_level                   19438 non-null  float64\n",
      " 14  rougher.state.floatbank10_d_air                     19439 non-null  float64\n",
      " 15  rougher.state.floatbank10_d_level                   19439 non-null  float64\n",
      " 16  rougher.state.floatbank10_e_air                     19003 non-null  float64\n",
      " 17  rougher.state.floatbank10_e_level                   19439 non-null  float64\n",
      " 18  rougher.state.floatbank10_f_air                     19439 non-null  float64\n",
      " 19  rougher.state.floatbank10_f_level                   19439 non-null  float64\n",
      " 20  rougher.input.floatbank11_sulfate                   19395 non-null  float64\n",
      " 21  rougher.input.floatbank11_xanthate                  18986 non-null  float64\n",
      " 22  rougher.calculation.sulfate_to_au_concentrate       19437 non-null  float64\n",
      " 23  rougher.calculation.floatbank10_sulfate_to_au_feed  19437 non-null  float64\n",
      " 24  rougher.calculation.floatbank11_sulfate_to_au_feed  19437 non-null  float64\n",
      " 25  rougher.calculation.au_pb_ratio                     19439 non-null  float64\n",
      " 26  rougher.output.concentrate_au                       19439 non-null  float64\n",
      " 27  rougher.output.concentrate_ag                       19439 non-null  float64\n",
      " 28  rougher.output.concentrate_pb                       19439 non-null  float64\n",
      " 29  rougher.output.concentrate_sol                      19416 non-null  float64\n",
      " 30  rougher.output.recovery                             19439 non-null  float64\n",
      " 31  rougher.output.tail_au                              19439 non-null  float64\n",
      " 32  rougher.output.tail_ag                              19438 non-null  float64\n",
      " 33  rougher.output.tail_pb                              19439 non-null  float64\n",
      " 34  rougher.output.tail_sol                             19439 non-null  float64\n",
      " 35  primary_cleaner.input.sulfate                       19415 non-null  float64\n",
      " 36  primary_cleaner.input.depressant                    19402 non-null  float64\n",
      " 37  primary_cleaner.input.feed_size                     19439 non-null  float64\n",
      " 38  primary_cleaner.input.xanthate                      19335 non-null  float64\n",
      " 39  primary_cleaner.state.floatbank8_a_air              19435 non-null  float64\n",
      " 40  primary_cleaner.state.floatbank8_a_level            19438 non-null  float64\n",
      " 41  primary_cleaner.state.floatbank8_b_air              19435 non-null  float64\n",
      " 42  primary_cleaner.state.floatbank8_b_level            19438 non-null  float64\n",
      " 43  primary_cleaner.state.floatbank8_c_air              19437 non-null  float64\n",
      " 44  primary_cleaner.state.floatbank8_c_level            19438 non-null  float64\n",
      " 45  primary_cleaner.state.floatbank8_d_air              19436 non-null  float64\n",
      " 46  primary_cleaner.state.floatbank8_d_level            19438 non-null  float64\n",
      " 47  primary_cleaner.output.concentrate_au               19439 non-null  float64\n",
      " 48  primary_cleaner.output.concentrate_ag               19439 non-null  float64\n",
      " 49  primary_cleaner.output.concentrate_pb               19323 non-null  float64\n",
      " 50  primary_cleaner.output.concentrate_sol              19069 non-null  float64\n",
      " 51  primary_cleaner.output.tail_au                      19439 non-null  float64\n",
      " 52  primary_cleaner.output.tail_ag                      19435 non-null  float64\n",
      " 53  primary_cleaner.output.tail_pb                      19418 non-null  float64\n",
      " 54  primary_cleaner.output.tail_sol                     19377 non-null  float64\n",
      " 55  secondary_cleaner.state.floatbank2_a_air            19219 non-null  float64\n",
      " 56  secondary_cleaner.state.floatbank2_a_level          19438 non-null  float64\n",
      " 57  secondary_cleaner.state.floatbank2_b_air            19416 non-null  float64\n",
      " 58  secondary_cleaner.state.floatbank2_b_level          19438 non-null  float64\n",
      " 59  secondary_cleaner.state.floatbank3_a_air            19426 non-null  float64\n",
      " 60  secondary_cleaner.state.floatbank3_a_level          19438 non-null  float64\n",
      " 61  secondary_cleaner.state.floatbank3_b_air            19438 non-null  float64\n",
      " 62  secondary_cleaner.state.floatbank3_b_level          19438 non-null  float64\n",
      " 63  secondary_cleaner.state.floatbank4_a_air            19433 non-null  float64\n",
      " 64  secondary_cleaner.state.floatbank4_a_level          19438 non-null  float64\n",
      " 65  secondary_cleaner.state.floatbank4_b_air            19438 non-null  float64\n",
      " 66  secondary_cleaner.state.floatbank4_b_level          19438 non-null  float64\n",
      " 67  secondary_cleaner.state.floatbank5_a_air            19438 non-null  float64\n",
      " 68  secondary_cleaner.state.floatbank5_a_level          19438 non-null  float64\n",
      " 69  secondary_cleaner.state.floatbank5_b_air            19438 non-null  float64\n",
      " 70  secondary_cleaner.state.floatbank5_b_level          19438 non-null  float64\n",
      " 71  secondary_cleaner.state.floatbank6_a_air            19437 non-null  float64\n",
      " 72  secondary_cleaner.state.floatbank6_a_level          19438 non-null  float64\n",
      " 73  secondary_cleaner.output.tail_au                    19439 non-null  float64\n",
      " 74  secondary_cleaner.output.tail_ag                    19437 non-null  float64\n",
      " 75  secondary_cleaner.output.tail_pb                    19427 non-null  float64\n",
      " 76  secondary_cleaner.output.tail_sol                   17691 non-null  float64\n",
      " 77  final.output.concentrate_au                         19439 non-null  float64\n",
      " 78  final.output.concentrate_ag                         19438 non-null  float64\n",
      " 79  final.output.concentrate_pb                         19438 non-null  float64\n",
      " 80  final.output.concentrate_sol                        19228 non-null  float64\n",
      " 81  final.output.recovery                               19439 non-null  float64\n",
      " 82  final.output.tail_au                                19439 non-null  float64\n",
      " 83  final.output.tail_ag                                19438 non-null  float64\n",
      " 84  final.output.tail_pb                                19338 non-null  float64\n",
      " 85  final.output.tail_sol                               19433 non-null  float64\n",
      "dtypes: float64(86)\n",
      "memory usage: 12.9 MB\n"
     ]
    }
   ],
   "source": [
    "data_full.info()"
   ]
  },
  {
   "cell_type": "code",
   "execution_count": 6,
   "metadata": {},
   "outputs": [
    {
     "data": {
      "text/html": [
       "<div>\n",
       "<style scoped>\n",
       "    .dataframe tbody tr th:only-of-type {\n",
       "        vertical-align: middle;\n",
       "    }\n",
       "\n",
       "    .dataframe tbody tr th {\n",
       "        vertical-align: top;\n",
       "    }\n",
       "\n",
       "    .dataframe thead th {\n",
       "        text-align: right;\n",
       "    }\n",
       "</style>\n",
       "<table border=\"1\" class=\"dataframe\">\n",
       "  <thead>\n",
       "    <tr style=\"text-align: right;\">\n",
       "      <th></th>\n",
       "      <th>rougher.input.feed_au</th>\n",
       "      <th>rougher.input.feed_ag</th>\n",
       "      <th>rougher.input.feed_pb</th>\n",
       "      <th>rougher.input.feed_sol</th>\n",
       "      <th>rougher.input.feed_rate</th>\n",
       "      <th>rougher.input.feed_size</th>\n",
       "      <th>rougher.input.floatbank10_sulfate</th>\n",
       "      <th>rougher.input.floatbank10_xanthate</th>\n",
       "      <th>rougher.state.floatbank10_a_air</th>\n",
       "      <th>rougher.state.floatbank10_a_level</th>\n",
       "      <th>...</th>\n",
       "      <th>secondary_cleaner.output.tail_sol</th>\n",
       "      <th>final.output.concentrate_au</th>\n",
       "      <th>final.output.concentrate_ag</th>\n",
       "      <th>final.output.concentrate_pb</th>\n",
       "      <th>final.output.concentrate_sol</th>\n",
       "      <th>final.output.recovery</th>\n",
       "      <th>final.output.tail_au</th>\n",
       "      <th>final.output.tail_ag</th>\n",
       "      <th>final.output.tail_pb</th>\n",
       "      <th>final.output.tail_sol</th>\n",
       "    </tr>\n",
       "  </thead>\n",
       "  <tbody>\n",
       "    <tr>\n",
       "      <th>count</th>\n",
       "      <td>19439.000000</td>\n",
       "      <td>19439.000000</td>\n",
       "      <td>19339.000000</td>\n",
       "      <td>19340.000000</td>\n",
       "      <td>19428.000000</td>\n",
       "      <td>19294.000000</td>\n",
       "      <td>19405.000000</td>\n",
       "      <td>19431.000000</td>\n",
       "      <td>19438.000000</td>\n",
       "      <td>19438.000000</td>\n",
       "      <td>...</td>\n",
       "      <td>17691.000000</td>\n",
       "      <td>19439.000000</td>\n",
       "      <td>19438.000000</td>\n",
       "      <td>19438.000000</td>\n",
       "      <td>19228.000000</td>\n",
       "      <td>19439.000000</td>\n",
       "      <td>19439.000000</td>\n",
       "      <td>19438.000000</td>\n",
       "      <td>19338.000000</td>\n",
       "      <td>19433.000000</td>\n",
       "    </tr>\n",
       "    <tr>\n",
       "      <th>mean</th>\n",
       "      <td>8.266097</td>\n",
       "      <td>8.794927</td>\n",
       "      <td>3.598085</td>\n",
       "      <td>36.695114</td>\n",
       "      <td>478.320042</td>\n",
       "      <td>58.970310</td>\n",
       "      <td>12.334373</td>\n",
       "      <td>6.021474</td>\n",
       "      <td>1105.315068</td>\n",
       "      <td>-376.610690</td>\n",
       "      <td>...</td>\n",
       "      <td>7.167247</td>\n",
       "      <td>44.076513</td>\n",
       "      <td>5.168470</td>\n",
       "      <td>9.978895</td>\n",
       "      <td>9.501224</td>\n",
       "      <td>67.050208</td>\n",
       "      <td>3.042467</td>\n",
       "      <td>9.688589</td>\n",
       "      <td>2.705795</td>\n",
       "      <td>10.583728</td>\n",
       "    </tr>\n",
       "    <tr>\n",
       "      <th>std</th>\n",
       "      <td>1.955092</td>\n",
       "      <td>1.936847</td>\n",
       "      <td>1.049486</td>\n",
       "      <td>5.145445</td>\n",
       "      <td>105.373758</td>\n",
       "      <td>21.634478</td>\n",
       "      <td>3.427317</td>\n",
       "      <td>1.127263</td>\n",
       "      <td>160.826798</td>\n",
       "      <td>93.909667</td>\n",
       "      <td>...</td>\n",
       "      <td>3.916079</td>\n",
       "      <td>5.129784</td>\n",
       "      <td>1.372348</td>\n",
       "      <td>1.669240</td>\n",
       "      <td>2.787537</td>\n",
       "      <td>10.125840</td>\n",
       "      <td>0.922808</td>\n",
       "      <td>2.328642</td>\n",
       "      <td>0.949077</td>\n",
       "      <td>2.868782</td>\n",
       "    </tr>\n",
       "    <tr>\n",
       "      <th>min</th>\n",
       "      <td>0.010000</td>\n",
       "      <td>0.010000</td>\n",
       "      <td>0.010000</td>\n",
       "      <td>0.010000</td>\n",
       "      <td>0.002986</td>\n",
       "      <td>0.046369</td>\n",
       "      <td>0.001083</td>\n",
       "      <td>0.000568</td>\n",
       "      <td>-0.042069</td>\n",
       "      <td>-657.949759</td>\n",
       "      <td>...</td>\n",
       "      <td>0.000000</td>\n",
       "      <td>0.000000</td>\n",
       "      <td>0.000000</td>\n",
       "      <td>0.000000</td>\n",
       "      <td>0.000000</td>\n",
       "      <td>0.000000</td>\n",
       "      <td>0.000000</td>\n",
       "      <td>0.000000</td>\n",
       "      <td>0.000000</td>\n",
       "      <td>0.000000</td>\n",
       "    </tr>\n",
       "    <tr>\n",
       "      <th>25%</th>\n",
       "      <td>6.854384</td>\n",
       "      <td>7.237967</td>\n",
       "      <td>2.887280</td>\n",
       "      <td>34.207799</td>\n",
       "      <td>416.525453</td>\n",
       "      <td>47.435103</td>\n",
       "      <td>10.000362</td>\n",
       "      <td>5.398678</td>\n",
       "      <td>999.661867</td>\n",
       "      <td>-499.835165</td>\n",
       "      <td>...</td>\n",
       "      <td>3.845475</td>\n",
       "      <td>43.402215</td>\n",
       "      <td>4.251240</td>\n",
       "      <td>9.137262</td>\n",
       "      <td>7.722820</td>\n",
       "      <td>63.299712</td>\n",
       "      <td>2.461138</td>\n",
       "      <td>8.062878</td>\n",
       "      <td>2.040119</td>\n",
       "      <td>8.938947</td>\n",
       "    </tr>\n",
       "    <tr>\n",
       "      <th>50%</th>\n",
       "      <td>8.125839</td>\n",
       "      <td>8.593574</td>\n",
       "      <td>3.534895</td>\n",
       "      <td>37.202650</td>\n",
       "      <td>499.416120</td>\n",
       "      <td>54.610197</td>\n",
       "      <td>12.001174</td>\n",
       "      <td>6.008273</td>\n",
       "      <td>1001.072890</td>\n",
       "      <td>-300.263994</td>\n",
       "      <td>...</td>\n",
       "      <td>7.685827</td>\n",
       "      <td>45.011244</td>\n",
       "      <td>5.066094</td>\n",
       "      <td>10.102433</td>\n",
       "      <td>9.218961</td>\n",
       "      <td>68.172738</td>\n",
       "      <td>2.984909</td>\n",
       "      <td>9.743623</td>\n",
       "      <td>2.748730</td>\n",
       "      <td>10.622456</td>\n",
       "    </tr>\n",
       "    <tr>\n",
       "      <th>75%</th>\n",
       "      <td>9.769917</td>\n",
       "      <td>10.213771</td>\n",
       "      <td>4.244161</td>\n",
       "      <td>40.039133</td>\n",
       "      <td>550.172183</td>\n",
       "      <td>65.023044</td>\n",
       "      <td>14.716595</td>\n",
       "      <td>6.798051</td>\n",
       "      <td>1205.620588</td>\n",
       "      <td>-299.981998</td>\n",
       "      <td>...</td>\n",
       "      <td>10.411296</td>\n",
       "      <td>46.275313</td>\n",
       "      <td>5.895527</td>\n",
       "      <td>11.035769</td>\n",
       "      <td>10.947813</td>\n",
       "      <td>72.686642</td>\n",
       "      <td>3.571351</td>\n",
       "      <td>11.134294</td>\n",
       "      <td>3.333216</td>\n",
       "      <td>12.104271</td>\n",
       "    </tr>\n",
       "    <tr>\n",
       "      <th>max</th>\n",
       "      <td>13.731330</td>\n",
       "      <td>14.596026</td>\n",
       "      <td>7.142594</td>\n",
       "      <td>53.477742</td>\n",
       "      <td>717.508837</td>\n",
       "      <td>484.967466</td>\n",
       "      <td>36.118275</td>\n",
       "      <td>9.703448</td>\n",
       "      <td>1521.980372</td>\n",
       "      <td>-273.776101</td>\n",
       "      <td>...</td>\n",
       "      <td>26.000772</td>\n",
       "      <td>52.756638</td>\n",
       "      <td>16.001945</td>\n",
       "      <td>17.031899</td>\n",
       "      <td>19.615720</td>\n",
       "      <td>100.000000</td>\n",
       "      <td>8.245022</td>\n",
       "      <td>19.552149</td>\n",
       "      <td>5.804178</td>\n",
       "      <td>22.317730</td>\n",
       "    </tr>\n",
       "  </tbody>\n",
       "</table>\n",
       "<p>8 rows × 86 columns</p>\n",
       "</div>"
      ],
      "text/plain": [
       "       rougher.input.feed_au  rougher.input.feed_ag  rougher.input.feed_pb  \\\n",
       "count           19439.000000           19439.000000           19339.000000   \n",
       "mean                8.266097               8.794927               3.598085   \n",
       "std                 1.955092               1.936847               1.049486   \n",
       "min                 0.010000               0.010000               0.010000   \n",
       "25%                 6.854384               7.237967               2.887280   \n",
       "50%                 8.125839               8.593574               3.534895   \n",
       "75%                 9.769917              10.213771               4.244161   \n",
       "max                13.731330              14.596026               7.142594   \n",
       "\n",
       "       rougher.input.feed_sol  rougher.input.feed_rate  \\\n",
       "count            19340.000000             19428.000000   \n",
       "mean                36.695114               478.320042   \n",
       "std                  5.145445               105.373758   \n",
       "min                  0.010000                 0.002986   \n",
       "25%                 34.207799               416.525453   \n",
       "50%                 37.202650               499.416120   \n",
       "75%                 40.039133               550.172183   \n",
       "max                 53.477742               717.508837   \n",
       "\n",
       "       rougher.input.feed_size  rougher.input.floatbank10_sulfate  \\\n",
       "count             19294.000000                       19405.000000   \n",
       "mean                 58.970310                          12.334373   \n",
       "std                  21.634478                           3.427317   \n",
       "min                   0.046369                           0.001083   \n",
       "25%                  47.435103                          10.000362   \n",
       "50%                  54.610197                          12.001174   \n",
       "75%                  65.023044                          14.716595   \n",
       "max                 484.967466                          36.118275   \n",
       "\n",
       "       rougher.input.floatbank10_xanthate  rougher.state.floatbank10_a_air  \\\n",
       "count                        19431.000000                     19438.000000   \n",
       "mean                             6.021474                      1105.315068   \n",
       "std                              1.127263                       160.826798   \n",
       "min                              0.000568                        -0.042069   \n",
       "25%                              5.398678                       999.661867   \n",
       "50%                              6.008273                      1001.072890   \n",
       "75%                              6.798051                      1205.620588   \n",
       "max                              9.703448                      1521.980372   \n",
       "\n",
       "       rougher.state.floatbank10_a_level  ...  \\\n",
       "count                       19438.000000  ...   \n",
       "mean                         -376.610690  ...   \n",
       "std                            93.909667  ...   \n",
       "min                          -657.949759  ...   \n",
       "25%                          -499.835165  ...   \n",
       "50%                          -300.263994  ...   \n",
       "75%                          -299.981998  ...   \n",
       "max                          -273.776101  ...   \n",
       "\n",
       "       secondary_cleaner.output.tail_sol  final.output.concentrate_au  \\\n",
       "count                       17691.000000                 19439.000000   \n",
       "mean                            7.167247                    44.076513   \n",
       "std                             3.916079                     5.129784   \n",
       "min                             0.000000                     0.000000   \n",
       "25%                             3.845475                    43.402215   \n",
       "50%                             7.685827                    45.011244   \n",
       "75%                            10.411296                    46.275313   \n",
       "max                            26.000772                    52.756638   \n",
       "\n",
       "       final.output.concentrate_ag  final.output.concentrate_pb  \\\n",
       "count                 19438.000000                 19438.000000   \n",
       "mean                      5.168470                     9.978895   \n",
       "std                       1.372348                     1.669240   \n",
       "min                       0.000000                     0.000000   \n",
       "25%                       4.251240                     9.137262   \n",
       "50%                       5.066094                    10.102433   \n",
       "75%                       5.895527                    11.035769   \n",
       "max                      16.001945                    17.031899   \n",
       "\n",
       "       final.output.concentrate_sol  final.output.recovery  \\\n",
       "count                  19228.000000           19439.000000   \n",
       "mean                       9.501224              67.050208   \n",
       "std                        2.787537              10.125840   \n",
       "min                        0.000000               0.000000   \n",
       "25%                        7.722820              63.299712   \n",
       "50%                        9.218961              68.172738   \n",
       "75%                       10.947813              72.686642   \n",
       "max                       19.615720             100.000000   \n",
       "\n",
       "       final.output.tail_au  final.output.tail_ag  final.output.tail_pb  \\\n",
       "count          19439.000000          19438.000000          19338.000000   \n",
       "mean               3.042467              9.688589              2.705795   \n",
       "std                0.922808              2.328642              0.949077   \n",
       "min                0.000000              0.000000              0.000000   \n",
       "25%                2.461138              8.062878              2.040119   \n",
       "50%                2.984909              9.743623              2.748730   \n",
       "75%                3.571351             11.134294              3.333216   \n",
       "max                8.245022             19.552149              5.804178   \n",
       "\n",
       "       final.output.tail_sol  \n",
       "count           19433.000000  \n",
       "mean               10.583728  \n",
       "std                 2.868782  \n",
       "min                 0.000000  \n",
       "25%                 8.938947  \n",
       "50%                10.622456  \n",
       "75%                12.104271  \n",
       "max                22.317730  \n",
       "\n",
       "[8 rows x 86 columns]"
      ]
     },
     "execution_count": 6,
     "metadata": {},
     "output_type": "execute_result"
    }
   ],
   "source": [
    "data_full.describe()"
   ]
  },
  {
   "cell_type": "markdown",
   "metadata": {},
   "source": [
    "В данных очень большое количество признаков. Возможно, часть из них не существенна для обучения модели."
   ]
  },
  {
   "cell_type": "markdown",
   "metadata": {},
   "source": [
    "#### Расчёт эффективности обогащения  rougher.output.recovery"
   ]
  },
  {
   "cell_type": "markdown",
   "metadata": {},
   "source": [
    "Проверим, что верно рассчитана эффективность обогащения для 'rougher.output.recovery':"
   ]
  },
  {
   "cell_type": "code",
   "execution_count": 7,
   "metadata": {},
   "outputs": [],
   "source": [
    "def calculate_recovery(C, F, T):\n",
    "    return (C * (F-T))/(F*(C-T)) * 100"
   ]
  },
  {
   "cell_type": "code",
   "execution_count": 8,
   "metadata": {},
   "outputs": [],
   "source": [
    "au_fraction_F = data_train['rougher.input.feed_au']\n",
    "au_fraction_C = data_train['rougher.output.concentrate_au']\n",
    "au_fraction_T = data_train['rougher.output.tail_au']\n",
    "recovery = calculate_recovery(au_fraction_C, au_fraction_F, au_fraction_T)"
   ]
  },
  {
   "cell_type": "code",
   "execution_count": 9,
   "metadata": {},
   "outputs": [
    {
     "data": {
      "text/plain": [
       "date\n",
       "2016-01-15 00:00:00    87.107763\n",
       "2016-01-15 01:00:00    86.843261\n",
       "2016-01-15 02:00:00    86.842308\n",
       "2016-01-15 03:00:00    87.226430\n",
       "2016-01-15 04:00:00    86.688794\n",
       "2016-01-15 05:00:00    88.156912\n",
       "2016-01-15 06:00:00    88.168065\n",
       "2016-01-15 07:00:00    87.668336\n",
       "2016-01-15 08:00:00    87.035862\n",
       "2016-01-15 09:00:00    88.280699\n",
       "dtype: float64"
      ]
     },
     "execution_count": 9,
     "metadata": {},
     "output_type": "execute_result"
    }
   ],
   "source": [
    "recovery.head(10)"
   ]
  },
  {
   "cell_type": "markdown",
   "metadata": {},
   "source": [
    "Вычислим MAE:"
   ]
  },
  {
   "cell_type": "code",
   "execution_count": 10,
   "metadata": {},
   "outputs": [
    {
     "data": {
      "text/plain": [
       "9.83758577644259e-15"
      ]
     },
     "execution_count": 10,
     "metadata": {},
     "output_type": "execute_result"
    }
   ],
   "source": [
    "rougher_mae = mean_absolute_error(recovery, data_train['rougher.output.recovery'])\n",
    "rougher_mae"
   ]
  },
  {
   "cell_type": "markdown",
   "metadata": {},
   "source": [
    "Значение MAE крайне мало и, вероятно, вызвано разницей в точности вычислений. Фактически, значения, вычисленные вручную и представленные в датасете, равны. Значение recovery в датасете вычислено верно."
   ]
  },
  {
   "cell_type": "markdown",
   "metadata": {},
   "source": [
    "#### Признаки в тестовой выборке"
   ]
  },
  {
   "cell_type": "markdown",
   "metadata": {},
   "source": [
    "Изучим признаки, недоступные в тестовой выборке:"
   ]
  },
  {
   "cell_type": "code",
   "execution_count": 11,
   "metadata": {},
   "outputs": [
    {
     "name": "stdout",
     "output_type": "stream",
     "text": [
      "<class 'pandas.core.frame.DataFrame'>\n",
      "DatetimeIndex: 4860 entries, 2017-12-09 14:59:59 to 2018-08-18 10:59:59\n",
      "Data columns (total 52 columns):\n",
      " #   Column                                      Non-Null Count  Dtype  \n",
      "---  ------                                      --------------  -----  \n",
      " 0   rougher.input.feed_au                       4860 non-null   float64\n",
      " 1   rougher.input.feed_ag                       4860 non-null   float64\n",
      " 2   rougher.input.feed_pb                       4832 non-null   float64\n",
      " 3   rougher.input.feed_sol                      4838 non-null   float64\n",
      " 4   rougher.input.feed_rate                     4856 non-null   float64\n",
      " 5   rougher.input.feed_size                     4816 non-null   float64\n",
      " 6   rougher.input.floatbank10_sulfate           4857 non-null   float64\n",
      " 7   rougher.input.floatbank10_xanthate          4859 non-null   float64\n",
      " 8   rougher.state.floatbank10_a_air             4859 non-null   float64\n",
      " 9   rougher.state.floatbank10_a_level           4859 non-null   float64\n",
      " 10  rougher.state.floatbank10_b_air             4859 non-null   float64\n",
      " 11  rougher.state.floatbank10_b_level           4859 non-null   float64\n",
      " 12  rougher.state.floatbank10_c_air             4859 non-null   float64\n",
      " 13  rougher.state.floatbank10_c_level           4859 non-null   float64\n",
      " 14  rougher.state.floatbank10_d_air             4860 non-null   float64\n",
      " 15  rougher.state.floatbank10_d_level           4860 non-null   float64\n",
      " 16  rougher.state.floatbank10_e_air             4853 non-null   float64\n",
      " 17  rougher.state.floatbank10_e_level           4860 non-null   float64\n",
      " 18  rougher.state.floatbank10_f_air             4860 non-null   float64\n",
      " 19  rougher.state.floatbank10_f_level           4860 non-null   float64\n",
      " 20  rougher.input.floatbank11_sulfate           4852 non-null   float64\n",
      " 21  rougher.input.floatbank11_xanthate          4814 non-null   float64\n",
      " 22  primary_cleaner.input.sulfate               4859 non-null   float64\n",
      " 23  primary_cleaner.input.depressant            4851 non-null   float64\n",
      " 24  primary_cleaner.input.feed_size             4860 non-null   float64\n",
      " 25  primary_cleaner.input.xanthate              4817 non-null   float64\n",
      " 26  primary_cleaner.state.floatbank8_a_air      4859 non-null   float64\n",
      " 27  primary_cleaner.state.floatbank8_a_level    4859 non-null   float64\n",
      " 28  primary_cleaner.state.floatbank8_b_air      4859 non-null   float64\n",
      " 29  primary_cleaner.state.floatbank8_b_level    4859 non-null   float64\n",
      " 30  primary_cleaner.state.floatbank8_c_air      4858 non-null   float64\n",
      " 31  primary_cleaner.state.floatbank8_c_level    4859 non-null   float64\n",
      " 32  primary_cleaner.state.floatbank8_d_air      4858 non-null   float64\n",
      " 33  primary_cleaner.state.floatbank8_d_level    4859 non-null   float64\n",
      " 34  secondary_cleaner.state.floatbank2_a_air    4734 non-null   float64\n",
      " 35  secondary_cleaner.state.floatbank2_a_level  4859 non-null   float64\n",
      " 36  secondary_cleaner.state.floatbank2_b_air    4859 non-null   float64\n",
      " 37  secondary_cleaner.state.floatbank2_b_level  4859 non-null   float64\n",
      " 38  secondary_cleaner.state.floatbank3_a_air    4859 non-null   float64\n",
      " 39  secondary_cleaner.state.floatbank3_a_level  4859 non-null   float64\n",
      " 40  secondary_cleaner.state.floatbank3_b_air    4859 non-null   float64\n",
      " 41  secondary_cleaner.state.floatbank3_b_level  4859 non-null   float64\n",
      " 42  secondary_cleaner.state.floatbank4_a_air    4859 non-null   float64\n",
      " 43  secondary_cleaner.state.floatbank4_a_level  4859 non-null   float64\n",
      " 44  secondary_cleaner.state.floatbank4_b_air    4859 non-null   float64\n",
      " 45  secondary_cleaner.state.floatbank4_b_level  4859 non-null   float64\n",
      " 46  secondary_cleaner.state.floatbank5_a_air    4859 non-null   float64\n",
      " 47  secondary_cleaner.state.floatbank5_a_level  4859 non-null   float64\n",
      " 48  secondary_cleaner.state.floatbank5_b_air    4859 non-null   float64\n",
      " 49  secondary_cleaner.state.floatbank5_b_level  4859 non-null   float64\n",
      " 50  secondary_cleaner.state.floatbank6_a_air    4859 non-null   float64\n",
      " 51  secondary_cleaner.state.floatbank6_a_level  4859 non-null   float64\n",
      "dtypes: float64(52)\n",
      "memory usage: 2.0 MB\n"
     ]
    }
   ],
   "source": [
    "data_test.info()"
   ]
  },
  {
   "cell_type": "code",
   "execution_count": 12,
   "metadata": {},
   "outputs": [],
   "source": [
    "offline_metrics = data_train.drop(data_test.columns, axis=1).columns"
   ]
  },
  {
   "cell_type": "code",
   "execution_count": 13,
   "metadata": {},
   "outputs": [
    {
     "data": {
      "text/plain": [
       "Index(['rougher.calculation.sulfate_to_au_concentrate',\n",
       "       'rougher.calculation.floatbank10_sulfate_to_au_feed',\n",
       "       'rougher.calculation.floatbank11_sulfate_to_au_feed',\n",
       "       'rougher.calculation.au_pb_ratio', 'rougher.output.concentrate_au',\n",
       "       'rougher.output.concentrate_ag', 'rougher.output.concentrate_pb',\n",
       "       'rougher.output.concentrate_sol', 'rougher.output.recovery',\n",
       "       'rougher.output.tail_au', 'rougher.output.tail_ag',\n",
       "       'rougher.output.tail_pb', 'rougher.output.tail_sol',\n",
       "       'primary_cleaner.output.concentrate_au',\n",
       "       'primary_cleaner.output.concentrate_ag',\n",
       "       'primary_cleaner.output.concentrate_pb',\n",
       "       'primary_cleaner.output.concentrate_sol',\n",
       "       'primary_cleaner.output.tail_au', 'primary_cleaner.output.tail_ag',\n",
       "       'primary_cleaner.output.tail_pb', 'primary_cleaner.output.tail_sol',\n",
       "       'secondary_cleaner.output.tail_au', 'secondary_cleaner.output.tail_ag',\n",
       "       'secondary_cleaner.output.tail_pb', 'secondary_cleaner.output.tail_sol',\n",
       "       'final.output.concentrate_au', 'final.output.concentrate_ag',\n",
       "       'final.output.concentrate_pb', 'final.output.concentrate_sol',\n",
       "       'final.output.recovery', 'final.output.tail_au', 'final.output.tail_ag',\n",
       "       'final.output.tail_pb', 'final.output.tail_sol'],\n",
       "      dtype='object')"
      ]
     },
     "execution_count": 13,
     "metadata": {},
     "output_type": "execute_result"
    }
   ],
   "source": [
    "offline_metrics"
   ]
  },
  {
   "cell_type": "markdown",
   "metadata": {},
   "source": [
    "В тестовой выборке отсутствуют параметры выходного продукта. Только информация о поступающих на вход сырье, реагентах и о состоянии этапа. Вероятно, отсутствующие метрики - это офлайн метрики, которые вычисляются уже после прохождения сырьём технологического процесса - например, по формуле эффективности обогащения, вычисленной нами ранее."
   ]
  },
  {
   "cell_type": "markdown",
   "metadata": {},
   "source": [
    "#### Аномальные значения"
   ]
  },
  {
   "cell_type": "markdown",
   "metadata": {},
   "source": [
    "Сначала визуализируем аномалии для ключевых метрик: input, output для au на всех этапах. Построим boxplot для концентрации au на всех этапах:"
   ]
  },
  {
   "cell_type": "code",
   "execution_count": 14,
   "metadata": {},
   "outputs": [],
   "source": [
    "columns_names = ['rougher.input.feed_au', 'rougher.output.concentrate_au', 'primary_cleaner.output.concentrate_au', 'final.output.concentrate_au']"
   ]
  },
  {
   "cell_type": "code",
   "execution_count": 15,
   "metadata": {},
   "outputs": [
    {
     "data": {
      "image/png": "[encoded data removed]",
      "text/plain": [
       "<Figure size 1800x1000 with 1 Axes>"
      ]
     },
     "metadata": {},
     "output_type": "display_data"
    }
   ],
   "source": [
    "data_full[columns_names].plot(kind='box', figsize=(18, 10), grid=True)\n",
    "plt.title('Key metrics boxplot')\n",
    "plt.xlabel('Metrics names')\n",
    "plt.ylabel('Concentrate value')\n",
    "plt.show;"
   ]
  },
  {
   "cell_type": "markdown",
   "metadata": {},
   "source": [
    "Воспользуемся формулой +-1.5IQR, чтобы убрать лишнее в этих столбцах:"
   ]
  },
  {
   "cell_type": "code",
   "execution_count": 16,
   "metadata": {},
   "outputs": [
    {
     "data": {
      "text/html": [
       "<div>\n",
       "<style scoped>\n",
       "    .dataframe tbody tr th:only-of-type {\n",
       "        vertical-align: middle;\n",
       "    }\n",
       "\n",
       "    .dataframe tbody tr th {\n",
       "        vertical-align: top;\n",
       "    }\n",
       "\n",
       "    .dataframe thead th {\n",
       "        text-align: right;\n",
       "    }\n",
       "</style>\n",
       "<table border=\"1\" class=\"dataframe\">\n",
       "  <thead>\n",
       "    <tr style=\"text-align: right;\">\n",
       "      <th></th>\n",
       "      <th>rougher.input.feed_au</th>\n",
       "      <th>rougher.input.feed_ag</th>\n",
       "      <th>rougher.input.feed_pb</th>\n",
       "      <th>rougher.input.feed_sol</th>\n",
       "      <th>rougher.input.feed_rate</th>\n",
       "      <th>rougher.input.feed_size</th>\n",
       "      <th>rougher.input.floatbank10_sulfate</th>\n",
       "      <th>rougher.input.floatbank10_xanthate</th>\n",
       "      <th>rougher.state.floatbank10_a_air</th>\n",
       "      <th>rougher.state.floatbank10_a_level</th>\n",
       "      <th>...</th>\n",
       "      <th>secondary_cleaner.output.tail_sol</th>\n",
       "      <th>final.output.concentrate_au</th>\n",
       "      <th>final.output.concentrate_ag</th>\n",
       "      <th>final.output.concentrate_pb</th>\n",
       "      <th>final.output.concentrate_sol</th>\n",
       "      <th>final.output.recovery</th>\n",
       "      <th>final.output.tail_au</th>\n",
       "      <th>final.output.tail_ag</th>\n",
       "      <th>final.output.tail_pb</th>\n",
       "      <th>final.output.tail_sol</th>\n",
       "    </tr>\n",
       "    <tr>\n",
       "      <th>date</th>\n",
       "      <th></th>\n",
       "      <th></th>\n",
       "      <th></th>\n",
       "      <th></th>\n",
       "      <th></th>\n",
       "      <th></th>\n",
       "      <th></th>\n",
       "      <th></th>\n",
       "      <th></th>\n",
       "      <th></th>\n",
       "      <th></th>\n",
       "      <th></th>\n",
       "      <th></th>\n",
       "      <th></th>\n",
       "      <th></th>\n",
       "      <th></th>\n",
       "      <th></th>\n",
       "      <th></th>\n",
       "      <th></th>\n",
       "      <th></th>\n",
       "      <th></th>\n",
       "    </tr>\n",
       "  </thead>\n",
       "  <tbody>\n",
       "    <tr>\n",
       "      <th>2016-01-15 00:00:00</th>\n",
       "      <td>6.486150</td>\n",
       "      <td>6.100378</td>\n",
       "      <td>2.284912</td>\n",
       "      <td>36.808594</td>\n",
       "      <td>523.546326</td>\n",
       "      <td>55.486599</td>\n",
       "      <td>11.986616</td>\n",
       "      <td>6.007990</td>\n",
       "      <td>999.706909</td>\n",
       "      <td>-404.066986</td>\n",
       "      <td>...</td>\n",
       "      <td>8.764648</td>\n",
       "      <td>42.192020</td>\n",
       "      <td>6.055403</td>\n",
       "      <td>9.889648</td>\n",
       "      <td>5.507324</td>\n",
       "      <td>70.541216</td>\n",
       "      <td>2.143149</td>\n",
       "      <td>10.411962</td>\n",
       "      <td>0.895447</td>\n",
       "      <td>16.904297</td>\n",
       "    </tr>\n",
       "    <tr>\n",
       "      <th>2016-01-15 01:00:00</th>\n",
       "      <td>6.478583</td>\n",
       "      <td>6.161113</td>\n",
       "      <td>2.266033</td>\n",
       "      <td>35.753385</td>\n",
       "      <td>525.290581</td>\n",
       "      <td>57.278666</td>\n",
       "      <td>11.971193</td>\n",
       "      <td>6.005766</td>\n",
       "      <td>1000.286398</td>\n",
       "      <td>-400.065196</td>\n",
       "      <td>...</td>\n",
       "      <td>9.001494</td>\n",
       "      <td>42.701629</td>\n",
       "      <td>6.029369</td>\n",
       "      <td>9.968944</td>\n",
       "      <td>5.257781</td>\n",
       "      <td>69.266198</td>\n",
       "      <td>2.224930</td>\n",
       "      <td>10.462676</td>\n",
       "      <td>0.927452</td>\n",
       "      <td>16.634514</td>\n",
       "    </tr>\n",
       "    <tr>\n",
       "      <th>2016-01-15 02:00:00</th>\n",
       "      <td>6.362222</td>\n",
       "      <td>6.116455</td>\n",
       "      <td>2.159622</td>\n",
       "      <td>35.971630</td>\n",
       "      <td>530.026610</td>\n",
       "      <td>57.510649</td>\n",
       "      <td>11.920603</td>\n",
       "      <td>6.197377</td>\n",
       "      <td>999.719565</td>\n",
       "      <td>-400.074028</td>\n",
       "      <td>...</td>\n",
       "      <td>8.842896</td>\n",
       "      <td>42.657501</td>\n",
       "      <td>6.055926</td>\n",
       "      <td>10.213995</td>\n",
       "      <td>5.383759</td>\n",
       "      <td>68.116445</td>\n",
       "      <td>2.257889</td>\n",
       "      <td>10.507046</td>\n",
       "      <td>0.953716</td>\n",
       "      <td>16.208849</td>\n",
       "    </tr>\n",
       "    <tr>\n",
       "      <th>2016-01-15 03:00:00</th>\n",
       "      <td>6.118189</td>\n",
       "      <td>6.043309</td>\n",
       "      <td>2.037807</td>\n",
       "      <td>36.862241</td>\n",
       "      <td>542.590390</td>\n",
       "      <td>57.792734</td>\n",
       "      <td>11.630094</td>\n",
       "      <td>6.203177</td>\n",
       "      <td>999.814770</td>\n",
       "      <td>-400.200179</td>\n",
       "      <td>...</td>\n",
       "      <td>9.122857</td>\n",
       "      <td>42.689819</td>\n",
       "      <td>6.047977</td>\n",
       "      <td>9.977019</td>\n",
       "      <td>4.858634</td>\n",
       "      <td>68.347543</td>\n",
       "      <td>2.146849</td>\n",
       "      <td>10.422762</td>\n",
       "      <td>0.883763</td>\n",
       "      <td>16.532835</td>\n",
       "    </tr>\n",
       "    <tr>\n",
       "      <th>2016-01-15 04:00:00</th>\n",
       "      <td>5.663707</td>\n",
       "      <td>6.060915</td>\n",
       "      <td>1.786875</td>\n",
       "      <td>34.347666</td>\n",
       "      <td>540.531893</td>\n",
       "      <td>56.047189</td>\n",
       "      <td>10.957755</td>\n",
       "      <td>6.198826</td>\n",
       "      <td>999.678690</td>\n",
       "      <td>-399.752729</td>\n",
       "      <td>...</td>\n",
       "      <td>8.871028</td>\n",
       "      <td>42.774141</td>\n",
       "      <td>6.148599</td>\n",
       "      <td>10.142511</td>\n",
       "      <td>4.939416</td>\n",
       "      <td>66.927016</td>\n",
       "      <td>2.055292</td>\n",
       "      <td>10.360302</td>\n",
       "      <td>0.792826</td>\n",
       "      <td>16.525686</td>\n",
       "    </tr>\n",
       "    <tr>\n",
       "      <th>...</th>\n",
       "      <td>...</td>\n",
       "      <td>...</td>\n",
       "      <td>...</td>\n",
       "      <td>...</td>\n",
       "      <td>...</td>\n",
       "      <td>...</td>\n",
       "      <td>...</td>\n",
       "      <td>...</td>\n",
       "      <td>...</td>\n",
       "      <td>...</td>\n",
       "      <td>...</td>\n",
       "      <td>...</td>\n",
       "      <td>...</td>\n",
       "      <td>...</td>\n",
       "      <td>...</td>\n",
       "      <td>...</td>\n",
       "      <td>...</td>\n",
       "      <td>...</td>\n",
       "      <td>...</td>\n",
       "      <td>...</td>\n",
       "      <td>...</td>\n",
       "    </tr>\n",
       "    <tr>\n",
       "      <th>2018-08-18 05:59:59</th>\n",
       "      <td>6.960496</td>\n",
       "      <td>6.197993</td>\n",
       "      <td>2.830029</td>\n",
       "      <td>42.603908</td>\n",
       "      <td>585.415252</td>\n",
       "      <td>67.939369</td>\n",
       "      <td>15.116148</td>\n",
       "      <td>7.398853</td>\n",
       "      <td>1000.729771</td>\n",
       "      <td>-399.828325</td>\n",
       "      <td>...</td>\n",
       "      <td>11.686244</td>\n",
       "      <td>44.826966</td>\n",
       "      <td>5.090817</td>\n",
       "      <td>9.390164</td>\n",
       "      <td>6.360047</td>\n",
       "      <td>68.950721</td>\n",
       "      <td>2.420310</td>\n",
       "      <td>10.548763</td>\n",
       "      <td>1.601668</td>\n",
       "      <td>19.992840</td>\n",
       "    </tr>\n",
       "    <tr>\n",
       "      <th>2018-08-18 07:59:59</th>\n",
       "      <td>6.741324</td>\n",
       "      <td>6.158617</td>\n",
       "      <td>2.647185</td>\n",
       "      <td>40.176307</td>\n",
       "      <td>571.622005</td>\n",
       "      <td>62.815291</td>\n",
       "      <td>14.892720</td>\n",
       "      <td>6.903204</td>\n",
       "      <td>1000.479783</td>\n",
       "      <td>-399.574748</td>\n",
       "      <td>...</td>\n",
       "      <td>9.841210</td>\n",
       "      <td>43.440341</td>\n",
       "      <td>5.410126</td>\n",
       "      <td>10.868937</td>\n",
       "      <td>6.258693</td>\n",
       "      <td>67.839536</td>\n",
       "      <td>2.423143</td>\n",
       "      <td>10.382891</td>\n",
       "      <td>1.239738</td>\n",
       "      <td>18.544924</td>\n",
       "    </tr>\n",
       "    <tr>\n",
       "      <th>2018-08-18 08:59:59</th>\n",
       "      <td>6.627458</td>\n",
       "      <td>6.015149</td>\n",
       "      <td>2.466127</td>\n",
       "      <td>39.841423</td>\n",
       "      <td>563.733146</td>\n",
       "      <td>61.287347</td>\n",
       "      <td>13.723692</td>\n",
       "      <td>6.700148</td>\n",
       "      <td>1000.014718</td>\n",
       "      <td>-400.320877</td>\n",
       "      <td>...</td>\n",
       "      <td>10.119344</td>\n",
       "      <td>44.284117</td>\n",
       "      <td>5.437716</td>\n",
       "      <td>9.781181</td>\n",
       "      <td>6.057627</td>\n",
       "      <td>70.847012</td>\n",
       "      <td>2.161256</td>\n",
       "      <td>10.324415</td>\n",
       "      <td>0.961210</td>\n",
       "      <td>18.185262</td>\n",
       "    </tr>\n",
       "    <tr>\n",
       "      <th>2018-08-18 09:59:59</th>\n",
       "      <td>6.702243</td>\n",
       "      <td>6.097592</td>\n",
       "      <td>2.278955</td>\n",
       "      <td>37.728375</td>\n",
       "      <td>549.812490</td>\n",
       "      <td>59.637037</td>\n",
       "      <td>13.746510</td>\n",
       "      <td>6.706417</td>\n",
       "      <td>999.635748</td>\n",
       "      <td>-399.484884</td>\n",
       "      <td>...</td>\n",
       "      <td>9.876374</td>\n",
       "      <td>43.339714</td>\n",
       "      <td>5.664983</td>\n",
       "      <td>10.168953</td>\n",
       "      <td>5.484318</td>\n",
       "      <td>72.659046</td>\n",
       "      <td>2.064422</td>\n",
       "      <td>10.475957</td>\n",
       "      <td>1.050592</td>\n",
       "      <td>17.525656</td>\n",
       "    </tr>\n",
       "    <tr>\n",
       "      <th>2018-08-18 10:59:59</th>\n",
       "      <td>6.633002</td>\n",
       "      <td>5.908793</td>\n",
       "      <td>2.440899</td>\n",
       "      <td>36.958540</td>\n",
       "      <td>573.076049</td>\n",
       "      <td>58.509262</td>\n",
       "      <td>13.707775</td>\n",
       "      <td>6.820245</td>\n",
       "      <td>1000.589156</td>\n",
       "      <td>-398.879586</td>\n",
       "      <td>...</td>\n",
       "      <td>9.813732</td>\n",
       "      <td>43.235220</td>\n",
       "      <td>5.687063</td>\n",
       "      <td>9.980404</td>\n",
       "      <td>5.282514</td>\n",
       "      <td>70.279619</td>\n",
       "      <td>2.209593</td>\n",
       "      <td>10.487013</td>\n",
       "      <td>1.159805</td>\n",
       "      <td>17.483979</td>\n",
       "    </tr>\n",
       "  </tbody>\n",
       "</table>\n",
       "<p>16958 rows × 86 columns</p>\n",
       "</div>"
      ],
      "text/plain": [
       "                     rougher.input.feed_au  rougher.input.feed_ag  \\\n",
       "date                                                                \n",
       "2016-01-15 00:00:00               6.486150               6.100378   \n",
       "2016-01-15 01:00:00               6.478583               6.161113   \n",
       "2016-01-15 02:00:00               6.362222               6.116455   \n",
       "2016-01-15 03:00:00               6.118189               6.043309   \n",
       "2016-01-15 04:00:00               5.663707               6.060915   \n",
       "...                                    ...                    ...   \n",
       "2018-08-18 05:59:59               6.960496               6.197993   \n",
       "2018-08-18 07:59:59               6.741324               6.158617   \n",
       "2018-08-18 08:59:59               6.627458               6.015149   \n",
       "2018-08-18 09:59:59               6.702243               6.097592   \n",
       "2018-08-18 10:59:59               6.633002               5.908793   \n",
       "\n",
       "                     rougher.input.feed_pb  rougher.input.feed_sol  \\\n",
       "date                                                                 \n",
       "2016-01-15 00:00:00               2.284912               36.808594   \n",
       "2016-01-15 01:00:00               2.266033               35.753385   \n",
       "2016-01-15 02:00:00               2.159622               35.971630   \n",
       "2016-01-15 03:00:00               2.037807               36.862241   \n",
       "2016-01-15 04:00:00               1.786875               34.347666   \n",
       "...                                    ...                     ...   \n",
       "2018-08-18 05:59:59               2.830029               42.603908   \n",
       "2018-08-18 07:59:59               2.647185               40.176307   \n",
       "2018-08-18 08:59:59               2.466127               39.841423   \n",
       "2018-08-18 09:59:59               2.278955               37.728375   \n",
       "2018-08-18 10:59:59               2.440899               36.958540   \n",
       "\n",
       "                     rougher.input.feed_rate  rougher.input.feed_size  \\\n",
       "date                                                                    \n",
       "2016-01-15 00:00:00               523.546326                55.486599   \n",
       "2016-01-15 01:00:00               525.290581                57.278666   \n",
       "2016-01-15 02:00:00               530.026610                57.510649   \n",
       "2016-01-15 03:00:00               542.590390                57.792734   \n",
       "2016-01-15 04:00:00               540.531893                56.047189   \n",
       "...                                      ...                      ...   \n",
       "2018-08-18 05:59:59               585.415252                67.939369   \n",
       "2018-08-18 07:59:59               571.622005                62.815291   \n",
       "2018-08-18 08:59:59               563.733146                61.287347   \n",
       "2018-08-18 09:59:59               549.812490                59.637037   \n",
       "2018-08-18 10:59:59               573.076049                58.509262   \n",
       "\n",
       "                     rougher.input.floatbank10_sulfate  \\\n",
       "date                                                     \n",
       "2016-01-15 00:00:00                          11.986616   \n",
       "2016-01-15 01:00:00                          11.971193   \n",
       "2016-01-15 02:00:00                          11.920603   \n",
       "2016-01-15 03:00:00                          11.630094   \n",
       "2016-01-15 04:00:00                          10.957755   \n",
       "...                                                ...   \n",
       "2018-08-18 05:59:59                          15.116148   \n",
       "2018-08-18 07:59:59                          14.892720   \n",
       "2018-08-18 08:59:59                          13.723692   \n",
       "2018-08-18 09:59:59                          13.746510   \n",
       "2018-08-18 10:59:59                          13.707775   \n",
       "\n",
       "                     rougher.input.floatbank10_xanthate  \\\n",
       "date                                                      \n",
       "2016-01-15 00:00:00                            6.007990   \n",
       "2016-01-15 01:00:00                            6.005766   \n",
       "2016-01-15 02:00:00                            6.197377   \n",
       "2016-01-15 03:00:00                            6.203177   \n",
       "2016-01-15 04:00:00                            6.198826   \n",
       "...                                                 ...   \n",
       "2018-08-18 05:59:59                            7.398853   \n",
       "2018-08-18 07:59:59                            6.903204   \n",
       "2018-08-18 08:59:59                            6.700148   \n",
       "2018-08-18 09:59:59                            6.706417   \n",
       "2018-08-18 10:59:59                            6.820245   \n",
       "\n",
       "                     rougher.state.floatbank10_a_air  \\\n",
       "date                                                   \n",
       "2016-01-15 00:00:00                       999.706909   \n",
       "2016-01-15 01:00:00                      1000.286398   \n",
       "2016-01-15 02:00:00                       999.719565   \n",
       "2016-01-15 03:00:00                       999.814770   \n",
       "2016-01-15 04:00:00                       999.678690   \n",
       "...                                              ...   \n",
       "2018-08-18 05:59:59                      1000.729771   \n",
       "2018-08-18 07:59:59                      1000.479783   \n",
       "2018-08-18 08:59:59                      1000.014718   \n",
       "2018-08-18 09:59:59                       999.635748   \n",
       "2018-08-18 10:59:59                      1000.589156   \n",
       "\n",
       "                     rougher.state.floatbank10_a_level  ...  \\\n",
       "date                                                    ...   \n",
       "2016-01-15 00:00:00                        -404.066986  ...   \n",
       "2016-01-15 01:00:00                        -400.065196  ...   \n",
       "2016-01-15 02:00:00                        -400.074028  ...   \n",
       "2016-01-15 03:00:00                        -400.200179  ...   \n",
       "2016-01-15 04:00:00                        -399.752729  ...   \n",
       "...                                                ...  ...   \n",
       "2018-08-18 05:59:59                        -399.828325  ...   \n",
       "2018-08-18 07:59:59                        -399.574748  ...   \n",
       "2018-08-18 08:59:59                        -400.320877  ...   \n",
       "2018-08-18 09:59:59                        -399.484884  ...   \n",
       "2018-08-18 10:59:59                        -398.879586  ...   \n",
       "\n",
       "                     secondary_cleaner.output.tail_sol  \\\n",
       "date                                                     \n",
       "2016-01-15 00:00:00                           8.764648   \n",
       "2016-01-15 01:00:00                           9.001494   \n",
       "2016-01-15 02:00:00                           8.842896   \n",
       "2016-01-15 03:00:00                           9.122857   \n",
       "2016-01-15 04:00:00                           8.871028   \n",
       "...                                                ...   \n",
       "2018-08-18 05:59:59                          11.686244   \n",
       "2018-08-18 07:59:59                           9.841210   \n",
       "2018-08-18 08:59:59                          10.119344   \n",
       "2018-08-18 09:59:59                           9.876374   \n",
       "2018-08-18 10:59:59                           9.813732   \n",
       "\n",
       "                     final.output.concentrate_au  final.output.concentrate_ag  \\\n",
       "date                                                                            \n",
       "2016-01-15 00:00:00                    42.192020                     6.055403   \n",
       "2016-01-15 01:00:00                    42.701629                     6.029369   \n",
       "2016-01-15 02:00:00                    42.657501                     6.055926   \n",
       "2016-01-15 03:00:00                    42.689819                     6.047977   \n",
       "2016-01-15 04:00:00                    42.774141                     6.148599   \n",
       "...                                          ...                          ...   \n",
       "2018-08-18 05:59:59                    44.826966                     5.090817   \n",
       "2018-08-18 07:59:59                    43.440341                     5.410126   \n",
       "2018-08-18 08:59:59                    44.284117                     5.437716   \n",
       "2018-08-18 09:59:59                    43.339714                     5.664983   \n",
       "2018-08-18 10:59:59                    43.235220                     5.687063   \n",
       "\n",
       "                     final.output.concentrate_pb  \\\n",
       "date                                               \n",
       "2016-01-15 00:00:00                     9.889648   \n",
       "2016-01-15 01:00:00                     9.968944   \n",
       "2016-01-15 02:00:00                    10.213995   \n",
       "2016-01-15 03:00:00                     9.977019   \n",
       "2016-01-15 04:00:00                    10.142511   \n",
       "...                                          ...   \n",
       "2018-08-18 05:59:59                     9.390164   \n",
       "2018-08-18 07:59:59                    10.868937   \n",
       "2018-08-18 08:59:59                     9.781181   \n",
       "2018-08-18 09:59:59                    10.168953   \n",
       "2018-08-18 10:59:59                     9.980404   \n",
       "\n",
       "                     final.output.concentrate_sol  final.output.recovery  \\\n",
       "date                                                                       \n",
       "2016-01-15 00:00:00                      5.507324              70.541216   \n",
       "2016-01-15 01:00:00                      5.257781              69.266198   \n",
       "2016-01-15 02:00:00                      5.383759              68.116445   \n",
       "2016-01-15 03:00:00                      4.858634              68.347543   \n",
       "2016-01-15 04:00:00                      4.939416              66.927016   \n",
       "...                                           ...                    ...   \n",
       "2018-08-18 05:59:59                      6.360047              68.950721   \n",
       "2018-08-18 07:59:59                      6.258693              67.839536   \n",
       "2018-08-18 08:59:59                      6.057627              70.847012   \n",
       "2018-08-18 09:59:59                      5.484318              72.659046   \n",
       "2018-08-18 10:59:59                      5.282514              70.279619   \n",
       "\n",
       "                     final.output.tail_au  final.output.tail_ag  \\\n",
       "date                                                              \n",
       "2016-01-15 00:00:00              2.143149             10.411962   \n",
       "2016-01-15 01:00:00              2.224930             10.462676   \n",
       "2016-01-15 02:00:00              2.257889             10.507046   \n",
       "2016-01-15 03:00:00              2.146849             10.422762   \n",
       "2016-01-15 04:00:00              2.055292             10.360302   \n",
       "...                                   ...                   ...   \n",
       "2018-08-18 05:59:59              2.420310             10.548763   \n",
       "2018-08-18 07:59:59              2.423143             10.382891   \n",
       "2018-08-18 08:59:59              2.161256             10.324415   \n",
       "2018-08-18 09:59:59              2.064422             10.475957   \n",
       "2018-08-18 10:59:59              2.209593             10.487013   \n",
       "\n",
       "                     final.output.tail_pb  final.output.tail_sol  \n",
       "date                                                              \n",
       "2016-01-15 00:00:00              0.895447              16.904297  \n",
       "2016-01-15 01:00:00              0.927452              16.634514  \n",
       "2016-01-15 02:00:00              0.953716              16.208849  \n",
       "2016-01-15 03:00:00              0.883763              16.532835  \n",
       "2016-01-15 04:00:00              0.792826              16.525686  \n",
       "...                                   ...                    ...  \n",
       "2018-08-18 05:59:59              1.601668              19.992840  \n",
       "2018-08-18 07:59:59              1.239738              18.544924  \n",
       "2018-08-18 08:59:59              0.961210              18.185262  \n",
       "2018-08-18 09:59:59              1.050592              17.525656  \n",
       "2018-08-18 10:59:59              1.159805              17.483979  \n",
       "\n",
       "[16958 rows x 86 columns]"
      ]
     },
     "execution_count": 16,
     "metadata": {},
     "output_type": "execute_result"
    }
   ],
   "source": [
    "for column in columns_names:\n",
    "    iq_range = data_full[column].quantile(0.75) - data_full[column].quantile(0.25)\n",
    "    lower = data_full[column].quantile(0.25)-iq_range*1.5\n",
    "    data_full = data_full.drop(data_full[data_full[column] < lower].index)\n",
    "data_full"
   ]
  },
  {
   "cell_type": "code",
   "execution_count": 17,
   "metadata": {},
   "outputs": [
    {
     "data": {
      "text/html": [
       "<div>\n",
       "<style scoped>\n",
       "    .dataframe tbody tr th:only-of-type {\n",
       "        vertical-align: middle;\n",
       "    }\n",
       "\n",
       "    .dataframe tbody tr th {\n",
       "        vertical-align: top;\n",
       "    }\n",
       "\n",
       "    .dataframe thead th {\n",
       "        text-align: right;\n",
       "    }\n",
       "</style>\n",
       "<table border=\"1\" class=\"dataframe\">\n",
       "  <thead>\n",
       "    <tr style=\"text-align: right;\">\n",
       "      <th></th>\n",
       "      <th>rougher.input.feed_au</th>\n",
       "      <th>rougher.input.feed_ag</th>\n",
       "      <th>rougher.input.feed_pb</th>\n",
       "      <th>rougher.input.feed_sol</th>\n",
       "      <th>rougher.input.feed_rate</th>\n",
       "      <th>rougher.input.feed_size</th>\n",
       "      <th>rougher.input.floatbank10_sulfate</th>\n",
       "      <th>rougher.input.floatbank10_xanthate</th>\n",
       "      <th>rougher.state.floatbank10_a_air</th>\n",
       "      <th>rougher.state.floatbank10_a_level</th>\n",
       "      <th>...</th>\n",
       "      <th>secondary_cleaner.output.tail_sol</th>\n",
       "      <th>final.output.concentrate_au</th>\n",
       "      <th>final.output.concentrate_ag</th>\n",
       "      <th>final.output.concentrate_pb</th>\n",
       "      <th>final.output.concentrate_sol</th>\n",
       "      <th>final.output.recovery</th>\n",
       "      <th>final.output.tail_au</th>\n",
       "      <th>final.output.tail_ag</th>\n",
       "      <th>final.output.tail_pb</th>\n",
       "      <th>final.output.tail_sol</th>\n",
       "    </tr>\n",
       "  </thead>\n",
       "  <tbody>\n",
       "    <tr>\n",
       "      <th>count</th>\n",
       "      <td>16958.000000</td>\n",
       "      <td>16958.000000</td>\n",
       "      <td>16936.000000</td>\n",
       "      <td>16904.000000</td>\n",
       "      <td>16951.000000</td>\n",
       "      <td>16849.000000</td>\n",
       "      <td>16942.000000</td>\n",
       "      <td>16956.000000</td>\n",
       "      <td>16957.000000</td>\n",
       "      <td>16957.000000</td>\n",
       "      <td>...</td>\n",
       "      <td>15523.000000</td>\n",
       "      <td>16958.000000</td>\n",
       "      <td>16958.000000</td>\n",
       "      <td>16958.000000</td>\n",
       "      <td>16789.000000</td>\n",
       "      <td>16958.000000</td>\n",
       "      <td>16958.000000</td>\n",
       "      <td>16958.000000</td>\n",
       "      <td>16939.000000</td>\n",
       "      <td>16955.000000</td>\n",
       "    </tr>\n",
       "    <tr>\n",
       "      <th>mean</th>\n",
       "      <td>8.321505</td>\n",
       "      <td>8.810119</td>\n",
       "      <td>3.605356</td>\n",
       "      <td>36.995163</td>\n",
       "      <td>482.319432</td>\n",
       "      <td>58.916587</td>\n",
       "      <td>12.426893</td>\n",
       "      <td>6.056072</td>\n",
       "      <td>1104.287837</td>\n",
       "      <td>-377.023182</td>\n",
       "      <td>...</td>\n",
       "      <td>7.279021</td>\n",
       "      <td>45.035575</td>\n",
       "      <td>5.117899</td>\n",
       "      <td>10.119868</td>\n",
       "      <td>9.676174</td>\n",
       "      <td>67.633261</td>\n",
       "      <td>3.040605</td>\n",
       "      <td>9.721405</td>\n",
       "      <td>2.727563</td>\n",
       "      <td>10.677557</td>\n",
       "    </tr>\n",
       "    <tr>\n",
       "      <th>std</th>\n",
       "      <td>1.859458</td>\n",
       "      <td>1.871644</td>\n",
       "      <td>1.020747</td>\n",
       "      <td>4.725688</td>\n",
       "      <td>100.412740</td>\n",
       "      <td>21.267968</td>\n",
       "      <td>3.290655</td>\n",
       "      <td>1.068719</td>\n",
       "      <td>160.306221</td>\n",
       "      <td>94.133531</td>\n",
       "      <td>...</td>\n",
       "      <td>3.885488</td>\n",
       "      <td>2.004766</td>\n",
       "      <td>1.120338</td>\n",
       "      <td>1.347871</td>\n",
       "      <td>2.661075</td>\n",
       "      <td>7.968567</td>\n",
       "      <td>0.864508</td>\n",
       "      <td>2.228507</td>\n",
       "      <td>0.923319</td>\n",
       "      <td>2.716979</td>\n",
       "    </tr>\n",
       "    <tr>\n",
       "      <th>min</th>\n",
       "      <td>2.493857</td>\n",
       "      <td>2.926127</td>\n",
       "      <td>0.088552</td>\n",
       "      <td>1.716285</td>\n",
       "      <td>0.023788</td>\n",
       "      <td>0.046369</td>\n",
       "      <td>0.001164</td>\n",
       "      <td>0.001428</td>\n",
       "      <td>-0.042069</td>\n",
       "      <td>-657.949759</td>\n",
       "      <td>...</td>\n",
       "      <td>0.000000</td>\n",
       "      <td>39.322119</td>\n",
       "      <td>1.966046</td>\n",
       "      <td>4.100019</td>\n",
       "      <td>0.360562</td>\n",
       "      <td>5.128833</td>\n",
       "      <td>0.000000</td>\n",
       "      <td>0.000000</td>\n",
       "      <td>0.000000</td>\n",
       "      <td>0.000000</td>\n",
       "    </tr>\n",
       "    <tr>\n",
       "      <th>25%</th>\n",
       "      <td>6.899689</td>\n",
       "      <td>7.248657</td>\n",
       "      <td>2.918557</td>\n",
       "      <td>34.440148</td>\n",
       "      <td>425.963191</td>\n",
       "      <td>47.542859</td>\n",
       "      <td>10.003734</td>\n",
       "      <td>5.401173</td>\n",
       "      <td>999.647955</td>\n",
       "      <td>-499.845631</td>\n",
       "      <td>...</td>\n",
       "      <td>4.010010</td>\n",
       "      <td>43.789003</td>\n",
       "      <td>4.273570</td>\n",
       "      <td>9.211248</td>\n",
       "      <td>7.858171</td>\n",
       "      <td>63.708593</td>\n",
       "      <td>2.479096</td>\n",
       "      <td>8.084498</td>\n",
       "      <td>2.074283</td>\n",
       "      <td>9.042366</td>\n",
       "    </tr>\n",
       "    <tr>\n",
       "      <th>50%</th>\n",
       "      <td>8.175411</td>\n",
       "      <td>8.628847</td>\n",
       "      <td>3.542724</td>\n",
       "      <td>37.328991</td>\n",
       "      <td>499.780270</td>\n",
       "      <td>54.657268</td>\n",
       "      <td>12.002386</td>\n",
       "      <td>6.072603</td>\n",
       "      <td>1000.996890</td>\n",
       "      <td>-300.264898</td>\n",
       "      <td>...</td>\n",
       "      <td>7.850189</td>\n",
       "      <td>45.165639</td>\n",
       "      <td>5.037968</td>\n",
       "      <td>10.143831</td>\n",
       "      <td>9.319928</td>\n",
       "      <td>68.279183</td>\n",
       "      <td>2.981702</td>\n",
       "      <td>9.772296</td>\n",
       "      <td>2.760399</td>\n",
       "      <td>10.684955</td>\n",
       "    </tr>\n",
       "    <tr>\n",
       "      <th>75%</th>\n",
       "      <td>9.774447</td>\n",
       "      <td>10.203357</td>\n",
       "      <td>4.237588</td>\n",
       "      <td>40.165258</td>\n",
       "      <td>550.241539</td>\n",
       "      <td>64.745775</td>\n",
       "      <td>14.931782</td>\n",
       "      <td>6.798114</td>\n",
       "      <td>1204.915946</td>\n",
       "      <td>-299.982285</td>\n",
       "      <td>...</td>\n",
       "      <td>10.480144</td>\n",
       "      <td>46.343705</td>\n",
       "      <td>5.816087</td>\n",
       "      <td>11.061134</td>\n",
       "      <td>11.060427</td>\n",
       "      <td>72.621717</td>\n",
       "      <td>3.546208</td>\n",
       "      <td>11.133676</td>\n",
       "      <td>3.326950</td>\n",
       "      <td>12.125257</td>\n",
       "    </tr>\n",
       "    <tr>\n",
       "      <th>max</th>\n",
       "      <td>13.524339</td>\n",
       "      <td>14.533698</td>\n",
       "      <td>7.142594</td>\n",
       "      <td>53.477742</td>\n",
       "      <td>717.508837</td>\n",
       "      <td>484.967466</td>\n",
       "      <td>36.118275</td>\n",
       "      <td>9.308612</td>\n",
       "      <td>1521.980372</td>\n",
       "      <td>-273.776101</td>\n",
       "      <td>...</td>\n",
       "      <td>17.976171</td>\n",
       "      <td>51.571885</td>\n",
       "      <td>10.607071</td>\n",
       "      <td>15.160977</td>\n",
       "      <td>19.615720</td>\n",
       "      <td>100.000000</td>\n",
       "      <td>8.245022</td>\n",
       "      <td>18.726803</td>\n",
       "      <td>5.804178</td>\n",
       "      <td>22.272019</td>\n",
       "    </tr>\n",
       "  </tbody>\n",
       "</table>\n",
       "<p>8 rows × 86 columns</p>\n",
       "</div>"
      ],
      "text/plain": [
       "       rougher.input.feed_au  rougher.input.feed_ag  rougher.input.feed_pb  \\\n",
       "count           16958.000000           16958.000000           16936.000000   \n",
       "mean                8.321505               8.810119               3.605356   \n",
       "std                 1.859458               1.871644               1.020747   \n",
       "min                 2.493857               2.926127               0.088552   \n",
       "25%                 6.899689               7.248657               2.918557   \n",
       "50%                 8.175411               8.628847               3.542724   \n",
       "75%                 9.774447              10.203357               4.237588   \n",
       "max                13.524339              14.533698               7.142594   \n",
       "\n",
       "       rougher.input.feed_sol  rougher.input.feed_rate  \\\n",
       "count            16904.000000             16951.000000   \n",
       "mean                36.995163               482.319432   \n",
       "std                  4.725688               100.412740   \n",
       "min                  1.716285                 0.023788   \n",
       "25%                 34.440148               425.963191   \n",
       "50%                 37.328991               499.780270   \n",
       "75%                 40.165258               550.241539   \n",
       "max                 53.477742               717.508837   \n",
       "\n",
       "       rougher.input.feed_size  rougher.input.floatbank10_sulfate  \\\n",
       "count             16849.000000                       16942.000000   \n",
       "mean                 58.916587                          12.426893   \n",
       "std                  21.267968                           3.290655   \n",
       "min                   0.046369                           0.001164   \n",
       "25%                  47.542859                          10.003734   \n",
       "50%                  54.657268                          12.002386   \n",
       "75%                  64.745775                          14.931782   \n",
       "max                 484.967466                          36.118275   \n",
       "\n",
       "       rougher.input.floatbank10_xanthate  rougher.state.floatbank10_a_air  \\\n",
       "count                        16956.000000                     16957.000000   \n",
       "mean                             6.056072                      1104.287837   \n",
       "std                              1.068719                       160.306221   \n",
       "min                              0.001428                        -0.042069   \n",
       "25%                              5.401173                       999.647955   \n",
       "50%                              6.072603                      1000.996890   \n",
       "75%                              6.798114                      1204.915946   \n",
       "max                              9.308612                      1521.980372   \n",
       "\n",
       "       rougher.state.floatbank10_a_level  ...  \\\n",
       "count                       16957.000000  ...   \n",
       "mean                         -377.023182  ...   \n",
       "std                            94.133531  ...   \n",
       "min                          -657.949759  ...   \n",
       "25%                          -499.845631  ...   \n",
       "50%                          -300.264898  ...   \n",
       "75%                          -299.982285  ...   \n",
       "max                          -273.776101  ...   \n",
       "\n",
       "       secondary_cleaner.output.tail_sol  final.output.concentrate_au  \\\n",
       "count                       15523.000000                 16958.000000   \n",
       "mean                            7.279021                    45.035575   \n",
       "std                             3.885488                     2.004766   \n",
       "min                             0.000000                    39.322119   \n",
       "25%                             4.010010                    43.789003   \n",
       "50%                             7.850189                    45.165639   \n",
       "75%                            10.480144                    46.343705   \n",
       "max                            17.976171                    51.571885   \n",
       "\n",
       "       final.output.concentrate_ag  final.output.concentrate_pb  \\\n",
       "count                 16958.000000                 16958.000000   \n",
       "mean                      5.117899                    10.119868   \n",
       "std                       1.120338                     1.347871   \n",
       "min                       1.966046                     4.100019   \n",
       "25%                       4.273570                     9.211248   \n",
       "50%                       5.037968                    10.143831   \n",
       "75%                       5.816087                    11.061134   \n",
       "max                      10.607071                    15.160977   \n",
       "\n",
       "       final.output.concentrate_sol  final.output.recovery  \\\n",
       "count                  16789.000000           16958.000000   \n",
       "mean                       9.676174              67.633261   \n",
       "std                        2.661075               7.968567   \n",
       "min                        0.360562               5.128833   \n",
       "25%                        7.858171              63.708593   \n",
       "50%                        9.319928              68.279183   \n",
       "75%                       11.060427              72.621717   \n",
       "max                       19.615720             100.000000   \n",
       "\n",
       "       final.output.tail_au  final.output.tail_ag  final.output.tail_pb  \\\n",
       "count          16958.000000          16958.000000          16939.000000   \n",
       "mean               3.040605              9.721405              2.727563   \n",
       "std                0.864508              2.228507              0.923319   \n",
       "min                0.000000              0.000000              0.000000   \n",
       "25%                2.479096              8.084498              2.074283   \n",
       "50%                2.981702              9.772296              2.760399   \n",
       "75%                3.546208             11.133676              3.326950   \n",
       "max                8.245022             18.726803              5.804178   \n",
       "\n",
       "       final.output.tail_sol  \n",
       "count           16955.000000  \n",
       "mean               10.677557  \n",
       "std                 2.716979  \n",
       "min                 0.000000  \n",
       "25%                 9.042366  \n",
       "50%                10.684955  \n",
       "75%                12.125257  \n",
       "max                22.272019  \n",
       "\n",
       "[8 rows x 86 columns]"
      ]
     },
     "execution_count": 17,
     "metadata": {},
     "output_type": "execute_result"
    }
   ],
   "source": [
    "data_full.describe()"
   ]
  },
  {
   "cell_type": "markdown",
   "metadata": {},
   "source": [
    "Данные выглядят чище."
   ]
  },
  {
   "cell_type": "markdown",
   "metadata": {},
   "source": [
    "#### Пропущенные значения"
   ]
  },
  {
   "cell_type": "markdown",
   "metadata": {},
   "source": [
    "Проанализируем пропущенные значения в data_full:"
   ]
  },
  {
   "cell_type": "code",
   "execution_count": 18,
   "metadata": {},
   "outputs": [
    {
     "data": {
      "text/plain": [
       "secondary_cleaner.output.tail_sol           1435\n",
       "rougher.state.floatbank10_e_air              339\n",
       "rougher.input.floatbank11_xanthate           331\n",
       "primary_cleaner.output.concentrate_sol       205\n",
       "secondary_cleaner.state.floatbank2_a_air     183\n",
       "final.output.concentrate_sol                 169\n",
       "rougher.input.feed_size                      109\n",
       "primary_cleaner.input.xanthate                69\n",
       "rougher.input.feed_sol                        54\n",
       "primary_cleaner.output.concentrate_pb         41\n",
       "dtype: int64"
      ]
     },
     "execution_count": 18,
     "metadata": {},
     "output_type": "execute_result"
    }
   ],
   "source": [
    "na_sum = data_full.isna().sum().sort_values(ascending=False)\n",
    "na_sum.head(10)"
   ]
  },
  {
   "cell_type": "code",
   "execution_count": 19,
   "metadata": {},
   "outputs": [
    {
     "data": {
      "text/plain": [
       "0.08462082792782168"
      ]
     },
     "execution_count": 19,
     "metadata": {},
     "output_type": "execute_result"
    }
   ],
   "source": [
    "na_sum.max() / data_full.shape[0]"
   ]
  },
  {
   "cell_type": "markdown",
   "metadata": {},
   "source": [
    "Наибольшее количество пропущенных значений в колонке 'secondary_cleaner.output.tail_sol' - около 8%. Это не слишком большое значение, хотя и существенное. Попробуем просто заполнить пропуски."
   ]
  },
  {
   "cell_type": "markdown",
   "metadata": {},
   "source": [
    "Посмотрим на разницу значений для каждой строки по сравнению с предыдущей в отношении к самому значению в строке, и посчитаем среднее значений:"
   ]
  },
  {
   "cell_type": "code",
   "execution_count": 20,
   "metadata": {},
   "outputs": [
    {
     "data": {
      "text/plain": [
       "0.03816084962399606"
      ]
     },
     "execution_count": 20,
     "metadata": {},
     "output_type": "execute_result"
    }
   ],
   "source": [
    "data_full_sample = data_full.dropna()\n",
    "data_full_diff = (data_full_sample.diff()/data_full_sample).dropna()\n",
    "data_full_diff.mean().max()"
   ]
  },
  {
   "cell_type": "markdown",
   "metadata": {},
   "source": [
    "Вычисления показывают, что в среднем значения в строках отличаются от предыдущих 4%. Исходя из этого, лучшим методом для заполнения строк можно выбрать 'ffill', так как он будет заполнять пропуски на основе данных из предыдущих колонок:"
   ]
  },
  {
   "cell_type": "code",
   "execution_count": 21,
   "metadata": {},
   "outputs": [],
   "source": [
    "data_full = data_full.fillna(method='ffill')"
   ]
  },
  {
   "cell_type": "code",
   "execution_count": 22,
   "metadata": {},
   "outputs": [
    {
     "data": {
      "text/plain": [
       "0"
      ]
     },
     "execution_count": 22,
     "metadata": {},
     "output_type": "execute_result"
    }
   ],
   "source": [
    "data_full.isna().sum().sum()"
   ]
  },
  {
   "cell_type": "markdown",
   "metadata": {},
   "source": [
    "#### Обновление train и test"
   ]
  },
  {
   "cell_type": "markdown",
   "metadata": {},
   "source": [
    "Подтянем данные из data_full в test и train с заменой, также удалив из них отброшенные данные:"
   ]
  },
  {
   "cell_type": "code",
   "execution_count": 23,
   "metadata": {},
   "outputs": [
    {
     "data": {
      "text/plain": [
       "(12566, 86)"
      ]
     },
     "execution_count": 23,
     "metadata": {},
     "output_type": "execute_result"
    }
   ],
   "source": [
    "intersection_keys = data_train.index.intersection(data_full.index)\n",
    "data_train = data_full.loc[intersection_keys, :]\n",
    "data_train.shape"
   ]
  },
  {
   "cell_type": "code",
   "execution_count": 24,
   "metadata": {},
   "outputs": [
    {
     "data": {
      "text/plain": [
       "(4392, 86)"
      ]
     },
     "execution_count": 24,
     "metadata": {},
     "output_type": "execute_result"
    }
   ],
   "source": [
    "intersection_keys = data_test.index.intersection(data_full.index)\n",
    "data_test = data_full.loc[intersection_keys, :]\n",
    "data_test.shape"
   ]
  },
  {
   "cell_type": "code",
   "execution_count": 25,
   "metadata": {},
   "outputs": [
    {
     "data": {
      "text/plain": [
       "True"
      ]
     },
     "execution_count": 25,
     "metadata": {},
     "output_type": "execute_result"
    }
   ],
   "source": [
    "data_test.shape[0] + data_train.shape[0] == data_full.shape[0]"
   ]
  },
  {
   "cell_type": "markdown",
   "metadata": {},
   "source": [
    "#### Вывод"
   ]
  },
  {
   "cell_type": "markdown",
   "metadata": {},
   "source": [
    "Изучены данные. За индекс в датасетах приняты данные колонки date. Пропуски в данных заполнены методом 'ffill'"
   ]
  },
  {
   "cell_type": "markdown",
   "metadata": {},
   "source": [
    "## Анализ данных"
   ]
  },
  {
   "cell_type": "markdown",
   "metadata": {},
   "source": [
    "#### Средняя концентрация металлов на различных этапах"
   ]
  },
  {
   "cell_type": "markdown",
   "metadata": {},
   "source": [
    "Проанализируем, как меняется концентрация металлов (au, ag, pb, sol) на различных этапах (rougher.input, rougher.output, primary_cleaner.output, final_output). Проверку сделаем на выборке data_full:"
   ]
  },
  {
   "cell_type": "code",
   "execution_count": 26,
   "metadata": {},
   "outputs": [],
   "source": [
    "def create_phase_column(columns_list, columns_names, phase_name):\n",
    "    means_list = []\n",
    "    for col_name, col_data in columns_list.iteritems():\n",
    "        means_list.append(col_data.mean())\n",
    "    return pd.Series(data=means_list, index = columns_names, name=phase_name)"
   ]
  },
  {
   "cell_type": "code",
   "execution_count": 27,
   "metadata": {},
   "outputs": [],
   "source": [
    "def get_columns_names(column_name, metals):\n",
    "    columns = []\n",
    "    for metal in metals:\n",
    "        columns.append(column_name+metal)\n",
    "    return columns"
   ]
  },
  {
   "cell_type": "code",
   "execution_count": 28,
   "metadata": {},
   "outputs": [],
   "source": [
    "metals_names=['au', 'ag', 'pb']\n",
    "rougher_input_cols = create_phase_column(data_full[get_columns_names('rougher.input.feed_', metals_names)], metals_names, 'rougher_input')\n",
    "rougher_output_cols = create_phase_column(data_full[get_columns_names('rougher.output.concentrate_', metals_names)], metals_names, 'rougher_output')\n",
    "clean_output_cols = create_phase_column(data_full[get_columns_names('primary_cleaner.output.concentrate_', metals_names)], metals_names, 'cleaner_output')\n",
    "final_output_cols = create_phase_column(data_full[get_columns_names('final.output.concentrate_', metals_names)], metals_names, 'final_output')"
   ]
  },
  {
   "cell_type": "code",
   "execution_count": 29,
   "metadata": {},
   "outputs": [
    {
     "data": {
      "image/png": "[encoded data removed]",
      "text/plain": [
       "<Figure size 1200x600 with 1 Axes>"
      ]
     },
     "metadata": {},
     "output_type": "display_data"
    }
   ],
   "source": [
    "concentrate_data = pd.DataFrame(data=[rougher_input_cols, rougher_output_cols, clean_output_cols, final_output_cols])\n",
    "plt.plot(concentrate_data, label='Concentrate through phases')\n",
    "plt.title('Metals concentration through phases')\n",
    "plt.legend(metals_names, loc='upper center')\n",
    "plt.xlabel('Phases')\n",
    "plt.ylabel('Concentration')\n",
    "plt.grid(True)\n",
    "fig = plt.gcf()\n",
    "fig.set_size_inches(12, 6)\n",
    "plt.show()"
   ]
  },
  {
   "cell_type": "markdown",
   "metadata": {},
   "source": [
    "Концентрация au линейно увеличивается, pb - слегка увеличивается, ag - слегка увеличивается после флотации, а в дальнейшем - уменьшается."
   ]
  },
  {
   "cell_type": "markdown",
   "metadata": {},
   "source": [
    "Проанализируем распределение концентрации металлов на различных этапах на train датасете:"
   ]
  },
  {
   "cell_type": "code",
   "execution_count": 30,
   "metadata": {},
   "outputs": [],
   "source": [
    "def get_metal_concentration(metal_name, data):\n",
    "    columns_names = ['rougher.input.feed_', 'rougher.output.concentrate_', 'primary_cleaner.output.concentrate_', 'final.output.concentrate_']\n",
    "    columns_names = [column_name+metal_name for column_name in columns_names]\n",
    "    for column in columns_names:\n",
    "        plt.hist(data[column], bins=100, alpha = 0.5)\n",
    "    plt.title(metal_name + ' concentration')\n",
    "    plt.grid(True)\n",
    "    plt.xlabel('Concentration')\n",
    "    plt.ylabel('Сount')\n",
    "    plt.legend(columns_names)"
   ]
  },
  {
   "cell_type": "code",
   "execution_count": 31,
   "metadata": {},
   "outputs": [
    {
     "data": {
      "image/png": "[encoded data removed]",
      "text/plain": [
       "<Figure size 1800x600 with 1 Axes>"
      ]
     },
     "metadata": {},
     "output_type": "display_data"
    }
   ],
   "source": [
    "get_metal_concentration('au', data_train)\n",
    "fig = plt.gcf()\n",
    "fig.set_size_inches(18, 6)"
   ]
  },
  {
   "cell_type": "code",
   "execution_count": 32,
   "metadata": {
    "scrolled": false
   },
   "outputs": [
    {
     "data": {
      "image/png": "[encoded data removed]",
      "text/plain": [
       "<Figure size 1800x600 with 1 Axes>"
      ]
     },
     "metadata": {},
     "output_type": "display_data"
    }
   ],
   "source": [
    "get_metal_concentration('ag', data_train)\n",
    "fig = plt.gcf()\n",
    "fig.set_size_inches(18, 6)"
   ]
  },
  {
   "cell_type": "code",
   "execution_count": 33,
   "metadata": {},
   "outputs": [
    {
     "data": {
      "image/png": "[encoded data removed]",
      "text/plain": [
       "<Figure size 1800x600 with 1 Axes>"
      ]
     },
     "metadata": {},
     "output_type": "display_data"
    }
   ],
   "source": [
    "get_metal_concentration('pb', data_train)\n",
    "fig = plt.gcf()\n",
    "fig.set_size_inches(18, 6)"
   ]
  },
  {
   "cell_type": "markdown",
   "metadata": {},
   "source": [
    "Также построим график средней концентрации:"
   ]
  },
  {
   "cell_type": "code",
   "execution_count": 34,
   "metadata": {},
   "outputs": [
    {
     "data": {
      "image/png": "[encoded data removed]",
      "text/plain": [
       "<Figure size 1200x600 with 1 Axes>"
      ]
     },
     "metadata": {},
     "output_type": "display_data"
    }
   ],
   "source": [
    "concentrate_data = pd.DataFrame(data=[rougher_input_cols, rougher_output_cols, clean_output_cols, final_output_cols])\n",
    "plt.plot(concentrate_data, label='Concentrate through phases')\n",
    "plt.title('Metals concentration through phases')\n",
    "plt.legend(metals_names, loc='upper center')\n",
    "plt.xlabel('Phases')\n",
    "plt.ylabel('Concentration')\n",
    "plt.grid(True)\n",
    "fig = plt.gcf()\n",
    "fig.set_size_inches(12, 6)\n",
    "plt.show()"
   ]
  },
  {
   "cell_type": "markdown",
   "metadata": {},
   "source": [
    "Концентрация золота стабильно повышается, оставаясь в рамках нормального распределения. Концентрация серебра сперва повышается, а начиная с этапа очистки снижается и далее фактически не меняется. Концентрация свинца повышается постоянно, но далее также фактически не меняется, начиная с этапа очистки."
   ]
  },
  {
   "cell_type": "markdown",
   "metadata": {},
   "source": [
    "#### Распределение размеров гранул в обучающей и тестовой выборках"
   ]
  },
  {
   "cell_type": "markdown",
   "metadata": {},
   "source": [
    "Проверим распределение размеров гранул на обучающей и тестовой выборках:"
   ]
  },
  {
   "cell_type": "code",
   "execution_count": 35,
   "metadata": {},
   "outputs": [
    {
     "data": {
      "image/png": "[encoded data removed]",
      "text/plain": [
       "<Figure size 1800x800 with 1 Axes>"
      ]
     },
     "metadata": {},
     "output_type": "display_data"
    }
   ],
   "source": [
    "data_train['rougher.input.feed_size'].hist(bins=200, figsize=(18, 5), density=True, alpha=0.5)\n",
    "data_test['rougher.input.feed_size'].hist(bins=200, figsize=(18, 8), density=True, alpha=0.5)\n",
    "plt.title('Feed size density')\n",
    "plt.xlim(xmin=20, xmax=120)\n",
    "plt.xlabel('Size')\n",
    "plt.ylabel('Density')\n",
    "plt.show()"
   ]
  },
  {
   "cell_type": "markdown",
   "metadata": {},
   "source": [
    "Распределения отличаются не существенно и в целом распределены почти одинаково. Оценка модели не должна быть искажена."
   ]
  },
  {
   "cell_type": "markdown",
   "metadata": {},
   "source": [
    "#### Суммарная концентрация металлов"
   ]
  },
  {
   "cell_type": "markdown",
   "metadata": {},
   "source": [
    "Исследуем суммарную концентрацию металлов на различных этапах:"
   ]
  },
  {
   "cell_type": "code",
   "execution_count": 36,
   "metadata": {},
   "outputs": [],
   "source": [
    "def get_summary_metal_concentration(data):\n",
    "    columns_names = ['rougher.input.feed', 'rougher.output.concentrate', 'primary_cleaner.output.concentrate', 'final.output.concentrate']\n",
    "    metals_names = ['au', 'ag', 'pb']\n",
    "    for column in columns_names:\n",
    "        names = []\n",
    "        for metal in metals_names:\n",
    "            names.append(column + '_' + metal)\n",
    "        plt.hist(data.loc[:, names].sum(axis=1), bins=100, alpha = 0.5)        \n",
    "    plt.title('Summary concentration')\n",
    "    plt.grid(True)\n",
    "    plt.xlabel('Concentration')\n",
    "    plt.ylabel('Count')\n",
    "    plt.legend(columns_names)"
   ]
  },
  {
   "cell_type": "code",
   "execution_count": 37,
   "metadata": {},
   "outputs": [
    {
     "data": {
      "image/png": "[encoded data removed]",
      "text/plain": [
       "<Figure size 1800x600 with 1 Axes>"
      ]
     },
     "metadata": {},
     "output_type": "display_data"
    }
   ],
   "source": [
    "get_summary_metal_concentration(data_train)\n",
    "fig = plt.gcf()\n",
    "fig.set_size_inches(18, 6)"
   ]
  },
  {
   "cell_type": "code",
   "execution_count": 38,
   "metadata": {},
   "outputs": [
    {
     "data": {
      "image/png": "[encoded data removed]",
      "text/plain": [
       "<Figure size 1200x600 with 1 Axes>"
      ]
     },
     "metadata": {},
     "output_type": "display_data"
    }
   ],
   "source": [
    "concentrate_data['sum'] = concentrate_data.au+concentrate_data.ag+concentrate_data.pb\n",
    "plt.plot(concentrate_data['sum'], label='Concentrate through phases')\n",
    "plt.title('Summary concentration through phases')\n",
    "plt.xlabel('Phases')\n",
    "plt.ylabel('Concentration')\n",
    "plt.legend('au', loc='upper left')\n",
    "plt.grid(True)\n",
    "fig = plt.gcf()\n",
    "fig.set_size_inches(12, 6)\n",
    "plt.show()"
   ]
  },
  {
   "cell_type": "markdown",
   "metadata": {},
   "source": [
    "Концентрация металлов увеличивается с каждой фазой, при этом распределение становится ближе к нормальному, а диапазон значений сужается."
   ]
  },
  {
   "cell_type": "markdown",
   "metadata": {},
   "source": [
    "#### Вывод:"
   ]
  },
  {
   "cell_type": "markdown",
   "metadata": {},
   "source": [
    "Концентрация au увеличивается линейно, концентрация остальных металлов меняется незначительно. Суммарная концентрация металлов после прохождения этапов очистки увеличивается. Распредение гранул для train и test выборок соврадает с незначительными отклонениями, поэтому оценка модели не должна быть искажена."
   ]
  },
  {
   "cell_type": "markdown",
   "metadata": {},
   "source": [
    "## Модель"
   ]
  },
  {
   "cell_type": "markdown",
   "metadata": {},
   "source": [
    "#### Разделение на выборки"
   ]
  },
  {
   "cell_type": "code",
   "execution_count": 39,
   "metadata": {},
   "outputs": [],
   "source": [
    "#Подтянем в data_test отсуствующие данные из data_full:"
   ]
  },
  {
   "cell_type": "markdown",
   "metadata": {},
   "source": [
    "Разделим train и test выборки на features и target для целевых показателей rougher.output.recovery и final.output.recovery. При этом учтём, что в данных для обучения не должно быть офлайн-метрик, которые мы вычислим только постфактум."
   ]
  },
  {
   "cell_type": "markdown",
   "metadata": {},
   "source": [
    "Выделим целевые признаки:"
   ]
  },
  {
   "cell_type": "code",
   "execution_count": 40,
   "metadata": {},
   "outputs": [],
   "source": [
    "rougher_train_target = data_train['rougher.output.recovery']\n",
    "final_train_target = data_train['final.output.recovery']\n",
    "\n",
    "rougher_test_target = data_test['rougher.output.recovery']\n",
    "final_test_target = data_test['final.output.recovery']"
   ]
  },
  {
   "cell_type": "markdown",
   "metadata": {},
   "source": [
    "Отбросим офлайн-метрики"
   ]
  },
  {
   "cell_type": "code",
   "execution_count": 41,
   "metadata": {},
   "outputs": [],
   "source": [
    "final_train_features = data_train.drop(offline_metrics, axis=1)\n",
    "final_test_features = data_test.drop(offline_metrics, axis=1)"
   ]
  },
  {
   "cell_type": "markdown",
   "metadata": {},
   "source": [
    "Для rougher.output.recovery мы можем убрать все данные, которые идут со столбца 'primary_cleaner.input.sulfate' и далее, так как выходные данные этапа флуктуации не зависят от последующих:"
   ]
  },
  {
   "cell_type": "code",
   "execution_count": 42,
   "metadata": {},
   "outputs": [],
   "source": [
    "rougher_train_features = final_train_features.drop(final_train_features.loc[:,'rougher.input.floatbank11_xanthate':], axis=1)\n",
    "rougher_test_features = final_test_features.drop(final_test_features.loc[:,'rougher.input.floatbank11_xanthate':], axis=1)"
   ]
  },
  {
   "cell_type": "markdown",
   "metadata": {},
   "source": [
    "#### Scaling"
   ]
  },
  {
   "cell_type": "markdown",
   "metadata": {},
   "source": [
    "Отскейлим данные в тестовой и обучающей выборках для 'final.output.recovery' и для 'rougher.output.recovery', применив скейлер к каждой из выборок по отдельности:"
   ]
  },
  {
   "cell_type": "code",
   "execution_count": 43,
   "metadata": {},
   "outputs": [],
   "source": [
    "scaler = StandardScaler()"
   ]
  },
  {
   "cell_type": "code",
   "execution_count": 44,
   "metadata": {},
   "outputs": [],
   "source": [
    "final_scaled_columns = final_train_features.columns\n",
    "rougher_scaled_columns = rougher_train_features.columns"
   ]
  },
  {
   "cell_type": "code",
   "execution_count": 45,
   "metadata": {},
   "outputs": [],
   "source": [
    "scaler.fit(final_train_features)\n",
    "final_train_features[final_scaled_columns] = scaler.transform(final_train_features[final_scaled_columns])\n",
    "final_test_features[final_scaled_columns] = scaler.transform(final_test_features[final_scaled_columns])\n",
    "\n",
    "scaler.fit(rougher_train_features[rougher_scaled_columns])\n",
    "rougher_train_features.loc[:, rougher_scaled_columns] = scaler.transform(rougher_train_features[rougher_scaled_columns])\n",
    "rougher_test_features[rougher_scaled_columns] = scaler.transform(rougher_test_features[rougher_scaled_columns])"
   ]
  },
  {
   "cell_type": "markdown",
   "metadata": {},
   "source": [
    "#### Выбор признаков"
   ]
  },
  {
   "cell_type": "markdown",
   "metadata": {},
   "source": [
    "Большой объём признаков в датасете может привести к большому объёму шума при обучении модели, что, в свою очередь, может привести к её переобучению. Проверим корреляцию Пирсона (так как у нас зависимость данных близка к линейной) для целевых данных и признаков тренировочной выборки. Выберем признаки, корреляция которых больше очень слабой (30%) для признака 'final.output.recovery':"
   ]
  },
  {
   "cell_type": "code",
   "execution_count": 46,
   "metadata": {},
   "outputs": [],
   "source": [
    "def get_significant_columns(features, target, threshold):\n",
    "    corr_data = features.corrwith(target)\n",
    "    corr_data_significant = corr_data[corr_data.abs() > threshold]\n",
    "    print('Significant data count:', corr_data_significant.count())\n",
    "    return features[corr_data_significant.index]"
   ]
  },
  {
   "cell_type": "code",
   "execution_count": 47,
   "metadata": {},
   "outputs": [
    {
     "name": "stdout",
     "output_type": "stream",
     "text": [
      "Significant data count: 5\n"
     ]
    },
    {
     "data": {
      "text/html": [
       "<div>\n",
       "<style scoped>\n",
       "    .dataframe tbody tr th:only-of-type {\n",
       "        vertical-align: middle;\n",
       "    }\n",
       "\n",
       "    .dataframe tbody tr th {\n",
       "        vertical-align: top;\n",
       "    }\n",
       "\n",
       "    .dataframe thead th {\n",
       "        text-align: right;\n",
       "    }\n",
       "</style>\n",
       "<table border=\"1\" class=\"dataframe\">\n",
       "  <thead>\n",
       "    <tr style=\"text-align: right;\">\n",
       "      <th></th>\n",
       "      <th>rougher.input.feed_au</th>\n",
       "      <th>rougher.input.feed_ag</th>\n",
       "      <th>rougher.input.floatbank10_xanthate</th>\n",
       "      <th>rougher.input.floatbank11_xanthate</th>\n",
       "      <th>primary_cleaner.input.sulfate</th>\n",
       "    </tr>\n",
       "    <tr>\n",
       "      <th>date</th>\n",
       "      <th></th>\n",
       "      <th></th>\n",
       "      <th></th>\n",
       "      <th></th>\n",
       "      <th></th>\n",
       "    </tr>\n",
       "  </thead>\n",
       "  <tbody>\n",
       "    <tr>\n",
       "      <th>2016-01-15 00:00:00</th>\n",
       "      <td>-1.059154</td>\n",
       "      <td>-1.513959</td>\n",
       "      <td>-0.024826</td>\n",
       "      <td>-0.007562</td>\n",
       "      <td>-0.480334</td>\n",
       "    </tr>\n",
       "    <tr>\n",
       "      <th>2016-01-15 01:00:00</th>\n",
       "      <td>-1.063303</td>\n",
       "      <td>-1.481133</td>\n",
       "      <td>-0.026867</td>\n",
       "      <td>-0.001614</td>\n",
       "      <td>-0.514576</td>\n",
       "    </tr>\n",
       "    <tr>\n",
       "      <th>2016-01-15 02:00:00</th>\n",
       "      <td>-1.127096</td>\n",
       "      <td>-1.505270</td>\n",
       "      <td>0.149055</td>\n",
       "      <td>0.166985</td>\n",
       "      <td>-0.556933</td>\n",
       "    </tr>\n",
       "    <tr>\n",
       "      <th>2016-01-15 03:00:00</th>\n",
       "      <td>-1.260884</td>\n",
       "      <td>-1.544804</td>\n",
       "      <td>0.154380</td>\n",
       "      <td>0.159913</td>\n",
       "      <td>-0.593208</td>\n",
       "    </tr>\n",
       "    <tr>\n",
       "      <th>2016-01-15 04:00:00</th>\n",
       "      <td>-1.510048</td>\n",
       "      <td>-1.535288</td>\n",
       "      <td>0.150385</td>\n",
       "      <td>0.158437</td>\n",
       "      <td>-0.693445</td>\n",
       "    </tr>\n",
       "    <tr>\n",
       "      <th>...</th>\n",
       "      <td>...</td>\n",
       "      <td>...</td>\n",
       "      <td>...</td>\n",
       "      <td>...</td>\n",
       "      <td>...</td>\n",
       "    </tr>\n",
       "    <tr>\n",
       "      <th>2017-12-09 09:59:59</th>\n",
       "      <td>-2.093472</td>\n",
       "      <td>-1.664372</td>\n",
       "      <td>2.727188</td>\n",
       "      <td>2.621903</td>\n",
       "      <td>-0.519397</td>\n",
       "    </tr>\n",
       "    <tr>\n",
       "      <th>2017-12-09 10:59:59</th>\n",
       "      <td>-2.061344</td>\n",
       "      <td>-1.652094</td>\n",
       "      <td>2.723024</td>\n",
       "      <td>2.622634</td>\n",
       "      <td>-0.784264</td>\n",
       "    </tr>\n",
       "    <tr>\n",
       "      <th>2017-12-09 11:59:59</th>\n",
       "      <td>-1.689784</td>\n",
       "      <td>-1.518566</td>\n",
       "      <td>2.867829</td>\n",
       "      <td>2.758165</td>\n",
       "      <td>-0.567186</td>\n",
       "    </tr>\n",
       "    <tr>\n",
       "      <th>2017-12-09 12:59:59</th>\n",
       "      <td>-1.962391</td>\n",
       "      <td>-1.502639</td>\n",
       "      <td>3.002191</td>\n",
       "      <td>2.882705</td>\n",
       "      <td>-0.625793</td>\n",
       "    </tr>\n",
       "    <tr>\n",
       "      <th>2017-12-09 13:59:59</th>\n",
       "      <td>-2.134295</td>\n",
       "      <td>-1.584148</td>\n",
       "      <td>2.997282</td>\n",
       "      <td>2.884645</td>\n",
       "      <td>-0.981892</td>\n",
       "    </tr>\n",
       "  </tbody>\n",
       "</table>\n",
       "<p>12566 rows × 5 columns</p>\n",
       "</div>"
      ],
      "text/plain": [
       "                     rougher.input.feed_au  rougher.input.feed_ag  \\\n",
       "date                                                                \n",
       "2016-01-15 00:00:00              -1.059154              -1.513959   \n",
       "2016-01-15 01:00:00              -1.063303              -1.481133   \n",
       "2016-01-15 02:00:00              -1.127096              -1.505270   \n",
       "2016-01-15 03:00:00              -1.260884              -1.544804   \n",
       "2016-01-15 04:00:00              -1.510048              -1.535288   \n",
       "...                                    ...                    ...   \n",
       "2017-12-09 09:59:59              -2.093472              -1.664372   \n",
       "2017-12-09 10:59:59              -2.061344              -1.652094   \n",
       "2017-12-09 11:59:59              -1.689784              -1.518566   \n",
       "2017-12-09 12:59:59              -1.962391              -1.502639   \n",
       "2017-12-09 13:59:59              -2.134295              -1.584148   \n",
       "\n",
       "                     rougher.input.floatbank10_xanthate  \\\n",
       "date                                                      \n",
       "2016-01-15 00:00:00                           -0.024826   \n",
       "2016-01-15 01:00:00                           -0.026867   \n",
       "2016-01-15 02:00:00                            0.149055   \n",
       "2016-01-15 03:00:00                            0.154380   \n",
       "2016-01-15 04:00:00                            0.150385   \n",
       "...                                                 ...   \n",
       "2017-12-09 09:59:59                            2.727188   \n",
       "2017-12-09 10:59:59                            2.723024   \n",
       "2017-12-09 11:59:59                            2.867829   \n",
       "2017-12-09 12:59:59                            3.002191   \n",
       "2017-12-09 13:59:59                            2.997282   \n",
       "\n",
       "                     rougher.input.floatbank11_xanthate  \\\n",
       "date                                                      \n",
       "2016-01-15 00:00:00                           -0.007562   \n",
       "2016-01-15 01:00:00                           -0.001614   \n",
       "2016-01-15 02:00:00                            0.166985   \n",
       "2016-01-15 03:00:00                            0.159913   \n",
       "2016-01-15 04:00:00                            0.158437   \n",
       "...                                                 ...   \n",
       "2017-12-09 09:59:59                            2.621903   \n",
       "2017-12-09 10:59:59                            2.622634   \n",
       "2017-12-09 11:59:59                            2.758165   \n",
       "2017-12-09 12:59:59                            2.882705   \n",
       "2017-12-09 13:59:59                            2.884645   \n",
       "\n",
       "                     primary_cleaner.input.sulfate  \n",
       "date                                                \n",
       "2016-01-15 00:00:00                      -0.480334  \n",
       "2016-01-15 01:00:00                      -0.514576  \n",
       "2016-01-15 02:00:00                      -0.556933  \n",
       "2016-01-15 03:00:00                      -0.593208  \n",
       "2016-01-15 04:00:00                      -0.693445  \n",
       "...                                            ...  \n",
       "2017-12-09 09:59:59                      -0.519397  \n",
       "2017-12-09 10:59:59                      -0.784264  \n",
       "2017-12-09 11:59:59                      -0.567186  \n",
       "2017-12-09 12:59:59                      -0.625793  \n",
       "2017-12-09 13:59:59                      -0.981892  \n",
       "\n",
       "[12566 rows x 5 columns]"
      ]
     },
     "execution_count": 47,
     "metadata": {},
     "output_type": "execute_result"
    }
   ],
   "source": [
    "final_train_features_significant = get_significant_columns(final_train_features, final_train_target, 0.3)\n",
    "final_train_features_significant"
   ]
  },
  {
   "cell_type": "markdown",
   "metadata": {},
   "source": [
    "Только 5 признаков из всех имеют корреляцию выше 30%."
   ]
  },
  {
   "cell_type": "markdown",
   "metadata": {},
   "source": [
    "Сделаем аналогично для признака 'rougher.output.recovery':"
   ]
  },
  {
   "cell_type": "code",
   "execution_count": 48,
   "metadata": {},
   "outputs": [
    {
     "name": "stdout",
     "output_type": "stream",
     "text": [
      "Significant data count: 9\n"
     ]
    },
    {
     "data": {
      "text/html": [
       "<div>\n",
       "<style scoped>\n",
       "    .dataframe tbody tr th:only-of-type {\n",
       "        vertical-align: middle;\n",
       "    }\n",
       "\n",
       "    .dataframe tbody tr th {\n",
       "        vertical-align: top;\n",
       "    }\n",
       "\n",
       "    .dataframe thead th {\n",
       "        text-align: right;\n",
       "    }\n",
       "</style>\n",
       "<table border=\"1\" class=\"dataframe\">\n",
       "  <thead>\n",
       "    <tr style=\"text-align: right;\">\n",
       "      <th></th>\n",
       "      <th>rougher.input.feed_au</th>\n",
       "      <th>rougher.input.feed_ag</th>\n",
       "      <th>rougher.input.feed_pb</th>\n",
       "      <th>rougher.input.feed_sol</th>\n",
       "      <th>rougher.input.floatbank10_xanthate</th>\n",
       "      <th>rougher.state.floatbank10_a_air</th>\n",
       "      <th>rougher.state.floatbank10_a_level</th>\n",
       "      <th>rougher.state.floatbank10_c_air</th>\n",
       "      <th>rougher.state.floatbank10_d_air</th>\n",
       "    </tr>\n",
       "    <tr>\n",
       "      <th>date</th>\n",
       "      <th></th>\n",
       "      <th></th>\n",
       "      <th></th>\n",
       "      <th></th>\n",
       "      <th></th>\n",
       "      <th></th>\n",
       "      <th></th>\n",
       "      <th></th>\n",
       "      <th></th>\n",
       "    </tr>\n",
       "  </thead>\n",
       "  <tbody>\n",
       "    <tr>\n",
       "      <th>2016-01-15 00:00:00</th>\n",
       "      <td>-1.059154</td>\n",
       "      <td>-1.513959</td>\n",
       "      <td>-1.291439</td>\n",
       "      <td>-0.011150</td>\n",
       "      <td>-0.024826</td>\n",
       "      <td>-0.639028</td>\n",
       "      <td>-0.250415</td>\n",
       "      <td>1.424295</td>\n",
       "      <td>1.840149</td>\n",
       "    </tr>\n",
       "    <tr>\n",
       "      <th>2016-01-15 01:00:00</th>\n",
       "      <td>-1.063303</td>\n",
       "      <td>-1.481133</td>\n",
       "      <td>-1.309836</td>\n",
       "      <td>-0.232077</td>\n",
       "      <td>-0.026867</td>\n",
       "      <td>-0.635435</td>\n",
       "      <td>-0.208290</td>\n",
       "      <td>1.415168</td>\n",
       "      <td>1.847822</td>\n",
       "    </tr>\n",
       "    <tr>\n",
       "      <th>2016-01-15 02:00:00</th>\n",
       "      <td>-1.127096</td>\n",
       "      <td>-1.505270</td>\n",
       "      <td>-1.413527</td>\n",
       "      <td>-0.186384</td>\n",
       "      <td>0.149055</td>\n",
       "      <td>-0.638949</td>\n",
       "      <td>-0.208383</td>\n",
       "      <td>1.411283</td>\n",
       "      <td>1.844550</td>\n",
       "    </tr>\n",
       "    <tr>\n",
       "      <th>2016-01-15 03:00:00</th>\n",
       "      <td>-1.260884</td>\n",
       "      <td>-1.544804</td>\n",
       "      <td>-1.532228</td>\n",
       "      <td>0.000082</td>\n",
       "      <td>0.154380</td>\n",
       "      <td>-0.638359</td>\n",
       "      <td>-0.209711</td>\n",
       "      <td>1.412921</td>\n",
       "      <td>1.834302</td>\n",
       "    </tr>\n",
       "    <tr>\n",
       "      <th>2016-01-15 04:00:00</th>\n",
       "      <td>-1.510048</td>\n",
       "      <td>-1.535288</td>\n",
       "      <td>-1.776746</td>\n",
       "      <td>-0.526391</td>\n",
       "      <td>0.150385</td>\n",
       "      <td>-0.639203</td>\n",
       "      <td>-0.205001</td>\n",
       "      <td>1.414581</td>\n",
       "      <td>1.844114</td>\n",
       "    </tr>\n",
       "    <tr>\n",
       "      <th>...</th>\n",
       "      <td>...</td>\n",
       "      <td>...</td>\n",
       "      <td>...</td>\n",
       "      <td>...</td>\n",
       "      <td>...</td>\n",
       "      <td>...</td>\n",
       "      <td>...</td>\n",
       "      <td>...</td>\n",
       "      <td>...</td>\n",
       "    </tr>\n",
       "    <tr>\n",
       "      <th>2017-12-09 09:59:59</th>\n",
       "      <td>-2.093472</td>\n",
       "      <td>-1.664372</td>\n",
       "      <td>0.628823</td>\n",
       "      <td>0.129521</td>\n",
       "      <td>2.727188</td>\n",
       "      <td>0.605446</td>\n",
       "      <td>0.844904</td>\n",
       "      <td>-1.224885</td>\n",
       "      <td>-1.304741</td>\n",
       "    </tr>\n",
       "    <tr>\n",
       "      <th>2017-12-09 10:59:59</th>\n",
       "      <td>-2.061344</td>\n",
       "      <td>-1.652094</td>\n",
       "      <td>0.615198</td>\n",
       "      <td>0.111743</td>\n",
       "      <td>2.723024</td>\n",
       "      <td>0.608567</td>\n",
       "      <td>0.844893</td>\n",
       "      <td>-1.238062</td>\n",
       "      <td>-1.239737</td>\n",
       "    </tr>\n",
       "    <tr>\n",
       "      <th>2017-12-09 11:59:59</th>\n",
       "      <td>-1.689784</td>\n",
       "      <td>-1.518566</td>\n",
       "      <td>0.981582</td>\n",
       "      <td>0.106343</td>\n",
       "      <td>2.867829</td>\n",
       "      <td>0.597952</td>\n",
       "      <td>0.836136</td>\n",
       "      <td>-1.245348</td>\n",
       "      <td>-1.306908</td>\n",
       "    </tr>\n",
       "    <tr>\n",
       "      <th>2017-12-09 12:59:59</th>\n",
       "      <td>-1.962391</td>\n",
       "      <td>-1.502639</td>\n",
       "      <td>0.521092</td>\n",
       "      <td>0.362145</td>\n",
       "      <td>3.002191</td>\n",
       "      <td>0.581359</td>\n",
       "      <td>0.850171</td>\n",
       "      <td>-1.242449</td>\n",
       "      <td>-1.291794</td>\n",
       "    </tr>\n",
       "    <tr>\n",
       "      <th>2017-12-09 13:59:59</th>\n",
       "      <td>-2.134295</td>\n",
       "      <td>-1.584148</td>\n",
       "      <td>0.399300</td>\n",
       "      <td>0.672528</td>\n",
       "      <td>2.997282</td>\n",
       "      <td>0.632796</td>\n",
       "      <td>0.853082</td>\n",
       "      <td>-1.237448</td>\n",
       "      <td>-1.277663</td>\n",
       "    </tr>\n",
       "  </tbody>\n",
       "</table>\n",
       "<p>12566 rows × 9 columns</p>\n",
       "</div>"
      ],
      "text/plain": [
       "                     rougher.input.feed_au  rougher.input.feed_ag  \\\n",
       "date                                                                \n",
       "2016-01-15 00:00:00              -1.059154              -1.513959   \n",
       "2016-01-15 01:00:00              -1.063303              -1.481133   \n",
       "2016-01-15 02:00:00              -1.127096              -1.505270   \n",
       "2016-01-15 03:00:00              -1.260884              -1.544804   \n",
       "2016-01-15 04:00:00              -1.510048              -1.535288   \n",
       "...                                    ...                    ...   \n",
       "2017-12-09 09:59:59              -2.093472              -1.664372   \n",
       "2017-12-09 10:59:59              -2.061344              -1.652094   \n",
       "2017-12-09 11:59:59              -1.689784              -1.518566   \n",
       "2017-12-09 12:59:59              -1.962391              -1.502639   \n",
       "2017-12-09 13:59:59              -2.134295              -1.584148   \n",
       "\n",
       "                     rougher.input.feed_pb  rougher.input.feed_sol  \\\n",
       "date                                                                 \n",
       "2016-01-15 00:00:00              -1.291439               -0.011150   \n",
       "2016-01-15 01:00:00              -1.309836               -0.232077   \n",
       "2016-01-15 02:00:00              -1.413527               -0.186384   \n",
       "2016-01-15 03:00:00              -1.532228                0.000082   \n",
       "2016-01-15 04:00:00              -1.776746               -0.526391   \n",
       "...                                    ...                     ...   \n",
       "2017-12-09 09:59:59               0.628823                0.129521   \n",
       "2017-12-09 10:59:59               0.615198                0.111743   \n",
       "2017-12-09 11:59:59               0.981582                0.106343   \n",
       "2017-12-09 12:59:59               0.521092                0.362145   \n",
       "2017-12-09 13:59:59               0.399300                0.672528   \n",
       "\n",
       "                     rougher.input.floatbank10_xanthate  \\\n",
       "date                                                      \n",
       "2016-01-15 00:00:00                           -0.024826   \n",
       "2016-01-15 01:00:00                           -0.026867   \n",
       "2016-01-15 02:00:00                            0.149055   \n",
       "2016-01-15 03:00:00                            0.154380   \n",
       "2016-01-15 04:00:00                            0.150385   \n",
       "...                                                 ...   \n",
       "2017-12-09 09:59:59                            2.727188   \n",
       "2017-12-09 10:59:59                            2.723024   \n",
       "2017-12-09 11:59:59                            2.867829   \n",
       "2017-12-09 12:59:59                            3.002191   \n",
       "2017-12-09 13:59:59                            2.997282   \n",
       "\n",
       "                     rougher.state.floatbank10_a_air  \\\n",
       "date                                                   \n",
       "2016-01-15 00:00:00                        -0.639028   \n",
       "2016-01-15 01:00:00                        -0.635435   \n",
       "2016-01-15 02:00:00                        -0.638949   \n",
       "2016-01-15 03:00:00                        -0.638359   \n",
       "2016-01-15 04:00:00                        -0.639203   \n",
       "...                                              ...   \n",
       "2017-12-09 09:59:59                         0.605446   \n",
       "2017-12-09 10:59:59                         0.608567   \n",
       "2017-12-09 11:59:59                         0.597952   \n",
       "2017-12-09 12:59:59                         0.581359   \n",
       "2017-12-09 13:59:59                         0.632796   \n",
       "\n",
       "                     rougher.state.floatbank10_a_level  \\\n",
       "date                                                     \n",
       "2016-01-15 00:00:00                          -0.250415   \n",
       "2016-01-15 01:00:00                          -0.208290   \n",
       "2016-01-15 02:00:00                          -0.208383   \n",
       "2016-01-15 03:00:00                          -0.209711   \n",
       "2016-01-15 04:00:00                          -0.205001   \n",
       "...                                                ...   \n",
       "2017-12-09 09:59:59                           0.844904   \n",
       "2017-12-09 10:59:59                           0.844893   \n",
       "2017-12-09 11:59:59                           0.836136   \n",
       "2017-12-09 12:59:59                           0.850171   \n",
       "2017-12-09 13:59:59                           0.853082   \n",
       "\n",
       "                     rougher.state.floatbank10_c_air  \\\n",
       "date                                                   \n",
       "2016-01-15 00:00:00                         1.424295   \n",
       "2016-01-15 01:00:00                         1.415168   \n",
       "2016-01-15 02:00:00                         1.411283   \n",
       "2016-01-15 03:00:00                         1.412921   \n",
       "2016-01-15 04:00:00                         1.414581   \n",
       "...                                              ...   \n",
       "2017-12-09 09:59:59                        -1.224885   \n",
       "2017-12-09 10:59:59                        -1.238062   \n",
       "2017-12-09 11:59:59                        -1.245348   \n",
       "2017-12-09 12:59:59                        -1.242449   \n",
       "2017-12-09 13:59:59                        -1.237448   \n",
       "\n",
       "                     rougher.state.floatbank10_d_air  \n",
       "date                                                  \n",
       "2016-01-15 00:00:00                         1.840149  \n",
       "2016-01-15 01:00:00                         1.847822  \n",
       "2016-01-15 02:00:00                         1.844550  \n",
       "2016-01-15 03:00:00                         1.834302  \n",
       "2016-01-15 04:00:00                         1.844114  \n",
       "...                                              ...  \n",
       "2017-12-09 09:59:59                        -1.304741  \n",
       "2017-12-09 10:59:59                        -1.239737  \n",
       "2017-12-09 11:59:59                        -1.306908  \n",
       "2017-12-09 12:59:59                        -1.291794  \n",
       "2017-12-09 13:59:59                        -1.277663  \n",
       "\n",
       "[12566 rows x 9 columns]"
      ]
     },
     "execution_count": 48,
     "metadata": {},
     "output_type": "execute_result"
    }
   ],
   "source": [
    "rougher_train_features_significant = get_significant_columns(rougher_train_features, rougher_train_target, 0.3)\n",
    "rougher_train_features_significant"
   ]
  },
  {
   "cell_type": "markdown",
   "metadata": {},
   "source": [
    "Здесь осталось 9 колонок."
   ]
  },
  {
   "cell_type": "markdown",
   "metadata": {},
   "source": [
    "Также получим значимые признаки для тестовых данных:"
   ]
  },
  {
   "cell_type": "code",
   "execution_count": 49,
   "metadata": {},
   "outputs": [],
   "source": [
    "final_test_features_significant = final_test_features.loc[:, final_train_features_significant.columns]\n",
    "rougher_test_features_significant = rougher_test_features.loc[:, rougher_train_features_significant.columns]"
   ]
  },
  {
   "cell_type": "markdown",
   "metadata": {},
   "source": [
    "#### Функция SMAPE"
   ]
  },
  {
   "cell_type": "markdown",
   "metadata": {},
   "source": [
    "Напишем функцию для вычисления обычного smape:"
   ]
  },
  {
   "cell_type": "code",
   "execution_count": 50,
   "metadata": {},
   "outputs": [],
   "source": [
    "#true is Series with date keys, predicted is array with numeric date keys.\n",
    "def smape(true, predicted):\n",
    "    predicted_series = pd.Series(predicted, true.index)\n",
    "    N = len(true)\n",
    "    abs_of_sum = (true - predicted_series).abs()\n",
    "    sum_of_abs_div_2 = (true.abs() + predicted_series.abs())/2\n",
    "    div = abs_of_sum / sum_of_abs_div_2\n",
    "    return (div.sum()/N)*100"
   ]
  },
  {
   "cell_type": "markdown",
   "metadata": {},
   "source": [
    "Напишем функцию для вычисления итогового smape:"
   ]
  },
  {
   "cell_type": "code",
   "execution_count": 51,
   "metadata": {},
   "outputs": [],
   "source": [
    "def smape_full(rougher, final):\n",
    "    return rougher * 0.25 + final * 0.75"
   ]
  },
  {
   "cell_type": "markdown",
   "metadata": {},
   "source": [
    "Также создадим scorer для использования в обучении модели:"
   ]
  },
  {
   "cell_type": "code",
   "execution_count": 52,
   "metadata": {},
   "outputs": [],
   "source": [
    "smape_scorer = make_scorer(smape, greater_is_better=False)"
   ]
  },
  {
   "cell_type": "markdown",
   "metadata": {},
   "source": [
    "#### Тренировка модели"
   ]
  },
  {
   "cell_type": "code",
   "execution_count": 53,
   "metadata": {},
   "outputs": [],
   "source": [
    "#deprecated\n",
    "def test_model(m, train_f, train_t, test_f, test_t):\n",
    "    m.fit(train_f, train_t)\n",
    "    test_p = m.predict(test_f)\n",
    "    return smape(test_t, test_p)"
   ]
  },
  {
   "cell_type": "markdown",
   "metadata": {},
   "source": [
    "#### Подбор модели. RandomForestRegressor."
   ]
  },
  {
   "cell_type": "markdown",
   "metadata": {},
   "source": [
    "Нанём тренировку модели с признака 'final.output.recovery':"
   ]
  },
  {
   "cell_type": "code",
   "execution_count": 54,
   "metadata": {},
   "outputs": [],
   "source": [
    "model = RandomForestRegressor(random_state=12345)"
   ]
  },
  {
   "cell_type": "markdown",
   "metadata": {},
   "source": [
    "Для подбора параметров с использованием кросс-валидации воспользуемся RandomizedSearchCV. Напишем список параметров, из которых мы будем выбирать наилучшие:"
   ]
  },
  {
   "cell_type": "code",
   "execution_count": 55,
   "metadata": {},
   "outputs": [],
   "source": [
    "random_grid = {\n",
    "    'bootstrap': [True, False],\n",
    "    'max_depth': [None] + [i for i in range(2,7)],\n",
    "    'max_features': ['auto'],\n",
    "    'min_samples_leaf': [i for i in range(2,4)],\n",
    "    'min_samples_split': [i for i in range(2,5)],\n",
    "    'n_estimators': [10, 25, 50, 100]\n",
    "}"
   ]
  },
  {
   "cell_type": "markdown",
   "metadata": {},
   "source": [
    "Проведём RandomizedSearchCV с разделением на 5 выборок, и найдём лучшие параметры для модели:"
   ]
  },
  {
   "cell_type": "code",
   "execution_count": 56,
   "metadata": {},
   "outputs": [
    {
     "name": "stdout",
     "output_type": "stream",
     "text": [
      "Fitting 5 folds for each of 50 candidates, totalling 250 fits\n",
      "CPU times: total: 1.67 s\n",
      "Wall time: 40.3 s\n"
     ]
    },
    {
     "data": {
      "text/plain": [
       "RandomizedSearchCV(cv=5, error_score='raise',\n",
       "                   estimator=RandomForestRegressor(random_state=12345),\n",
       "                   n_iter=50, n_jobs=-1,\n",
       "                   param_distributions={'bootstrap': [True, False],\n",
       "                                        'max_depth': [None, 2, 3, 4, 5, 6],\n",
       "                                        'max_features': ['auto'],\n",
       "                                        'min_samples_leaf': [2, 3],\n",
       "                                        'min_samples_split': [2, 3, 4],\n",
       "                                        'n_estimators': [10, 25, 50, 100]},\n",
       "                   random_state=12345,\n",
       "                   scoring=make_scorer(smape, greater_is_better=False),\n",
       "                   verbose=3)"
      ]
     },
     "execution_count": 56,
     "metadata": {},
     "output_type": "execute_result"
    }
   ],
   "source": [
    "%%time\n",
    "rf_random = RandomizedSearchCV(estimator = model, param_distributions = random_grid, n_iter = 50, scoring = smape_scorer, cv = 5, verbose=3, random_state=12345, n_jobs = -1, error_score='raise')\n",
    "rf_random.fit(final_train_features_significant, final_train_target)"
   ]
  },
  {
   "cell_type": "code",
   "execution_count": 57,
   "metadata": {},
   "outputs": [
    {
     "data": {
      "text/plain": [
       "{'n_estimators': 25,\n",
       " 'min_samples_split': 4,\n",
       " 'min_samples_leaf': 2,\n",
       " 'max_features': 'auto',\n",
       " 'max_depth': 3,\n",
       " 'bootstrap': True}"
      ]
     },
     "execution_count": 57,
     "metadata": {},
     "output_type": "execute_result"
    }
   ],
   "source": [
    "rf_random.best_params_"
   ]
  },
  {
   "cell_type": "markdown",
   "metadata": {},
   "source": [
    "Оценка качества модели на final.output:"
   ]
  },
  {
   "cell_type": "code",
   "execution_count": 58,
   "metadata": {},
   "outputs": [
    {
     "data": {
      "text/plain": [
       "8.006794230148838"
      ]
     },
     "execution_count": 58,
     "metadata": {},
     "output_type": "execute_result"
    }
   ],
   "source": [
    "regression_score_final = abs(rf_random.best_score_)\n",
    "regression_score_final"
   ]
  },
  {
   "cell_type": "markdown",
   "metadata": {},
   "source": [
    "Запишем для удобства лучшие подобранные параметры и сохраним модель:"
   ]
  },
  {
   "cell_type": "code",
   "execution_count": 59,
   "metadata": {},
   "outputs": [],
   "source": [
    "best_grid_rougher = {\n",
    "    'bootstrap': [True],\n",
    "    'max_depth': [3],\n",
    "    'max_features': ['auto'],\n",
    "    'min_samples_leaf': [2],\n",
    "    'min_samples_split': [4],\n",
    "    'n_estimators': [25]\n",
    "}"
   ]
  },
  {
   "cell_type": "code",
   "execution_count": 60,
   "metadata": {},
   "outputs": [],
   "source": [
    "regression_model_final = RandomForestRegressor(random_state=12345, max_depth=3, n_estimators=25, min_samples_split=4, min_samples_leaf=2, bootstrap=True, max_features='auto')"
   ]
  },
  {
   "cell_type": "code",
   "execution_count": 61,
   "metadata": {},
   "outputs": [
    {
     "name": "stdout",
     "output_type": "stream",
     "text": [
      "Fitting 5 folds for each of 50 candidates, totalling 250 fits\n",
      "CPU times: total: 1.8 s\n",
      "Wall time: 1min 6s\n"
     ]
    },
    {
     "data": {
      "text/plain": [
       "RandomizedSearchCV(cv=5, error_score='raise',\n",
       "                   estimator=RandomForestRegressor(random_state=12345),\n",
       "                   n_iter=50, n_jobs=-1,\n",
       "                   param_distributions={'bootstrap': [True, False],\n",
       "                                        'max_depth': [None, 2, 3, 4, 5, 6],\n",
       "                                        'max_features': ['auto'],\n",
       "                                        'min_samples_leaf': [2, 3],\n",
       "                                        'min_samples_split': [2, 3, 4],\n",
       "                                        'n_estimators': [10, 25, 50, 100]},\n",
       "                   random_state=12345,\n",
       "                   scoring=make_scorer(smape, greater_is_better=False),\n",
       "                   verbose=3)"
      ]
     },
     "execution_count": 61,
     "metadata": {},
     "output_type": "execute_result"
    }
   ],
   "source": [
    "%%time\n",
    "rf_random = RandomizedSearchCV(estimator = model, param_distributions = random_grid, n_iter = 50, scoring = smape_scorer, cv = 5, verbose=3, random_state=12345, n_jobs = -1, error_score='raise')\n",
    "rf_random.fit(rougher_train_features_significant, rougher_train_target)"
   ]
  },
  {
   "cell_type": "code",
   "execution_count": 62,
   "metadata": {},
   "outputs": [
    {
     "data": {
      "text/plain": [
       "{'n_estimators': 25,\n",
       " 'min_samples_split': 2,\n",
       " 'min_samples_leaf': 3,\n",
       " 'max_features': 'auto',\n",
       " 'max_depth': 4,\n",
       " 'bootstrap': True}"
      ]
     },
     "execution_count": 62,
     "metadata": {},
     "output_type": "execute_result"
    }
   ],
   "source": [
    "rf_random.best_params_"
   ]
  },
  {
   "cell_type": "code",
   "execution_count": 63,
   "metadata": {},
   "outputs": [
    {
     "data": {
      "text/plain": [
       "5.413940785071707"
      ]
     },
     "execution_count": 63,
     "metadata": {},
     "output_type": "execute_result"
    }
   ],
   "source": [
    "regression_score_rougher = abs(rf_random.best_score_)\n",
    "regression_score_rougher"
   ]
  },
  {
   "cell_type": "markdown",
   "metadata": {},
   "source": [
    "Сохраним параметры и модель:"
   ]
  },
  {
   "cell_type": "code",
   "execution_count": 64,
   "metadata": {},
   "outputs": [],
   "source": [
    "regression_model_rougher = RandomForestRegressor(random_state=12345, max_depth=4, n_estimators=25, min_samples_split=2, min_samples_leaf=3, bootstrap=True, max_features='auto')"
   ]
  },
  {
   "cell_type": "code",
   "execution_count": 65,
   "metadata": {},
   "outputs": [],
   "source": [
    "best_grid_rougher = {\n",
    "    'bootstrap': [True],\n",
    "    'max_depth': [4],\n",
    "    'max_features': ['auto'],\n",
    "    'min_samples_leaf': [3],\n",
    "    'min_samples_split': [2],\n",
    "    'n_estimators': [25]\n",
    "}"
   ]
  },
  {
   "cell_type": "markdown",
   "metadata": {},
   "source": [
    "Итоговый Score:"
   ]
  },
  {
   "cell_type": "code",
   "execution_count": 66,
   "metadata": {},
   "outputs": [
    {
     "data": {
      "text/plain": [
       "7.358580868879555"
      ]
     },
     "execution_count": 66,
     "metadata": {},
     "output_type": "execute_result"
    }
   ],
   "source": [
    "regression_general_score = smape_full(regression_score_rougher, regression_score_final)\n",
    "regression_general_score"
   ]
  },
  {
   "cell_type": "markdown",
   "metadata": {},
   "source": [
    "#### Подбор модели. Линейная регрессия"
   ]
  },
  {
   "cell_type": "markdown",
   "metadata": {},
   "source": [
    "Проверим модель линейной регрессии на кросс-валидации для cv=5:"
   ]
  },
  {
   "cell_type": "code",
   "execution_count": 67,
   "metadata": {},
   "outputs": [],
   "source": [
    "linear_model = LinearRegression(fit_intercept=True)"
   ]
  },
  {
   "cell_type": "code",
   "execution_count": 68,
   "metadata": {},
   "outputs": [],
   "source": [
    "linear_final_score = abs(cross_val_score(linear_model, final_train_features_significant, final_train_target, cv=5, scoring=smape_scorer).mean())"
   ]
  },
  {
   "cell_type": "code",
   "execution_count": 69,
   "metadata": {},
   "outputs": [],
   "source": [
    "linear_rougher_score = abs(cross_val_score(linear_model, rougher_train_features_significant, rougher_train_target, cv=5, scoring=smape_scorer).mean())"
   ]
  },
  {
   "cell_type": "code",
   "execution_count": 70,
   "metadata": {},
   "outputs": [
    {
     "data": {
      "text/plain": [
       "7.561182447842171"
      ]
     },
     "execution_count": 70,
     "metadata": {},
     "output_type": "execute_result"
    }
   ],
   "source": [
    "linear_general_score = smape_full(linear_rougher_score, linear_final_score)\n",
    "linear_general_score"
   ]
  },
  {
   "cell_type": "markdown",
   "metadata": {},
   "source": [
    "Лучший итоговый sMAPE на кросс-валидации у RandomForestRegression, используем эту модель для проверки на Test."
   ]
  },
  {
   "cell_type": "markdown",
   "metadata": {},
   "source": [
    "#### Dummy модель"
   ]
  },
  {
   "cell_type": "markdown",
   "metadata": {},
   "source": [
    "Проверим smape на Dummy Regressor:"
   ]
  },
  {
   "cell_type": "code",
   "execution_count": 71,
   "metadata": {},
   "outputs": [
    {
     "data": {
      "text/plain": [
       "8.506644388978046"
      ]
     },
     "execution_count": 71,
     "metadata": {},
     "output_type": "execute_result"
    }
   ],
   "source": [
    "dummy = DummyRegressor(strategy=\"mean\")\n",
    "dummy.fit(final_train_features_significant, final_train_target)\n",
    "predicted = dummy.predict(final_test_features_significant)\n",
    "dummy_final_smape = smape(final_test_target, predicted)\n",
    "dummy_final_smape"
   ]
  },
  {
   "cell_type": "code",
   "execution_count": 72,
   "metadata": {},
   "outputs": [
    {
     "data": {
      "text/plain": [
       "5.801382412746259"
      ]
     },
     "execution_count": 72,
     "metadata": {},
     "output_type": "execute_result"
    }
   ],
   "source": [
    "dummy = DummyRegressor(strategy=\"mean\")\n",
    "dummy.fit(rougher_train_features_significant, rougher_train_target)\n",
    "predicted = dummy.predict(rougher_test_features_significant)\n",
    "dummy_rougher_smape = smape(rougher_test_target, predicted)\n",
    "dummy_rougher_smape"
   ]
  },
  {
   "cell_type": "markdown",
   "metadata": {},
   "source": [
    "Итоговое sMAPE для Dummy:"
   ]
  },
  {
   "cell_type": "code",
   "execution_count": 73,
   "metadata": {},
   "outputs": [
    {
     "data": {
      "text/plain": [
       "7.830328894920099"
      ]
     },
     "execution_count": 73,
     "metadata": {},
     "output_type": "execute_result"
    }
   ],
   "source": [
    "dummy_smape_general = smape_full(dummy_rougher_smape, dummy_final_smape)\n",
    "dummy_smape_general"
   ]
  },
  {
   "cell_type": "markdown",
   "metadata": {},
   "source": [
    "#### Вычисление итогового sMAPE"
   ]
  },
  {
   "cell_type": "markdown",
   "metadata": {},
   "source": [
    "Проверим лучшую модель на тестовых данных:"
   ]
  },
  {
   "cell_type": "code",
   "execution_count": 74,
   "metadata": {},
   "outputs": [],
   "source": [
    "regression_model_final.fit(final_train_features_significant, final_train_target)\n",
    "predicted = regression_model_final.predict(final_test_features_significant)\n",
    "test_final_smape = smape(final_test_target, predicted)"
   ]
  },
  {
   "cell_type": "code",
   "execution_count": 75,
   "metadata": {},
   "outputs": [],
   "source": [
    "regression_model_rougher.fit(rougher_train_features_significant, rougher_train_target)\n",
    "predicted = regression_model_rougher.predict(rougher_test_features_significant)\n",
    "test_rougher_smape = smape(rougher_test_target, predicted)"
   ]
  },
  {
   "cell_type": "markdown",
   "metadata": {},
   "source": [
    "Итоговый sMAPE на тестовых данных:"
   ]
  },
  {
   "cell_type": "code",
   "execution_count": 76,
   "metadata": {},
   "outputs": [
    {
     "data": {
      "text/plain": [
       "6.611047239119932"
      ]
     },
     "execution_count": 76,
     "metadata": {},
     "output_type": "execute_result"
    }
   ],
   "source": [
    "smape_full(test_rougher_smape, test_final_smape)"
   ]
  },
  {
   "cell_type": "markdown",
   "metadata": {},
   "source": [
    "sMAPE у подобранной модели лучше, чем у Dummy."
   ]
  },
  {
   "cell_type": "markdown",
   "metadata": {},
   "source": [
    "#### Вывод"
   ]
  },
  {
   "cell_type": "markdown",
   "metadata": {},
   "source": [
    "Чтобы избежать шума, принято решение убрать из тренировочного и тестового датасетов часть столбцов, для которых корреляция с целевым столбцом ниже слабой (30%). Лучшая модель - RandomForestRegressor. Параметры для Final: (random_state=12345, max_depth=3, n_estimators=25, min_samples_split=4, min_samples_leaf=2, bootstrap=True, max_features='auto'). Параметры для Rougher: (random_state=12345, max_depth=4, n_estimators=25, min_samples_split=3, min_samples_leaf=2, bootstrap=True, max_features='auto'). Итоговое значение sMAPE на тестовых данных - 6.611. У DummyRegressor'а итоговое значение sMAPE - 7.83. Подобранная модель оказалась эффективнее Dummy."
   ]
  },
  {
   "cell_type": "markdown",
   "metadata": {},
   "source": [
    "## Общий вывод"
   ]
  },
  {
   "cell_type": "markdown",
   "metadata": {},
   "source": [
    "В ходе проекта были изучены датасеты, описывающие характеристики процесса восстановления золота из золотосодержащей руды. \n",
    "\n",
    "Изучение данных показало, что эффективность обогащения rougher.output.recovery в train датасете рассчитано верно. По мере прохождения этапов концентрация золота увеличивается линейно, ag и pb - уменьшается или несущественно увеличивается. Суммарная концентрация металлов также увеличивается.\n",
    "\n",
    "Нужно было предсказать два параметра: 'rougher.output.recovery' и 'final.output.recovery'. Для избежания переобучения модели часть данных, которые очень слабо коррелируют с целевыми показателями (до 30%), были исключены из датасетов. \n",
    "\n",
    "Для тестирования модели была использована метрика sMAPE. Лучшей моделью оказалась RandomForestRegressor. Параметры для Final:(random_state=12345, max_depth=3, n_estimators=25, min_samples_split=4, min_samples_leaf=2, bootstrap=True, max_features='auto'). Параметры для Rougher: (random_state=12345, max_depth=4, n_estimators=25, min_samples_split=3, min_samples_leaf=2, bootstrap=True, max_features='auto'). На тестовых итоговое значение smape для 'rougher.output.recovery' и 'final.output.recovery' составило 6.611. Для DummyRegressor'а итоговое значение sMAPE составило 7.83. Подобранная модель делает предсказания лучше, чем константная модель, поэтому работа не напрасна."
   ]
  }
 ],
 "metadata": {
  "ExecuteTimeLog": [
   {
    "duration": 3,
    "start_time": "2023-05-30T03:11:24.008Z"
   },
   {
    "duration": 4061,
    "start_time": "2023-05-30T03:11:24.013Z"
   },
   {
    "duration": 0,
    "start_time": "2023-05-30T03:11:28.077Z"
   },
   {
    "duration": 0,
    "start_time": "2023-05-30T03:11:28.078Z"
   },
   {
    "duration": 0,
    "start_time": "2023-05-30T03:11:28.079Z"
   },
   {
    "duration": 0,
    "start_time": "2023-05-30T03:11:28.081Z"
   },
   {
    "duration": 0,
    "start_time": "2023-05-30T03:11:28.082Z"
   },
   {
    "duration": 0,
    "start_time": "2023-05-30T03:11:28.084Z"
   },
   {
    "duration": 0,
    "start_time": "2023-05-30T03:11:28.085Z"
   },
   {
    "duration": 0,
    "start_time": "2023-05-30T03:11:28.087Z"
   },
   {
    "duration": 0,
    "start_time": "2023-05-30T03:11:28.106Z"
   },
   {
    "duration": 0,
    "start_time": "2023-05-30T03:11:28.107Z"
   },
   {
    "duration": 0,
    "start_time": "2023-05-30T03:11:28.108Z"
   },
   {
    "duration": 1,
    "start_time": "2023-05-30T03:11:28.109Z"
   },
   {
    "duration": 0,
    "start_time": "2023-05-30T03:11:28.110Z"
   },
   {
    "duration": 0,
    "start_time": "2023-05-30T03:11:28.111Z"
   },
   {
    "duration": 0,
    "start_time": "2023-05-30T03:11:28.112Z"
   },
   {
    "duration": 0,
    "start_time": "2023-05-30T03:11:28.113Z"
   },
   {
    "duration": 0,
    "start_time": "2023-05-30T03:11:28.114Z"
   },
   {
    "duration": 0,
    "start_time": "2023-05-30T03:11:28.115Z"
   },
   {
    "duration": 0,
    "start_time": "2023-05-30T03:11:28.116Z"
   },
   {
    "duration": 0,
    "start_time": "2023-05-30T03:11:28.116Z"
   },
   {
    "duration": 0,
    "start_time": "2023-05-30T03:11:28.117Z"
   },
   {
    "duration": 0,
    "start_time": "2023-05-30T03:11:28.118Z"
   },
   {
    "duration": 0,
    "start_time": "2023-05-30T03:11:28.119Z"
   },
   {
    "duration": 0,
    "start_time": "2023-05-30T03:11:28.120Z"
   },
   {
    "duration": 0,
    "start_time": "2023-05-30T03:11:28.121Z"
   },
   {
    "duration": 0,
    "start_time": "2023-05-30T03:11:28.121Z"
   },
   {
    "duration": 0,
    "start_time": "2023-05-30T03:11:28.122Z"
   },
   {
    "duration": 2212,
    "start_time": "2023-05-30T03:11:59.335Z"
   },
   {
    "duration": 675,
    "start_time": "2023-05-30T03:12:01.549Z"
   },
   {
    "duration": 23,
    "start_time": "2023-05-30T03:12:02.225Z"
   },
   {
    "duration": 35,
    "start_time": "2023-05-30T03:12:02.250Z"
   },
   {
    "duration": 18,
    "start_time": "2023-05-30T03:12:02.286Z"
   },
   {
    "duration": 211,
    "start_time": "2023-05-30T03:12:02.306Z"
   },
   {
    "duration": 3,
    "start_time": "2023-05-30T03:12:02.518Z"
   },
   {
    "duration": 20,
    "start_time": "2023-05-30T03:12:02.522Z"
   },
   {
    "duration": 7,
    "start_time": "2023-05-30T03:12:02.543Z"
   },
   {
    "duration": 19,
    "start_time": "2023-05-30T03:12:02.552Z"
   },
   {
    "duration": 16,
    "start_time": "2023-05-30T03:12:02.573Z"
   },
   {
    "duration": 6,
    "start_time": "2023-05-30T03:12:02.591Z"
   },
   {
    "duration": 9,
    "start_time": "2023-05-30T03:12:02.598Z"
   },
   {
    "duration": 6,
    "start_time": "2023-05-30T03:12:02.609Z"
   },
   {
    "duration": 14,
    "start_time": "2023-05-30T03:12:02.616Z"
   },
   {
    "duration": 4,
    "start_time": "2023-05-30T03:12:02.632Z"
   },
   {
    "duration": 8,
    "start_time": "2023-05-30T03:12:02.637Z"
   },
   {
    "duration": 16,
    "start_time": "2023-05-30T03:12:02.646Z"
   },
   {
    "duration": 25,
    "start_time": "2023-05-30T03:12:02.663Z"
   },
   {
    "duration": 7,
    "start_time": "2023-05-30T03:12:02.690Z"
   },
   {
    "duration": 35,
    "start_time": "2023-05-30T03:12:02.698Z"
   },
   {
    "duration": 4,
    "start_time": "2023-05-30T03:12:02.734Z"
   },
   {
    "duration": 9,
    "start_time": "2023-05-30T03:12:02.739Z"
   },
   {
    "duration": 14,
    "start_time": "2023-05-30T03:12:02.750Z"
   },
   {
    "duration": 154,
    "start_time": "2023-05-30T03:12:02.765Z"
   },
   {
    "duration": 599,
    "start_time": "2023-05-30T03:12:02.920Z"
   },
   {
    "duration": 115,
    "start_time": "2023-05-30T03:12:03.520Z"
   },
   {
    "duration": 243,
    "start_time": "2023-05-30T03:12:03.638Z"
   },
   {
    "duration": 22,
    "start_time": "2023-05-30T03:12:13.016Z"
   },
   {
    "duration": 3,
    "start_time": "2023-05-30T03:14:59.306Z"
   },
   {
    "duration": 98,
    "start_time": "2023-05-30T03:15:05.344Z"
   },
   {
    "duration": 111,
    "start_time": "2023-05-30T03:15:26.089Z"
   },
   {
    "duration": 6,
    "start_time": "2023-05-30T03:15:29.825Z"
   },
   {
    "duration": 1622,
    "start_time": "2023-05-30T11:34:09.372Z"
   },
   {
    "duration": 2704,
    "start_time": "2023-05-30T11:34:10.996Z"
   },
   {
    "duration": 32,
    "start_time": "2023-05-30T11:34:13.701Z"
   },
   {
    "duration": 23,
    "start_time": "2023-05-30T11:34:13.735Z"
   },
   {
    "duration": 27,
    "start_time": "2023-05-30T11:34:13.760Z"
   },
   {
    "duration": 369,
    "start_time": "2023-05-30T11:34:13.789Z"
   },
   {
    "duration": 3,
    "start_time": "2023-05-30T11:34:14.160Z"
   },
   {
    "duration": 14,
    "start_time": "2023-05-30T11:34:14.165Z"
   },
   {
    "duration": 5,
    "start_time": "2023-05-30T11:34:14.181Z"
   },
   {
    "duration": 8,
    "start_time": "2023-05-30T11:34:16.703Z"
   },
   {
    "duration": 19,
    "start_time": "2023-05-30T11:34:17.596Z"
   },
   {
    "duration": 8,
    "start_time": "2023-05-30T11:34:17.801Z"
   },
   {
    "duration": 10,
    "start_time": "2023-05-30T11:34:19.690Z"
   },
   {
    "duration": 8,
    "start_time": "2023-05-30T11:34:19.867Z"
   },
   {
    "duration": 11,
    "start_time": "2023-05-30T11:34:20.607Z"
   },
   {
    "duration": 5,
    "start_time": "2023-05-30T11:34:20.872Z"
   },
   {
    "duration": 9,
    "start_time": "2023-05-30T11:34:21.502Z"
   },
   {
    "duration": 8,
    "start_time": "2023-05-30T11:34:21.821Z"
   },
   {
    "duration": 139,
    "start_time": "2023-05-30T11:34:23.098Z"
   },
   {
    "duration": 19,
    "start_time": "2023-05-30T11:34:45.063Z"
   },
   {
    "duration": 46,
    "start_time": "2023-05-30T11:34:52.699Z"
   },
   {
    "duration": 36,
    "start_time": "2023-05-30T11:34:59.413Z"
   },
   {
    "duration": 36,
    "start_time": "2023-05-30T11:35:11.361Z"
   },
   {
    "duration": 37,
    "start_time": "2023-05-30T11:35:42.646Z"
   },
   {
    "duration": 57,
    "start_time": "2023-05-30T11:36:48.069Z"
   },
   {
    "duration": 45,
    "start_time": "2023-05-30T11:37:22.673Z"
   },
   {
    "duration": 49,
    "start_time": "2023-05-30T11:37:51.013Z"
   },
   {
    "duration": 47,
    "start_time": "2023-05-30T11:38:54.060Z"
   },
   {
    "duration": 56,
    "start_time": "2023-05-30T11:39:03.456Z"
   },
   {
    "duration": 35,
    "start_time": "2023-05-30T11:39:09.601Z"
   },
   {
    "duration": 30,
    "start_time": "2023-05-30T11:39:32.362Z"
   },
   {
    "duration": 40,
    "start_time": "2023-05-30T11:39:40.063Z"
   },
   {
    "duration": 67,
    "start_time": "2023-05-30T11:40:19.975Z"
   },
   {
    "duration": 56,
    "start_time": "2023-05-30T11:40:36.889Z"
   },
   {
    "duration": 38,
    "start_time": "2023-05-30T11:40:46.858Z"
   },
   {
    "duration": 49,
    "start_time": "2023-05-30T11:40:54.050Z"
   },
   {
    "duration": 57,
    "start_time": "2023-05-30T11:46:10.555Z"
   },
   {
    "duration": 60,
    "start_time": "2023-05-30T11:46:14.524Z"
   },
   {
    "duration": 58,
    "start_time": "2023-05-30T11:46:45.676Z"
   },
   {
    "duration": 45,
    "start_time": "2023-05-30T11:47:06.704Z"
   },
   {
    "duration": 36,
    "start_time": "2023-05-30T11:47:11.655Z"
   },
   {
    "duration": 56,
    "start_time": "2023-05-30T11:47:25.616Z"
   },
   {
    "duration": 44,
    "start_time": "2023-05-30T11:47:43.149Z"
   },
   {
    "duration": 35,
    "start_time": "2023-05-30T11:47:48.257Z"
   },
   {
    "duration": 33,
    "start_time": "2023-05-30T11:48:13.701Z"
   },
   {
    "duration": 31,
    "start_time": "2023-05-30T11:48:21.856Z"
   },
   {
    "duration": 48,
    "start_time": "2023-05-30T11:48:35.887Z"
   },
   {
    "duration": 72,
    "start_time": "2023-05-30T11:48:54.847Z"
   },
   {
    "duration": 71,
    "start_time": "2023-05-30T11:49:00.275Z"
   },
   {
    "duration": 5429,
    "start_time": "2023-05-30T11:49:05.753Z"
   },
   {
    "duration": 71,
    "start_time": "2023-05-30T11:49:21.277Z"
   },
   {
    "duration": 77,
    "start_time": "2023-05-30T11:50:05.485Z"
   },
   {
    "duration": 58,
    "start_time": "2023-05-30T11:51:14.618Z"
   },
   {
    "duration": 45,
    "start_time": "2023-05-30T11:51:21.217Z"
   },
   {
    "duration": 5281,
    "start_time": "2023-05-30T11:51:28.266Z"
   },
   {
    "duration": 52,
    "start_time": "2023-05-30T11:51:40.854Z"
   },
   {
    "duration": 64,
    "start_time": "2023-05-30T11:51:49.954Z"
   },
   {
    "duration": 5091,
    "start_time": "2023-05-30T11:51:53.609Z"
   },
   {
    "duration": 77,
    "start_time": "2023-05-30T11:52:04.379Z"
   },
   {
    "duration": 48,
    "start_time": "2023-05-30T11:58:41.594Z"
   },
   {
    "duration": 6808,
    "start_time": "2023-05-30T11:58:53.973Z"
   },
   {
    "duration": 13,
    "start_time": "2023-05-30T12:00:09.659Z"
   },
   {
    "duration": 39,
    "start_time": "2023-05-30T12:00:28.493Z"
   },
   {
    "duration": 55,
    "start_time": "2023-05-30T12:01:28.503Z"
   },
   {
    "duration": 25,
    "start_time": "2023-05-30T12:02:15.360Z"
   },
   {
    "duration": 3,
    "start_time": "2023-05-30T12:02:30.379Z"
   },
   {
    "duration": 6,
    "start_time": "2023-05-30T12:04:55.651Z"
   },
   {
    "duration": 45,
    "start_time": "2023-05-30T12:06:31.158Z"
   },
   {
    "duration": 37,
    "start_time": "2023-05-30T12:07:11.278Z"
   },
   {
    "duration": 38,
    "start_time": "2023-05-30T12:07:27.364Z"
   },
   {
    "duration": 51,
    "start_time": "2023-05-30T12:07:50.976Z"
   },
   {
    "duration": 36,
    "start_time": "2023-05-30T12:07:56.427Z"
   },
   {
    "duration": 38,
    "start_time": "2023-05-30T12:08:07.464Z"
   },
   {
    "duration": 58,
    "start_time": "2023-05-30T12:08:38.715Z"
   },
   {
    "duration": 42,
    "start_time": "2023-05-30T12:08:53.459Z"
   },
   {
    "duration": 43,
    "start_time": "2023-05-30T12:08:58.180Z"
   },
   {
    "duration": 258,
    "start_time": "2023-05-30T12:09:01.825Z"
   },
   {
    "duration": 320,
    "start_time": "2023-05-30T12:09:07.922Z"
   },
   {
    "duration": 53,
    "start_time": "2023-05-30T12:09:24.611Z"
   },
   {
    "duration": 33,
    "start_time": "2023-05-30T12:09:28.782Z"
   },
   {
    "duration": 78,
    "start_time": "2023-05-30T12:09:41.401Z"
   },
   {
    "duration": 33,
    "start_time": "2023-05-30T12:09:59.866Z"
   },
   {
    "duration": 35,
    "start_time": "2023-05-30T12:10:10.036Z"
   },
   {
    "duration": 29,
    "start_time": "2023-05-30T12:10:24.072Z"
   },
   {
    "duration": 43,
    "start_time": "2023-05-30T12:10:27.917Z"
   },
   {
    "duration": 36,
    "start_time": "2023-05-30T12:10:35.975Z"
   },
   {
    "duration": 29,
    "start_time": "2023-05-30T12:11:18.460Z"
   },
   {
    "duration": 37,
    "start_time": "2023-05-30T12:11:40.190Z"
   },
   {
    "duration": 30,
    "start_time": "2023-05-30T12:11:45.462Z"
   },
   {
    "duration": 25,
    "start_time": "2023-05-30T12:15:20.061Z"
   },
   {
    "duration": 62,
    "start_time": "2023-05-30T12:15:25.265Z"
   },
   {
    "duration": 39,
    "start_time": "2023-05-30T12:15:35.992Z"
   },
   {
    "duration": 40,
    "start_time": "2023-05-30T12:18:23.113Z"
   },
   {
    "duration": 35,
    "start_time": "2023-05-30T12:18:26.150Z"
   },
   {
    "duration": 51,
    "start_time": "2023-05-30T12:22:58.454Z"
   },
   {
    "duration": 67,
    "start_time": "2023-05-30T12:23:05.788Z"
   },
   {
    "duration": 30,
    "start_time": "2023-05-30T12:23:37.878Z"
   },
   {
    "duration": 31,
    "start_time": "2023-05-30T12:23:45.169Z"
   },
   {
    "duration": 38,
    "start_time": "2023-05-30T12:23:47.968Z"
   },
   {
    "duration": 27,
    "start_time": "2023-05-30T12:23:52.774Z"
   },
   {
    "duration": 49,
    "start_time": "2023-05-30T12:24:03.283Z"
   },
   {
    "duration": 18,
    "start_time": "2023-05-30T12:31:57.298Z"
   },
   {
    "duration": 5,
    "start_time": "2023-05-30T12:32:09.298Z"
   },
   {
    "duration": 1094,
    "start_time": "2023-05-30T12:32:09.307Z"
   },
   {
    "duration": 34,
    "start_time": "2023-05-30T12:32:10.403Z"
   },
   {
    "duration": 60,
    "start_time": "2023-05-30T12:32:10.439Z"
   },
   {
    "duration": 77,
    "start_time": "2023-05-30T12:32:10.502Z"
   },
   {
    "duration": 272,
    "start_time": "2023-05-30T12:32:10.582Z"
   },
   {
    "duration": 5,
    "start_time": "2023-05-30T12:32:10.859Z"
   },
   {
    "duration": 20,
    "start_time": "2023-05-30T12:32:10.865Z"
   },
   {
    "duration": 29,
    "start_time": "2023-05-30T12:32:10.887Z"
   },
   {
    "duration": 58,
    "start_time": "2023-05-30T12:32:10.918Z"
   },
   {
    "duration": 36,
    "start_time": "2023-05-30T12:32:10.979Z"
   },
   {
    "duration": 58,
    "start_time": "2023-05-30T12:32:11.017Z"
   },
   {
    "duration": 32,
    "start_time": "2023-05-30T12:32:11.077Z"
   },
   {
    "duration": 82,
    "start_time": "2023-05-30T12:32:11.111Z"
   },
   {
    "duration": 66,
    "start_time": "2023-05-30T12:32:11.197Z"
   },
   {
    "duration": 50,
    "start_time": "2023-05-30T12:32:11.265Z"
   },
   {
    "duration": 142,
    "start_time": "2023-05-30T12:32:11.318Z"
   },
   {
    "duration": 93,
    "start_time": "2023-05-30T12:32:11.462Z"
   },
   {
    "duration": 52,
    "start_time": "2023-05-30T12:32:11.557Z"
   },
   {
    "duration": 9,
    "start_time": "2023-05-30T12:32:11.611Z"
   },
   {
    "duration": 50,
    "start_time": "2023-05-30T12:32:11.622Z"
   },
   {
    "duration": 56,
    "start_time": "2023-05-30T12:32:11.674Z"
   },
   {
    "duration": 4,
    "start_time": "2023-05-30T12:32:15.392Z"
   },
   {
    "duration": 17,
    "start_time": "2023-05-30T12:32:16.323Z"
   },
   {
    "duration": 11,
    "start_time": "2023-05-30T12:32:17.458Z"
   },
   {
    "duration": 456,
    "start_time": "2023-05-30T12:32:18.654Z"
   },
   {
    "duration": 221,
    "start_time": "2023-05-30T12:37:37.290Z"
   },
   {
    "duration": 221,
    "start_time": "2023-05-30T12:38:15.853Z"
   },
   {
    "duration": 69,
    "start_time": "2023-05-30T12:38:37.950Z"
   },
   {
    "duration": 3,
    "start_time": "2023-05-30T13:42:55.613Z"
   },
   {
    "duration": 4,
    "start_time": "2023-05-30T13:43:10.081Z"
   },
   {
    "duration": 11,
    "start_time": "2023-05-30T14:02:28.080Z"
   },
   {
    "duration": 11,
    "start_time": "2023-05-30T14:02:36.110Z"
   },
   {
    "duration": 12,
    "start_time": "2023-05-30T14:02:40.026Z"
   },
   {
    "duration": 5,
    "start_time": "2023-05-30T14:02:49.117Z"
   },
   {
    "duration": 16,
    "start_time": "2023-05-30T14:15:23.059Z"
   },
   {
    "duration": 6,
    "start_time": "2023-05-30T14:15:23.377Z"
   },
   {
    "duration": 3313,
    "start_time": "2023-05-30T14:46:41.184Z"
   },
   {
    "duration": 3543,
    "start_time": "2023-05-30T14:46:59.046Z"
   },
   {
    "duration": 3335,
    "start_time": "2023-05-30T14:47:20.096Z"
   },
   {
    "duration": 10,
    "start_time": "2023-05-30T14:50:22.952Z"
   },
   {
    "duration": 14,
    "start_time": "2023-05-30T14:50:59.525Z"
   },
   {
    "duration": 2550,
    "start_time": "2023-05-30T14:51:07.806Z"
   },
   {
    "duration": 2802,
    "start_time": "2023-05-30T14:51:17.641Z"
   },
   {
    "duration": 2473,
    "start_time": "2023-05-30T15:19:14.558Z"
   },
   {
    "duration": 121,
    "start_time": "2023-05-30T15:19:20.906Z"
   },
   {
    "duration": 22,
    "start_time": "2023-05-30T15:19:22.583Z"
   },
   {
    "duration": 12,
    "start_time": "2023-05-30T15:19:33.221Z"
   },
   {
    "duration": 17,
    "start_time": "2023-05-30T15:24:25.423Z"
   },
   {
    "duration": 4,
    "start_time": "2023-05-30T15:24:40.444Z"
   },
   {
    "duration": 13,
    "start_time": "2023-05-30T15:24:45.219Z"
   },
   {
    "duration": 12,
    "start_time": "2023-05-30T15:36:23.252Z"
   },
   {
    "duration": 11,
    "start_time": "2023-05-30T15:37:25.084Z"
   },
   {
    "duration": 6,
    "start_time": "2023-05-30T15:37:32.023Z"
   },
   {
    "duration": 221,
    "start_time": "2023-05-30T16:04:09.054Z"
   },
   {
    "duration": 3,
    "start_time": "2023-05-30T16:07:40.477Z"
   },
   {
    "duration": 11,
    "start_time": "2023-05-30T16:07:49.021Z"
   },
   {
    "duration": 6,
    "start_time": "2023-05-30T16:11:51.496Z"
   },
   {
    "duration": 6,
    "start_time": "2023-05-30T16:12:40.189Z"
   },
   {
    "duration": 4,
    "start_time": "2023-05-30T16:12:44.701Z"
   },
   {
    "duration": 9,
    "start_time": "2023-05-30T16:12:55.350Z"
   },
   {
    "duration": 4,
    "start_time": "2023-05-30T16:12:57.823Z"
   },
   {
    "duration": 4,
    "start_time": "2023-05-30T16:13:06.905Z"
   },
   {
    "duration": 6,
    "start_time": "2023-05-30T16:13:41.642Z"
   },
   {
    "duration": 7,
    "start_time": "2023-05-30T16:13:52.924Z"
   },
   {
    "duration": 9,
    "start_time": "2023-05-30T16:14:27.127Z"
   },
   {
    "duration": 116,
    "start_time": "2023-05-30T16:17:19.932Z"
   },
   {
    "duration": 190,
    "start_time": "2023-05-30T16:17:26.049Z"
   },
   {
    "duration": 106,
    "start_time": "2023-05-30T16:19:39.297Z"
   },
   {
    "duration": 106,
    "start_time": "2023-05-30T16:19:42.627Z"
   },
   {
    "duration": 109,
    "start_time": "2023-05-30T16:19:56.959Z"
   },
   {
    "duration": 99,
    "start_time": "2023-05-30T16:20:03.208Z"
   },
   {
    "duration": 265,
    "start_time": "2023-05-30T16:20:42.080Z"
   },
   {
    "duration": 234,
    "start_time": "2023-05-30T16:20:54.661Z"
   },
   {
    "duration": 240,
    "start_time": "2023-05-30T16:21:00.149Z"
   },
   {
    "duration": 245,
    "start_time": "2023-05-30T16:21:20.362Z"
   },
   {
    "duration": 237,
    "start_time": "2023-05-30T16:24:03.081Z"
   },
   {
    "duration": 904,
    "start_time": "2023-05-30T16:33:36.757Z"
   },
   {
    "duration": 14,
    "start_time": "2023-05-30T16:34:22.209Z"
   },
   {
    "duration": 11,
    "start_time": "2023-05-30T16:34:34.768Z"
   },
   {
    "duration": 9,
    "start_time": "2023-05-30T16:34:49.350Z"
   },
   {
    "duration": 38,
    "start_time": "2023-05-30T16:36:39.552Z"
   },
   {
    "duration": 9,
    "start_time": "2023-05-30T16:37:17.883Z"
   },
   {
    "duration": 8,
    "start_time": "2023-05-30T16:37:23.819Z"
   },
   {
    "duration": 4,
    "start_time": "2023-05-30T16:37:32.319Z"
   },
   {
    "duration": 11,
    "start_time": "2023-05-30T16:39:42.306Z"
   },
   {
    "duration": 15,
    "start_time": "2023-05-30T16:40:00.393Z"
   },
   {
    "duration": 225,
    "start_time": "2023-05-30T16:40:52.689Z"
   },
   {
    "duration": 6,
    "start_time": "2023-05-30T16:49:50.369Z"
   },
   {
    "duration": 4,
    "start_time": "2023-05-30T16:49:57.183Z"
   },
   {
    "duration": 259,
    "start_time": "2023-05-30T16:51:26.293Z"
   },
   {
    "duration": 243,
    "start_time": "2023-05-30T16:52:27.085Z"
   },
   {
    "duration": 9,
    "start_time": "2023-05-30T16:52:39.476Z"
   },
   {
    "duration": 220,
    "start_time": "2023-05-30T16:52:47.990Z"
   },
   {
    "duration": 3,
    "start_time": "2023-05-30T16:53:10.572Z"
   },
   {
    "duration": 824,
    "start_time": "2023-05-30T16:53:10.580Z"
   },
   {
    "duration": 28,
    "start_time": "2023-05-30T16:53:11.406Z"
   },
   {
    "duration": 51,
    "start_time": "2023-05-30T16:53:11.435Z"
   },
   {
    "duration": 0,
    "start_time": "2023-05-30T16:53:11.488Z"
   },
   {
    "duration": 1,
    "start_time": "2023-05-30T16:53:11.489Z"
   },
   {
    "duration": 0,
    "start_time": "2023-05-30T16:53:11.490Z"
   },
   {
    "duration": 0,
    "start_time": "2023-05-30T16:53:11.491Z"
   },
   {
    "duration": 0,
    "start_time": "2023-05-30T16:53:11.493Z"
   },
   {
    "duration": 0,
    "start_time": "2023-05-30T16:53:11.494Z"
   },
   {
    "duration": 0,
    "start_time": "2023-05-30T16:53:11.495Z"
   },
   {
    "duration": 0,
    "start_time": "2023-05-30T16:53:11.496Z"
   },
   {
    "duration": 0,
    "start_time": "2023-05-30T16:53:11.497Z"
   },
   {
    "duration": 0,
    "start_time": "2023-05-30T16:53:11.498Z"
   },
   {
    "duration": 0,
    "start_time": "2023-05-30T16:53:11.499Z"
   },
   {
    "duration": 0,
    "start_time": "2023-05-30T16:53:11.500Z"
   },
   {
    "duration": 245,
    "start_time": "2023-05-30T16:53:17.886Z"
   },
   {
    "duration": 6,
    "start_time": "2023-05-30T16:54:39.352Z"
   },
   {
    "duration": 6,
    "start_time": "2023-05-30T16:54:48.758Z"
   },
   {
    "duration": 5,
    "start_time": "2023-05-30T16:54:52.125Z"
   },
   {
    "duration": 6,
    "start_time": "2023-05-30T16:54:56.649Z"
   },
   {
    "duration": 6,
    "start_time": "2023-05-30T16:55:08.931Z"
   },
   {
    "duration": 7,
    "start_time": "2023-05-30T16:55:29.869Z"
   },
   {
    "duration": 6,
    "start_time": "2023-05-30T16:55:41.482Z"
   },
   {
    "duration": 5,
    "start_time": "2023-05-30T16:55:50.368Z"
   },
   {
    "duration": 3,
    "start_time": "2023-05-30T16:56:49.993Z"
   },
   {
    "duration": 798,
    "start_time": "2023-05-30T16:56:50.001Z"
   },
   {
    "duration": 30,
    "start_time": "2023-05-30T16:56:50.800Z"
   },
   {
    "duration": 43,
    "start_time": "2023-05-30T16:56:50.832Z"
   },
   {
    "duration": 49,
    "start_time": "2023-05-30T16:56:50.878Z"
   },
   {
    "duration": 298,
    "start_time": "2023-05-30T16:56:50.929Z"
   },
   {
    "duration": 3,
    "start_time": "2023-05-30T16:56:51.228Z"
   },
   {
    "duration": 22,
    "start_time": "2023-05-30T16:56:51.232Z"
   },
   {
    "duration": 21,
    "start_time": "2023-05-30T16:56:51.255Z"
   },
   {
    "duration": 19,
    "start_time": "2023-05-30T16:56:51.278Z"
   },
   {
    "duration": 23,
    "start_time": "2023-05-30T16:56:51.299Z"
   },
   {
    "duration": 9,
    "start_time": "2023-05-30T16:56:51.324Z"
   },
   {
    "duration": 28,
    "start_time": "2023-05-30T16:56:51.334Z"
   },
   {
    "duration": 17,
    "start_time": "2023-05-30T16:56:51.363Z"
   },
   {
    "duration": 17,
    "start_time": "2023-05-30T16:56:51.382Z"
   },
   {
    "duration": 110,
    "start_time": "2023-05-30T17:02:50.444Z"
   },
   {
    "duration": 5,
    "start_time": "2023-05-30T17:04:25.707Z"
   },
   {
    "duration": 20,
    "start_time": "2023-05-30T17:06:45.237Z"
   },
   {
    "duration": 13,
    "start_time": "2023-05-30T17:06:57.639Z"
   },
   {
    "duration": 27,
    "start_time": "2023-05-30T17:07:10.478Z"
   },
   {
    "duration": 13,
    "start_time": "2023-05-30T17:07:31.871Z"
   },
   {
    "duration": 14,
    "start_time": "2023-05-30T17:07:49.858Z"
   },
   {
    "duration": 73,
    "start_time": "2023-05-30T17:08:26.393Z"
   },
   {
    "duration": 16,
    "start_time": "2023-05-30T17:08:31.228Z"
   },
   {
    "duration": 15,
    "start_time": "2023-05-30T17:09:52.573Z"
   },
   {
    "duration": 15,
    "start_time": "2023-05-30T17:10:59.122Z"
   },
   {
    "duration": 17,
    "start_time": "2023-05-30T17:11:02.235Z"
   },
   {
    "duration": 14,
    "start_time": "2023-05-30T17:11:11.892Z"
   },
   {
    "duration": 4,
    "start_time": "2023-05-30T17:11:27.262Z"
   },
   {
    "duration": 14,
    "start_time": "2023-05-30T17:11:50.604Z"
   },
   {
    "duration": 13,
    "start_time": "2023-05-30T17:11:54.784Z"
   },
   {
    "duration": 10,
    "start_time": "2023-05-30T17:12:29.755Z"
   },
   {
    "duration": 16,
    "start_time": "2023-05-30T17:12:39.747Z"
   },
   {
    "duration": 14,
    "start_time": "2023-05-30T17:13:09.103Z"
   },
   {
    "duration": 36,
    "start_time": "2023-05-30T17:13:25.345Z"
   },
   {
    "duration": 8,
    "start_time": "2023-05-30T17:13:40.610Z"
   },
   {
    "duration": 232,
    "start_time": "2023-05-30T17:13:53.740Z"
   },
   {
    "duration": 3,
    "start_time": "2023-05-30T17:15:10.372Z"
   },
   {
    "duration": 817,
    "start_time": "2023-05-30T17:15:10.382Z"
   },
   {
    "duration": 29,
    "start_time": "2023-05-30T17:15:11.201Z"
   },
   {
    "duration": 20,
    "start_time": "2023-05-30T17:15:11.232Z"
   },
   {
    "duration": 18,
    "start_time": "2023-05-30T17:15:11.254Z"
   },
   {
    "duration": 280,
    "start_time": "2023-05-30T17:15:11.274Z"
   },
   {
    "duration": 3,
    "start_time": "2023-05-30T17:15:11.556Z"
   },
   {
    "duration": 6,
    "start_time": "2023-05-30T17:15:11.562Z"
   },
   {
    "duration": 6,
    "start_time": "2023-05-30T17:15:11.569Z"
   },
   {
    "duration": 7,
    "start_time": "2023-05-30T17:15:11.576Z"
   },
   {
    "duration": 40,
    "start_time": "2023-05-30T17:15:11.585Z"
   },
   {
    "duration": 7,
    "start_time": "2023-05-30T17:15:11.627Z"
   },
   {
    "duration": 16,
    "start_time": "2023-05-30T17:15:11.636Z"
   },
   {
    "duration": 8,
    "start_time": "2023-05-30T17:15:11.653Z"
   },
   {
    "duration": 7,
    "start_time": "2023-05-30T17:15:11.663Z"
   },
   {
    "duration": 100,
    "start_time": "2023-05-30T17:15:14.971Z"
   },
   {
    "duration": 121,
    "start_time": "2023-05-30T17:15:34.672Z"
   },
   {
    "duration": 110,
    "start_time": "2023-05-30T17:15:39.461Z"
   },
   {
    "duration": 17,
    "start_time": "2023-05-30T17:15:59.987Z"
   },
   {
    "duration": 13,
    "start_time": "2023-05-30T17:16:03.202Z"
   },
   {
    "duration": 102,
    "start_time": "2023-05-30T17:16:11.871Z"
   },
   {
    "duration": 33,
    "start_time": "2023-05-30T17:17:16.424Z"
   },
   {
    "duration": 3,
    "start_time": "2023-05-30T17:17:35.734Z"
   },
   {
    "duration": 23,
    "start_time": "2023-05-30T17:19:34.570Z"
   },
   {
    "duration": 31,
    "start_time": "2023-05-30T17:43:41.150Z"
   },
   {
    "duration": 12,
    "start_time": "2023-05-30T17:43:48.797Z"
   },
   {
    "duration": 219,
    "start_time": "2023-05-30T17:43:57.182Z"
   },
   {
    "duration": 5,
    "start_time": "2023-05-30T17:44:26.866Z"
   },
   {
    "duration": 4,
    "start_time": "2023-05-30T17:44:30.352Z"
   },
   {
    "duration": 5,
    "start_time": "2023-05-30T17:44:34.170Z"
   },
   {
    "duration": 26,
    "start_time": "2023-05-30T17:44:36.285Z"
   },
   {
    "duration": 26,
    "start_time": "2023-05-30T17:44:39.646Z"
   },
   {
    "duration": 227,
    "start_time": "2023-05-30T17:44:46.149Z"
   },
   {
    "duration": 157,
    "start_time": "2023-05-30T17:45:35.397Z"
   },
   {
    "duration": 137,
    "start_time": "2023-05-30T17:45:43.359Z"
   },
   {
    "duration": 101,
    "start_time": "2023-05-30T17:45:49.030Z"
   },
   {
    "duration": 3,
    "start_time": "2023-05-30T17:45:53.933Z"
   },
   {
    "duration": 737,
    "start_time": "2023-05-30T17:45:53.942Z"
   },
   {
    "duration": 22,
    "start_time": "2023-05-30T17:45:54.681Z"
   },
   {
    "duration": 30,
    "start_time": "2023-05-30T17:45:54.704Z"
   },
   {
    "duration": 20,
    "start_time": "2023-05-30T17:45:54.736Z"
   },
   {
    "duration": 254,
    "start_time": "2023-05-30T17:45:54.759Z"
   },
   {
    "duration": 3,
    "start_time": "2023-05-30T17:45:55.014Z"
   },
   {
    "duration": 16,
    "start_time": "2023-05-30T17:45:55.025Z"
   },
   {
    "duration": 35,
    "start_time": "2023-05-30T17:45:55.043Z"
   },
   {
    "duration": 36,
    "start_time": "2023-05-30T17:45:55.079Z"
   },
   {
    "duration": 25,
    "start_time": "2023-05-30T17:45:55.116Z"
   },
   {
    "duration": 5,
    "start_time": "2023-05-30T17:45:55.143Z"
   },
   {
    "duration": 28,
    "start_time": "2023-05-30T17:45:55.150Z"
   },
   {
    "duration": 35,
    "start_time": "2023-05-30T17:45:55.180Z"
   },
   {
    "duration": 7,
    "start_time": "2023-05-30T17:45:55.218Z"
   },
   {
    "duration": 109,
    "start_time": "2023-05-30T17:45:57.007Z"
   },
   {
    "duration": 100,
    "start_time": "2023-05-30T17:45:59.475Z"
   },
   {
    "duration": 23,
    "start_time": "2023-05-30T17:46:55.322Z"
   },
   {
    "duration": 592,
    "start_time": "2023-05-30T17:47:21.678Z"
   },
   {
    "duration": 149,
    "start_time": "2023-05-30T17:47:29.714Z"
   },
   {
    "duration": 68,
    "start_time": "2023-05-30T17:47:37.542Z"
   },
   {
    "duration": 110,
    "start_time": "2023-05-30T17:47:53.170Z"
   },
   {
    "duration": 106,
    "start_time": "2023-05-30T17:47:57.102Z"
   },
   {
    "duration": 138,
    "start_time": "2023-05-30T17:48:00.184Z"
   },
   {
    "duration": 25,
    "start_time": "2023-05-30T17:48:09.102Z"
   },
   {
    "duration": 6,
    "start_time": "2023-05-30T17:48:15.209Z"
   },
   {
    "duration": 144,
    "start_time": "2023-05-30T17:50:18.877Z"
   },
   {
    "duration": 5,
    "start_time": "2023-05-30T17:50:50.436Z"
   },
   {
    "duration": 5,
    "start_time": "2023-05-30T17:50:56.038Z"
   },
   {
    "duration": 5,
    "start_time": "2023-05-30T17:50:59.183Z"
   },
   {
    "duration": 4,
    "start_time": "2023-05-30T17:51:03.721Z"
   },
   {
    "duration": 5,
    "start_time": "2023-05-30T17:51:07.086Z"
   },
   {
    "duration": 5,
    "start_time": "2023-05-30T17:51:12.406Z"
   },
   {
    "duration": 7,
    "start_time": "2023-05-30T17:51:14.850Z"
   },
   {
    "duration": 6,
    "start_time": "2023-05-30T17:51:18.681Z"
   },
   {
    "duration": 5,
    "start_time": "2023-05-30T17:51:23.208Z"
   },
   {
    "duration": 5,
    "start_time": "2023-05-30T17:51:32.115Z"
   },
   {
    "duration": 5,
    "start_time": "2023-05-30T17:51:34.521Z"
   },
   {
    "duration": 5,
    "start_time": "2023-05-30T17:51:39.251Z"
   },
   {
    "duration": 6,
    "start_time": "2023-05-30T17:54:01.592Z"
   },
   {
    "duration": 7,
    "start_time": "2023-05-30T17:54:07.831Z"
   },
   {
    "duration": 3,
    "start_time": "2023-05-30T17:58:22.008Z"
   },
   {
    "duration": 735,
    "start_time": "2023-05-30T17:58:22.016Z"
   },
   {
    "duration": 22,
    "start_time": "2023-05-30T17:58:22.753Z"
   },
   {
    "duration": 23,
    "start_time": "2023-05-30T17:58:22.776Z"
   },
   {
    "duration": 34,
    "start_time": "2023-05-30T17:58:22.800Z"
   },
   {
    "duration": 250,
    "start_time": "2023-05-30T17:58:22.835Z"
   },
   {
    "duration": 2,
    "start_time": "2023-05-30T17:58:23.087Z"
   },
   {
    "duration": 7,
    "start_time": "2023-05-30T17:58:23.091Z"
   },
   {
    "duration": 7,
    "start_time": "2023-05-30T17:58:23.100Z"
   },
   {
    "duration": 20,
    "start_time": "2023-05-30T17:58:23.109Z"
   },
   {
    "duration": 15,
    "start_time": "2023-05-30T17:58:23.131Z"
   },
   {
    "duration": 7,
    "start_time": "2023-05-30T17:58:23.147Z"
   },
   {
    "duration": 14,
    "start_time": "2023-05-30T17:58:23.155Z"
   },
   {
    "duration": 8,
    "start_time": "2023-05-30T17:58:23.171Z"
   },
   {
    "duration": 13,
    "start_time": "2023-05-30T17:58:23.181Z"
   },
   {
    "duration": 122,
    "start_time": "2023-05-30T17:58:24.966Z"
   },
   {
    "duration": 9,
    "start_time": "2023-05-30T18:15:48.655Z"
   },
   {
    "duration": 13,
    "start_time": "2023-05-30T18:16:12.715Z"
   },
   {
    "duration": 11,
    "start_time": "2023-05-30T18:16:20.942Z"
   },
   {
    "duration": 202,
    "start_time": "2023-05-30T18:16:34.177Z"
   },
   {
    "duration": 7899,
    "start_time": "2023-05-30T18:20:50.871Z"
   },
   {
    "duration": 37,
    "start_time": "2023-05-30T18:21:46.120Z"
   },
   {
    "duration": 26,
    "start_time": "2023-05-30T18:21:51.079Z"
   },
   {
    "duration": 2235,
    "start_time": "2023-05-30T18:21:55.773Z"
   },
   {
    "duration": 3,
    "start_time": "2023-05-30T18:22:21.884Z"
   },
   {
    "duration": 21,
    "start_time": "2023-05-30T18:22:25.110Z"
   },
   {
    "duration": 3,
    "start_time": "2023-05-30T18:22:37.597Z"
   },
   {
    "duration": 716,
    "start_time": "2023-05-30T18:22:37.604Z"
   },
   {
    "duration": 24,
    "start_time": "2023-05-30T18:22:38.322Z"
   },
   {
    "duration": 40,
    "start_time": "2023-05-30T18:22:38.347Z"
   },
   {
    "duration": 27,
    "start_time": "2023-05-30T18:22:38.388Z"
   },
   {
    "duration": 230,
    "start_time": "2023-05-30T18:22:38.417Z"
   },
   {
    "duration": 2,
    "start_time": "2023-05-30T18:22:38.649Z"
   },
   {
    "duration": 25,
    "start_time": "2023-05-30T18:22:38.652Z"
   },
   {
    "duration": 14,
    "start_time": "2023-05-30T18:22:38.678Z"
   },
   {
    "duration": 22,
    "start_time": "2023-05-30T18:22:38.693Z"
   },
   {
    "duration": 12,
    "start_time": "2023-05-30T18:22:38.716Z"
   },
   {
    "duration": 19,
    "start_time": "2023-05-30T18:22:38.730Z"
   },
   {
    "duration": 16,
    "start_time": "2023-05-30T18:22:38.751Z"
   },
   {
    "duration": 23,
    "start_time": "2023-05-30T18:22:38.769Z"
   },
   {
    "duration": 13,
    "start_time": "2023-05-30T18:22:38.795Z"
   },
   {
    "duration": 141,
    "start_time": "2023-05-30T18:22:38.809Z"
   },
   {
    "duration": 26,
    "start_time": "2023-05-30T18:22:47.949Z"
   },
   {
    "duration": 10796,
    "start_time": "2023-05-30T18:22:53.481Z"
   },
   {
    "duration": 6739,
    "start_time": "2023-05-30T18:23:09.951Z"
   },
   {
    "duration": 30,
    "start_time": "2023-05-30T18:25:03.092Z"
   },
   {
    "duration": 6884,
    "start_time": "2023-05-30T18:25:10.182Z"
   },
   {
    "duration": 7206,
    "start_time": "2023-05-30T18:25:35.588Z"
   },
   {
    "duration": 6694,
    "start_time": "2023-05-30T18:25:55.345Z"
   },
   {
    "duration": 7041,
    "start_time": "2023-05-30T18:26:09.906Z"
   },
   {
    "duration": 6969,
    "start_time": "2023-05-30T18:26:19.234Z"
   },
   {
    "duration": 7163,
    "start_time": "2023-05-30T18:26:34.386Z"
   },
   {
    "duration": 8030,
    "start_time": "2023-05-30T18:26:47.964Z"
   },
   {
    "duration": 8307,
    "start_time": "2023-05-30T18:26:57.278Z"
   },
   {
    "duration": 3793,
    "start_time": "2023-05-30T18:27:26.666Z"
   },
   {
    "duration": 761,
    "start_time": "2023-05-30T18:28:21.830Z"
   },
   {
    "duration": 6,
    "start_time": "2023-05-30T18:28:33.592Z"
   },
   {
    "duration": 3,
    "start_time": "2023-05-30T18:28:40.892Z"
   },
   {
    "duration": 799,
    "start_time": "2023-05-30T18:28:40.900Z"
   },
   {
    "duration": 28,
    "start_time": "2023-05-30T18:28:41.701Z"
   },
   {
    "duration": 20,
    "start_time": "2023-05-30T18:28:41.730Z"
   },
   {
    "duration": 22,
    "start_time": "2023-05-30T18:28:41.752Z"
   },
   {
    "duration": 266,
    "start_time": "2023-05-30T18:28:41.776Z"
   },
   {
    "duration": 3,
    "start_time": "2023-05-30T18:28:42.044Z"
   },
   {
    "duration": 7,
    "start_time": "2023-05-30T18:28:42.048Z"
   },
   {
    "duration": 6,
    "start_time": "2023-05-30T18:28:42.057Z"
   },
   {
    "duration": 6,
    "start_time": "2023-05-30T18:28:42.065Z"
   },
   {
    "duration": 22,
    "start_time": "2023-05-30T18:28:42.073Z"
   },
   {
    "duration": 31,
    "start_time": "2023-05-30T18:28:42.097Z"
   },
   {
    "duration": 13,
    "start_time": "2023-05-30T18:28:42.129Z"
   },
   {
    "duration": 13,
    "start_time": "2023-05-30T18:28:42.143Z"
   },
   {
    "duration": 5,
    "start_time": "2023-05-30T18:28:42.159Z"
   },
   {
    "duration": 139,
    "start_time": "2023-05-30T18:28:42.165Z"
   },
   {
    "duration": 35,
    "start_time": "2023-05-30T18:28:42.305Z"
   },
   {
    "duration": 6,
    "start_time": "2023-05-30T18:28:45.212Z"
   },
   {
    "duration": 20406,
    "start_time": "2023-05-30T18:29:52.494Z"
   },
   {
    "duration": 5,
    "start_time": "2023-05-30T18:30:39.625Z"
   },
   {
    "duration": 3,
    "start_time": "2023-05-30T18:30:50.643Z"
   },
   {
    "duration": 711,
    "start_time": "2023-05-30T18:30:50.651Z"
   },
   {
    "duration": 23,
    "start_time": "2023-05-30T18:30:51.364Z"
   },
   {
    "duration": 36,
    "start_time": "2023-05-30T18:30:51.389Z"
   },
   {
    "duration": 23,
    "start_time": "2023-05-30T18:30:51.427Z"
   },
   {
    "duration": 263,
    "start_time": "2023-05-30T18:30:51.452Z"
   },
   {
    "duration": 3,
    "start_time": "2023-05-30T18:30:51.717Z"
   },
   {
    "duration": 41,
    "start_time": "2023-05-30T18:30:51.721Z"
   },
   {
    "duration": 20,
    "start_time": "2023-05-30T18:30:51.764Z"
   },
   {
    "duration": 21,
    "start_time": "2023-05-30T18:30:51.786Z"
   },
   {
    "duration": 21,
    "start_time": "2023-05-30T18:30:51.809Z"
   },
   {
    "duration": 14,
    "start_time": "2023-05-30T18:30:51.831Z"
   },
   {
    "duration": 21,
    "start_time": "2023-05-30T18:30:51.846Z"
   },
   {
    "duration": 20,
    "start_time": "2023-05-30T18:30:51.868Z"
   },
   {
    "duration": 41,
    "start_time": "2023-05-30T18:30:51.891Z"
   },
   {
    "duration": 167,
    "start_time": "2023-05-30T18:30:51.934Z"
   },
   {
    "duration": 34,
    "start_time": "2023-05-30T18:30:52.103Z"
   },
   {
    "duration": 7,
    "start_time": "2023-05-30T18:30:55.283Z"
   },
   {
    "duration": 586,
    "start_time": "2023-05-30T18:33:15.839Z"
   },
   {
    "duration": 566,
    "start_time": "2023-05-30T18:35:38.675Z"
   },
   {
    "duration": 3,
    "start_time": "2023-05-30T18:41:08.058Z"
   },
   {
    "duration": 149,
    "start_time": "2023-05-30T18:41:09.190Z"
   },
   {
    "duration": 3,
    "start_time": "2023-05-30T18:43:22.997Z"
   },
   {
    "duration": 184,
    "start_time": "2023-05-30T18:43:24.131Z"
   },
   {
    "duration": 209,
    "start_time": "2023-05-30T18:45:20.995Z"
   },
   {
    "duration": 197,
    "start_time": "2023-05-30T18:45:27.530Z"
   },
   {
    "duration": 199,
    "start_time": "2023-05-30T18:49:46.215Z"
   },
   {
    "duration": 70,
    "start_time": "2023-05-30T18:51:18.183Z"
   },
   {
    "duration": 77,
    "start_time": "2023-05-30T18:51:40.451Z"
   },
   {
    "duration": 4,
    "start_time": "2023-05-30T18:52:29.723Z"
   },
   {
    "duration": 754,
    "start_time": "2023-05-30T18:52:29.730Z"
   },
   {
    "duration": 25,
    "start_time": "2023-05-30T18:52:30.486Z"
   },
   {
    "duration": 47,
    "start_time": "2023-05-30T18:52:30.513Z"
   },
   {
    "duration": 59,
    "start_time": "2023-05-30T18:52:30.562Z"
   },
   {
    "duration": 248,
    "start_time": "2023-05-30T18:52:30.623Z"
   },
   {
    "duration": 4,
    "start_time": "2023-05-30T18:52:30.872Z"
   },
   {
    "duration": 47,
    "start_time": "2023-05-30T18:52:30.877Z"
   },
   {
    "duration": 44,
    "start_time": "2023-05-30T18:52:30.925Z"
   },
   {
    "duration": 30,
    "start_time": "2023-05-30T18:52:30.970Z"
   },
   {
    "duration": 38,
    "start_time": "2023-05-30T18:52:31.002Z"
   },
   {
    "duration": 49,
    "start_time": "2023-05-30T18:52:31.041Z"
   },
   {
    "duration": 34,
    "start_time": "2023-05-30T18:52:31.092Z"
   },
   {
    "duration": 28,
    "start_time": "2023-05-30T18:52:31.127Z"
   },
   {
    "duration": 28,
    "start_time": "2023-05-30T18:52:31.158Z"
   },
   {
    "duration": 71,
    "start_time": "2023-05-30T18:52:31.187Z"
   },
   {
    "duration": 238,
    "start_time": "2023-05-30T18:52:31.259Z"
   },
   {
    "duration": 74,
    "start_time": "2023-05-30T18:52:35.936Z"
   },
   {
    "duration": 211,
    "start_time": "2023-05-30T18:52:40.605Z"
   },
   {
    "duration": 251,
    "start_time": "2023-05-30T18:53:30.903Z"
   },
   {
    "duration": 192,
    "start_time": "2023-05-30T18:53:38.068Z"
   },
   {
    "duration": 224,
    "start_time": "2023-05-30T18:54:27.772Z"
   },
   {
    "duration": 3,
    "start_time": "2023-05-30T18:55:37.475Z"
   },
   {
    "duration": 791,
    "start_time": "2023-05-30T18:55:37.482Z"
   },
   {
    "duration": 21,
    "start_time": "2023-05-30T18:55:38.275Z"
   },
   {
    "duration": 62,
    "start_time": "2023-05-30T18:55:38.297Z"
   },
   {
    "duration": 23,
    "start_time": "2023-05-30T18:55:38.361Z"
   },
   {
    "duration": 225,
    "start_time": "2023-05-30T18:55:38.386Z"
   },
   {
    "duration": 2,
    "start_time": "2023-05-30T18:55:38.613Z"
   },
   {
    "duration": 29,
    "start_time": "2023-05-30T18:55:38.624Z"
   },
   {
    "duration": 17,
    "start_time": "2023-05-30T18:55:38.655Z"
   },
   {
    "duration": 18,
    "start_time": "2023-05-30T18:55:38.673Z"
   },
   {
    "duration": 22,
    "start_time": "2023-05-30T18:55:38.693Z"
   },
   {
    "duration": 10,
    "start_time": "2023-05-30T18:55:38.716Z"
   },
   {
    "duration": 28,
    "start_time": "2023-05-30T18:55:38.727Z"
   },
   {
    "duration": 20,
    "start_time": "2023-05-30T18:55:38.756Z"
   },
   {
    "duration": 56,
    "start_time": "2023-05-30T18:55:38.778Z"
   },
   {
    "duration": 2,
    "start_time": "2023-05-30T19:00:46.465Z"
   },
   {
    "duration": 177,
    "start_time": "2023-05-30T19:00:48.009Z"
   },
   {
    "duration": 3,
    "start_time": "2023-05-30T19:02:00.659Z"
   },
   {
    "duration": 191,
    "start_time": "2023-05-30T19:02:01.117Z"
   },
   {
    "duration": 65,
    "start_time": "2023-05-30T19:02:08.221Z"
   },
   {
    "duration": 214,
    "start_time": "2023-05-30T19:02:17.665Z"
   },
   {
    "duration": 8,
    "start_time": "2023-05-30T19:02:50.219Z"
   },
   {
    "duration": 23,
    "start_time": "2023-05-30T19:12:57.671Z"
   },
   {
    "duration": 9,
    "start_time": "2023-05-30T19:13:56.384Z"
   },
   {
    "duration": 3,
    "start_time": "2023-05-30T19:14:02.522Z"
   },
   {
    "duration": 768,
    "start_time": "2023-05-30T19:14:02.530Z"
   },
   {
    "duration": 35,
    "start_time": "2023-05-30T19:14:03.301Z"
   },
   {
    "duration": 17,
    "start_time": "2023-05-30T19:14:03.337Z"
   },
   {
    "duration": 15,
    "start_time": "2023-05-30T19:14:03.356Z"
   },
   {
    "duration": 237,
    "start_time": "2023-05-30T19:14:03.373Z"
   },
   {
    "duration": 3,
    "start_time": "2023-05-30T19:14:03.611Z"
   },
   {
    "duration": 10,
    "start_time": "2023-05-30T19:14:03.616Z"
   },
   {
    "duration": 6,
    "start_time": "2023-05-30T19:14:03.628Z"
   },
   {
    "duration": 7,
    "start_time": "2023-05-30T19:14:03.636Z"
   },
   {
    "duration": 15,
    "start_time": "2023-05-30T19:14:03.644Z"
   },
   {
    "duration": 6,
    "start_time": "2023-05-30T19:14:03.660Z"
   },
   {
    "duration": 25,
    "start_time": "2023-05-30T19:14:03.667Z"
   },
   {
    "duration": 19,
    "start_time": "2023-05-30T19:14:03.693Z"
   },
   {
    "duration": 23,
    "start_time": "2023-05-30T19:14:03.714Z"
   },
   {
    "duration": 14,
    "start_time": "2023-05-30T19:14:03.739Z"
   },
   {
    "duration": 172,
    "start_time": "2023-05-30T19:14:03.754Z"
   },
   {
    "duration": 59,
    "start_time": "2023-05-30T19:14:03.928Z"
   },
   {
    "duration": 228,
    "start_time": "2023-05-30T19:14:03.988Z"
   },
   {
    "duration": 8,
    "start_time": "2023-05-30T19:14:13.139Z"
   },
   {
    "duration": 4,
    "start_time": "2023-05-30T19:14:18.788Z"
   },
   {
    "duration": 7,
    "start_time": "2023-05-30T19:14:20.983Z"
   },
   {
    "duration": 4,
    "start_time": "2023-05-30T19:14:22.673Z"
   },
   {
    "duration": 4,
    "start_time": "2023-05-30T19:14:34.424Z"
   },
   {
    "duration": 3,
    "start_time": "2023-05-30T19:15:32.035Z"
   },
   {
    "duration": 9,
    "start_time": "2023-05-30T19:15:44.407Z"
   },
   {
    "duration": 5,
    "start_time": "2023-05-30T19:15:44.785Z"
   },
   {
    "duration": 5,
    "start_time": "2023-05-30T19:15:54.901Z"
   },
   {
    "duration": 5,
    "start_time": "2023-05-30T19:16:02.811Z"
   },
   {
    "duration": 29,
    "start_time": "2023-05-30T19:16:53.256Z"
   },
   {
    "duration": 28,
    "start_time": "2023-05-30T19:17:05.774Z"
   },
   {
    "duration": 9,
    "start_time": "2023-05-30T19:17:55.585Z"
   },
   {
    "duration": 46,
    "start_time": "2023-05-30T19:30:58.550Z"
   },
   {
    "duration": 51,
    "start_time": "2023-05-30T19:31:06.373Z"
   },
   {
    "duration": 41,
    "start_time": "2023-05-30T19:31:09.992Z"
   },
   {
    "duration": 40,
    "start_time": "2023-05-30T19:31:13.910Z"
   },
   {
    "duration": 49,
    "start_time": "2023-05-30T19:41:06.537Z"
   },
   {
    "duration": 39,
    "start_time": "2023-05-30T19:45:19.112Z"
   },
   {
    "duration": 34,
    "start_time": "2023-05-30T19:45:40.329Z"
   },
   {
    "duration": 29,
    "start_time": "2023-05-30T19:45:46.689Z"
   },
   {
    "duration": 9,
    "start_time": "2023-05-30T19:45:57.270Z"
   },
   {
    "duration": 4,
    "start_time": "2023-05-30T19:46:12.673Z"
   },
   {
    "duration": 798,
    "start_time": "2023-05-30T19:46:12.682Z"
   },
   {
    "duration": 24,
    "start_time": "2023-05-30T19:46:13.482Z"
   },
   {
    "duration": 43,
    "start_time": "2023-05-30T19:46:13.508Z"
   },
   {
    "duration": 32,
    "start_time": "2023-05-30T19:46:13.552Z"
   },
   {
    "duration": 254,
    "start_time": "2023-05-30T19:46:13.586Z"
   },
   {
    "duration": 3,
    "start_time": "2023-05-30T19:46:13.842Z"
   },
   {
    "duration": 25,
    "start_time": "2023-05-30T19:46:13.846Z"
   },
   {
    "duration": 24,
    "start_time": "2023-05-30T19:46:13.873Z"
   },
   {
    "duration": 41,
    "start_time": "2023-05-30T19:46:13.899Z"
   },
   {
    "duration": 41,
    "start_time": "2023-05-30T19:46:13.941Z"
   },
   {
    "duration": 11,
    "start_time": "2023-05-30T19:46:13.984Z"
   },
   {
    "duration": 13,
    "start_time": "2023-05-30T19:46:13.997Z"
   },
   {
    "duration": 48,
    "start_time": "2023-05-30T19:46:14.012Z"
   },
   {
    "duration": 21,
    "start_time": "2023-05-30T19:46:14.063Z"
   },
   {
    "duration": 21,
    "start_time": "2023-05-30T19:46:14.085Z"
   },
   {
    "duration": 205,
    "start_time": "2023-05-30T19:46:14.107Z"
   },
   {
    "duration": 70,
    "start_time": "2023-05-30T19:46:14.313Z"
   },
   {
    "duration": 254,
    "start_time": "2023-05-30T19:46:14.385Z"
   },
   {
    "duration": 8,
    "start_time": "2023-05-30T19:46:14.641Z"
   },
   {
    "duration": 114,
    "start_time": "2023-05-30T19:46:14.650Z"
   },
   {
    "duration": 57,
    "start_time": "2023-05-30T19:46:14.765Z"
   },
   {
    "duration": 10,
    "start_time": "2023-05-30T19:46:14.824Z"
   },
   {
    "duration": 25,
    "start_time": "2023-05-30T19:46:19.316Z"
   },
   {
    "duration": 34,
    "start_time": "2023-05-30T19:46:24.860Z"
   },
   {
    "duration": 10,
    "start_time": "2023-05-30T19:46:31.510Z"
   },
   {
    "duration": 10,
    "start_time": "2023-05-30T19:46:34.676Z"
   },
   {
    "duration": 39,
    "start_time": "2023-05-30T19:46:36.719Z"
   },
   {
    "duration": 13,
    "start_time": "2023-05-30T19:46:37.200Z"
   },
   {
    "duration": 9,
    "start_time": "2023-05-30T19:47:00.658Z"
   },
   {
    "duration": 8,
    "start_time": "2023-05-30T19:47:03.495Z"
   },
   {
    "duration": 10,
    "start_time": "2023-05-30T19:49:58.249Z"
   },
   {
    "duration": 11,
    "start_time": "2023-05-30T19:50:05.060Z"
   },
   {
    "duration": 60,
    "start_time": "2023-05-30T19:50:09.208Z"
   },
   {
    "duration": 10,
    "start_time": "2023-05-30T19:50:35.841Z"
   },
   {
    "duration": 9,
    "start_time": "2023-05-30T19:51:02.938Z"
   },
   {
    "duration": 11,
    "start_time": "2023-05-30T19:51:07.176Z"
   },
   {
    "duration": 10,
    "start_time": "2023-05-30T19:54:37.251Z"
   },
   {
    "duration": 3,
    "start_time": "2023-05-30T19:54:41.991Z"
   },
   {
    "duration": 8,
    "start_time": "2023-05-30T19:54:49.511Z"
   },
   {
    "duration": 3,
    "start_time": "2023-05-30T19:54:58.061Z"
   },
   {
    "duration": 3,
    "start_time": "2023-05-30T19:55:18.878Z"
   },
   {
    "duration": 6,
    "start_time": "2023-05-30T19:56:29.651Z"
   },
   {
    "duration": 8,
    "start_time": "2023-05-30T19:56:36.619Z"
   },
   {
    "duration": 6,
    "start_time": "2023-05-30T19:56:39.709Z"
   },
   {
    "duration": 5,
    "start_time": "2023-05-30T19:56:51.153Z"
   },
   {
    "duration": 4,
    "start_time": "2023-05-30T19:56:55.994Z"
   },
   {
    "duration": 13,
    "start_time": "2023-05-30T19:57:05.637Z"
   },
   {
    "duration": 3,
    "start_time": "2023-05-30T19:57:11.370Z"
   },
   {
    "duration": 6,
    "start_time": "2023-05-30T19:57:28.892Z"
   },
   {
    "duration": 899,
    "start_time": "2023-05-30T19:58:10.875Z"
   },
   {
    "duration": 50,
    "start_time": "2023-05-30T19:58:15.909Z"
   },
   {
    "duration": 9,
    "start_time": "2023-05-30T19:59:18.392Z"
   },
   {
    "duration": 27,
    "start_time": "2023-05-30T19:59:24.556Z"
   },
   {
    "duration": 19,
    "start_time": "2023-05-30T19:59:39.424Z"
   },
   {
    "duration": 12,
    "start_time": "2023-05-30T19:59:59.348Z"
   },
   {
    "duration": 29,
    "start_time": "2023-05-30T20:00:04.874Z"
   },
   {
    "duration": 9,
    "start_time": "2023-05-30T20:00:11.196Z"
   },
   {
    "duration": 7,
    "start_time": "2023-05-30T20:00:14.252Z"
   },
   {
    "duration": 23,
    "start_time": "2023-05-30T20:01:07.540Z"
   },
   {
    "duration": 6,
    "start_time": "2023-05-30T20:01:18.669Z"
   },
   {
    "duration": 23,
    "start_time": "2023-05-30T20:01:26.083Z"
   },
   {
    "duration": 22,
    "start_time": "2023-05-30T20:05:21.187Z"
   },
   {
    "duration": 768,
    "start_time": "2023-05-30T20:05:27.984Z"
   },
   {
    "duration": 24,
    "start_time": "2023-05-30T20:05:32.694Z"
   },
   {
    "duration": 3,
    "start_time": "2023-05-30T20:06:08.660Z"
   },
   {
    "duration": 10,
    "start_time": "2023-05-30T20:06:18.421Z"
   },
   {
    "duration": 3,
    "start_time": "2023-05-30T20:06:35.073Z"
   },
   {
    "duration": 4,
    "start_time": "2023-05-30T20:18:07.893Z"
   },
   {
    "duration": 4,
    "start_time": "2023-05-30T20:27:56.197Z"
   },
   {
    "duration": 153,
    "start_time": "2023-05-30T20:27:57.655Z"
   },
   {
    "duration": 4,
    "start_time": "2023-05-30T20:28:14.088Z"
   },
   {
    "duration": 213,
    "start_time": "2023-05-30T20:28:15.638Z"
   },
   {
    "duration": 3,
    "start_time": "2023-05-30T20:28:20.281Z"
   },
   {
    "duration": 144,
    "start_time": "2023-05-30T20:28:20.769Z"
   },
   {
    "duration": 4,
    "start_time": "2023-05-30T20:28:28.197Z"
   },
   {
    "duration": 616,
    "start_time": "2023-05-30T20:28:29.844Z"
   },
   {
    "duration": 4,
    "start_time": "2023-05-30T20:30:48.953Z"
   },
   {
    "duration": 597,
    "start_time": "2023-05-30T20:30:50.318Z"
   },
   {
    "duration": 5,
    "start_time": "2023-05-30T20:31:33.012Z"
   },
   {
    "duration": 10,
    "start_time": "2023-05-30T20:31:34.542Z"
   },
   {
    "duration": 3,
    "start_time": "2023-05-30T20:31:43.853Z"
   },
   {
    "duration": 4,
    "start_time": "2023-05-30T20:31:54.795Z"
   },
   {
    "duration": 258,
    "start_time": "2023-05-30T20:31:55.642Z"
   },
   {
    "duration": 3,
    "start_time": "2023-05-30T20:32:01.975Z"
   },
   {
    "duration": 251,
    "start_time": "2023-05-30T20:32:03.464Z"
   },
   {
    "duration": 6,
    "start_time": "2023-05-30T20:44:35.555Z"
   },
   {
    "duration": 10,
    "start_time": "2023-05-30T20:44:40.921Z"
   },
   {
    "duration": 727,
    "start_time": "2023-05-30T20:44:42.760Z"
   },
   {
    "duration": 5,
    "start_time": "2023-05-30T20:44:51.249Z"
   },
   {
    "duration": 634,
    "start_time": "2023-05-30T20:44:52.869Z"
   },
   {
    "duration": 7,
    "start_time": "2023-05-30T20:56:39.379Z"
   },
   {
    "duration": 188,
    "start_time": "2023-05-30T20:56:40.953Z"
   },
   {
    "duration": 602,
    "start_time": "2023-05-30T20:56:43.418Z"
   },
   {
    "duration": 587,
    "start_time": "2023-05-30T20:56:55.364Z"
   },
   {
    "duration": 620,
    "start_time": "2023-05-30T20:57:02.677Z"
   },
   {
    "duration": 4,
    "start_time": "2023-05-30T20:57:14.770Z"
   },
   {
    "duration": 767,
    "start_time": "2023-05-30T20:57:14.779Z"
   },
   {
    "duration": 22,
    "start_time": "2023-05-30T20:57:15.548Z"
   },
   {
    "duration": 33,
    "start_time": "2023-05-30T20:57:15.571Z"
   },
   {
    "duration": 27,
    "start_time": "2023-05-30T20:57:15.606Z"
   },
   {
    "duration": 234,
    "start_time": "2023-05-30T20:57:15.635Z"
   },
   {
    "duration": 3,
    "start_time": "2023-05-30T20:57:15.870Z"
   },
   {
    "duration": 13,
    "start_time": "2023-05-30T20:57:15.874Z"
   },
   {
    "duration": 17,
    "start_time": "2023-05-30T20:57:15.888Z"
   },
   {
    "duration": 39,
    "start_time": "2023-05-30T20:57:15.907Z"
   },
   {
    "duration": 14,
    "start_time": "2023-05-30T20:57:15.947Z"
   },
   {
    "duration": 5,
    "start_time": "2023-05-30T20:57:15.962Z"
   },
   {
    "duration": 17,
    "start_time": "2023-05-30T20:57:15.969Z"
   },
   {
    "duration": 7,
    "start_time": "2023-05-30T20:57:15.987Z"
   },
   {
    "duration": 5,
    "start_time": "2023-05-30T20:57:15.997Z"
   },
   {
    "duration": 6,
    "start_time": "2023-05-30T20:57:16.004Z"
   },
   {
    "duration": 205,
    "start_time": "2023-05-30T20:57:16.011Z"
   },
   {
    "duration": 72,
    "start_time": "2023-05-30T20:57:16.218Z"
   },
   {
    "duration": 216,
    "start_time": "2023-05-30T20:57:16.292Z"
   },
   {
    "duration": 7,
    "start_time": "2023-05-30T20:57:16.510Z"
   },
   {
    "duration": 4,
    "start_time": "2023-05-30T20:57:16.525Z"
   },
   {
    "duration": 33,
    "start_time": "2023-05-30T20:57:16.533Z"
   },
   {
    "duration": 6,
    "start_time": "2023-05-30T20:57:16.568Z"
   },
   {
    "duration": 10,
    "start_time": "2023-05-30T20:57:16.575Z"
   },
   {
    "duration": 52,
    "start_time": "2023-05-30T20:57:16.586Z"
   },
   {
    "duration": 19,
    "start_time": "2023-05-30T20:57:16.640Z"
   },
   {
    "duration": 3,
    "start_time": "2023-05-30T20:57:16.661Z"
   },
   {
    "duration": 7,
    "start_time": "2023-05-30T20:57:16.666Z"
   },
   {
    "duration": 6,
    "start_time": "2023-05-30T20:57:16.674Z"
   },
   {
    "duration": 13,
    "start_time": "2023-05-30T20:57:16.681Z"
   },
   {
    "duration": 145,
    "start_time": "2023-05-30T20:57:16.695Z"
   },
   {
    "duration": 4,
    "start_time": "2023-05-30T20:57:20.204Z"
   },
   {
    "duration": 583,
    "start_time": "2023-05-30T20:57:21.954Z"
   },
   {
    "duration": 582,
    "start_time": "2023-05-30T20:59:34.226Z"
   },
   {
    "duration": 4,
    "start_time": "2023-05-30T21:00:27.127Z"
   },
   {
    "duration": 814,
    "start_time": "2023-05-30T21:00:28.541Z"
   },
   {
    "duration": 4,
    "start_time": "2023-05-30T21:04:08.435Z"
   },
   {
    "duration": 757,
    "start_time": "2023-05-30T21:04:09.061Z"
   },
   {
    "duration": 123,
    "start_time": "2023-05-30T21:04:17.891Z"
   },
   {
    "duration": 1709,
    "start_time": "2023-05-30T21:04:47.511Z"
   },
   {
    "duration": 707,
    "start_time": "2023-05-30T21:04:49.224Z"
   },
   {
    "duration": 1316,
    "start_time": "2023-05-30T21:05:46.459Z"
   },
   {
    "duration": 731,
    "start_time": "2023-05-30T21:05:47.777Z"
   },
   {
    "duration": 31,
    "start_time": "2023-05-30T21:05:48.509Z"
   },
   {
    "duration": 17,
    "start_time": "2023-05-30T21:05:48.542Z"
   },
   {
    "duration": 19,
    "start_time": "2023-05-30T21:05:48.560Z"
   },
   {
    "duration": 237,
    "start_time": "2023-05-30T21:05:48.580Z"
   },
   {
    "duration": 6,
    "start_time": "2023-05-30T21:05:48.818Z"
   },
   {
    "duration": 11,
    "start_time": "2023-05-30T21:05:48.826Z"
   },
   {
    "duration": 7,
    "start_time": "2023-05-30T21:05:48.838Z"
   },
   {
    "duration": 10,
    "start_time": "2023-05-30T21:05:48.847Z"
   },
   {
    "duration": 16,
    "start_time": "2023-05-30T21:05:48.858Z"
   },
   {
    "duration": 6,
    "start_time": "2023-05-30T21:05:48.875Z"
   },
   {
    "duration": 34,
    "start_time": "2023-05-30T21:05:48.883Z"
   },
   {
    "duration": 20,
    "start_time": "2023-05-30T21:05:48.918Z"
   },
   {
    "duration": 16,
    "start_time": "2023-05-30T21:05:48.939Z"
   },
   {
    "duration": 4,
    "start_time": "2023-05-30T21:05:48.956Z"
   },
   {
    "duration": 185,
    "start_time": "2023-05-30T21:05:48.961Z"
   },
   {
    "duration": 61,
    "start_time": "2023-05-30T21:05:49.148Z"
   },
   {
    "duration": 225,
    "start_time": "2023-05-30T21:05:49.211Z"
   },
   {
    "duration": 8,
    "start_time": "2023-05-30T21:05:49.437Z"
   },
   {
    "duration": 4,
    "start_time": "2023-05-30T21:05:49.446Z"
   },
   {
    "duration": 34,
    "start_time": "2023-05-30T21:05:49.452Z"
   },
   {
    "duration": 8,
    "start_time": "2023-05-30T21:05:49.488Z"
   },
   {
    "duration": 30,
    "start_time": "2023-05-30T21:05:49.497Z"
   },
   {
    "duration": 30,
    "start_time": "2023-05-30T21:05:49.529Z"
   },
   {
    "duration": 16,
    "start_time": "2023-05-30T21:05:49.560Z"
   },
   {
    "duration": 4,
    "start_time": "2023-05-30T21:05:49.578Z"
   },
   {
    "duration": 15,
    "start_time": "2023-05-30T21:05:49.585Z"
   },
   {
    "duration": 23,
    "start_time": "2023-05-30T21:05:49.602Z"
   },
   {
    "duration": 22,
    "start_time": "2023-05-30T21:05:49.627Z"
   },
   {
    "duration": 160,
    "start_time": "2023-05-30T21:05:49.651Z"
   },
   {
    "duration": 4,
    "start_time": "2023-05-30T21:05:53.080Z"
   },
   {
    "duration": 782,
    "start_time": "2023-05-30T21:05:54.207Z"
   },
   {
    "duration": 687,
    "start_time": "2023-05-30T21:05:56.593Z"
   },
   {
    "duration": 772,
    "start_time": "2023-05-30T21:05:58.670Z"
   },
   {
    "duration": 129,
    "start_time": "2023-05-30T21:06:03.937Z"
   },
   {
    "duration": 791,
    "start_time": "2023-05-30T21:12:55.408Z"
   },
   {
    "duration": 4,
    "start_time": "2023-05-30T21:24:25.967Z"
   },
   {
    "duration": 101,
    "start_time": "2023-05-30T21:24:44.174Z"
   },
   {
    "duration": 3,
    "start_time": "2023-05-30T21:24:46.903Z"
   },
   {
    "duration": 10,
    "start_time": "2023-05-30T21:24:50.776Z"
   },
   {
    "duration": 16,
    "start_time": "2023-05-30T21:24:58.911Z"
   },
   {
    "duration": 4,
    "start_time": "2023-05-30T21:25:13.879Z"
   },
   {
    "duration": 24,
    "start_time": "2023-05-30T21:25:15.770Z"
   },
   {
    "duration": 50,
    "start_time": "2023-05-30T22:13:35.483Z"
   },
   {
    "duration": 54,
    "start_time": "2023-05-30T22:13:50.187Z"
   },
   {
    "duration": 50,
    "start_time": "2023-05-30T22:14:02.533Z"
   },
   {
    "duration": 53,
    "start_time": "2023-05-30T22:14:13.345Z"
   },
   {
    "duration": 4,
    "start_time": "2023-05-30T22:14:40.156Z"
   },
   {
    "duration": 984,
    "start_time": "2023-05-30T22:14:42.990Z"
   },
   {
    "duration": 758,
    "start_time": "2023-05-30T22:15:03.019Z"
   },
   {
    "duration": 916,
    "start_time": "2023-05-30T22:15:08.266Z"
   },
   {
    "duration": 147,
    "start_time": "2023-05-30T22:15:49.858Z"
   },
   {
    "duration": 158,
    "start_time": "2023-05-30T22:16:09.537Z"
   },
   {
    "duration": 163,
    "start_time": "2023-05-30T22:16:22.442Z"
   },
   {
    "duration": 43,
    "start_time": "2023-05-30T22:16:41.919Z"
   },
   {
    "duration": 36,
    "start_time": "2023-05-30T22:16:57.508Z"
   },
   {
    "duration": 19,
    "start_time": "2023-05-30T22:17:11.695Z"
   },
   {
    "duration": 26,
    "start_time": "2023-05-30T22:17:16.894Z"
   },
   {
    "duration": 10,
    "start_time": "2023-05-30T22:17:18.322Z"
   },
   {
    "duration": 29,
    "start_time": "2023-05-30T22:17:22.402Z"
   },
   {
    "duration": 2,
    "start_time": "2023-05-30T22:23:50.867Z"
   },
   {
    "duration": 1545,
    "start_time": "2023-05-31T09:42:25.787Z"
   },
   {
    "duration": 2233,
    "start_time": "2023-05-31T09:42:27.335Z"
   },
   {
    "duration": 24,
    "start_time": "2023-05-31T09:42:29.570Z"
   },
   {
    "duration": 17,
    "start_time": "2023-05-31T09:42:29.596Z"
   },
   {
    "duration": 23,
    "start_time": "2023-05-31T09:42:29.614Z"
   },
   {
    "duration": 220,
    "start_time": "2023-05-31T09:42:29.639Z"
   },
   {
    "duration": 3,
    "start_time": "2023-05-31T09:42:29.861Z"
   },
   {
    "duration": 10,
    "start_time": "2023-05-31T09:42:29.865Z"
   },
   {
    "duration": 5,
    "start_time": "2023-05-31T09:42:29.877Z"
   },
   {
    "duration": 6,
    "start_time": "2023-05-31T09:42:29.885Z"
   },
   {
    "duration": 53,
    "start_time": "2023-05-31T09:42:29.893Z"
   },
   {
    "duration": 5,
    "start_time": "2023-05-31T09:42:29.948Z"
   },
   {
    "duration": 18,
    "start_time": "2023-05-31T09:42:29.955Z"
   },
   {
    "duration": 6,
    "start_time": "2023-05-31T09:42:29.975Z"
   },
   {
    "duration": 8,
    "start_time": "2023-05-31T09:42:29.982Z"
   },
   {
    "duration": 3,
    "start_time": "2023-05-31T09:42:29.991Z"
   },
   {
    "duration": 213,
    "start_time": "2023-05-31T09:42:29.995Z"
   },
   {
    "duration": 61,
    "start_time": "2023-05-31T09:42:30.209Z"
   },
   {
    "duration": 217,
    "start_time": "2023-05-31T09:42:30.271Z"
   },
   {
    "duration": 8,
    "start_time": "2023-05-31T09:42:30.490Z"
   },
   {
    "duration": 33,
    "start_time": "2023-05-31T09:42:30.499Z"
   },
   {
    "duration": 58,
    "start_time": "2023-05-31T09:42:30.534Z"
   },
   {
    "duration": 11,
    "start_time": "2023-05-31T09:42:30.593Z"
   },
   {
    "duration": 47,
    "start_time": "2023-05-31T09:42:30.605Z"
   },
   {
    "duration": 51,
    "start_time": "2023-05-31T09:42:30.654Z"
   },
   {
    "duration": 37,
    "start_time": "2023-05-31T09:42:30.706Z"
   },
   {
    "duration": 29,
    "start_time": "2023-05-31T09:42:30.744Z"
   },
   {
    "duration": 31,
    "start_time": "2023-05-31T09:42:30.776Z"
   },
   {
    "duration": 30,
    "start_time": "2023-05-31T09:42:30.809Z"
   },
   {
    "duration": 51,
    "start_time": "2023-05-31T09:42:30.841Z"
   },
   {
    "duration": 202,
    "start_time": "2023-05-31T09:42:30.893Z"
   },
   {
    "duration": 4,
    "start_time": "2023-05-31T09:42:31.096Z"
   },
   {
    "duration": 900,
    "start_time": "2023-05-31T09:42:31.101Z"
   },
   {
    "duration": 679,
    "start_time": "2023-05-31T09:42:32.002Z"
   },
   {
    "duration": 750,
    "start_time": "2023-05-31T09:42:32.683Z"
   },
   {
    "duration": 142,
    "start_time": "2023-05-31T09:42:33.435Z"
   },
   {
    "duration": 616,
    "start_time": "2023-05-31T09:42:33.578Z"
   },
   {
    "duration": 4,
    "start_time": "2023-05-31T09:42:34.195Z"
   },
   {
    "duration": 694,
    "start_time": "2023-05-31T09:42:34.200Z"
   },
   {
    "duration": 144,
    "start_time": "2023-05-31T09:42:34.896Z"
   },
   {
    "duration": 2,
    "start_time": "2023-05-31T09:42:35.042Z"
   },
   {
    "duration": 28,
    "start_time": "2023-05-31T09:42:35.046Z"
   },
   {
    "duration": 28,
    "start_time": "2023-05-31T09:42:35.076Z"
   },
   {
    "duration": 12,
    "start_time": "2023-05-31T09:42:35.105Z"
   },
   {
    "duration": 37,
    "start_time": "2023-05-31T09:42:35.118Z"
   },
   {
    "duration": 335,
    "start_time": "2023-05-31T09:42:35.156Z"
   },
   {
    "duration": 5,
    "start_time": "2023-05-31T09:42:35.493Z"
   },
   {
    "duration": 97,
    "start_time": "2023-05-31T09:42:35.500Z"
   },
   {
    "duration": 32,
    "start_time": "2023-05-31T09:42:35.598Z"
   },
   {
    "duration": 70,
    "start_time": "2023-05-31T09:42:35.632Z"
   },
   {
    "duration": 45,
    "start_time": "2023-05-31T09:42:35.703Z"
   },
   {
    "duration": 14,
    "start_time": "2023-05-31T09:42:35.749Z"
   },
   {
    "duration": 8,
    "start_time": "2023-05-31T09:42:35.764Z"
   },
   {
    "duration": 35,
    "start_time": "2023-05-31T09:42:35.773Z"
   },
   {
    "duration": 25,
    "start_time": "2023-05-31T09:42:35.810Z"
   },
   {
    "duration": 121985,
    "start_time": "2023-05-31T09:42:35.837Z"
   },
   {
    "duration": 17,
    "start_time": "2023-05-31T09:44:37.824Z"
   },
   {
    "duration": 0,
    "start_time": "2023-05-31T09:44:37.842Z"
   },
   {
    "duration": 0,
    "start_time": "2023-05-31T09:44:37.843Z"
   },
   {
    "duration": 2466,
    "start_time": "2023-06-01T20:24:37.965Z"
   },
   {
    "duration": 3464,
    "start_time": "2023-06-01T20:24:40.433Z"
   },
   {
    "duration": 26,
    "start_time": "2023-06-01T20:24:43.898Z"
   },
   {
    "duration": 20,
    "start_time": "2023-06-01T20:24:43.926Z"
   },
   {
    "duration": 18,
    "start_time": "2023-06-01T20:24:43.961Z"
   },
   {
    "duration": 298,
    "start_time": "2023-06-01T20:24:43.980Z"
   },
   {
    "duration": 6,
    "start_time": "2023-06-01T20:24:44.280Z"
   },
   {
    "duration": 7,
    "start_time": "2023-06-01T20:24:44.288Z"
   },
   {
    "duration": 8,
    "start_time": "2023-06-01T20:24:44.297Z"
   },
   {
    "duration": 26,
    "start_time": "2023-06-01T20:24:44.307Z"
   },
   {
    "duration": 22,
    "start_time": "2023-06-01T20:24:44.335Z"
   },
   {
    "duration": 7,
    "start_time": "2023-06-01T20:24:44.361Z"
   },
   {
    "duration": 4,
    "start_time": "2023-06-01T20:24:44.369Z"
   },
   {
    "duration": 215,
    "start_time": "2023-06-01T20:24:44.374Z"
   },
   {
    "duration": 86,
    "start_time": "2023-06-01T20:24:44.592Z"
   },
   {
    "duration": 242,
    "start_time": "2023-06-01T20:24:44.680Z"
   },
   {
    "duration": 8,
    "start_time": "2023-06-01T20:24:44.923Z"
   },
   {
    "duration": 23,
    "start_time": "2023-06-01T20:24:44.933Z"
   },
   {
    "duration": 32,
    "start_time": "2023-06-01T20:24:44.957Z"
   },
   {
    "duration": 9,
    "start_time": "2023-06-01T20:24:44.990Z"
   },
   {
    "duration": 35,
    "start_time": "2023-06-01T20:24:45.000Z"
   },
   {
    "duration": 26,
    "start_time": "2023-06-01T20:24:45.037Z"
   },
   {
    "duration": 7,
    "start_time": "2023-06-01T20:24:45.065Z"
   },
   {
    "duration": 4,
    "start_time": "2023-06-01T20:24:45.073Z"
   },
   {
    "duration": 12,
    "start_time": "2023-06-01T20:24:45.079Z"
   },
   {
    "duration": 13,
    "start_time": "2023-06-01T20:24:45.092Z"
   },
   {
    "duration": 11,
    "start_time": "2023-06-01T20:24:45.107Z"
   },
   {
    "duration": 163,
    "start_time": "2023-06-01T20:24:45.121Z"
   },
   {
    "duration": 3,
    "start_time": "2023-06-01T20:24:45.286Z"
   },
   {
    "duration": 965,
    "start_time": "2023-06-01T20:24:45.291Z"
   },
   {
    "duration": 818,
    "start_time": "2023-06-01T20:24:46.265Z"
   },
   {
    "duration": 891,
    "start_time": "2023-06-01T20:24:47.085Z"
   },
   {
    "duration": 155,
    "start_time": "2023-06-01T20:24:47.977Z"
   },
   {
    "duration": 766,
    "start_time": "2023-06-01T20:24:48.133Z"
   },
   {
    "duration": 3,
    "start_time": "2023-06-01T20:24:48.901Z"
   },
   {
    "duration": 834,
    "start_time": "2023-06-01T20:24:48.906Z"
   },
   {
    "duration": 186,
    "start_time": "2023-06-01T20:24:49.742Z"
   },
   {
    "duration": 3,
    "start_time": "2023-06-01T20:24:49.930Z"
   },
   {
    "duration": 22,
    "start_time": "2023-06-01T20:24:49.935Z"
   },
   {
    "duration": 13,
    "start_time": "2023-06-01T20:24:49.960Z"
   },
   {
    "duration": 3,
    "start_time": "2023-06-01T20:24:49.975Z"
   },
   {
    "duration": 4,
    "start_time": "2023-06-01T20:24:49.980Z"
   },
   {
    "duration": 54,
    "start_time": "2023-06-01T20:24:49.985Z"
   },
   {
    "duration": 7,
    "start_time": "2023-06-01T20:24:50.055Z"
   },
   {
    "duration": 55,
    "start_time": "2023-06-01T20:24:50.064Z"
   },
   {
    "duration": 49,
    "start_time": "2023-06-01T20:24:50.120Z"
   },
   {
    "duration": 4,
    "start_time": "2023-06-01T20:24:50.170Z"
   },
   {
    "duration": 21,
    "start_time": "2023-06-01T20:25:16.576Z"
   },
   {
    "duration": 29,
    "start_time": "2023-06-01T20:25:43.443Z"
   },
   {
    "duration": 7,
    "start_time": "2023-06-01T20:25:53.731Z"
   },
   {
    "duration": 7,
    "start_time": "2023-06-01T20:25:54.408Z"
   },
   {
    "duration": 33,
    "start_time": "2023-06-01T20:25:58.443Z"
   },
   {
    "duration": 25,
    "start_time": "2023-06-01T20:26:14.389Z"
   },
   {
    "duration": 20,
    "start_time": "2023-06-01T20:26:43.489Z"
   },
   {
    "duration": 1505,
    "start_time": "2023-06-01T20:51:02.822Z"
   },
   {
    "duration": 2121,
    "start_time": "2023-06-01T20:51:04.329Z"
   },
   {
    "duration": 26,
    "start_time": "2023-06-01T20:51:06.454Z"
   },
   {
    "duration": 19,
    "start_time": "2023-06-01T20:51:06.482Z"
   },
   {
    "duration": 25,
    "start_time": "2023-06-01T20:51:06.502Z"
   },
   {
    "duration": 237,
    "start_time": "2023-06-01T20:51:06.529Z"
   },
   {
    "duration": 3,
    "start_time": "2023-06-01T20:51:06.768Z"
   },
   {
    "duration": 11,
    "start_time": "2023-06-01T20:51:06.773Z"
   },
   {
    "duration": 8,
    "start_time": "2023-06-01T20:51:06.786Z"
   },
   {
    "duration": 6,
    "start_time": "2023-06-01T20:51:06.797Z"
   },
   {
    "duration": 12,
    "start_time": "2023-06-01T20:51:06.818Z"
   },
   {
    "duration": 6,
    "start_time": "2023-06-01T20:51:06.832Z"
   },
   {
    "duration": 18,
    "start_time": "2023-06-01T20:51:06.839Z"
   },
   {
    "duration": 223,
    "start_time": "2023-06-01T20:51:11.552Z"
   },
   {
    "duration": 206,
    "start_time": "2023-06-01T20:51:15.647Z"
   },
   {
    "duration": 209,
    "start_time": "2023-06-01T20:51:30.052Z"
   },
   {
    "duration": 5,
    "start_time": "2023-06-01T21:17:39.662Z"
   },
   {
    "duration": 4,
    "start_time": "2023-06-01T21:17:41.079Z"
   },
   {
    "duration": 3,
    "start_time": "2023-06-01T21:59:37.160Z"
   },
   {
    "duration": 5,
    "start_time": "2023-06-01T22:00:10.742Z"
   },
   {
    "duration": 4,
    "start_time": "2023-06-01T22:00:13.442Z"
   },
   {
    "duration": 832,
    "start_time": "2023-06-01T22:00:13.450Z"
   },
   {
    "duration": 22,
    "start_time": "2023-06-01T22:00:14.284Z"
   },
   {
    "duration": 47,
    "start_time": "2023-06-01T22:00:14.307Z"
   },
   {
    "duration": 29,
    "start_time": "2023-06-01T22:00:14.356Z"
   },
   {
    "duration": 267,
    "start_time": "2023-06-01T22:00:14.389Z"
   },
   {
    "duration": 3,
    "start_time": "2023-06-01T22:00:14.658Z"
   },
   {
    "duration": 47,
    "start_time": "2023-06-01T22:00:14.663Z"
   },
   {
    "duration": 34,
    "start_time": "2023-06-01T22:00:14.712Z"
   },
   {
    "duration": 23,
    "start_time": "2023-06-01T22:00:14.749Z"
   },
   {
    "duration": 23,
    "start_time": "2023-06-01T22:00:14.773Z"
   },
   {
    "duration": 13,
    "start_time": "2023-06-01T22:00:14.799Z"
   },
   {
    "duration": 23,
    "start_time": "2023-06-01T22:00:14.814Z"
   },
   {
    "duration": 7,
    "start_time": "2023-06-01T22:00:14.839Z"
   },
   {
    "duration": 294,
    "start_time": "2023-06-01T22:00:14.849Z"
   },
   {
    "duration": 72,
    "start_time": "2023-06-01T22:00:15.145Z"
   },
   {
    "duration": 250,
    "start_time": "2023-06-01T22:00:15.219Z"
   },
   {
    "duration": 9,
    "start_time": "2023-06-01T22:00:15.470Z"
   },
   {
    "duration": 17,
    "start_time": "2023-06-01T22:00:15.480Z"
   },
   {
    "duration": 54,
    "start_time": "2023-06-01T22:00:15.499Z"
   },
   {
    "duration": 10,
    "start_time": "2023-06-01T22:00:15.555Z"
   },
   {
    "duration": 9,
    "start_time": "2023-06-01T22:00:15.567Z"
   },
   {
    "duration": 20,
    "start_time": "2023-06-01T22:00:15.578Z"
   },
   {
    "duration": 23,
    "start_time": "2023-06-01T22:00:15.599Z"
   },
   {
    "duration": 25,
    "start_time": "2023-06-01T22:00:15.623Z"
   },
   {
    "duration": 8,
    "start_time": "2023-06-01T22:00:15.649Z"
   },
   {
    "duration": 5,
    "start_time": "2023-06-01T22:00:15.658Z"
   },
   {
    "duration": 18,
    "start_time": "2023-06-01T22:00:15.665Z"
   },
   {
    "duration": 156,
    "start_time": "2023-06-01T22:00:15.685Z"
   },
   {
    "duration": 4,
    "start_time": "2023-06-01T22:00:15.843Z"
   },
   {
    "duration": 855,
    "start_time": "2023-06-01T22:00:15.848Z"
   },
   {
    "duration": 884,
    "start_time": "2023-06-01T22:00:16.705Z"
   },
   {
    "duration": 826,
    "start_time": "2023-06-01T22:00:17.591Z"
   },
   {
    "duration": 161,
    "start_time": "2023-06-01T22:00:18.418Z"
   },
   {
    "duration": 762,
    "start_time": "2023-06-01T22:00:18.581Z"
   },
   {
    "duration": 5,
    "start_time": "2023-06-01T22:00:19.345Z"
   },
   {
    "duration": 776,
    "start_time": "2023-06-01T22:00:19.352Z"
   },
   {
    "duration": 250,
    "start_time": "2023-06-01T22:00:20.130Z"
   },
   {
    "duration": 2,
    "start_time": "2023-06-01T22:00:20.382Z"
   },
   {
    "duration": 4,
    "start_time": "2023-06-01T22:00:28.932Z"
   },
   {
    "duration": 5,
    "start_time": "2023-06-01T22:06:57.242Z"
   },
   {
    "duration": 24,
    "start_time": "2023-06-01T22:07:09.300Z"
   },
   {
    "duration": 5,
    "start_time": "2023-06-01T22:09:32.129Z"
   },
   {
    "duration": 4,
    "start_time": "2023-06-01T22:11:38.922Z"
   },
   {
    "duration": 751,
    "start_time": "2023-06-01T22:11:38.930Z"
   },
   {
    "duration": 21,
    "start_time": "2023-06-01T22:11:39.682Z"
   },
   {
    "duration": 27,
    "start_time": "2023-06-01T22:11:39.704Z"
   },
   {
    "duration": 15,
    "start_time": "2023-06-01T22:11:39.733Z"
   },
   {
    "duration": 225,
    "start_time": "2023-06-01T22:11:39.750Z"
   },
   {
    "duration": 3,
    "start_time": "2023-06-01T22:11:39.976Z"
   },
   {
    "duration": 7,
    "start_time": "2023-06-01T22:11:39.980Z"
   },
   {
    "duration": 12,
    "start_time": "2023-06-01T22:11:39.988Z"
   },
   {
    "duration": 17,
    "start_time": "2023-06-01T22:11:40.001Z"
   },
   {
    "duration": 12,
    "start_time": "2023-06-01T22:11:40.020Z"
   },
   {
    "duration": 4,
    "start_time": "2023-06-01T22:11:40.033Z"
   },
   {
    "duration": 6,
    "start_time": "2023-06-01T22:11:40.039Z"
   },
   {
    "duration": 6,
    "start_time": "2023-06-01T22:11:40.047Z"
   },
   {
    "duration": 242,
    "start_time": "2023-06-01T22:11:40.056Z"
   },
   {
    "duration": 73,
    "start_time": "2023-06-01T22:11:40.299Z"
   },
   {
    "duration": 221,
    "start_time": "2023-06-01T22:11:40.373Z"
   },
   {
    "duration": 9,
    "start_time": "2023-06-01T22:11:40.596Z"
   },
   {
    "duration": 16,
    "start_time": "2023-06-01T22:11:40.607Z"
   },
   {
    "duration": 31,
    "start_time": "2023-06-01T22:11:40.625Z"
   },
   {
    "duration": 7,
    "start_time": "2023-06-01T22:11:40.657Z"
   },
   {
    "duration": 18,
    "start_time": "2023-06-01T22:11:40.666Z"
   },
   {
    "duration": 11,
    "start_time": "2023-06-01T22:11:40.685Z"
   },
   {
    "duration": 20,
    "start_time": "2023-06-01T22:11:40.698Z"
   },
   {
    "duration": 4,
    "start_time": "2023-06-01T22:11:40.720Z"
   },
   {
    "duration": 5,
    "start_time": "2023-06-01T22:11:40.725Z"
   },
   {
    "duration": 6,
    "start_time": "2023-06-01T22:11:40.732Z"
   },
   {
    "duration": 13,
    "start_time": "2023-06-01T22:11:40.739Z"
   },
   {
    "duration": 197,
    "start_time": "2023-06-01T22:11:40.754Z"
   },
   {
    "duration": 4,
    "start_time": "2023-06-01T22:11:40.952Z"
   },
   {
    "duration": 764,
    "start_time": "2023-06-01T22:11:40.958Z"
   },
   {
    "duration": 812,
    "start_time": "2023-06-01T22:11:41.723Z"
   },
   {
    "duration": 803,
    "start_time": "2023-06-01T22:11:42.537Z"
   },
   {
    "duration": 162,
    "start_time": "2023-06-01T22:11:43.343Z"
   },
   {
    "duration": 577,
    "start_time": "2023-06-01T22:11:43.507Z"
   },
   {
    "duration": 4,
    "start_time": "2023-06-01T22:11:44.086Z"
   },
   {
    "duration": 887,
    "start_time": "2023-06-01T22:11:44.092Z"
   },
   {
    "duration": 150,
    "start_time": "2023-06-01T22:11:44.981Z"
   },
   {
    "duration": 2,
    "start_time": "2023-06-01T22:11:45.132Z"
   },
   {
    "duration": 6,
    "start_time": "2023-06-01T22:11:45.136Z"
   },
   {
    "duration": 3,
    "start_time": "2023-06-01T22:16:55.193Z"
   },
   {
    "duration": 7,
    "start_time": "2023-06-01T22:16:56.557Z"
   },
   {
    "duration": 4,
    "start_time": "2023-06-01T22:16:58.549Z"
   },
   {
    "duration": 64,
    "start_time": "2023-06-01T22:18:35.758Z"
   },
   {
    "duration": 46,
    "start_time": "2023-06-01T22:19:14.095Z"
   },
   {
    "duration": 57,
    "start_time": "2023-06-01T22:19:26.106Z"
   },
   {
    "duration": 114,
    "start_time": "2023-06-01T22:19:42.286Z"
   },
   {
    "duration": 117,
    "start_time": "2023-06-01T22:20:24.854Z"
   },
   {
    "duration": 9,
    "start_time": "2023-06-01T22:22:16.114Z"
   },
   {
    "duration": 3,
    "start_time": "2023-06-01T22:22:27.105Z"
   },
   {
    "duration": 24,
    "start_time": "2023-06-01T22:22:32.337Z"
   },
   {
    "duration": 7,
    "start_time": "2023-06-01T22:25:42.350Z"
   },
   {
    "duration": 6,
    "start_time": "2023-06-01T22:25:51.652Z"
   },
   {
    "duration": 4,
    "start_time": "2023-06-01T22:25:56.115Z"
   },
   {
    "duration": 3,
    "start_time": "2023-06-01T22:25:57.635Z"
   },
   {
    "duration": 3,
    "start_time": "2023-06-01T22:25:57.990Z"
   },
   {
    "duration": 39,
    "start_time": "2023-06-01T22:25:58.325Z"
   },
   {
    "duration": 4,
    "start_time": "2023-06-01T22:26:22.660Z"
   },
   {
    "duration": 14,
    "start_time": "2023-06-01T22:26:36.651Z"
   },
   {
    "duration": 19,
    "start_time": "2023-06-01T22:26:39.024Z"
   },
   {
    "duration": 21,
    "start_time": "2023-06-01T22:26:40.695Z"
   },
   {
    "duration": 29,
    "start_time": "2023-06-01T22:26:42.519Z"
   },
   {
    "duration": 30,
    "start_time": "2023-06-01T22:26:44.162Z"
   },
   {
    "duration": 4,
    "start_time": "2023-06-01T22:26:56.057Z"
   },
   {
    "duration": 105,
    "start_time": "2023-06-01T22:27:39.695Z"
   },
   {
    "duration": 33,
    "start_time": "2023-06-01T22:27:49.582Z"
   },
   {
    "duration": 3,
    "start_time": "2023-06-01T22:28:23.950Z"
   },
   {
    "duration": 14,
    "start_time": "2023-06-01T22:28:41.826Z"
   },
   {
    "duration": 34,
    "start_time": "2023-06-01T22:29:14.751Z"
   },
   {
    "duration": 4,
    "start_time": "2023-06-01T22:29:20.658Z"
   },
   {
    "duration": 5,
    "start_time": "2023-06-01T22:29:34.584Z"
   },
   {
    "duration": 15,
    "start_time": "2023-06-01T22:29:50.293Z"
   },
   {
    "duration": 8,
    "start_time": "2023-06-01T22:29:55.546Z"
   },
   {
    "duration": 4,
    "start_time": "2023-06-01T22:30:00.369Z"
   },
   {
    "duration": 880,
    "start_time": "2023-06-01T22:30:00.377Z"
   },
   {
    "duration": 24,
    "start_time": "2023-06-01T22:30:01.259Z"
   },
   {
    "duration": 56,
    "start_time": "2023-06-01T22:30:01.284Z"
   },
   {
    "duration": 54,
    "start_time": "2023-06-01T22:30:01.341Z"
   },
   {
    "duration": 232,
    "start_time": "2023-06-01T22:30:01.397Z"
   },
   {
    "duration": 3,
    "start_time": "2023-06-01T22:30:01.631Z"
   },
   {
    "duration": 76,
    "start_time": "2023-06-01T22:30:01.635Z"
   },
   {
    "duration": 89,
    "start_time": "2023-06-01T22:30:01.719Z"
   },
   {
    "duration": 43,
    "start_time": "2023-06-01T22:30:01.810Z"
   },
   {
    "duration": 120,
    "start_time": "2023-06-01T22:30:01.855Z"
   },
   {
    "duration": 44,
    "start_time": "2023-06-01T22:30:01.976Z"
   },
   {
    "duration": 69,
    "start_time": "2023-06-01T22:30:02.021Z"
   },
   {
    "duration": 59,
    "start_time": "2023-06-01T22:30:02.092Z"
   },
   {
    "duration": 235,
    "start_time": "2023-06-01T22:30:02.154Z"
   },
   {
    "duration": 72,
    "start_time": "2023-06-01T22:30:02.390Z"
   },
   {
    "duration": 216,
    "start_time": "2023-06-01T22:30:02.464Z"
   },
   {
    "duration": 9,
    "start_time": "2023-06-01T22:30:02.681Z"
   },
   {
    "duration": 23,
    "start_time": "2023-06-01T22:30:02.691Z"
   },
   {
    "duration": 40,
    "start_time": "2023-06-01T22:30:02.716Z"
   },
   {
    "duration": 20,
    "start_time": "2023-06-01T22:30:02.758Z"
   },
   {
    "duration": 31,
    "start_time": "2023-06-01T22:30:02.780Z"
   },
   {
    "duration": 35,
    "start_time": "2023-06-01T22:30:02.812Z"
   },
   {
    "duration": 20,
    "start_time": "2023-06-01T22:30:02.849Z"
   },
   {
    "duration": 3,
    "start_time": "2023-06-01T22:30:02.871Z"
   },
   {
    "duration": 23,
    "start_time": "2023-06-01T22:30:02.876Z"
   },
   {
    "duration": 16,
    "start_time": "2023-06-01T22:30:02.900Z"
   },
   {
    "duration": 26,
    "start_time": "2023-06-01T22:30:02.918Z"
   },
   {
    "duration": 200,
    "start_time": "2023-06-01T22:30:02.945Z"
   },
   {
    "duration": 5,
    "start_time": "2023-06-01T22:30:03.147Z"
   },
   {
    "duration": 869,
    "start_time": "2023-06-01T22:30:03.154Z"
   },
   {
    "duration": 789,
    "start_time": "2023-06-01T22:30:04.025Z"
   },
   {
    "duration": 815,
    "start_time": "2023-06-01T22:30:04.816Z"
   },
   {
    "duration": 155,
    "start_time": "2023-06-01T22:30:05.633Z"
   },
   {
    "duration": 697,
    "start_time": "2023-06-01T22:30:05.790Z"
   },
   {
    "duration": 4,
    "start_time": "2023-06-01T22:30:06.489Z"
   },
   {
    "duration": 733,
    "start_time": "2023-06-01T22:30:06.495Z"
   },
   {
    "duration": 160,
    "start_time": "2023-06-01T22:30:07.229Z"
   },
   {
    "duration": 2,
    "start_time": "2023-06-01T22:30:07.391Z"
   },
   {
    "duration": 24,
    "start_time": "2023-06-01T22:30:07.394Z"
   },
   {
    "duration": 22,
    "start_time": "2023-06-01T22:30:07.419Z"
   },
   {
    "duration": 20,
    "start_time": "2023-06-01T22:30:07.444Z"
   },
   {
    "duration": 13,
    "start_time": "2023-06-01T22:30:07.465Z"
   },
   {
    "duration": 17,
    "start_time": "2023-06-01T22:30:07.479Z"
   },
   {
    "duration": 3,
    "start_time": "2023-06-01T22:30:11.241Z"
   },
   {
    "duration": 18,
    "start_time": "2023-06-01T22:30:12.439Z"
   },
   {
    "duration": 25,
    "start_time": "2023-06-01T22:30:18.497Z"
   },
   {
    "duration": 22,
    "start_time": "2023-06-01T22:30:22.409Z"
   },
   {
    "duration": 30,
    "start_time": "2023-06-01T22:30:28.993Z"
   },
   {
    "duration": 29,
    "start_time": "2023-06-01T22:30:29.983Z"
   },
   {
    "duration": 4,
    "start_time": "2023-06-01T22:31:22.905Z"
   },
   {
    "duration": 779,
    "start_time": "2023-06-01T22:31:22.913Z"
   },
   {
    "duration": 26,
    "start_time": "2023-06-01T22:31:23.694Z"
   },
   {
    "duration": 25,
    "start_time": "2023-06-01T22:31:23.722Z"
   },
   {
    "duration": 20,
    "start_time": "2023-06-01T22:31:23.749Z"
   },
   {
    "duration": 233,
    "start_time": "2023-06-01T22:31:23.770Z"
   },
   {
    "duration": 3,
    "start_time": "2023-06-01T22:31:24.004Z"
   },
   {
    "duration": 5,
    "start_time": "2023-06-01T22:31:24.017Z"
   },
   {
    "duration": 25,
    "start_time": "2023-06-01T22:31:24.023Z"
   },
   {
    "duration": 19,
    "start_time": "2023-06-01T22:31:24.050Z"
   },
   {
    "duration": 15,
    "start_time": "2023-06-01T22:31:24.071Z"
   },
   {
    "duration": 3,
    "start_time": "2023-06-01T22:31:24.088Z"
   },
   {
    "duration": 14,
    "start_time": "2023-06-01T22:31:24.093Z"
   },
   {
    "duration": 6,
    "start_time": "2023-06-01T22:31:24.109Z"
   },
   {
    "duration": 215,
    "start_time": "2023-06-01T22:31:24.116Z"
   },
   {
    "duration": 112,
    "start_time": "2023-06-01T22:31:24.333Z"
   },
   {
    "duration": 396,
    "start_time": "2023-06-01T22:31:24.447Z"
   },
   {
    "duration": 10,
    "start_time": "2023-06-01T22:31:24.844Z"
   },
   {
    "duration": 5,
    "start_time": "2023-06-01T22:31:24.856Z"
   },
   {
    "duration": 24,
    "start_time": "2023-06-01T22:31:24.863Z"
   },
   {
    "duration": 8,
    "start_time": "2023-06-01T22:31:24.918Z"
   },
   {
    "duration": 7,
    "start_time": "2023-06-01T22:31:24.928Z"
   },
   {
    "duration": 20,
    "start_time": "2023-06-01T22:31:24.936Z"
   },
   {
    "duration": 14,
    "start_time": "2023-06-01T22:31:24.957Z"
   },
   {
    "duration": 11,
    "start_time": "2023-06-01T22:31:24.973Z"
   },
   {
    "duration": 13,
    "start_time": "2023-06-01T22:31:24.987Z"
   },
   {
    "duration": 6,
    "start_time": "2023-06-01T22:31:25.001Z"
   },
   {
    "duration": 16,
    "start_time": "2023-06-01T22:31:25.009Z"
   },
   {
    "duration": 157,
    "start_time": "2023-06-01T22:31:25.029Z"
   },
   {
    "duration": 5,
    "start_time": "2023-06-01T22:31:25.188Z"
   },
   {
    "duration": 880,
    "start_time": "2023-06-01T22:31:25.195Z"
   },
   {
    "duration": 835,
    "start_time": "2023-06-01T22:31:26.077Z"
   },
   {
    "duration": 708,
    "start_time": "2023-06-01T22:31:26.913Z"
   },
   {
    "duration": 149,
    "start_time": "2023-06-01T22:31:27.623Z"
   },
   {
    "duration": 687,
    "start_time": "2023-06-01T22:31:27.774Z"
   },
   {
    "duration": 4,
    "start_time": "2023-06-01T22:31:28.462Z"
   },
   {
    "duration": 771,
    "start_time": "2023-06-01T22:31:28.467Z"
   },
   {
    "duration": 165,
    "start_time": "2023-06-01T22:31:29.240Z"
   },
   {
    "duration": 3,
    "start_time": "2023-06-01T22:31:29.407Z"
   },
   {
    "duration": 11,
    "start_time": "2023-06-01T22:31:29.418Z"
   },
   {
    "duration": 17,
    "start_time": "2023-06-01T22:31:29.430Z"
   },
   {
    "duration": 29,
    "start_time": "2023-06-01T22:31:29.449Z"
   },
   {
    "duration": 48,
    "start_time": "2023-06-01T22:31:37.845Z"
   },
   {
    "duration": 4,
    "start_time": "2023-06-01T22:31:44.078Z"
   },
   {
    "duration": 24,
    "start_time": "2023-06-01T22:31:48.728Z"
   },
   {
    "duration": 8,
    "start_time": "2023-06-01T22:32:06.513Z"
   },
   {
    "duration": 44,
    "start_time": "2023-06-01T22:32:08.362Z"
   },
   {
    "duration": 4,
    "start_time": "2023-06-01T22:32:09.299Z"
   },
   {
    "duration": 4,
    "start_time": "2023-06-01T22:32:29.344Z"
   },
   {
    "duration": 4,
    "start_time": "2023-06-01T22:32:38.099Z"
   },
   {
    "duration": 5,
    "start_time": "2023-06-01T22:32:38.696Z"
   },
   {
    "duration": 23,
    "start_time": "2023-06-01T22:32:43.107Z"
   },
   {
    "duration": 25,
    "start_time": "2023-06-01T22:33:08.413Z"
   },
   {
    "duration": 4,
    "start_time": "2023-06-01T22:33:23.379Z"
   },
   {
    "duration": 4,
    "start_time": "2023-06-01T22:33:48.088Z"
   },
   {
    "duration": 4,
    "start_time": "2023-06-01T22:33:49.399Z"
   },
   {
    "duration": 7,
    "start_time": "2023-06-01T22:34:01.708Z"
   },
   {
    "duration": 3,
    "start_time": "2023-06-01T22:34:10.689Z"
   },
   {
    "duration": 2,
    "start_time": "2023-06-01T22:34:11.013Z"
   },
   {
    "duration": 34,
    "start_time": "2023-06-01T22:34:11.795Z"
   },
   {
    "duration": 35,
    "start_time": "2023-06-01T22:34:14.055Z"
   },
   {
    "duration": 24,
    "start_time": "2023-06-01T22:34:18.967Z"
   },
   {
    "duration": 3,
    "start_time": "2023-06-01T22:34:40.400Z"
   },
   {
    "duration": 8,
    "start_time": "2023-06-01T22:34:43.116Z"
   },
   {
    "duration": 3,
    "start_time": "2023-06-01T22:36:27.210Z"
   },
   {
    "duration": 798,
    "start_time": "2023-06-01T22:36:27.217Z"
   },
   {
    "duration": 21,
    "start_time": "2023-06-01T22:36:28.017Z"
   },
   {
    "duration": 22,
    "start_time": "2023-06-01T22:36:28.040Z"
   },
   {
    "duration": 17,
    "start_time": "2023-06-01T22:36:28.064Z"
   },
   {
    "duration": 343,
    "start_time": "2023-06-01T22:36:28.083Z"
   },
   {
    "duration": 2,
    "start_time": "2023-06-01T22:36:28.430Z"
   },
   {
    "duration": 20,
    "start_time": "2023-06-01T22:36:28.434Z"
   },
   {
    "duration": 14,
    "start_time": "2023-06-01T22:36:28.456Z"
   },
   {
    "duration": 8,
    "start_time": "2023-06-01T22:36:28.471Z"
   },
   {
    "duration": 20,
    "start_time": "2023-06-01T22:36:28.480Z"
   },
   {
    "duration": 3,
    "start_time": "2023-06-01T22:36:28.502Z"
   },
   {
    "duration": 7,
    "start_time": "2023-06-01T22:36:28.507Z"
   },
   {
    "duration": 13,
    "start_time": "2023-06-01T22:36:28.516Z"
   },
   {
    "duration": 224,
    "start_time": "2023-06-01T22:36:28.533Z"
   },
   {
    "duration": 79,
    "start_time": "2023-06-01T22:36:28.758Z"
   },
   {
    "duration": 220,
    "start_time": "2023-06-01T22:36:28.838Z"
   },
   {
    "duration": 8,
    "start_time": "2023-06-01T22:36:29.059Z"
   },
   {
    "duration": 10,
    "start_time": "2023-06-01T22:36:29.069Z"
   },
   {
    "duration": 38,
    "start_time": "2023-06-01T22:36:29.080Z"
   },
   {
    "duration": 12,
    "start_time": "2023-06-01T22:36:29.120Z"
   },
   {
    "duration": 13,
    "start_time": "2023-06-01T22:36:29.134Z"
   },
   {
    "duration": 10,
    "start_time": "2023-06-01T22:36:29.148Z"
   },
   {
    "duration": 6,
    "start_time": "2023-06-01T22:36:29.160Z"
   },
   {
    "duration": 5,
    "start_time": "2023-06-01T22:36:29.168Z"
   },
   {
    "duration": 7,
    "start_time": "2023-06-01T22:36:29.174Z"
   },
   {
    "duration": 10,
    "start_time": "2023-06-01T22:36:29.182Z"
   },
   {
    "duration": 35,
    "start_time": "2023-06-01T22:36:29.194Z"
   },
   {
    "duration": 186,
    "start_time": "2023-06-01T22:36:29.231Z"
   },
   {
    "duration": 7,
    "start_time": "2023-06-01T22:36:29.419Z"
   },
   {
    "duration": 833,
    "start_time": "2023-06-01T22:36:29.428Z"
   },
   {
    "duration": 903,
    "start_time": "2023-06-01T22:36:30.262Z"
   },
   {
    "duration": 804,
    "start_time": "2023-06-01T22:36:31.167Z"
   },
   {
    "duration": 290,
    "start_time": "2023-06-01T22:36:31.973Z"
   },
   {
    "duration": 577,
    "start_time": "2023-06-01T22:36:32.265Z"
   },
   {
    "duration": 3,
    "start_time": "2023-06-01T22:36:32.844Z"
   },
   {
    "duration": 881,
    "start_time": "2023-06-01T22:36:32.849Z"
   },
   {
    "duration": 166,
    "start_time": "2023-06-01T22:36:33.732Z"
   },
   {
    "duration": 3,
    "start_time": "2023-06-01T22:36:33.899Z"
   },
   {
    "duration": 15,
    "start_time": "2023-06-01T22:36:33.903Z"
   },
   {
    "duration": 3,
    "start_time": "2023-06-01T22:36:53.210Z"
   },
   {
    "duration": 6,
    "start_time": "2023-06-01T22:36:54.373Z"
   },
   {
    "duration": 5,
    "start_time": "2023-06-01T22:36:55.049Z"
   },
   {
    "duration": 8,
    "start_time": "2023-06-01T22:36:56.416Z"
   },
   {
    "duration": 3,
    "start_time": "2023-06-01T22:36:56.599Z"
   },
   {
    "duration": 31,
    "start_time": "2023-06-01T22:36:56.789Z"
   },
   {
    "duration": 3,
    "start_time": "2023-06-01T22:36:59.100Z"
   },
   {
    "duration": 35,
    "start_time": "2023-06-01T22:36:59.415Z"
   },
   {
    "duration": 24,
    "start_time": "2023-06-01T22:37:10.746Z"
   },
   {
    "duration": 4,
    "start_time": "2023-06-01T22:37:19.490Z"
   },
   {
    "duration": 5,
    "start_time": "2023-06-01T22:37:30.847Z"
   },
   {
    "duration": 2,
    "start_time": "2023-06-01T22:37:32.196Z"
   },
   {
    "duration": 2,
    "start_time": "2023-06-01T22:37:33.158Z"
   },
   {
    "duration": 4,
    "start_time": "2023-06-01T22:37:34.758Z"
   },
   {
    "duration": 2,
    "start_time": "2023-06-01T22:37:41.093Z"
   },
   {
    "duration": 4,
    "start_time": "2023-06-01T22:37:45.678Z"
   },
   {
    "duration": 178217,
    "start_time": "2023-06-01T22:37:50.792Z"
   },
   {
    "duration": 184386,
    "start_time": "2023-06-01T22:40:50.467Z"
   },
   {
    "duration": 5,
    "start_time": "2023-06-01T22:45:43.975Z"
   },
   {
    "duration": 4,
    "start_time": "2023-06-01T22:45:47.793Z"
   },
   {
    "duration": 4,
    "start_time": "2023-06-01T22:46:05.364Z"
   },
   {
    "duration": 3,
    "start_time": "2023-06-01T22:46:07.956Z"
   },
   {
    "duration": 3,
    "start_time": "2023-06-01T22:46:08.798Z"
   },
   {
    "duration": 3,
    "start_time": "2023-06-01T22:46:22.204Z"
   },
   {
    "duration": 3,
    "start_time": "2023-06-01T22:46:23.371Z"
   },
   {
    "duration": 3,
    "start_time": "2023-06-01T22:46:23.952Z"
   },
   {
    "duration": 3,
    "start_time": "2023-06-01T22:46:25.407Z"
   },
   {
    "duration": 3,
    "start_time": "2023-06-01T22:46:26.655Z"
   },
   {
    "duration": 3,
    "start_time": "2023-06-01T22:46:29.610Z"
   },
   {
    "duration": 183784,
    "start_time": "2023-06-01T22:46:33.149Z"
   },
   {
    "duration": 4,
    "start_time": "2023-06-01T22:49:38.948Z"
   },
   {
    "duration": 4,
    "start_time": "2023-06-01T22:49:40.797Z"
   },
   {
    "duration": 299436,
    "start_time": "2023-06-01T22:51:58.762Z"
   },
   {
    "duration": 8,
    "start_time": "2023-06-01T22:56:58.200Z"
   },
   {
    "duration": 0,
    "start_time": "2023-06-01T22:56:58.209Z"
   },
   {
    "duration": 0,
    "start_time": "2023-06-01T22:56:58.210Z"
   },
   {
    "duration": 252435,
    "start_time": "2023-06-01T22:57:09.188Z"
   },
   {
    "duration": 4,
    "start_time": "2023-06-01T23:01:21.625Z"
   },
   {
    "duration": 20,
    "start_time": "2023-06-01T23:01:21.630Z"
   },
   {
    "duration": 3,
    "start_time": "2023-06-01T23:02:10.272Z"
   },
   {
    "duration": 181,
    "start_time": "2023-06-01T23:02:20.637Z"
   },
   {
    "duration": 84,
    "start_time": "2023-06-01T23:02:26.937Z"
   },
   {
    "duration": 5,
    "start_time": "2023-06-01T23:05:28.021Z"
   },
   {
    "duration": 6,
    "start_time": "2023-06-01T23:05:41.577Z"
   },
   {
    "duration": 6,
    "start_time": "2023-06-01T23:05:48.098Z"
   },
   {
    "duration": 7,
    "start_time": "2023-06-01T23:05:50.614Z"
   },
   {
    "duration": 29,
    "start_time": "2023-06-01T23:06:08.722Z"
   },
   {
    "duration": 5,
    "start_time": "2023-06-01T23:06:12.950Z"
   },
   {
    "duration": 10,
    "start_time": "2023-06-01T23:07:01.022Z"
   },
   {
    "duration": 7,
    "start_time": "2023-06-01T23:07:07.929Z"
   },
   {
    "duration": 7,
    "start_time": "2023-06-01T23:07:08.929Z"
   },
   {
    "duration": 45,
    "start_time": "2023-06-03T06:03:19.019Z"
   },
   {
    "duration": 1500,
    "start_time": "2023-06-03T06:03:23.358Z"
   },
   {
    "duration": 2068,
    "start_time": "2023-06-03T06:03:24.861Z"
   },
   {
    "duration": 28,
    "start_time": "2023-06-03T06:03:26.931Z"
   },
   {
    "duration": 22,
    "start_time": "2023-06-03T06:03:26.962Z"
   },
   {
    "duration": 36,
    "start_time": "2023-06-03T06:03:26.985Z"
   },
   {
    "duration": 251,
    "start_time": "2023-06-03T06:03:27.024Z"
   },
   {
    "duration": 3,
    "start_time": "2023-06-03T06:03:27.277Z"
   },
   {
    "duration": 16,
    "start_time": "2023-06-03T06:03:27.281Z"
   },
   {
    "duration": 7,
    "start_time": "2023-06-03T06:03:27.298Z"
   },
   {
    "duration": 19,
    "start_time": "2023-06-03T06:03:27.307Z"
   },
   {
    "duration": 12,
    "start_time": "2023-06-03T06:03:27.328Z"
   },
   {
    "duration": 5,
    "start_time": "2023-06-03T06:03:27.341Z"
   },
   {
    "duration": 14,
    "start_time": "2023-06-03T06:03:27.347Z"
   },
   {
    "duration": 4,
    "start_time": "2023-06-03T06:03:27.363Z"
   },
   {
    "duration": 236,
    "start_time": "2023-06-03T06:03:27.369Z"
   },
   {
    "duration": 74,
    "start_time": "2023-06-03T06:03:27.607Z"
   },
   {
    "duration": 254,
    "start_time": "2023-06-03T06:03:27.683Z"
   },
   {
    "duration": 9,
    "start_time": "2023-06-03T06:03:27.938Z"
   },
   {
    "duration": 5,
    "start_time": "2023-06-03T06:03:27.949Z"
   },
   {
    "duration": 40,
    "start_time": "2023-06-03T06:03:27.955Z"
   },
   {
    "duration": 33,
    "start_time": "2023-06-03T06:03:27.997Z"
   },
   {
    "duration": 7,
    "start_time": "2023-06-03T06:03:28.032Z"
   },
   {
    "duration": 26,
    "start_time": "2023-06-03T06:03:28.041Z"
   },
   {
    "duration": 10,
    "start_time": "2023-06-03T06:03:28.069Z"
   },
   {
    "duration": 5,
    "start_time": "2023-06-03T06:03:28.081Z"
   },
   {
    "duration": 40,
    "start_time": "2023-06-03T06:03:28.088Z"
   },
   {
    "duration": 8,
    "start_time": "2023-06-03T06:03:28.130Z"
   },
   {
    "duration": 14,
    "start_time": "2023-06-03T06:03:28.143Z"
   },
   {
    "duration": 163,
    "start_time": "2023-06-03T06:03:28.159Z"
   },
   {
    "duration": 5,
    "start_time": "2023-06-03T06:03:28.325Z"
   },
   {
    "duration": 936,
    "start_time": "2023-06-03T06:03:28.331Z"
   },
   {
    "duration": 934,
    "start_time": "2023-06-03T06:03:29.269Z"
   },
   {
    "duration": 813,
    "start_time": "2023-06-03T06:03:30.205Z"
   },
   {
    "duration": 175,
    "start_time": "2023-06-03T06:03:31.024Z"
   },
   {
    "duration": 776,
    "start_time": "2023-06-03T06:03:31.200Z"
   },
   {
    "duration": 4,
    "start_time": "2023-06-03T06:03:31.978Z"
   },
   {
    "duration": 783,
    "start_time": "2023-06-03T06:03:31.984Z"
   },
   {
    "duration": 156,
    "start_time": "2023-06-03T06:03:32.770Z"
   },
   {
    "duration": 3,
    "start_time": "2023-06-03T06:03:32.928Z"
   },
   {
    "duration": 23,
    "start_time": "2023-06-03T06:03:32.932Z"
   },
   {
    "duration": 24,
    "start_time": "2023-06-03T06:03:32.957Z"
   },
   {
    "duration": 17,
    "start_time": "2023-06-03T06:03:32.982Z"
   },
   {
    "duration": 12,
    "start_time": "2023-06-03T06:03:33.000Z"
   },
   {
    "duration": 23,
    "start_time": "2023-06-03T06:03:33.014Z"
   },
   {
    "duration": 63,
    "start_time": "2023-06-03T06:03:33.038Z"
   },
   {
    "duration": 3,
    "start_time": "2023-06-03T06:03:33.102Z"
   },
   {
    "duration": 64,
    "start_time": "2023-06-03T06:03:33.107Z"
   },
   {
    "duration": 25,
    "start_time": "2023-06-03T06:03:33.173Z"
   },
   {
    "duration": 17,
    "start_time": "2023-06-03T06:03:33.200Z"
   },
   {
    "duration": 42,
    "start_time": "2023-06-03T06:03:33.219Z"
   },
   {
    "duration": 21,
    "start_time": "2023-06-03T06:03:33.263Z"
   },
   {
    "duration": 13,
    "start_time": "2023-06-03T06:03:33.286Z"
   },
   {
    "duration": 10,
    "start_time": "2023-06-03T06:03:33.301Z"
   },
   {
    "duration": 8,
    "start_time": "2023-06-03T06:03:33.313Z"
   },
   {
    "duration": 13,
    "start_time": "2023-06-03T06:03:33.323Z"
   },
   {
    "duration": 26061,
    "start_time": "2023-06-03T06:03:33.337Z"
   },
   {
    "duration": 12,
    "start_time": "2023-06-03T06:03:59.400Z"
   },
   {
    "duration": 0,
    "start_time": "2023-06-03T06:03:59.414Z"
   },
   {
    "duration": 0,
    "start_time": "2023-06-03T06:03:59.415Z"
   },
   {
    "duration": 0,
    "start_time": "2023-06-03T06:03:59.417Z"
   }
  ],
  "kernelspec": {
   "display_name": "Python 3 (ipykernel)",
   "language": "python",
   "name": "python3"
  },
  "language_info": {
   "codemirror_mode": {
    "name": "ipython",
    "version": 3
   },
   "file_extension": ".py",
   "mimetype": "text/x-python",
   "name": "python",
   "nbconvert_exporter": "python",
   "pygments_lexer": "ipython3",
   "version": "3.9.16"
  },
  "toc": {
   "base_numbering": 1,
   "nav_menu": {},
   "number_sections": true,
   "sideBar": true,
   "skip_h1_title": true,
   "title_cell": "Содержание",
   "title_sidebar": "Contents",
   "toc_cell": true,
   "toc_position": {},
   "toc_section_display": true,
   "toc_window_display": true
  }
 },
 "nbformat": 4,
 "nbformat_minor": 2
}
