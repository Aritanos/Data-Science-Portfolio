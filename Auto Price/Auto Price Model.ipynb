{
 "cells": [
  {
   "cell_type": "markdown",
   "metadata": {},
   "source": [
    "# Определение стоимости автомобилей"
   ]
  },
  {
   "cell_type": "markdown",
   "metadata": {},
   "source": [
    "## Подготовка данных"
   ]
  },
  {
   "cell_type": "code",
   "execution_count": 1,
   "metadata": {},
   "outputs": [
    {
     "name": "stdout",
     "output_type": "stream",
     "text": [
      "Requirement already satisfied: lightgbm in /opt/conda/lib/python3.9/site-packages (3.3.1)\n",
      "Requirement already satisfied: scikit-learn!=0.22.0 in /opt/conda/lib/python3.9/site-packages (from lightgbm) (0.24.1)\n",
      "Requirement already satisfied: numpy in /opt/conda/lib/python3.9/site-packages (from lightgbm) (1.21.1)\n",
      "Requirement already satisfied: wheel in /opt/conda/lib/python3.9/site-packages (from lightgbm) (0.36.2)\n",
      "Requirement already satisfied: scipy in /opt/conda/lib/python3.9/site-packages (from lightgbm) (1.9.1)\n",
      "Requirement already satisfied: threadpoolctl>=2.0.0 in /opt/conda/lib/python3.9/site-packages (from scikit-learn!=0.22.0->lightgbm) (3.1.0)\n",
      "Requirement already satisfied: joblib>=0.11 in /opt/conda/lib/python3.9/site-packages (from scikit-learn!=0.22.0->lightgbm) (1.1.0)\n",
      "Note: you may need to restart the kernel to use updated packages.\n"
     ]
    }
   ],
   "source": [
    "pip install lightgbm"
   ]
  },
  {
   "cell_type": "code",
   "execution_count": 2,
   "metadata": {},
   "outputs": [
    {
     "name": "stdout",
     "output_type": "stream",
     "text": [
      "Collecting category_encoders\n",
      "  Downloading category_encoders-2.6.1-py2.py3-none-any.whl (81 kB)\n",
      "\u001b[K     |████████████████████████████████| 81 kB 20 kB/s  eta 0:00:01\n",
      "\u001b[?25hRequirement already satisfied: statsmodels>=0.9.0 in /opt/conda/lib/python3.9/site-packages (from category_encoders) (0.13.2)\n",
      "Requirement already satisfied: numpy>=1.14.0 in /opt/conda/lib/python3.9/site-packages (from category_encoders) (1.21.1)\n",
      "Requirement already satisfied: scipy>=1.0.0 in /opt/conda/lib/python3.9/site-packages (from category_encoders) (1.9.1)\n",
      "Requirement already satisfied: patsy>=0.5.1 in /opt/conda/lib/python3.9/site-packages (from category_encoders) (0.5.2)\n",
      "Requirement already satisfied: scikit-learn>=0.20.0 in /opt/conda/lib/python3.9/site-packages (from category_encoders) (0.24.1)\n",
      "Requirement already satisfied: pandas>=1.0.5 in /opt/conda/lib/python3.9/site-packages (from category_encoders) (1.2.4)\n",
      "Requirement already satisfied: python-dateutil>=2.7.3 in /opt/conda/lib/python3.9/site-packages (from pandas>=1.0.5->category_encoders) (2.8.1)\n",
      "Requirement already satisfied: pytz>=2017.3 in /opt/conda/lib/python3.9/site-packages (from pandas>=1.0.5->category_encoders) (2021.1)\n",
      "Requirement already satisfied: six in /opt/conda/lib/python3.9/site-packages (from patsy>=0.5.1->category_encoders) (1.16.0)\n",
      "Requirement already satisfied: joblib>=0.11 in /opt/conda/lib/python3.9/site-packages (from scikit-learn>=0.20.0->category_encoders) (1.1.0)\n",
      "Requirement already satisfied: threadpoolctl>=2.0.0 in /opt/conda/lib/python3.9/site-packages (from scikit-learn>=0.20.0->category_encoders) (3.1.0)\n",
      "Requirement already satisfied: packaging>=21.3 in /opt/conda/lib/python3.9/site-packages (from statsmodels>=0.9.0->category_encoders) (21.3)\n",
      "Requirement already satisfied: pyparsing!=3.0.5,>=2.0.2 in /opt/conda/lib/python3.9/site-packages (from packaging>=21.3->statsmodels>=0.9.0->category_encoders) (2.4.7)\n",
      "Installing collected packages: category-encoders\n",
      "Successfully installed category-encoders-2.6.1\n",
      "Note: you may need to restart the kernel to use updated packages.\n"
     ]
    }
   ],
   "source": [
    "pip install category_encoders"
   ]
  },
  {
   "cell_type": "code",
   "execution_count": 3,
   "metadata": {},
   "outputs": [],
   "source": [
    "import numpy as np\n",
    "import pandas as pd\n",
    "import os\n",
    "import matplotlib.pyplot as plt\n",
    "import lightgbm as lgb\n",
    "from sklearn.preprocessing import OneHotEncoder, StandardScaler\n",
    "from category_encoders.m_estimate import MEstimateEncoder\n",
    "from sklearn.model_selection import train_test_split, GridSearchCV\n",
    "from sklearn.metrics import mean_squared_error\n",
    "from sklearn.ensemble import RandomForestRegressor"
   ]
  },
  {
   "cell_type": "code",
   "execution_count": 4,
   "metadata": {},
   "outputs": [],
   "source": [
    "local_path = 'C:\\\\Users\\\\Aritanos\\\\Project10\\\\autos.csv'\n",
    "server_path = '/datasets/autos.csv'\n",
    "if os.path.exists(local_path):\n",
    "    data = pd.read_csv(local_path)\n",
    "else:\n",
    "    data = pd.read_csv(server_path)"
   ]
  },
  {
   "cell_type": "markdown",
   "metadata": {},
   "source": [
    "#### Обзор данных"
   ]
  },
  {
   "cell_type": "code",
   "execution_count": 5,
   "metadata": {
    "scrolled": true
   },
   "outputs": [
    {
     "data": {
      "text/html": [
       "<div>\n",
       "<style scoped>\n",
       "    .dataframe tbody tr th:only-of-type {\n",
       "        vertical-align: middle;\n",
       "    }\n",
       "\n",
       "    .dataframe tbody tr th {\n",
       "        vertical-align: top;\n",
       "    }\n",
       "\n",
       "    .dataframe thead th {\n",
       "        text-align: right;\n",
       "    }\n",
       "</style>\n",
       "<table border=\"1\" class=\"dataframe\">\n",
       "  <thead>\n",
       "    <tr style=\"text-align: right;\">\n",
       "      <th></th>\n",
       "      <th>DateCrawled</th>\n",
       "      <th>Price</th>\n",
       "      <th>VehicleType</th>\n",
       "      <th>RegistrationYear</th>\n",
       "      <th>Gearbox</th>\n",
       "      <th>Power</th>\n",
       "      <th>Model</th>\n",
       "      <th>Kilometer</th>\n",
       "      <th>RegistrationMonth</th>\n",
       "      <th>FuelType</th>\n",
       "      <th>Brand</th>\n",
       "      <th>Repaired</th>\n",
       "      <th>DateCreated</th>\n",
       "      <th>NumberOfPictures</th>\n",
       "      <th>PostalCode</th>\n",
       "      <th>LastSeen</th>\n",
       "    </tr>\n",
       "  </thead>\n",
       "  <tbody>\n",
       "    <tr>\n",
       "      <th>0</th>\n",
       "      <td>2016-03-24 11:52:17</td>\n",
       "      <td>480</td>\n",
       "      <td>NaN</td>\n",
       "      <td>1993</td>\n",
       "      <td>manual</td>\n",
       "      <td>0</td>\n",
       "      <td>golf</td>\n",
       "      <td>150000</td>\n",
       "      <td>0</td>\n",
       "      <td>petrol</td>\n",
       "      <td>volkswagen</td>\n",
       "      <td>NaN</td>\n",
       "      <td>2016-03-24 00:00:00</td>\n",
       "      <td>0</td>\n",
       "      <td>70435</td>\n",
       "      <td>2016-04-07 03:16:57</td>\n",
       "    </tr>\n",
       "    <tr>\n",
       "      <th>1</th>\n",
       "      <td>2016-03-24 10:58:45</td>\n",
       "      <td>18300</td>\n",
       "      <td>coupe</td>\n",
       "      <td>2011</td>\n",
       "      <td>manual</td>\n",
       "      <td>190</td>\n",
       "      <td>NaN</td>\n",
       "      <td>125000</td>\n",
       "      <td>5</td>\n",
       "      <td>gasoline</td>\n",
       "      <td>audi</td>\n",
       "      <td>yes</td>\n",
       "      <td>2016-03-24 00:00:00</td>\n",
       "      <td>0</td>\n",
       "      <td>66954</td>\n",
       "      <td>2016-04-07 01:46:50</td>\n",
       "    </tr>\n",
       "    <tr>\n",
       "      <th>2</th>\n",
       "      <td>2016-03-14 12:52:21</td>\n",
       "      <td>9800</td>\n",
       "      <td>suv</td>\n",
       "      <td>2004</td>\n",
       "      <td>auto</td>\n",
       "      <td>163</td>\n",
       "      <td>grand</td>\n",
       "      <td>125000</td>\n",
       "      <td>8</td>\n",
       "      <td>gasoline</td>\n",
       "      <td>jeep</td>\n",
       "      <td>NaN</td>\n",
       "      <td>2016-03-14 00:00:00</td>\n",
       "      <td>0</td>\n",
       "      <td>90480</td>\n",
       "      <td>2016-04-05 12:47:46</td>\n",
       "    </tr>\n",
       "    <tr>\n",
       "      <th>3</th>\n",
       "      <td>2016-03-17 16:54:04</td>\n",
       "      <td>1500</td>\n",
       "      <td>small</td>\n",
       "      <td>2001</td>\n",
       "      <td>manual</td>\n",
       "      <td>75</td>\n",
       "      <td>golf</td>\n",
       "      <td>150000</td>\n",
       "      <td>6</td>\n",
       "      <td>petrol</td>\n",
       "      <td>volkswagen</td>\n",
       "      <td>no</td>\n",
       "      <td>2016-03-17 00:00:00</td>\n",
       "      <td>0</td>\n",
       "      <td>91074</td>\n",
       "      <td>2016-03-17 17:40:17</td>\n",
       "    </tr>\n",
       "    <tr>\n",
       "      <th>4</th>\n",
       "      <td>2016-03-31 17:25:20</td>\n",
       "      <td>3600</td>\n",
       "      <td>small</td>\n",
       "      <td>2008</td>\n",
       "      <td>manual</td>\n",
       "      <td>69</td>\n",
       "      <td>fabia</td>\n",
       "      <td>90000</td>\n",
       "      <td>7</td>\n",
       "      <td>gasoline</td>\n",
       "      <td>skoda</td>\n",
       "      <td>no</td>\n",
       "      <td>2016-03-31 00:00:00</td>\n",
       "      <td>0</td>\n",
       "      <td>60437</td>\n",
       "      <td>2016-04-06 10:17:21</td>\n",
       "    </tr>\n",
       "    <tr>\n",
       "      <th>5</th>\n",
       "      <td>2016-04-04 17:36:23</td>\n",
       "      <td>650</td>\n",
       "      <td>sedan</td>\n",
       "      <td>1995</td>\n",
       "      <td>manual</td>\n",
       "      <td>102</td>\n",
       "      <td>3er</td>\n",
       "      <td>150000</td>\n",
       "      <td>10</td>\n",
       "      <td>petrol</td>\n",
       "      <td>bmw</td>\n",
       "      <td>yes</td>\n",
       "      <td>2016-04-04 00:00:00</td>\n",
       "      <td>0</td>\n",
       "      <td>33775</td>\n",
       "      <td>2016-04-06 19:17:07</td>\n",
       "    </tr>\n",
       "    <tr>\n",
       "      <th>6</th>\n",
       "      <td>2016-04-01 20:48:51</td>\n",
       "      <td>2200</td>\n",
       "      <td>convertible</td>\n",
       "      <td>2004</td>\n",
       "      <td>manual</td>\n",
       "      <td>109</td>\n",
       "      <td>2_reihe</td>\n",
       "      <td>150000</td>\n",
       "      <td>8</td>\n",
       "      <td>petrol</td>\n",
       "      <td>peugeot</td>\n",
       "      <td>no</td>\n",
       "      <td>2016-04-01 00:00:00</td>\n",
       "      <td>0</td>\n",
       "      <td>67112</td>\n",
       "      <td>2016-04-05 18:18:39</td>\n",
       "    </tr>\n",
       "    <tr>\n",
       "      <th>7</th>\n",
       "      <td>2016-03-21 18:54:38</td>\n",
       "      <td>0</td>\n",
       "      <td>sedan</td>\n",
       "      <td>1980</td>\n",
       "      <td>manual</td>\n",
       "      <td>50</td>\n",
       "      <td>other</td>\n",
       "      <td>40000</td>\n",
       "      <td>7</td>\n",
       "      <td>petrol</td>\n",
       "      <td>volkswagen</td>\n",
       "      <td>no</td>\n",
       "      <td>2016-03-21 00:00:00</td>\n",
       "      <td>0</td>\n",
       "      <td>19348</td>\n",
       "      <td>2016-03-25 16:47:58</td>\n",
       "    </tr>\n",
       "    <tr>\n",
       "      <th>8</th>\n",
       "      <td>2016-04-04 23:42:13</td>\n",
       "      <td>14500</td>\n",
       "      <td>bus</td>\n",
       "      <td>2014</td>\n",
       "      <td>manual</td>\n",
       "      <td>125</td>\n",
       "      <td>c_max</td>\n",
       "      <td>30000</td>\n",
       "      <td>8</td>\n",
       "      <td>petrol</td>\n",
       "      <td>ford</td>\n",
       "      <td>NaN</td>\n",
       "      <td>2016-04-04 00:00:00</td>\n",
       "      <td>0</td>\n",
       "      <td>94505</td>\n",
       "      <td>2016-04-04 23:42:13</td>\n",
       "    </tr>\n",
       "    <tr>\n",
       "      <th>9</th>\n",
       "      <td>2016-03-17 10:53:50</td>\n",
       "      <td>999</td>\n",
       "      <td>small</td>\n",
       "      <td>1998</td>\n",
       "      <td>manual</td>\n",
       "      <td>101</td>\n",
       "      <td>golf</td>\n",
       "      <td>150000</td>\n",
       "      <td>0</td>\n",
       "      <td>NaN</td>\n",
       "      <td>volkswagen</td>\n",
       "      <td>NaN</td>\n",
       "      <td>2016-03-17 00:00:00</td>\n",
       "      <td>0</td>\n",
       "      <td>27472</td>\n",
       "      <td>2016-03-31 17:17:06</td>\n",
       "    </tr>\n",
       "  </tbody>\n",
       "</table>\n",
       "</div>"
      ],
      "text/plain": [
       "           DateCrawled  Price  VehicleType  RegistrationYear Gearbox  Power  \\\n",
       "0  2016-03-24 11:52:17    480          NaN              1993  manual      0   \n",
       "1  2016-03-24 10:58:45  18300        coupe              2011  manual    190   \n",
       "2  2016-03-14 12:52:21   9800          suv              2004    auto    163   \n",
       "3  2016-03-17 16:54:04   1500        small              2001  manual     75   \n",
       "4  2016-03-31 17:25:20   3600        small              2008  manual     69   \n",
       "5  2016-04-04 17:36:23    650        sedan              1995  manual    102   \n",
       "6  2016-04-01 20:48:51   2200  convertible              2004  manual    109   \n",
       "7  2016-03-21 18:54:38      0        sedan              1980  manual     50   \n",
       "8  2016-04-04 23:42:13  14500          bus              2014  manual    125   \n",
       "9  2016-03-17 10:53:50    999        small              1998  manual    101   \n",
       "\n",
       "     Model  Kilometer  RegistrationMonth  FuelType       Brand Repaired  \\\n",
       "0     golf     150000                  0    petrol  volkswagen      NaN   \n",
       "1      NaN     125000                  5  gasoline        audi      yes   \n",
       "2    grand     125000                  8  gasoline        jeep      NaN   \n",
       "3     golf     150000                  6    petrol  volkswagen       no   \n",
       "4    fabia      90000                  7  gasoline       skoda       no   \n",
       "5      3er     150000                 10    petrol         bmw      yes   \n",
       "6  2_reihe     150000                  8    petrol     peugeot       no   \n",
       "7    other      40000                  7    petrol  volkswagen       no   \n",
       "8    c_max      30000                  8    petrol        ford      NaN   \n",
       "9     golf     150000                  0       NaN  volkswagen      NaN   \n",
       "\n",
       "           DateCreated  NumberOfPictures  PostalCode             LastSeen  \n",
       "0  2016-03-24 00:00:00                 0       70435  2016-04-07 03:16:57  \n",
       "1  2016-03-24 00:00:00                 0       66954  2016-04-07 01:46:50  \n",
       "2  2016-03-14 00:00:00                 0       90480  2016-04-05 12:47:46  \n",
       "3  2016-03-17 00:00:00                 0       91074  2016-03-17 17:40:17  \n",
       "4  2016-03-31 00:00:00                 0       60437  2016-04-06 10:17:21  \n",
       "5  2016-04-04 00:00:00                 0       33775  2016-04-06 19:17:07  \n",
       "6  2016-04-01 00:00:00                 0       67112  2016-04-05 18:18:39  \n",
       "7  2016-03-21 00:00:00                 0       19348  2016-03-25 16:47:58  \n",
       "8  2016-04-04 00:00:00                 0       94505  2016-04-04 23:42:13  \n",
       "9  2016-03-17 00:00:00                 0       27472  2016-03-31 17:17:06  "
      ]
     },
     "execution_count": 5,
     "metadata": {},
     "output_type": "execute_result"
    }
   ],
   "source": [
    "data.head(10)"
   ]
  },
  {
   "cell_type": "markdown",
   "metadata": {},
   "source": [
    "Приведём названия колонок к snake_case:"
   ]
  },
  {
   "cell_type": "code",
   "execution_count": 6,
   "metadata": {},
   "outputs": [
    {
     "data": {
      "text/plain": [
       "Index(['date_crawled', 'price', 'vehicle_type', 'registration_year', 'gearbox',\n",
       "       'power', 'model', 'kilometer', 'registration_month', 'fuel_type',\n",
       "       'brand', 'repaired', 'date_created', 'number_of_pictures',\n",
       "       'postal_code', 'last_seen'],\n",
       "      dtype='object')"
      ]
     },
     "execution_count": 6,
     "metadata": {},
     "output_type": "execute_result"
    }
   ],
   "source": [
    "new_columns = []\n",
    "for index in data.columns:\n",
    "    new_index = ''\n",
    "    for ch in index:\n",
    "        if ch.isupper():\n",
    "            new_index = new_index + '_' + ch.lower()\n",
    "        else:\n",
    "            new_index = new_index + ch\n",
    "    new_columns.append(new_index[1:])\n",
    "data.columns = new_columns\n",
    "data.columns"
   ]
  },
  {
   "cell_type": "code",
   "execution_count": 7,
   "metadata": {
    "scrolled": true
   },
   "outputs": [
    {
     "data": {
      "text/html": [
       "<div>\n",
       "<style scoped>\n",
       "    .dataframe tbody tr th:only-of-type {\n",
       "        vertical-align: middle;\n",
       "    }\n",
       "\n",
       "    .dataframe tbody tr th {\n",
       "        vertical-align: top;\n",
       "    }\n",
       "\n",
       "    .dataframe thead th {\n",
       "        text-align: right;\n",
       "    }\n",
       "</style>\n",
       "<table border=\"1\" class=\"dataframe\">\n",
       "  <thead>\n",
       "    <tr style=\"text-align: right;\">\n",
       "      <th></th>\n",
       "      <th>date_crawled</th>\n",
       "      <th>price</th>\n",
       "      <th>vehicle_type</th>\n",
       "      <th>registration_year</th>\n",
       "      <th>gearbox</th>\n",
       "      <th>power</th>\n",
       "      <th>model</th>\n",
       "      <th>kilometer</th>\n",
       "      <th>registration_month</th>\n",
       "      <th>fuel_type</th>\n",
       "      <th>brand</th>\n",
       "      <th>repaired</th>\n",
       "      <th>date_created</th>\n",
       "      <th>number_of_pictures</th>\n",
       "      <th>postal_code</th>\n",
       "      <th>last_seen</th>\n",
       "    </tr>\n",
       "  </thead>\n",
       "  <tbody>\n",
       "    <tr>\n",
       "      <th>0</th>\n",
       "      <td>2016-03-24 11:52:17</td>\n",
       "      <td>480</td>\n",
       "      <td>NaN</td>\n",
       "      <td>1993</td>\n",
       "      <td>manual</td>\n",
       "      <td>0</td>\n",
       "      <td>golf</td>\n",
       "      <td>150000</td>\n",
       "      <td>0</td>\n",
       "      <td>petrol</td>\n",
       "      <td>volkswagen</td>\n",
       "      <td>NaN</td>\n",
       "      <td>2016-03-24 00:00:00</td>\n",
       "      <td>0</td>\n",
       "      <td>70435</td>\n",
       "      <td>2016-04-07 03:16:57</td>\n",
       "    </tr>\n",
       "    <tr>\n",
       "      <th>1</th>\n",
       "      <td>2016-03-24 10:58:45</td>\n",
       "      <td>18300</td>\n",
       "      <td>coupe</td>\n",
       "      <td>2011</td>\n",
       "      <td>manual</td>\n",
       "      <td>190</td>\n",
       "      <td>NaN</td>\n",
       "      <td>125000</td>\n",
       "      <td>5</td>\n",
       "      <td>gasoline</td>\n",
       "      <td>audi</td>\n",
       "      <td>yes</td>\n",
       "      <td>2016-03-24 00:00:00</td>\n",
       "      <td>0</td>\n",
       "      <td>66954</td>\n",
       "      <td>2016-04-07 01:46:50</td>\n",
       "    </tr>\n",
       "    <tr>\n",
       "      <th>2</th>\n",
       "      <td>2016-03-14 12:52:21</td>\n",
       "      <td>9800</td>\n",
       "      <td>suv</td>\n",
       "      <td>2004</td>\n",
       "      <td>auto</td>\n",
       "      <td>163</td>\n",
       "      <td>grand</td>\n",
       "      <td>125000</td>\n",
       "      <td>8</td>\n",
       "      <td>gasoline</td>\n",
       "      <td>jeep</td>\n",
       "      <td>NaN</td>\n",
       "      <td>2016-03-14 00:00:00</td>\n",
       "      <td>0</td>\n",
       "      <td>90480</td>\n",
       "      <td>2016-04-05 12:47:46</td>\n",
       "    </tr>\n",
       "    <tr>\n",
       "      <th>3</th>\n",
       "      <td>2016-03-17 16:54:04</td>\n",
       "      <td>1500</td>\n",
       "      <td>small</td>\n",
       "      <td>2001</td>\n",
       "      <td>manual</td>\n",
       "      <td>75</td>\n",
       "      <td>golf</td>\n",
       "      <td>150000</td>\n",
       "      <td>6</td>\n",
       "      <td>petrol</td>\n",
       "      <td>volkswagen</td>\n",
       "      <td>no</td>\n",
       "      <td>2016-03-17 00:00:00</td>\n",
       "      <td>0</td>\n",
       "      <td>91074</td>\n",
       "      <td>2016-03-17 17:40:17</td>\n",
       "    </tr>\n",
       "    <tr>\n",
       "      <th>4</th>\n",
       "      <td>2016-03-31 17:25:20</td>\n",
       "      <td>3600</td>\n",
       "      <td>small</td>\n",
       "      <td>2008</td>\n",
       "      <td>manual</td>\n",
       "      <td>69</td>\n",
       "      <td>fabia</td>\n",
       "      <td>90000</td>\n",
       "      <td>7</td>\n",
       "      <td>gasoline</td>\n",
       "      <td>skoda</td>\n",
       "      <td>no</td>\n",
       "      <td>2016-03-31 00:00:00</td>\n",
       "      <td>0</td>\n",
       "      <td>60437</td>\n",
       "      <td>2016-04-06 10:17:21</td>\n",
       "    </tr>\n",
       "    <tr>\n",
       "      <th>5</th>\n",
       "      <td>2016-04-04 17:36:23</td>\n",
       "      <td>650</td>\n",
       "      <td>sedan</td>\n",
       "      <td>1995</td>\n",
       "      <td>manual</td>\n",
       "      <td>102</td>\n",
       "      <td>3er</td>\n",
       "      <td>150000</td>\n",
       "      <td>10</td>\n",
       "      <td>petrol</td>\n",
       "      <td>bmw</td>\n",
       "      <td>yes</td>\n",
       "      <td>2016-04-04 00:00:00</td>\n",
       "      <td>0</td>\n",
       "      <td>33775</td>\n",
       "      <td>2016-04-06 19:17:07</td>\n",
       "    </tr>\n",
       "    <tr>\n",
       "      <th>6</th>\n",
       "      <td>2016-04-01 20:48:51</td>\n",
       "      <td>2200</td>\n",
       "      <td>convertible</td>\n",
       "      <td>2004</td>\n",
       "      <td>manual</td>\n",
       "      <td>109</td>\n",
       "      <td>2_reihe</td>\n",
       "      <td>150000</td>\n",
       "      <td>8</td>\n",
       "      <td>petrol</td>\n",
       "      <td>peugeot</td>\n",
       "      <td>no</td>\n",
       "      <td>2016-04-01 00:00:00</td>\n",
       "      <td>0</td>\n",
       "      <td>67112</td>\n",
       "      <td>2016-04-05 18:18:39</td>\n",
       "    </tr>\n",
       "    <tr>\n",
       "      <th>7</th>\n",
       "      <td>2016-03-21 18:54:38</td>\n",
       "      <td>0</td>\n",
       "      <td>sedan</td>\n",
       "      <td>1980</td>\n",
       "      <td>manual</td>\n",
       "      <td>50</td>\n",
       "      <td>other</td>\n",
       "      <td>40000</td>\n",
       "      <td>7</td>\n",
       "      <td>petrol</td>\n",
       "      <td>volkswagen</td>\n",
       "      <td>no</td>\n",
       "      <td>2016-03-21 00:00:00</td>\n",
       "      <td>0</td>\n",
       "      <td>19348</td>\n",
       "      <td>2016-03-25 16:47:58</td>\n",
       "    </tr>\n",
       "    <tr>\n",
       "      <th>8</th>\n",
       "      <td>2016-04-04 23:42:13</td>\n",
       "      <td>14500</td>\n",
       "      <td>bus</td>\n",
       "      <td>2014</td>\n",
       "      <td>manual</td>\n",
       "      <td>125</td>\n",
       "      <td>c_max</td>\n",
       "      <td>30000</td>\n",
       "      <td>8</td>\n",
       "      <td>petrol</td>\n",
       "      <td>ford</td>\n",
       "      <td>NaN</td>\n",
       "      <td>2016-04-04 00:00:00</td>\n",
       "      <td>0</td>\n",
       "      <td>94505</td>\n",
       "      <td>2016-04-04 23:42:13</td>\n",
       "    </tr>\n",
       "    <tr>\n",
       "      <th>9</th>\n",
       "      <td>2016-03-17 10:53:50</td>\n",
       "      <td>999</td>\n",
       "      <td>small</td>\n",
       "      <td>1998</td>\n",
       "      <td>manual</td>\n",
       "      <td>101</td>\n",
       "      <td>golf</td>\n",
       "      <td>150000</td>\n",
       "      <td>0</td>\n",
       "      <td>NaN</td>\n",
       "      <td>volkswagen</td>\n",
       "      <td>NaN</td>\n",
       "      <td>2016-03-17 00:00:00</td>\n",
       "      <td>0</td>\n",
       "      <td>27472</td>\n",
       "      <td>2016-03-31 17:17:06</td>\n",
       "    </tr>\n",
       "  </tbody>\n",
       "</table>\n",
       "</div>"
      ],
      "text/plain": [
       "          date_crawled  price vehicle_type  registration_year gearbox  power  \\\n",
       "0  2016-03-24 11:52:17    480          NaN               1993  manual      0   \n",
       "1  2016-03-24 10:58:45  18300        coupe               2011  manual    190   \n",
       "2  2016-03-14 12:52:21   9800          suv               2004    auto    163   \n",
       "3  2016-03-17 16:54:04   1500        small               2001  manual     75   \n",
       "4  2016-03-31 17:25:20   3600        small               2008  manual     69   \n",
       "5  2016-04-04 17:36:23    650        sedan               1995  manual    102   \n",
       "6  2016-04-01 20:48:51   2200  convertible               2004  manual    109   \n",
       "7  2016-03-21 18:54:38      0        sedan               1980  manual     50   \n",
       "8  2016-04-04 23:42:13  14500          bus               2014  manual    125   \n",
       "9  2016-03-17 10:53:50    999        small               1998  manual    101   \n",
       "\n",
       "     model  kilometer  registration_month fuel_type       brand repaired  \\\n",
       "0     golf     150000                   0    petrol  volkswagen      NaN   \n",
       "1      NaN     125000                   5  gasoline        audi      yes   \n",
       "2    grand     125000                   8  gasoline        jeep      NaN   \n",
       "3     golf     150000                   6    petrol  volkswagen       no   \n",
       "4    fabia      90000                   7  gasoline       skoda       no   \n",
       "5      3er     150000                  10    petrol         bmw      yes   \n",
       "6  2_reihe     150000                   8    petrol     peugeot       no   \n",
       "7    other      40000                   7    petrol  volkswagen       no   \n",
       "8    c_max      30000                   8    petrol        ford      NaN   \n",
       "9     golf     150000                   0       NaN  volkswagen      NaN   \n",
       "\n",
       "          date_created  number_of_pictures  postal_code            last_seen  \n",
       "0  2016-03-24 00:00:00                   0        70435  2016-04-07 03:16:57  \n",
       "1  2016-03-24 00:00:00                   0        66954  2016-04-07 01:46:50  \n",
       "2  2016-03-14 00:00:00                   0        90480  2016-04-05 12:47:46  \n",
       "3  2016-03-17 00:00:00                   0        91074  2016-03-17 17:40:17  \n",
       "4  2016-03-31 00:00:00                   0        60437  2016-04-06 10:17:21  \n",
       "5  2016-04-04 00:00:00                   0        33775  2016-04-06 19:17:07  \n",
       "6  2016-04-01 00:00:00                   0        67112  2016-04-05 18:18:39  \n",
       "7  2016-03-21 00:00:00                   0        19348  2016-03-25 16:47:58  \n",
       "8  2016-04-04 00:00:00                   0        94505  2016-04-04 23:42:13  \n",
       "9  2016-03-17 00:00:00                   0        27472  2016-03-31 17:17:06  "
      ]
     },
     "execution_count": 7,
     "metadata": {},
     "output_type": "execute_result"
    }
   ],
   "source": [
    "data.head(10)"
   ]
  },
  {
   "cell_type": "code",
   "execution_count": 8,
   "metadata": {},
   "outputs": [
    {
     "name": "stdout",
     "output_type": "stream",
     "text": [
      "<class 'pandas.core.frame.DataFrame'>\n",
      "RangeIndex: 354369 entries, 0 to 354368\n",
      "Data columns (total 16 columns):\n",
      " #   Column              Non-Null Count   Dtype \n",
      "---  ------              --------------   ----- \n",
      " 0   date_crawled        354369 non-null  object\n",
      " 1   price               354369 non-null  int64 \n",
      " 2   vehicle_type        316879 non-null  object\n",
      " 3   registration_year   354369 non-null  int64 \n",
      " 4   gearbox             334536 non-null  object\n",
      " 5   power               354369 non-null  int64 \n",
      " 6   model               334664 non-null  object\n",
      " 7   kilometer           354369 non-null  int64 \n",
      " 8   registration_month  354369 non-null  int64 \n",
      " 9   fuel_type           321474 non-null  object\n",
      " 10  brand               354369 non-null  object\n",
      " 11  repaired            283215 non-null  object\n",
      " 12  date_created        354369 non-null  object\n",
      " 13  number_of_pictures  354369 non-null  int64 \n",
      " 14  postal_code         354369 non-null  int64 \n",
      " 15  last_seen           354369 non-null  object\n",
      "dtypes: int64(7), object(9)\n",
      "memory usage: 43.3+ MB\n"
     ]
    }
   ],
   "source": [
    "data.info()"
   ]
  },
  {
   "cell_type": "code",
   "execution_count": 9,
   "metadata": {},
   "outputs": [
    {
     "data": {
      "text/html": [
       "<div>\n",
       "<style scoped>\n",
       "    .dataframe tbody tr th:only-of-type {\n",
       "        vertical-align: middle;\n",
       "    }\n",
       "\n",
       "    .dataframe tbody tr th {\n",
       "        vertical-align: top;\n",
       "    }\n",
       "\n",
       "    .dataframe thead th {\n",
       "        text-align: right;\n",
       "    }\n",
       "</style>\n",
       "<table border=\"1\" class=\"dataframe\">\n",
       "  <thead>\n",
       "    <tr style=\"text-align: right;\">\n",
       "      <th></th>\n",
       "      <th>price</th>\n",
       "      <th>registration_year</th>\n",
       "      <th>power</th>\n",
       "      <th>kilometer</th>\n",
       "      <th>registration_month</th>\n",
       "      <th>number_of_pictures</th>\n",
       "      <th>postal_code</th>\n",
       "    </tr>\n",
       "  </thead>\n",
       "  <tbody>\n",
       "    <tr>\n",
       "      <th>count</th>\n",
       "      <td>354369.000000</td>\n",
       "      <td>354369.000000</td>\n",
       "      <td>354369.000000</td>\n",
       "      <td>354369.000000</td>\n",
       "      <td>354369.000000</td>\n",
       "      <td>354369.0</td>\n",
       "      <td>354369.000000</td>\n",
       "    </tr>\n",
       "    <tr>\n",
       "      <th>mean</th>\n",
       "      <td>4416.656776</td>\n",
       "      <td>2004.234448</td>\n",
       "      <td>110.094337</td>\n",
       "      <td>128211.172535</td>\n",
       "      <td>5.714645</td>\n",
       "      <td>0.0</td>\n",
       "      <td>50508.689087</td>\n",
       "    </tr>\n",
       "    <tr>\n",
       "      <th>std</th>\n",
       "      <td>4514.158514</td>\n",
       "      <td>90.227958</td>\n",
       "      <td>189.850405</td>\n",
       "      <td>37905.341530</td>\n",
       "      <td>3.726421</td>\n",
       "      <td>0.0</td>\n",
       "      <td>25783.096248</td>\n",
       "    </tr>\n",
       "    <tr>\n",
       "      <th>min</th>\n",
       "      <td>0.000000</td>\n",
       "      <td>1000.000000</td>\n",
       "      <td>0.000000</td>\n",
       "      <td>5000.000000</td>\n",
       "      <td>0.000000</td>\n",
       "      <td>0.0</td>\n",
       "      <td>1067.000000</td>\n",
       "    </tr>\n",
       "    <tr>\n",
       "      <th>25%</th>\n",
       "      <td>1050.000000</td>\n",
       "      <td>1999.000000</td>\n",
       "      <td>69.000000</td>\n",
       "      <td>125000.000000</td>\n",
       "      <td>3.000000</td>\n",
       "      <td>0.0</td>\n",
       "      <td>30165.000000</td>\n",
       "    </tr>\n",
       "    <tr>\n",
       "      <th>50%</th>\n",
       "      <td>2700.000000</td>\n",
       "      <td>2003.000000</td>\n",
       "      <td>105.000000</td>\n",
       "      <td>150000.000000</td>\n",
       "      <td>6.000000</td>\n",
       "      <td>0.0</td>\n",
       "      <td>49413.000000</td>\n",
       "    </tr>\n",
       "    <tr>\n",
       "      <th>75%</th>\n",
       "      <td>6400.000000</td>\n",
       "      <td>2008.000000</td>\n",
       "      <td>143.000000</td>\n",
       "      <td>150000.000000</td>\n",
       "      <td>9.000000</td>\n",
       "      <td>0.0</td>\n",
       "      <td>71083.000000</td>\n",
       "    </tr>\n",
       "    <tr>\n",
       "      <th>max</th>\n",
       "      <td>20000.000000</td>\n",
       "      <td>9999.000000</td>\n",
       "      <td>20000.000000</td>\n",
       "      <td>150000.000000</td>\n",
       "      <td>12.000000</td>\n",
       "      <td>0.0</td>\n",
       "      <td>99998.000000</td>\n",
       "    </tr>\n",
       "  </tbody>\n",
       "</table>\n",
       "</div>"
      ],
      "text/plain": [
       "               price  registration_year          power      kilometer  \\\n",
       "count  354369.000000      354369.000000  354369.000000  354369.000000   \n",
       "mean     4416.656776        2004.234448     110.094337  128211.172535   \n",
       "std      4514.158514          90.227958     189.850405   37905.341530   \n",
       "min         0.000000        1000.000000       0.000000    5000.000000   \n",
       "25%      1050.000000        1999.000000      69.000000  125000.000000   \n",
       "50%      2700.000000        2003.000000     105.000000  150000.000000   \n",
       "75%      6400.000000        2008.000000     143.000000  150000.000000   \n",
       "max     20000.000000        9999.000000   20000.000000  150000.000000   \n",
       "\n",
       "       registration_month  number_of_pictures    postal_code  \n",
       "count       354369.000000            354369.0  354369.000000  \n",
       "mean             5.714645                 0.0   50508.689087  \n",
       "std              3.726421                 0.0   25783.096248  \n",
       "min              0.000000                 0.0    1067.000000  \n",
       "25%              3.000000                 0.0   30165.000000  \n",
       "50%              6.000000                 0.0   49413.000000  \n",
       "75%              9.000000                 0.0   71083.000000  \n",
       "max             12.000000                 0.0   99998.000000  "
      ]
     },
     "execution_count": 9,
     "metadata": {},
     "output_type": "execute_result"
    }
   ],
   "source": [
    "data.describe()"
   ]
  },
  {
   "cell_type": "code",
   "execution_count": 10,
   "metadata": {},
   "outputs": [
    {
     "data": {
      "text/plain": [
       "array([[<AxesSubplot:title={'center':'price'}>,\n",
       "        <AxesSubplot:title={'center':'registration_year'}>,\n",
       "        <AxesSubplot:title={'center':'power'}>],\n",
       "       [<AxesSubplot:title={'center':'kilometer'}>,\n",
       "        <AxesSubplot:title={'center':'registration_month'}>,\n",
       "        <AxesSubplot:title={'center':'number_of_pictures'}>],\n",
       "       [<AxesSubplot:title={'center':'postal_code'}>, <AxesSubplot:>,\n",
       "        <AxesSubplot:>]], dtype=object)"
      ]
     },
     "execution_count": 10,
     "metadata": {},
     "output_type": "execute_result"
    },
    {
     "data": {
      "image/png": "[encoded data removed]",
      "text/plain": [
       "<Figure size 864x576 with 9 Axes>"
      ]
     },
     "metadata": {
      "needs_background": "light"
     },
     "output_type": "display_data"
    }
   ],
   "source": [
    "data.hist(bins=50, figsize=(12, 8))"
   ]
  },
  {
   "cell_type": "markdown",
   "metadata": {},
   "source": [
    "Посмотрим на корреляцию количественных признаков с ценой:"
   ]
  },
  {
   "cell_type": "code",
   "execution_count": 11,
   "metadata": {},
   "outputs": [
    {
     "data": {
      "text/plain": [
       "registration_year     0.026916\n",
       "power                 0.158872\n",
       "kilometer            -0.333199\n",
       "registration_month    0.110581\n",
       "number_of_pictures         NaN\n",
       "postal_code           0.076055\n",
       "dtype: float64"
      ]
     },
     "execution_count": 11,
     "metadata": {},
     "output_type": "execute_result"
    }
   ],
   "source": [
    "data.drop('price', axis=1).corrwith(data.price)"
   ]
  },
  {
   "cell_type": "markdown",
   "metadata": {},
   "source": [
    "Самая высокая корреляция с kilometer и power."
   ]
  },
  {
   "cell_type": "markdown",
   "metadata": {},
   "source": [
    "#### Удаление неинформативных признаков"
   ]
  },
  {
   "cell_type": "markdown",
   "metadata": {},
   "source": [
    "Можно убрать кризнак 'number_of_pictures', так как все значения в колонке равны нулю:"
   ]
  },
  {
   "cell_type": "code",
   "execution_count": 12,
   "metadata": {},
   "outputs": [],
   "source": [
    "data=data.drop(['number_of_pictures'], axis=1)"
   ]
  },
  {
   "cell_type": "markdown",
   "metadata": {},
   "source": [
    "Можно убрать признаки postal_code и registration_year, так как они показывают низкую корреляцию с целевым признаком:"
   ]
  },
  {
   "cell_type": "code",
   "execution_count": 13,
   "metadata": {},
   "outputs": [],
   "source": [
    "data=data.drop(['postal_code'], axis=1)"
   ]
  },
  {
   "cell_type": "markdown",
   "metadata": {},
   "source": [
    "Теперь изучим колонки, указывающие время. Очевидно, что цена от времени выгрузки данных из датабазы и последнего повления пользователя в сети не зависит. Удалим эти колонки как неинформативные:"
   ]
  },
  {
   "cell_type": "code",
   "execution_count": 14,
   "metadata": {},
   "outputs": [],
   "source": [
    "data = data.drop(['date_crawled', 'last_seen'], axis=1)"
   ]
  },
  {
   "cell_type": "markdown",
   "metadata": {},
   "source": [
    "От даты создания анкеты зависимость может существовать. Переведём данные времени создания анкеты в датасете в формат datetime и разделим на год, месяц и день, чтобы проверить:"
   ]
  },
  {
   "cell_type": "code",
   "execution_count": 15,
   "metadata": {},
   "outputs": [],
   "source": [
    "data['date_created_year'] = pd.to_datetime(data['date_created']).dt.year\n",
    "data['date_created_month'] = pd.to_datetime(data['date_created']).dt.month\n",
    "data['date_created_day'] = pd.to_datetime(data['date_created']).dt.day"
   ]
  },
  {
   "cell_type": "markdown",
   "metadata": {},
   "source": [
    "Построим график зависимости от года и месяца:"
   ]
  },
  {
   "cell_type": "code",
   "execution_count": 16,
   "metadata": {
    "scrolled": false
   },
   "outputs": [
    {
     "data": {
      "image/png": "[encoded data removed]",
      "text/plain": [
       "<Figure size 864x432 with 1 Axes>"
      ]
     },
     "metadata": {
      "needs_background": "light"
     },
     "output_type": "display_data"
    }
   ],
   "source": [
    "data.groupby(['date_created_year', 'date_created_month']).mean().price.plot.bar(\n",
    "    title='Mean price per year and month created', figsize=(12,6))\n",
    "plt.ylabel('Count')\n",
    "plt.show()"
   ]
  },
  {
   "cell_type": "markdown",
   "metadata": {},
   "source": [
    "Построим график зависимости от дня:"
   ]
  },
  {
   "cell_type": "code",
   "execution_count": 17,
   "metadata": {
    "scrolled": false
   },
   "outputs": [
    {
     "data": {
      "text/plain": [
       "<AxesSubplot:title={'center':'Mean price per day created'}, xlabel='date_created_day'>"
      ]
     },
     "execution_count": 17,
     "metadata": {},
     "output_type": "execute_result"
    },
    {
     "data": {
      "image/png": "[encoded data removed]",
      "text/plain": [
       "<Figure size 864x432 with 1 Axes>"
      ]
     },
     "metadata": {
      "needs_background": "light"
     },
     "output_type": "display_data"
    }
   ],
   "source": [
    "data.groupby(['date_created_day']).mean().price.plot.bar(title='Mean price per day created', figsize=(12,6))"
   ]
  },
  {
   "cell_type": "markdown",
   "metadata": {},
   "source": [
    "Так как данные о времени создания не охватывают все месяцы начиная с 2014 года, нельзя точно сказать о зависимости цены от этих данных. При этом от дня создания зависимости цены фактически нет. Можно удалить эти признаки."
   ]
  },
  {
   "cell_type": "code",
   "execution_count": 18,
   "metadata": {},
   "outputs": [],
   "source": [
    "data = data.drop(['date_created', 'date_created_year', 'date_created_month', 'date_created_day'], axis=1)"
   ]
  },
  {
   "cell_type": "code",
   "execution_count": 19,
   "metadata": {
    "scrolled": true
   },
   "outputs": [
    {
     "data": {
      "text/plain": [
       "Index(['price', 'vehicle_type', 'registration_year', 'gearbox', 'power',\n",
       "       'model', 'kilometer', 'registration_month', 'fuel_type', 'brand',\n",
       "       'repaired'],\n",
       "      dtype='object')"
      ]
     },
     "execution_count": 19,
     "metadata": {},
     "output_type": "execute_result"
    }
   ],
   "source": [
    "data.columns"
   ]
  },
  {
   "cell_type": "markdown",
   "metadata": {},
   "source": [
    "#### Registration_month"
   ]
  },
  {
   "cell_type": "markdown",
   "metadata": {},
   "source": [
    "Для каждого месяца регистрации построим график средней цены:"
   ]
  },
  {
   "cell_type": "code",
   "execution_count": 20,
   "metadata": {},
   "outputs": [],
   "source": [
    "reg_month = data.groupby(by='registration_month').mean().price"
   ]
  },
  {
   "cell_type": "code",
   "execution_count": 21,
   "metadata": {},
   "outputs": [
    {
     "data": {
      "image/png": "[encoded data removed]",
      "text/plain": [
       "<Figure size 864x432 with 1 Axes>"
      ]
     },
     "metadata": {
      "needs_background": "light"
     },
     "output_type": "display_data"
    }
   ],
   "source": [
    "reg_month.plot.bar(title='Mean price per registration_month', figsize=(12,6))\n",
    "plt.ylabel('Mean price')\n",
    "plt.xticks(rotation=0);"
   ]
  },
  {
   "cell_type": "markdown",
   "metadata": {},
   "source": [
    "Все указанные в датасете месяцы регистрации, за исключением 0, имеют примерно одинаковую среднюю цену. Так как нет месяца с порядковым номером 0, вероятно, так обозначены пропуски в этой колонке. И для таких колонок цена меньше более чем в два раза.\n",
    "\n",
    "Вероятно, значение имеет только само по себе наличие или отсутствие данных о месяце регистрации. Поэтому заменим все номера месяца на 1. Тогда 0 будет означать отсутствие месяца, а 1 - его наличие."
   ]
  },
  {
   "cell_type": "code",
   "execution_count": 22,
   "metadata": {},
   "outputs": [],
   "source": [
    "data.registration_month = data.registration_month.replace(range(1, 13), 1)"
   ]
  },
  {
   "cell_type": "markdown",
   "metadata": {},
   "source": [
    "#### Пропуски"
   ]
  },
  {
   "cell_type": "code",
   "execution_count": 23,
   "metadata": {
    "scrolled": true
   },
   "outputs": [
    {
     "data": {
      "text/plain": [
       "price                  0.000000\n",
       "vehicle_type          10.579368\n",
       "registration_year      0.000000\n",
       "gearbox                5.596709\n",
       "power                  0.000000\n",
       "model                  5.560588\n",
       "kilometer              0.000000\n",
       "registration_month     0.000000\n",
       "fuel_type              9.282697\n",
       "brand                  0.000000\n",
       "repaired              20.079070\n",
       "dtype: float64"
      ]
     },
     "execution_count": 23,
     "metadata": {},
     "output_type": "execute_result"
    }
   ],
   "source": [
    "data.isnull().mean() * 100"
   ]
  },
  {
   "cell_type": "markdown",
   "metadata": {},
   "source": [
    "Пропуски есть только в категориальных переменных. Так как мы вряд ли можем качественно восстановить значение категорий по каким-либо другим данным, мы заполним пропуски значением 'Unknown':"
   ]
  },
  {
   "cell_type": "code",
   "execution_count": 24,
   "metadata": {},
   "outputs": [],
   "source": [
    "data = data.fillna('Unknown')"
   ]
  },
  {
   "cell_type": "markdown",
   "metadata": {},
   "source": [
    "#### Price"
   ]
  },
  {
   "cell_type": "markdown",
   "metadata": {},
   "source": [
    "Изучим аномальные значения цены:"
   ]
  },
  {
   "cell_type": "code",
   "execution_count": 25,
   "metadata": {
    "scrolled": false
   },
   "outputs": [
    {
     "data": {
      "text/plain": [
       "<AxesSubplot:title={'center':'Price boxplot'}>"
      ]
     },
     "execution_count": 25,
     "metadata": {},
     "output_type": "execute_result"
    },
    {
     "data": {
      "image/png": "[encoded data removed]",
      "text/plain": [
       "<Figure size 1080x576 with 1 Axes>"
      ]
     },
     "metadata": {
      "needs_background": "light"
     },
     "output_type": "display_data"
    }
   ],
   "source": [
    "data.price.plot(kind='box', figsize=(15,8), title='Price boxplot')"
   ]
  },
  {
   "cell_type": "markdown",
   "metadata": {},
   "source": [
    "Никаких выбивающихся из общего распределения выбросов нет. Но есть очень низкие цены:"
   ]
  },
  {
   "cell_type": "markdown",
   "metadata": {},
   "source": [
    "Возьмём за минимальный порог цены 100:"
   ]
  },
  {
   "cell_type": "code",
   "execution_count": 26,
   "metadata": {},
   "outputs": [
    {
     "data": {
      "text/plain": [
       "14345"
      ]
     },
     "execution_count": 26,
     "metadata": {},
     "output_type": "execute_result"
    }
   ],
   "source": [
    "data[data.price <= 100].price.count()"
   ]
  },
  {
   "cell_type": "code",
   "execution_count": 27,
   "metadata": {},
   "outputs": [
    {
     "data": {
      "text/plain": [
       "0.04048040319553911"
      ]
     },
     "execution_count": 27,
     "metadata": {},
     "output_type": "execute_result"
    }
   ],
   "source": [
    "data[data.price <= 100].price.count()/data.price.count()"
   ]
  },
  {
   "cell_type": "markdown",
   "metadata": {},
   "source": [
    "Из них с ценой 0 и 1:"
   ]
  },
  {
   "cell_type": "code",
   "execution_count": 28,
   "metadata": {
    "scrolled": true
   },
   "outputs": [
    {
     "data": {
      "text/plain": [
       "11961"
      ]
     },
     "execution_count": 28,
     "metadata": {},
     "output_type": "execute_result"
    }
   ],
   "source": [
    "data[(data.price <=1)].price.count()"
   ]
  },
  {
   "cell_type": "code",
   "execution_count": 29,
   "metadata": {
    "scrolled": true
   },
   "outputs": [
    {
     "data": {
      "text/plain": [
       "0.03375295243094063"
      ]
     },
     "execution_count": 29,
     "metadata": {},
     "output_type": "execute_result"
    }
   ],
   "source": [
    "data[(data.price <=1)].price.count()/data.price.count()"
   ]
  },
  {
   "cell_type": "markdown",
   "metadata": {},
   "source": [
    "4% процента всех данных ценой ниже 100 , из них 3.3% с ценами 0 и 1. Вероятно, могла произойти ошибка при записи данных в базу - технический сбой, человеческий фактор или просто отутствие цены. Так как цена - таргет для обучения моделей, объекты с этими ценами бесполезны для задачи обучения. Остальные объёкты в данном диапазоне представлены в очень малом количестве, и хотя мы не можем наверняка сказать, какая цена может быть минимальной, значения таргета ниже 100 кажутся здесь лишними и неинформативными. Уберём все данные от 100 и ниже из датасета:"
   ]
  },
  {
   "cell_type": "code",
   "execution_count": 30,
   "metadata": {},
   "outputs": [],
   "source": [
    "data = data[data.price >100]"
   ]
  },
  {
   "cell_type": "markdown",
   "metadata": {},
   "source": [
    "#### Power"
   ]
  },
  {
   "cell_type": "markdown",
   "metadata": {},
   "source": [
    "Проанализируем колонку Power:"
   ]
  },
  {
   "cell_type": "code",
   "execution_count": 31,
   "metadata": {},
   "outputs": [
    {
     "data": {
      "text/plain": [
       "<AxesSubplot:title={'center':'Power boxplot'}>"
      ]
     },
     "execution_count": 31,
     "metadata": {},
     "output_type": "execute_result"
    },
    {
     "data": {
      "image/png": "[encoded data removed]",
      "text/plain": [
       "<Figure size 1080x576 with 1 Axes>"
      ]
     },
     "metadata": {
      "needs_background": "light"
     },
     "output_type": "display_data"
    }
   ],
   "source": [
    "data.power.plot(kind='box', figsize=(15,8), title='Power boxplot', grid=True)"
   ]
  },
  {
   "cell_type": "markdown",
   "metadata": {},
   "source": [
    "Здесь присутствуют аномальные значения. Для обычных автомобилей максимальная мощность автомобиля в лошадиных силах - 2028 у Dagger GT (если верить информации в доступных источниках, и не считать тяжёлые карьерные грузовики). В датасете присутствуют автомобили с мощностью выше этого порога:"
   ]
  },
  {
   "cell_type": "code",
   "execution_count": 32,
   "metadata": {},
   "outputs": [
    {
     "data": {
      "text/html": [
       "<div>\n",
       "<style scoped>\n",
       "    .dataframe tbody tr th:only-of-type {\n",
       "        vertical-align: middle;\n",
       "    }\n",
       "\n",
       "    .dataframe tbody tr th {\n",
       "        vertical-align: top;\n",
       "    }\n",
       "\n",
       "    .dataframe thead th {\n",
       "        text-align: right;\n",
       "    }\n",
       "</style>\n",
       "<table border=\"1\" class=\"dataframe\">\n",
       "  <thead>\n",
       "    <tr style=\"text-align: right;\">\n",
       "      <th></th>\n",
       "      <th>price</th>\n",
       "      <th>vehicle_type</th>\n",
       "      <th>registration_year</th>\n",
       "      <th>gearbox</th>\n",
       "      <th>power</th>\n",
       "      <th>model</th>\n",
       "      <th>kilometer</th>\n",
       "      <th>registration_month</th>\n",
       "      <th>fuel_type</th>\n",
       "      <th>brand</th>\n",
       "      <th>repaired</th>\n",
       "    </tr>\n",
       "  </thead>\n",
       "  <tbody>\n",
       "    <tr>\n",
       "      <th>7661</th>\n",
       "      <td>1499</td>\n",
       "      <td>small</td>\n",
       "      <td>1999</td>\n",
       "      <td>manual</td>\n",
       "      <td>7515</td>\n",
       "      <td>lupo</td>\n",
       "      <td>150000</td>\n",
       "      <td>1</td>\n",
       "      <td>petrol</td>\n",
       "      <td>volkswagen</td>\n",
       "      <td>Unknown</td>\n",
       "    </tr>\n",
       "    <tr>\n",
       "      <th>19092</th>\n",
       "      <td>9750</td>\n",
       "      <td>wagon</td>\n",
       "      <td>2005</td>\n",
       "      <td>auto</td>\n",
       "      <td>2729</td>\n",
       "      <td>5er</td>\n",
       "      <td>150000</td>\n",
       "      <td>1</td>\n",
       "      <td>gasoline</td>\n",
       "      <td>bmw</td>\n",
       "      <td>no</td>\n",
       "    </tr>\n",
       "    <tr>\n",
       "      <th>25232</th>\n",
       "      <td>10900</td>\n",
       "      <td>bus</td>\n",
       "      <td>2009</td>\n",
       "      <td>manual</td>\n",
       "      <td>10520</td>\n",
       "      <td>caddy</td>\n",
       "      <td>150000</td>\n",
       "      <td>1</td>\n",
       "      <td>gasoline</td>\n",
       "      <td>volkswagen</td>\n",
       "      <td>no</td>\n",
       "    </tr>\n",
       "    <tr>\n",
       "      <th>33952</th>\n",
       "      <td>3740</td>\n",
       "      <td>small</td>\n",
       "      <td>2006</td>\n",
       "      <td>manual</td>\n",
       "      <td>6920</td>\n",
       "      <td>aygo</td>\n",
       "      <td>90000</td>\n",
       "      <td>1</td>\n",
       "      <td>Unknown</td>\n",
       "      <td>toyota</td>\n",
       "      <td>no</td>\n",
       "    </tr>\n",
       "    <tr>\n",
       "      <th>44520</th>\n",
       "      <td>2500</td>\n",
       "      <td>convertible</td>\n",
       "      <td>1998</td>\n",
       "      <td>manual</td>\n",
       "      <td>7512</td>\n",
       "      <td>golf</td>\n",
       "      <td>150000</td>\n",
       "      <td>1</td>\n",
       "      <td>Unknown</td>\n",
       "      <td>volkswagen</td>\n",
       "      <td>Unknown</td>\n",
       "    </tr>\n",
       "    <tr>\n",
       "      <th>...</th>\n",
       "      <td>...</td>\n",
       "      <td>...</td>\n",
       "      <td>...</td>\n",
       "      <td>...</td>\n",
       "      <td>...</td>\n",
       "      <td>...</td>\n",
       "      <td>...</td>\n",
       "      <td>...</td>\n",
       "      <td>...</td>\n",
       "      <td>...</td>\n",
       "      <td>...</td>\n",
       "    </tr>\n",
       "    <tr>\n",
       "      <th>341066</th>\n",
       "      <td>449</td>\n",
       "      <td>Unknown</td>\n",
       "      <td>2016</td>\n",
       "      <td>manual</td>\n",
       "      <td>4507</td>\n",
       "      <td>corsa</td>\n",
       "      <td>150000</td>\n",
       "      <td>1</td>\n",
       "      <td>petrol</td>\n",
       "      <td>opel</td>\n",
       "      <td>no</td>\n",
       "    </tr>\n",
       "    <tr>\n",
       "      <th>341320</th>\n",
       "      <td>1899</td>\n",
       "      <td>other</td>\n",
       "      <td>2006</td>\n",
       "      <td>manual</td>\n",
       "      <td>7518</td>\n",
       "      <td>berlingo</td>\n",
       "      <td>125000</td>\n",
       "      <td>1</td>\n",
       "      <td>petrol</td>\n",
       "      <td>citroen</td>\n",
       "      <td>yes</td>\n",
       "    </tr>\n",
       "    <tr>\n",
       "      <th>346639</th>\n",
       "      <td>1300</td>\n",
       "      <td>sedan</td>\n",
       "      <td>2000</td>\n",
       "      <td>manual</td>\n",
       "      <td>12512</td>\n",
       "      <td>carisma</td>\n",
       "      <td>150000</td>\n",
       "      <td>1</td>\n",
       "      <td>petrol</td>\n",
       "      <td>mitsubishi</td>\n",
       "      <td>Unknown</td>\n",
       "    </tr>\n",
       "    <tr>\n",
       "      <th>348137</th>\n",
       "      <td>850</td>\n",
       "      <td>sedan</td>\n",
       "      <td>1993</td>\n",
       "      <td>auto</td>\n",
       "      <td>9012</td>\n",
       "      <td>golf</td>\n",
       "      <td>150000</td>\n",
       "      <td>0</td>\n",
       "      <td>petrol</td>\n",
       "      <td>volkswagen</td>\n",
       "      <td>Unknown</td>\n",
       "    </tr>\n",
       "    <tr>\n",
       "      <th>348668</th>\n",
       "      <td>1000</td>\n",
       "      <td>wagon</td>\n",
       "      <td>1996</td>\n",
       "      <td>manual</td>\n",
       "      <td>2598</td>\n",
       "      <td>a6</td>\n",
       "      <td>150000</td>\n",
       "      <td>1</td>\n",
       "      <td>Unknown</td>\n",
       "      <td>audi</td>\n",
       "      <td>Unknown</td>\n",
       "    </tr>\n",
       "  </tbody>\n",
       "</table>\n",
       "<p>97 rows × 11 columns</p>\n",
       "</div>"
      ],
      "text/plain": [
       "        price vehicle_type  registration_year gearbox  power     model  \\\n",
       "7661     1499        small               1999  manual   7515      lupo   \n",
       "19092    9750        wagon               2005    auto   2729       5er   \n",
       "25232   10900          bus               2009  manual  10520     caddy   \n",
       "33952    3740        small               2006  manual   6920      aygo   \n",
       "44520    2500  convertible               1998  manual   7512      golf   \n",
       "...       ...          ...                ...     ...    ...       ...   \n",
       "341066    449      Unknown               2016  manual   4507     corsa   \n",
       "341320   1899        other               2006  manual   7518  berlingo   \n",
       "346639   1300        sedan               2000  manual  12512   carisma   \n",
       "348137    850        sedan               1993    auto   9012      golf   \n",
       "348668   1000        wagon               1996  manual   2598        a6   \n",
       "\n",
       "        kilometer  registration_month fuel_type       brand repaired  \n",
       "7661       150000                   1    petrol  volkswagen  Unknown  \n",
       "19092      150000                   1  gasoline         bmw       no  \n",
       "25232      150000                   1  gasoline  volkswagen       no  \n",
       "33952       90000                   1   Unknown      toyota       no  \n",
       "44520      150000                   1   Unknown  volkswagen  Unknown  \n",
       "...           ...                 ...       ...         ...      ...  \n",
       "341066     150000                   1    petrol        opel       no  \n",
       "341320     125000                   1    petrol     citroen      yes  \n",
       "346639     150000                   1    petrol  mitsubishi  Unknown  \n",
       "348137     150000                   0    petrol  volkswagen  Unknown  \n",
       "348668     150000                   1   Unknown        audi  Unknown  \n",
       "\n",
       "[97 rows x 11 columns]"
      ]
     },
     "execution_count": 32,
     "metadata": {},
     "output_type": "execute_result"
    }
   ],
   "source": [
    "data[data.power > 2028]"
   ]
  },
  {
   "cell_type": "markdown",
   "metadata": {},
   "source": [
    "Всего таких машин 100. Мы могли бы попытаться восстановить истинные значения этих данных, но в масштабах датасета этих машин крайне мало, так что просто ограничим верхний порог значением в 2000:"
   ]
  },
  {
   "cell_type": "code",
   "execution_count": 33,
   "metadata": {},
   "outputs": [],
   "source": [
    "data[data.power > 2028] = 2000"
   ]
  },
  {
   "cell_type": "markdown",
   "metadata": {},
   "source": [
    "Посмотрим на колонки, где power = 0:"
   ]
  },
  {
   "cell_type": "code",
   "execution_count": 34,
   "metadata": {},
   "outputs": [
    {
     "data": {
      "text/plain": [
       "34653"
      ]
     },
     "execution_count": 34,
     "metadata": {},
     "output_type": "execute_result"
    }
   ],
   "source": [
    "data[data.power == 0].price.count()"
   ]
  },
  {
   "cell_type": "code",
   "execution_count": 35,
   "metadata": {},
   "outputs": [
    {
     "data": {
      "text/plain": [
       "array([[<AxesSubplot:title={'center':'price'}>,\n",
       "        <AxesSubplot:title={'center':'registration_year'}>],\n",
       "       [<AxesSubplot:title={'center':'power'}>,\n",
       "        <AxesSubplot:title={'center':'kilometer'}>],\n",
       "       [<AxesSubplot:title={'center':'registration_month'}>,\n",
       "        <AxesSubplot:>]], dtype=object)"
      ]
     },
     "execution_count": 35,
     "metadata": {},
     "output_type": "execute_result"
    },
    {
     "data": {
      "image/png": "[encoded data removed]",
      "text/plain": [
       "<Figure size 864x576 with 6 Axes>"
      ]
     },
     "metadata": {
      "needs_background": "light"
     },
     "output_type": "display_data"
    }
   ],
   "source": [
    "data[data.power == 0].hist(bins=100, figsize=(12,8))"
   ]
  },
  {
   "cell_type": "code",
   "execution_count": 36,
   "metadata": {},
   "outputs": [
    {
     "data": {
      "text/plain": [
       "0.10191339434863421"
      ]
     },
     "execution_count": 36,
     "metadata": {},
     "output_type": "execute_result"
    }
   ],
   "source": [
    "data[data.power == 0].power.count()/data.power.count()"
   ]
  },
  {
   "cell_type": "code",
   "execution_count": 37,
   "metadata": {},
   "outputs": [
    {
     "data": {
      "text/html": [
       "<div>\n",
       "<style scoped>\n",
       "    .dataframe tbody tr th:only-of-type {\n",
       "        vertical-align: middle;\n",
       "    }\n",
       "\n",
       "    .dataframe tbody tr th {\n",
       "        vertical-align: top;\n",
       "    }\n",
       "\n",
       "    .dataframe thead th {\n",
       "        text-align: right;\n",
       "    }\n",
       "</style>\n",
       "<table border=\"1\" class=\"dataframe\">\n",
       "  <thead>\n",
       "    <tr style=\"text-align: right;\">\n",
       "      <th></th>\n",
       "      <th>price</th>\n",
       "      <th>registration_year</th>\n",
       "      <th>power</th>\n",
       "      <th>kilometer</th>\n",
       "      <th>registration_month</th>\n",
       "    </tr>\n",
       "  </thead>\n",
       "  <tbody>\n",
       "    <tr>\n",
       "      <th>count</th>\n",
       "      <td>34653.000000</td>\n",
       "      <td>34653.000000</td>\n",
       "      <td>34653.0</td>\n",
       "      <td>34653.000000</td>\n",
       "      <td>34653.000000</td>\n",
       "    </tr>\n",
       "    <tr>\n",
       "      <th>mean</th>\n",
       "      <td>2518.752374</td>\n",
       "      <td>2008.062159</td>\n",
       "      <td>0.0</td>\n",
       "      <td>129502.207601</td>\n",
       "      <td>0.665484</td>\n",
       "    </tr>\n",
       "    <tr>\n",
       "      <th>std</th>\n",
       "      <td>3146.457146</td>\n",
       "      <td>199.677970</td>\n",
       "      <td>0.0</td>\n",
       "      <td>41207.536877</td>\n",
       "      <td>0.471828</td>\n",
       "    </tr>\n",
       "    <tr>\n",
       "      <th>min</th>\n",
       "      <td>101.000000</td>\n",
       "      <td>1000.000000</td>\n",
       "      <td>0.0</td>\n",
       "      <td>5000.000000</td>\n",
       "      <td>0.000000</td>\n",
       "    </tr>\n",
       "    <tr>\n",
       "      <th>25%</th>\n",
       "      <td>650.000000</td>\n",
       "      <td>1998.000000</td>\n",
       "      <td>0.0</td>\n",
       "      <td>125000.000000</td>\n",
       "      <td>0.000000</td>\n",
       "    </tr>\n",
       "    <tr>\n",
       "      <th>50%</th>\n",
       "      <td>1399.000000</td>\n",
       "      <td>2001.000000</td>\n",
       "      <td>0.0</td>\n",
       "      <td>150000.000000</td>\n",
       "      <td>1.000000</td>\n",
       "    </tr>\n",
       "    <tr>\n",
       "      <th>75%</th>\n",
       "      <td>3000.000000</td>\n",
       "      <td>2007.000000</td>\n",
       "      <td>0.0</td>\n",
       "      <td>150000.000000</td>\n",
       "      <td>1.000000</td>\n",
       "    </tr>\n",
       "    <tr>\n",
       "      <th>max</th>\n",
       "      <td>20000.000000</td>\n",
       "      <td>9999.000000</td>\n",
       "      <td>0.0</td>\n",
       "      <td>150000.000000</td>\n",
       "      <td>1.000000</td>\n",
       "    </tr>\n",
       "  </tbody>\n",
       "</table>\n",
       "</div>"
      ],
      "text/plain": [
       "              price  registration_year    power      kilometer  \\\n",
       "count  34653.000000       34653.000000  34653.0   34653.000000   \n",
       "mean    2518.752374        2008.062159      0.0  129502.207601   \n",
       "std     3146.457146         199.677970      0.0   41207.536877   \n",
       "min      101.000000        1000.000000      0.0    5000.000000   \n",
       "25%      650.000000        1998.000000      0.0  125000.000000   \n",
       "50%     1399.000000        2001.000000      0.0  150000.000000   \n",
       "75%     3000.000000        2007.000000      0.0  150000.000000   \n",
       "max    20000.000000        9999.000000      0.0  150000.000000   \n",
       "\n",
       "       registration_month  \n",
       "count        34653.000000  \n",
       "mean             0.665484  \n",
       "std              0.471828  \n",
       "min              0.000000  \n",
       "25%              0.000000  \n",
       "50%              1.000000  \n",
       "75%              1.000000  \n",
       "max              1.000000  "
      ]
     },
     "execution_count": 37,
     "metadata": {},
     "output_type": "execute_result"
    }
   ],
   "source": [
    "data[data.power == 0].describe()"
   ]
  },
  {
   "cell_type": "markdown",
   "metadata": {},
   "source": [
    "10% данных имеют power равную 0. Логично, что автомобилей с мощностью 0 не бывает, так что можно сделать вывод, что так обозначены пропуски в данных. Распределение остальных количественных данных в датасете для этой категории не выглядит аномальным, поэтому оставим всё как есть."
   ]
  },
  {
   "cell_type": "markdown",
   "metadata": {},
   "source": [
    "#### Год регистрации"
   ]
  },
  {
   "cell_type": "markdown",
   "metadata": {},
   "source": [
    "Посмотрим на год регистрации:"
   ]
  },
  {
   "cell_type": "code",
   "execution_count": 38,
   "metadata": {},
   "outputs": [
    {
     "data": {
      "image/png": "[encoded data removed]",
      "text/plain": [
       "<Figure size 1080x576 with 1 Axes>"
      ]
     },
     "metadata": {
      "needs_background": "light"
     },
     "output_type": "display_data"
    }
   ],
   "source": [
    "data.registration_year.hist(range=(1925, 2025), bins=75, figsize=(15,8))\n",
    "plt.title('Objects count per year')\n",
    "plt.xlabel('Year')\n",
    "plt.ylabel('Count')\n",
    "plt.show();"
   ]
  },
  {
   "cell_type": "markdown",
   "metadata": {},
   "source": [
    "Будем считать все машины годом выпуска меньше 1960 аномальными. Выделим автомобили, выпущенные до 1960 или после года выгрузки анкет (2016):"
   ]
  },
  {
   "cell_type": "code",
   "execution_count": 39,
   "metadata": {},
   "outputs": [
    {
     "data": {
      "text/plain": [
       "0.041064748370703244"
      ]
     },
     "execution_count": 39,
     "metadata": {},
     "output_type": "execute_result"
    }
   ],
   "source": [
    "data[(data.registration_year < 1960) | (data.registration_year > 2016)].registration_year.count()/data.registration_year.count()"
   ]
  },
  {
   "cell_type": "markdown",
   "metadata": {},
   "source": [
    "Всего 4% автомобилей имеют аномальные года выпуска. Можно попробовать присвоить им другие значения года, но проще удалить:"
   ]
  },
  {
   "cell_type": "code",
   "execution_count": 40,
   "metadata": {},
   "outputs": [],
   "source": [
    "data = data[(data.registration_year >= 1982) & (data.registration_year <= 2016)]"
   ]
  },
  {
   "cell_type": "code",
   "execution_count": 41,
   "metadata": {},
   "outputs": [
    {
     "data": {
      "text/plain": [
       "(1982, 2016)"
      ]
     },
     "execution_count": 41,
     "metadata": {},
     "output_type": "execute_result"
    }
   ],
   "source": [
    "data.registration_year.min(), data.registration_year.max()"
   ]
  },
  {
   "cell_type": "markdown",
   "metadata": {},
   "source": [
    "#### Вывод"
   ]
  },
  {
   "cell_type": "markdown",
   "metadata": {},
   "source": [
    "Проведена предобработка данных датасета. Удалены неинформативные признаки pictures_count, а также колонки с датой и временем. Исключены объекты с ценой ниже 100, включая со значениями 0. Также удалены данные с аномальными значениями power и года регистрации. Заполнены пропуски в категориальных признаках значением Unknown."
   ]
  },
  {
   "cell_type": "markdown",
   "metadata": {},
   "source": [
    "Проверим, какой процент данных в итоге был исключён из датасета: "
   ]
  },
  {
   "cell_type": "code",
   "execution_count": 42,
   "metadata": {},
   "outputs": [
    {
     "data": {
      "text/plain": [
       "8.964666773899522"
      ]
     },
     "execution_count": 42,
     "metadata": {},
     "output_type": "execute_result"
    }
   ],
   "source": [
    "(1 - (data.shape[0] / 354369)) * 100"
   ]
  },
  {
   "cell_type": "markdown",
   "metadata": {},
   "source": [
    "9%. Погранично, но приемлемо."
   ]
  },
  {
   "cell_type": "markdown",
   "metadata": {},
   "source": [
    "## Обучение моделей"
   ]
  },
  {
   "cell_type": "markdown",
   "metadata": {},
   "source": [
    "#### Разделение выборок"
   ]
  },
  {
   "cell_type": "markdown",
   "metadata": {},
   "source": [
    "Разделим выборки на train и test в соотношении 3:1"
   ]
  },
  {
   "cell_type": "code",
   "execution_count": 43,
   "metadata": {},
   "outputs": [],
   "source": [
    "train_features, test_features, train_target, test_target = train_test_split(\n",
    "    data.drop('price', axis=1), data.price, test_size=0.25, random_state=12345)"
   ]
  },
  {
   "cell_type": "markdown",
   "metadata": {},
   "source": [
    "Проверим размерности выборок:"
   ]
  },
  {
   "cell_type": "code",
   "execution_count": 44,
   "metadata": {},
   "outputs": [
    {
     "data": {
      "text/plain": [
       "(241950, 10)"
      ]
     },
     "execution_count": 44,
     "metadata": {},
     "output_type": "execute_result"
    }
   ],
   "source": [
    "train_features.shape"
   ]
  },
  {
   "cell_type": "code",
   "execution_count": 45,
   "metadata": {},
   "outputs": [
    {
     "data": {
      "text/plain": [
       "(80651, 10)"
      ]
     },
     "execution_count": 45,
     "metadata": {},
     "output_type": "execute_result"
    }
   ],
   "source": [
    "test_features.shape"
   ]
  },
  {
   "cell_type": "markdown",
   "metadata": {},
   "source": [
    "Всё верно"
   ]
  },
  {
   "cell_type": "markdown",
   "metadata": {},
   "source": [
    "#### Ohe"
   ]
  },
  {
   "cell_type": "markdown",
   "metadata": {},
   "source": [
    "Закодируем категориальные признаки с помощью One-Hot Encoding, при этом избегая dummy-ловушки."
   ]
  },
  {
   "cell_type": "code",
   "execution_count": 46,
   "metadata": {},
   "outputs": [],
   "source": [
    "categorical_features=['vehicle_type', 'gearbox', 'fuel_type', 'repaired']"
   ]
  },
  {
   "cell_type": "code",
   "execution_count": 47,
   "metadata": {},
   "outputs": [],
   "source": [
    "encoder = OneHotEncoder(drop='first', sparse=False)"
   ]
  },
  {
   "cell_type": "code",
   "execution_count": 48,
   "metadata": {},
   "outputs": [
    {
     "data": {},
     "execution_count": 48,
     "metadata": {},
     "output_type": "execute_result"
    }
   ],
   "source": [
    "train_features_cat = train_features[categorical_features].astype(str)\n",
    "train_features_cat"
   ]
  },
  {
   "cell_type": "code",
   "execution_count": 49,
   "metadata": {},
   "outputs": [
    {
     "data": {},
     "execution_count": 49,
     "metadata": {},
     "output_type": "execute_result"
    }
   ],
   "source": [
    "test_features_cat = test_features[categorical_features].astype(str)\n",
    "test_features_cat"
   ]
  },
  {
   "cell_type": "code",
   "execution_count": 50,
   "metadata": {},
   "outputs": [
    {
     "data": {},
     "execution_count": 50,
     "metadata": {},
     "output_type": "execute_result"
    }
   ],
   "source": [
    "encoder.fit(train_features_cat)"
   ]
  },
  {
   "cell_type": "code",
   "execution_count": 51,
   "metadata": {},
   "outputs": [],
   "source": [
    "train_transformed = encoder.transform(train_features_cat)\n",
    "train_features_encoded = pd.DataFrame(train_transformed, columns=encoder.get_feature_names(), index=train_features_cat.index)\n",
    "train_features = train_features.join(train_features_encoded).drop(categorical_features, axis=1)"
   ]
  },
  {
   "cell_type": "code",
   "execution_count": 52,
   "metadata": {},
   "outputs": [],
   "source": [
    "test_transformed = encoder.transform(test_features_cat)\n",
    "test_features_encoded = pd.DataFrame(test_transformed, columns=encoder.get_feature_names(), index=test_features_cat.index)\n",
    "test_features = test_features.join(test_features_encoded).drop(categorical_features, axis=1)"
   ]
  },
  {
   "cell_type": "code",
   "execution_count": 53,
   "metadata": {},
   "outputs": [
    {
     "data": {},
     "execution_count": 53,
     "metadata": {},
     "output_type": "execute_result"
    }
   ],
   "source": [
    "train_features"
   ]
  },
  {
   "cell_type": "markdown",
   "metadata": {},
   "source": [
    "#### MEstimateEncoder"
   ]
  },
  {
   "cell_type": "markdown",
   "metadata": {},
   "source": [
    "Часть категориальных данных представлена очень большим объёмом категорий, что при кодировании OHE может привести к проблемам. Воспользуемся MEstimateEncoder из библиотеки scikit-learn и закодируем категории через средние значения таргета"
   ]
  },
  {
   "cell_type": "code",
   "execution_count": 54,
   "metadata": {},
   "outputs": [],
   "source": [
    "big_cat_features = ['brand', 'model']"
   ]
  },
  {
   "cell_type": "code",
   "execution_count": 55,
   "metadata": {},
   "outputs": [],
   "source": [
    "es_encoder = MEstimateEncoder()"
   ]
  },
  {
   "cell_type": "code",
   "execution_count": 56,
   "metadata": {},
   "outputs": [
    {
     "data": {},
     "execution_count": 56,
     "metadata": {},
     "output_type": "execute_result"
    }
   ],
   "source": [
    "es_encoder.fit(train_features[big_cat_features], train_target)"
   ]
  },
  {
   "cell_type": "code",
   "execution_count": 57,
   "metadata": {},
   "outputs": [
    {
     "data": {},
     "execution_count": 57,
     "metadata": {},
     "output_type": "execute_result"
    }
   ],
   "source": [
    "train_features.loc[:,big_cat_features] = es_encoder.transform(train_features[big_cat_features], train_target)\n",
    "train_features"
   ]
  },
  {
   "cell_type": "code",
   "execution_count": 58,
   "metadata": {},
   "outputs": [
    {
     "data": {},
     "execution_count": 58,
     "metadata": {},
     "output_type": "execute_result"
    }
   ],
   "source": [
    "test_features.loc[:,big_cat_features] = es_encoder.transform(test_features[big_cat_features], test_target)\n",
    "test_features"
   ]
  },
  {
   "cell_type": "markdown",
   "metadata": {},
   "source": [
    "#### Scaling"
   ]
  },
  {
   "cell_type": "markdown",
   "metadata": {},
   "source": [
    "Отскейлим данные:"
   ]
  },
  {
   "cell_type": "code",
   "execution_count": 59,
   "metadata": {},
   "outputs": [],
   "source": [
    "scaler = StandardScaler()\n",
    "columns = train_features.columns"
   ]
  },
  {
   "cell_type": "code",
   "execution_count": 60,
   "metadata": {},
   "outputs": [],
   "source": [
    "scaler.fit(train_features)\n",
    "train_features = pd.DataFrame(scaler.transform(train_features), columns=train_features.columns, index=train_features.index)\n",
    "test_features = pd.DataFrame(scaler.transform(test_features), columns=test_features.columns, index=test_features.index)"
   ]
  },
  {
   "cell_type": "markdown",
   "metadata": {},
   "source": [
    "#### Boosting"
   ]
  },
  {
   "cell_type": "markdown",
   "metadata": {},
   "source": [
    "Обучим LGBMRegressor из библиотеки LightGBM, подобрав к нему параметры с помощью GridSearchCV с метрикой rmse:"
   ]
  },
  {
   "cell_type": "code",
   "execution_count": 61,
   "metadata": {},
   "outputs": [],
   "source": [
    "params = {\n",
    "    'metric':['rmse'], \n",
    "    'num_iterations':[25, 50, 100], \n",
    "    'boosting':['gbdt'], \n",
    "    'num_leaves':[12, 22, 31, 45], \n",
    "    'max_depth':[-1, 2, 4, 7]\n",
    "         }"
   ]
  },
  {
   "cell_type": "code",
   "execution_count": 62,
   "metadata": {},
   "outputs": [],
   "source": [
    "estimator = lgb.LGBMRegressor(objective='regression', metric='rmse', random_state=12345)"
   ]
  },
  {
   "cell_type": "code",
   "execution_count": 63,
   "metadata": {},
   "outputs": [],
   "source": [
    "model = GridSearchCV(estimator = estimator, param_grid=params, cv=5, scoring='neg_root_mean_squared_error')"
   ]
  },
  {
   "cell_type": "code",
   "execution_count": 64,
   "metadata": {
    "scrolled": true
   },
   "outputs": [
    {
     "data": {},
     "execution_count": 64,
     "metadata": {},
     "output_type": "execute_result"
    }
   ],
   "source": [
    "%%time\n",
    "model.fit(train_features, train_target)"
   ]
  },
  {
   "cell_type": "markdown",
   "metadata": {},
   "source": [
    "Лучшие параметры и лучшая модель:"
   ]
  },
  {
   "cell_type": "code",
   "execution_count": 65,
   "metadata": {},
   "outputs": [
    {
     "data": {},
     "execution_count": 65,
     "metadata": {},
     "output_type": "execute_result"
    }
   ],
   "source": [
    "model.best_params_"
   ]
  },
  {
   "cell_type": "code",
   "execution_count": 66,
   "metadata": {},
   "outputs": [
    {
     "data": {},
     "execution_count": 66,
     "metadata": {},
     "output_type": "execute_result"
    }
   ],
   "source": [
    "model.best_estimator_"
   ]
  },
  {
   "cell_type": "code",
   "execution_count": 67,
   "metadata": {},
   "outputs": [],
   "source": [
    "best_model = lgb.LGBMRegressor(objective='regression', metric='rmse', num_iterations=100, num_leaves=45, random_state=12345)"
   ]
  },
  {
   "cell_type": "code",
   "execution_count": 68,
   "metadata": {},
   "outputs": [
    {
     "data": {},
     "execution_count": 68,
     "metadata": {},
     "output_type": "execute_result"
    }
   ],
   "source": [
    "%%time\n",
    "best_model.fit(train_features, train_target)"
   ]
  },
  {
   "cell_type": "markdown",
   "metadata": {},
   "source": [
    "Проверим качество модели на тестовых данных"
   ]
  },
  {
   "cell_type": "code",
   "execution_count": 69,
   "metadata": {},
   "outputs": [],
   "source": [
    "%%time\n",
    "predicted = best_model.predict(test_features)"
   ]
  },
  {
   "cell_type": "code",
   "execution_count": 70,
   "metadata": {},
   "outputs": [
    {
     "data": {},
     "execution_count": 70,
     "metadata": {},
     "output_type": "execute_result"
    }
   ],
   "source": [
    "metric = np.sqrt(mean_squared_error(test_target, predicted))\n",
    "metric"
   ]
  },
  {
   "cell_type": "markdown",
   "metadata": {},
   "source": [
    "#### Random Forest"
   ]
  },
  {
   "cell_type": "markdown",
   "metadata": {},
   "source": [
    "Обучим другую модель, чтобы сравнить качество с бустингом:"
   ]
  },
  {
   "cell_type": "code",
   "execution_count": 71,
   "metadata": {},
   "outputs": [],
   "source": [
    "forest_estimator = RandomForestRegressor(max_depth=2, n_estimators=100, min_samples_split=4, random_state=12345)"
   ]
  },
  {
   "cell_type": "code",
   "execution_count": 72,
   "metadata": {},
   "outputs": [
    {
     "data": {},
     "execution_count": 72,
     "metadata": {},
     "output_type": "execute_result"
    }
   ],
   "source": [
    "%%time\n",
    "forest_estimator.fit(train_features, train_target)"
   ]
  },
  {
   "cell_type": "code",
   "execution_count": 73,
   "metadata": {},
   "outputs": [],
   "source": [
    "%%time\n",
    "forest_predicted = forest_estimator.predict(test_features)"
   ]
  },
  {
   "cell_type": "code",
   "execution_count": 74,
   "metadata": {},
   "outputs": [
    {
     "data": {},
     "execution_count": 74,
     "metadata": {},
     "output_type": "execute_result"
    }
   ],
   "source": [
    "forest_metric = np.sqrt(mean_squared_error(test_target, forest_predicted))\n",
    "forest_metric"
   ]
  },
  {
   "cell_type": "markdown",
   "metadata": {},
   "source": [
    "Случайный лес выдаёт метрику хуже в два раза."
   ]
  },
  {
   "cell_type": "markdown",
   "metadata": {},
   "source": [
    "## Анализ моделей"
   ]
  },
  {
   "cell_type": "markdown",
   "metadata": {},
   "source": [
    "При сравнении random_forest и LGBMRegressor метрика rmse лучше у бустинга (1592 против 3105, почти в два раза), к тому же, только она преодолевает порог качества в 2500. Скорость тренировки случайного леса в несколько раз ниже бустинга. Скорость предсказания леса чуть выше, чем у бустинга, но скорость обучения бустинга на порядок быстрее. В совокупности, исходя из скорости тренировки, скорости предсказания и качества предсказания бустинг существенно опережает случайный лес. Бустинг является более эффективной моделью."
   ]
  },
  {
   "cell_type": "markdown",
   "metadata": {},
   "source": [
    "## Общий вывод\n"
   ]
  },
  {
   "cell_type": "markdown",
   "metadata": {},
   "source": [
    "Изучены данные об объявлениях о продаже автомобилей. Нужно было обучить модель, предсказывающую цену. Качество модели должно было быть проверено с помощью rmse и не быть выше 2500. После проведения предобработки данных, удаления аномалий и неинформативных признаков была обучена модель LGBMRegressor. На тренировочном датасете с параметрами модели = {boosting='gbdt', metric='rmse', num_iterations=100, num_leaves=45, objective='regression', random_state=12345}, подобранными с помощью GridSearchCV, метрика качества rmse оказалась равна 1592. Для сравнения также был обучен случайный лес с параметрами {max_depth=2, n_estimators=100, min_samples_split=4, random_state=12345}. Случайный лес показал себя хуже с точки зрения качества со значением rmse 3105, что не попадает в необходимые границы качества. Также случайный лес на порядок медленее обучается.\n",
    "\n",
    "Исходя из проведённой работы, градиентный бустинг является существенно более эффективной моделью."
   ]
  }
 ],
 "metadata": {
  "ExecuteTimeLog": [
   {
    "duration": 2514,
    "start_time": "2023-07-05T10:58:53.568Z"
   },
   {
    "duration": 1706,
    "start_time": "2023-07-05T10:58:56.085Z"
   },
   {
    "duration": 1392,
    "start_time": "2023-07-05T10:58:57.793Z"
   },
   {
    "duration": 20,
    "start_time": "2023-07-05T10:58:59.187Z"
   },
   {
    "duration": 8,
    "start_time": "2023-07-05T10:58:59.209Z"
   },
   {
    "duration": 27,
    "start_time": "2023-07-05T10:58:59.219Z"
   },
   {
    "duration": 153,
    "start_time": "2023-07-05T10:58:59.248Z"
   },
   {
    "duration": 136,
    "start_time": "2023-07-05T10:58:59.408Z"
   },
   {
    "duration": 1565,
    "start_time": "2023-07-05T10:58:59.546Z"
   },
   {
    "duration": 105,
    "start_time": "2023-07-05T10:59:01.115Z"
   },
   {
    "duration": 47,
    "start_time": "2023-07-05T10:59:01.222Z"
   },
   {
    "duration": 73,
    "start_time": "2023-07-05T10:59:01.272Z"
   },
   {
    "duration": 255,
    "start_time": "2023-07-05T10:59:01.348Z"
   },
   {
    "duration": 272,
    "start_time": "2023-07-05T10:59:01.605Z"
   },
   {
    "duration": 392,
    "start_time": "2023-07-05T10:59:01.879Z"
   },
   {
    "duration": 37,
    "start_time": "2023-07-05T10:59:02.274Z"
   },
   {
    "duration": 23,
    "start_time": "2023-07-05T10:59:02.313Z"
   },
   {
    "duration": 118,
    "start_time": "2023-07-05T10:59:02.338Z"
   },
   {
    "duration": 213,
    "start_time": "2023-07-05T10:59:02.459Z"
   },
   {
    "duration": 23,
    "start_time": "2023-07-05T10:59:02.674Z"
   },
   {
    "duration": 140,
    "start_time": "2023-07-05T10:59:02.709Z"
   },
   {
    "duration": 121,
    "start_time": "2023-07-05T10:59:02.851Z"
   },
   {
    "duration": 203,
    "start_time": "2023-07-05T10:59:02.974Z"
   },
   {
    "duration": 49,
    "start_time": "2023-07-05T10:59:03.180Z"
   },
   {
    "duration": 14,
    "start_time": "2023-07-05T10:59:03.231Z"
   },
   {
    "duration": 25,
    "start_time": "2023-07-05T10:59:03.248Z"
   },
   {
    "duration": 38,
    "start_time": "2023-07-05T10:59:03.275Z"
   },
   {
    "duration": 50,
    "start_time": "2023-07-05T10:59:03.317Z"
   },
   {
    "duration": 186,
    "start_time": "2023-07-05T10:59:03.369Z"
   },
   {
    "duration": 28,
    "start_time": "2023-07-05T10:59:03.558Z"
   },
   {
    "duration": 52,
    "start_time": "2023-07-05T10:59:03.588Z"
   },
   {
    "duration": 14,
    "start_time": "2023-07-05T10:59:03.642Z"
   },
   {
    "duration": 1600,
    "start_time": "2023-07-05T10:59:03.658Z"
   },
   {
    "duration": 15,
    "start_time": "2023-07-05T10:59:05.260Z"
   },
   {
    "duration": 61,
    "start_time": "2023-07-05T10:59:05.276Z"
   },
   {
    "duration": 322,
    "start_time": "2023-07-05T10:59:05.339Z"
   },
   {
    "duration": 15,
    "start_time": "2023-07-05T10:59:05.663Z"
   },
   {
    "duration": 46,
    "start_time": "2023-07-05T10:59:05.680Z"
   },
   {
    "duration": 72,
    "start_time": "2023-07-05T10:59:08.927Z"
   },
   {
    "duration": 6,
    "start_time": "2023-07-05T10:59:11.338Z"
   },
   {
    "duration": 5,
    "start_time": "2023-07-05T10:59:26.947Z"
   },
   {
    "duration": 5,
    "start_time": "2023-07-05T10:59:45.267Z"
   },
   {
    "duration": 2818,
    "start_time": "2023-07-05T11:55:38.588Z"
   },
   {
    "duration": 11,
    "start_time": "2023-07-05T11:55:41.409Z"
   },
   {
    "duration": 1275,
    "start_time": "2023-07-05T11:55:41.423Z"
   },
   {
    "duration": 27,
    "start_time": "2023-07-05T11:55:42.701Z"
   },
   {
    "duration": 23,
    "start_time": "2023-07-05T11:55:42.730Z"
   },
   {
    "duration": 38,
    "start_time": "2023-07-05T11:55:42.755Z"
   },
   {
    "duration": 148,
    "start_time": "2023-07-05T11:55:42.795Z"
   },
   {
    "duration": 116,
    "start_time": "2023-07-05T11:55:42.944Z"
   },
   {
    "duration": 1483,
    "start_time": "2023-07-05T11:55:43.062Z"
   },
   {
    "duration": 95,
    "start_time": "2023-07-05T11:55:44.548Z"
   },
   {
    "duration": 33,
    "start_time": "2023-07-05T11:55:44.645Z"
   },
   {
    "duration": 52,
    "start_time": "2023-07-05T11:55:44.680Z"
   },
   {
    "duration": 263,
    "start_time": "2023-07-05T11:55:44.733Z"
   },
   {
    "duration": 285,
    "start_time": "2023-07-05T11:55:44.998Z"
   },
   {
    "duration": 378,
    "start_time": "2023-07-05T11:55:45.286Z"
   },
   {
    "duration": 24,
    "start_time": "2023-07-05T11:55:45.666Z"
   },
   {
    "duration": 29,
    "start_time": "2023-07-05T11:55:45.692Z"
   },
   {
    "duration": 69,
    "start_time": "2023-07-05T11:55:45.723Z"
   },
   {
    "duration": 299,
    "start_time": "2023-07-05T11:55:45.795Z"
   },
   {
    "duration": 34,
    "start_time": "2023-07-05T11:55:46.096Z"
   },
   {
    "duration": 94,
    "start_time": "2023-07-05T11:55:46.133Z"
   },
   {
    "duration": 151,
    "start_time": "2023-07-05T11:55:46.230Z"
   },
   {
    "duration": 200,
    "start_time": "2023-07-05T11:55:46.382Z"
   },
   {
    "duration": 44,
    "start_time": "2023-07-05T11:55:46.583Z"
   },
   {
    "duration": 14,
    "start_time": "2023-07-05T11:55:46.629Z"
   },
   {
    "duration": 13,
    "start_time": "2023-07-05T11:55:46.645Z"
   },
   {
    "duration": 19,
    "start_time": "2023-07-05T11:55:46.660Z"
   },
   {
    "duration": 37,
    "start_time": "2023-07-05T11:55:46.714Z"
   },
   {
    "duration": 201,
    "start_time": "2023-07-05T11:55:46.754Z"
   },
   {
    "duration": 23,
    "start_time": "2023-07-05T11:55:46.957Z"
   },
   {
    "duration": 73,
    "start_time": "2023-07-05T11:55:46.982Z"
   },
   {
    "duration": 14,
    "start_time": "2023-07-05T11:55:47.057Z"
   },
   {
    "duration": 1662,
    "start_time": "2023-07-05T11:55:47.073Z"
   },
   {
    "duration": 14,
    "start_time": "2023-07-05T11:55:48.737Z"
   },
   {
    "duration": 60,
    "start_time": "2023-07-05T11:55:48.753Z"
   },
   {
    "duration": 320,
    "start_time": "2023-07-05T11:55:48.814Z"
   },
   {
    "duration": 15,
    "start_time": "2023-07-05T11:55:49.136Z"
   },
   {
    "duration": 30,
    "start_time": "2023-07-05T11:55:49.152Z"
   },
   {
    "duration": 5,
    "start_time": "2023-07-05T11:55:49.184Z"
   },
   {
    "duration": 118,
    "start_time": "2023-07-05T11:55:54.624Z"
   },
   {
    "duration": 8,
    "start_time": "2023-07-05T11:56:11.239Z"
   },
   {
    "duration": 5,
    "start_time": "2023-07-05T11:56:11.848Z"
   },
   {
    "duration": 146,
    "start_time": "2023-07-05T11:56:34.442Z"
   },
   {
    "duration": 4,
    "start_time": "2023-07-05T11:56:35.365Z"
   },
   {
    "duration": 5,
    "start_time": "2023-07-05T11:56:35.771Z"
   },
   {
    "duration": 10,
    "start_time": "2023-07-05T11:59:15.867Z"
   },
   {
    "duration": 146,
    "start_time": "2023-07-05T11:59:19.781Z"
   },
   {
    "duration": 5,
    "start_time": "2023-07-05T11:59:23.064Z"
   },
   {
    "duration": 122,
    "start_time": "2023-07-05T11:59:54.080Z"
   },
   {
    "duration": 5,
    "start_time": "2023-07-05T11:59:54.824Z"
   },
   {
    "duration": 5,
    "start_time": "2023-07-05T11:59:55.224Z"
   },
   {
    "duration": 5,
    "start_time": "2023-07-05T11:59:55.607Z"
   },
   {
    "duration": 80,
    "start_time": "2023-07-05T12:03:24.967Z"
   },
   {
    "duration": 3,
    "start_time": "2023-07-05T12:04:01.747Z"
   },
   {
    "duration": 5,
    "start_time": "2023-07-05T12:04:02.328Z"
   },
   {
    "duration": 59,
    "start_time": "2023-07-05T12:04:04.029Z"
   },
   {
    "duration": 14,
    "start_time": "2023-07-05T12:04:05.133Z"
   },
   {
    "duration": 66,
    "start_time": "2023-07-05T12:04:21.183Z"
   },
   {
    "duration": 16,
    "start_time": "2023-07-05T12:04:32.523Z"
   },
   {
    "duration": 14,
    "start_time": "2023-07-05T12:04:32.890Z"
   },
   {
    "duration": 53,
    "start_time": "2023-07-05T12:04:37.130Z"
   },
   {
    "duration": 66,
    "start_time": "2023-07-05T12:04:56.086Z"
   },
   {
    "duration": 73,
    "start_time": "2023-07-05T12:04:57.203Z"
   },
   {
    "duration": 14,
    "start_time": "2023-07-05T12:04:57.645Z"
   },
   {
    "duration": 65,
    "start_time": "2023-07-05T12:04:58.314Z"
   },
   {
    "duration": 65,
    "start_time": "2023-07-05T12:05:20.495Z"
   },
   {
    "duration": 70,
    "start_time": "2023-07-05T12:05:24.506Z"
   },
   {
    "duration": 11,
    "start_time": "2023-07-05T12:16:44.769Z"
   },
   {
    "duration": 55,
    "start_time": "2023-07-05T12:17:05.224Z"
   },
   {
    "duration": 27,
    "start_time": "2023-07-05T12:17:07.028Z"
   },
   {
    "duration": 4,
    "start_time": "2023-07-05T12:25:20.765Z"
   },
   {
    "duration": 4,
    "start_time": "2023-07-05T12:25:21.158Z"
   },
   {
    "duration": 37,
    "start_time": "2023-07-05T12:25:23.357Z"
   },
   {
    "duration": 20,
    "start_time": "2023-07-05T12:25:26.191Z"
   },
   {
    "duration": 36,
    "start_time": "2023-07-05T12:25:27.946Z"
   },
   {
    "duration": 537,
    "start_time": "2023-07-05T12:26:36.395Z"
   },
   {
    "duration": 130,
    "start_time": "2023-07-05T12:26:37.790Z"
   },
   {
    "duration": 104,
    "start_time": "2023-07-05T12:26:45.541Z"
   },
   {
    "duration": 3,
    "start_time": "2023-07-05T12:29:31.198Z"
   },
   {
    "duration": 69,
    "start_time": "2023-07-05T12:39:20.671Z"
   },
   {
    "duration": 56,
    "start_time": "2023-07-05T12:39:30.838Z"
   },
   {
    "duration": 637,
    "start_time": "2023-07-05T12:39:36.574Z"
   },
   {
    "duration": 127,
    "start_time": "2023-07-05T12:40:12.331Z"
   },
   {
    "duration": 3680,
    "start_time": "2023-07-05T12:40:16.942Z"
   },
   {
    "duration": 13,
    "start_time": "2023-07-05T12:43:50.962Z"
   },
   {
    "duration": 13,
    "start_time": "2023-07-05T12:45:53.541Z"
   },
   {
    "duration": 173,
    "start_time": "2023-07-05T12:49:29.593Z"
   },
   {
    "duration": 2289,
    "start_time": "2023-07-05T12:49:37.991Z"
   },
   {
    "duration": 2909,
    "start_time": "2023-07-05T12:49:40.283Z"
   },
   {
    "duration": 81,
    "start_time": "2023-07-05T12:49:55.023Z"
   },
   {
    "duration": 6,
    "start_time": "2023-07-05T12:50:02.606Z"
   },
   {
    "duration": 4,
    "start_time": "2023-07-05T13:03:46.940Z"
   },
   {
    "duration": 3,
    "start_time": "2023-07-05T13:03:47.493Z"
   },
   {
    "duration": 30,
    "start_time": "2023-07-05T13:17:24.698Z"
   },
   {
    "duration": 477,
    "start_time": "2023-07-05T13:17:35.556Z"
   },
   {
    "duration": 133,
    "start_time": "2023-07-05T13:19:23.594Z"
   },
   {
    "duration": 136,
    "start_time": "2023-07-05T13:20:06.804Z"
   },
   {
    "duration": 122,
    "start_time": "2023-07-05T13:20:16.690Z"
   },
   {
    "duration": 132,
    "start_time": "2023-07-05T13:20:20.787Z"
   },
   {
    "duration": 256,
    "start_time": "2023-07-05T13:20:29.842Z"
   },
   {
    "duration": 190,
    "start_time": "2023-07-05T13:20:55.874Z"
   },
   {
    "duration": 2304,
    "start_time": "2023-07-05T13:21:39.927Z"
   },
   {
    "duration": 2347,
    "start_time": "2023-07-05T13:21:42.235Z"
   },
   {
    "duration": 6,
    "start_time": "2023-07-05T13:21:44.586Z"
   },
   {
    "duration": 976,
    "start_time": "2023-07-05T13:21:44.595Z"
   },
   {
    "duration": 17,
    "start_time": "2023-07-05T13:21:45.574Z"
   },
   {
    "duration": 17,
    "start_time": "2023-07-05T13:21:45.593Z"
   },
   {
    "duration": 26,
    "start_time": "2023-07-05T13:21:45.612Z"
   },
   {
    "duration": 129,
    "start_time": "2023-07-05T13:21:45.640Z"
   },
   {
    "duration": 119,
    "start_time": "2023-07-05T13:21:45.772Z"
   },
   {
    "duration": 1623,
    "start_time": "2023-07-05T13:21:45.895Z"
   },
   {
    "duration": 89,
    "start_time": "2023-07-05T13:21:47.521Z"
   },
   {
    "duration": 31,
    "start_time": "2023-07-05T13:21:47.612Z"
   },
   {
    "duration": 33,
    "start_time": "2023-07-05T13:21:47.645Z"
   },
   {
    "duration": 272,
    "start_time": "2023-07-05T13:21:47.680Z"
   },
   {
    "duration": 282,
    "start_time": "2023-07-05T13:21:47.955Z"
   },
   {
    "duration": 337,
    "start_time": "2023-07-05T13:21:48.239Z"
   },
   {
    "duration": 34,
    "start_time": "2023-07-05T13:21:48.579Z"
   },
   {
    "duration": 5,
    "start_time": "2023-07-05T13:21:48.616Z"
   },
   {
    "duration": 44,
    "start_time": "2023-07-05T13:21:48.623Z"
   },
   {
    "duration": 208,
    "start_time": "2023-07-05T13:21:48.670Z"
   },
   {
    "duration": 32,
    "start_time": "2023-07-05T13:21:48.879Z"
   },
   {
    "duration": 265,
    "start_time": "2023-07-05T13:21:48.913Z"
   },
   {
    "duration": 96,
    "start_time": "2023-07-05T13:21:49.180Z"
   },
   {
    "duration": 293,
    "start_time": "2023-07-05T13:21:49.278Z"
   },
   {
    "duration": 40,
    "start_time": "2023-07-05T13:21:49.573Z"
   },
   {
    "duration": 49,
    "start_time": "2023-07-05T13:21:49.615Z"
   },
   {
    "duration": 40,
    "start_time": "2023-07-05T13:21:49.667Z"
   },
   {
    "duration": 16,
    "start_time": "2023-07-05T13:21:49.712Z"
   },
   {
    "duration": 29,
    "start_time": "2023-07-05T13:21:49.730Z"
   },
   {
    "duration": 247,
    "start_time": "2023-07-05T13:21:49.762Z"
   },
   {
    "duration": 24,
    "start_time": "2023-07-05T13:21:50.011Z"
   },
   {
    "duration": 63,
    "start_time": "2023-07-05T13:21:50.038Z"
   },
   {
    "duration": 21,
    "start_time": "2023-07-05T13:21:50.103Z"
   },
   {
    "duration": 1495,
    "start_time": "2023-07-05T13:21:50.126Z"
   },
   {
    "duration": 16,
    "start_time": "2023-07-05T13:21:51.623Z"
   },
   {
    "duration": 41,
    "start_time": "2023-07-05T13:21:51.640Z"
   },
   {
    "duration": 579,
    "start_time": "2023-07-05T13:21:51.708Z"
   },
   {
    "duration": 21,
    "start_time": "2023-07-05T13:21:52.289Z"
   },
   {
    "duration": 28,
    "start_time": "2023-07-05T13:21:52.312Z"
   },
   {
    "duration": 42,
    "start_time": "2023-07-05T13:21:52.342Z"
   },
   {
    "duration": 223,
    "start_time": "2023-07-05T13:21:52.386Z"
   },
   {
    "duration": 4,
    "start_time": "2023-07-05T13:21:52.611Z"
   },
   {
    "duration": 82,
    "start_time": "2023-07-05T13:21:52.617Z"
   },
   {
    "duration": 42,
    "start_time": "2023-07-05T13:21:52.702Z"
   },
   {
    "duration": 39,
    "start_time": "2023-07-05T13:21:52.747Z"
   },
   {
    "duration": 81,
    "start_time": "2023-07-05T13:21:52.788Z"
   },
   {
    "duration": 21,
    "start_time": "2023-07-05T13:21:52.870Z"
   },
   {
    "duration": 38,
    "start_time": "2023-07-05T13:21:52.893Z"
   },
   {
    "duration": 545,
    "start_time": "2023-07-05T13:21:52.933Z"
   },
   {
    "duration": 144,
    "start_time": "2023-07-05T13:21:53.480Z"
   },
   {
    "duration": 104,
    "start_time": "2023-07-05T13:21:53.626Z"
   },
   {
    "duration": 4,
    "start_time": "2023-07-05T13:21:53.732Z"
   },
   {
    "duration": 14,
    "start_time": "2023-07-05T13:21:53.738Z"
   },
   {
    "duration": 417,
    "start_time": "2023-07-05T13:21:53.754Z"
   },
   {
    "duration": 245,
    "start_time": "2023-07-05T13:21:54.173Z"
   },
   {
    "duration": 173,
    "start_time": "2023-07-05T13:21:54.420Z"
   },
   {
    "duration": 2,
    "start_time": "2023-07-05T13:22:12.888Z"
   },
   {
    "duration": 357,
    "start_time": "2023-07-05T13:22:13.308Z"
   },
   {
    "duration": 5,
    "start_time": "2023-07-05T13:22:16.812Z"
   },
   {
    "duration": 3,
    "start_time": "2023-07-05T13:22:17.318Z"
   },
   {
    "duration": 4,
    "start_time": "2023-07-05T13:22:17.713Z"
   },
   {
    "duration": 4,
    "start_time": "2023-07-05T13:22:21.612Z"
   },
   {
    "duration": 9220,
    "start_time": "2023-07-05T13:22:22.794Z"
   },
   {
    "duration": 803,
    "start_time": "2023-07-05T13:22:32.017Z"
   },
   {
    "duration": 7,
    "start_time": "2023-07-05T13:22:32.822Z"
   },
   {
    "duration": 4,
    "start_time": "2023-07-05T13:22:41.948Z"
   },
   {
    "duration": 3,
    "start_time": "2023-07-05T13:22:42.709Z"
   },
   {
    "duration": 3,
    "start_time": "2023-07-05T13:22:42.970Z"
   },
   {
    "duration": 22177,
    "start_time": "2023-07-05T13:22:43.398Z"
   },
   {
    "duration": 192,
    "start_time": "2023-07-05T13:23:05.578Z"
   },
   {
    "duration": 8,
    "start_time": "2023-07-05T13:23:05.772Z"
   },
   {
    "duration": 2374,
    "start_time": "2023-07-05T14:52:18.932Z"
   },
   {
    "duration": 2609,
    "start_time": "2023-07-05T14:52:21.309Z"
   },
   {
    "duration": 1669,
    "start_time": "2023-07-05T14:52:23.920Z"
   },
   {
    "duration": 1012,
    "start_time": "2023-07-05T14:52:25.591Z"
   },
   {
    "duration": 17,
    "start_time": "2023-07-05T14:52:26.605Z"
   },
   {
    "duration": 4,
    "start_time": "2023-07-05T14:52:26.624Z"
   },
   {
    "duration": 13,
    "start_time": "2023-07-05T14:52:26.629Z"
   },
   {
    "duration": 120,
    "start_time": "2023-07-05T14:52:26.643Z"
   },
   {
    "duration": 91,
    "start_time": "2023-07-05T14:52:26.764Z"
   },
   {
    "duration": 994,
    "start_time": "2023-07-05T14:52:26.857Z"
   },
   {
    "duration": 74,
    "start_time": "2023-07-05T14:52:27.852Z"
   },
   {
    "duration": 25,
    "start_time": "2023-07-05T14:52:33.323Z"
   },
   {
    "duration": 68,
    "start_time": "2023-07-05T15:47:14.879Z"
   },
   {
    "duration": 180,
    "start_time": "2023-07-05T15:47:33.030Z"
   },
   {
    "duration": 119,
    "start_time": "2023-07-05T15:54:33.031Z"
   },
   {
    "duration": 33,
    "start_time": "2023-07-05T15:54:36.815Z"
   },
   {
    "duration": 1988,
    "start_time": "2023-07-05T15:54:46.580Z"
   },
   {
    "duration": 1886,
    "start_time": "2023-07-05T15:54:48.570Z"
   },
   {
    "duration": 4,
    "start_time": "2023-07-05T15:54:50.458Z"
   },
   {
    "duration": 758,
    "start_time": "2023-07-05T15:54:50.463Z"
   },
   {
    "duration": 13,
    "start_time": "2023-07-05T15:54:51.223Z"
   },
   {
    "duration": 23,
    "start_time": "2023-07-05T15:54:51.237Z"
   },
   {
    "duration": 20,
    "start_time": "2023-07-05T15:54:51.261Z"
   },
   {
    "duration": 107,
    "start_time": "2023-07-05T15:54:51.282Z"
   },
   {
    "duration": 83,
    "start_time": "2023-07-05T15:54:51.391Z"
   },
   {
    "duration": 1001,
    "start_time": "2023-07-05T15:54:51.476Z"
   },
   {
    "duration": 70,
    "start_time": "2023-07-05T15:54:52.478Z"
   },
   {
    "duration": 25,
    "start_time": "2023-07-05T15:54:52.549Z"
   },
   {
    "duration": 48,
    "start_time": "2023-07-05T15:54:52.576Z"
   },
   {
    "duration": 34,
    "start_time": "2023-07-05T15:54:52.627Z"
   },
   {
    "duration": 40,
    "start_time": "2023-07-05T15:54:52.663Z"
   },
   {
    "duration": 157,
    "start_time": "2023-07-05T15:54:52.704Z"
   },
   {
    "duration": 175,
    "start_time": "2023-07-05T15:54:52.862Z"
   },
   {
    "duration": 200,
    "start_time": "2023-07-05T15:54:53.038Z"
   },
   {
    "duration": 251,
    "start_time": "2023-07-05T15:54:53.239Z"
   },
   {
    "duration": 22,
    "start_time": "2023-07-05T15:54:53.492Z"
   },
   {
    "duration": 4,
    "start_time": "2023-07-05T15:54:53.515Z"
   },
   {
    "duration": 28,
    "start_time": "2023-07-05T15:54:53.520Z"
   },
   {
    "duration": 168,
    "start_time": "2023-07-05T15:54:53.549Z"
   },
   {
    "duration": 17,
    "start_time": "2023-07-05T15:54:53.718Z"
   },
   {
    "duration": 80,
    "start_time": "2023-07-05T15:54:53.737Z"
   },
   {
    "duration": 84,
    "start_time": "2023-07-05T15:54:53.818Z"
   },
   {
    "duration": 170,
    "start_time": "2023-07-05T15:54:53.903Z"
   },
   {
    "duration": 35,
    "start_time": "2023-07-05T15:54:54.075Z"
   },
   {
    "duration": 8,
    "start_time": "2023-07-05T15:54:54.112Z"
   },
   {
    "duration": 8,
    "start_time": "2023-07-05T15:54:54.121Z"
   },
   {
    "duration": 7,
    "start_time": "2023-07-05T15:54:54.130Z"
   },
   {
    "duration": 25,
    "start_time": "2023-07-05T15:54:54.139Z"
   },
   {
    "duration": 165,
    "start_time": "2023-07-05T15:54:54.166Z"
   },
   {
    "duration": 15,
    "start_time": "2023-07-05T15:54:54.332Z"
   },
   {
    "duration": 27,
    "start_time": "2023-07-05T15:54:54.348Z"
   },
   {
    "duration": 28,
    "start_time": "2023-07-05T15:54:54.376Z"
   },
   {
    "duration": 819,
    "start_time": "2023-07-05T15:54:54.405Z"
   },
   {
    "duration": 11,
    "start_time": "2023-07-05T15:54:55.226Z"
   },
   {
    "duration": 24,
    "start_time": "2023-07-05T15:54:55.238Z"
   },
   {
    "duration": 11,
    "start_time": "2023-07-05T15:54:55.263Z"
   },
   {
    "duration": 0,
    "start_time": "2023-07-05T15:54:55.276Z"
   },
   {
    "duration": 0,
    "start_time": "2023-07-05T15:54:55.299Z"
   },
   {
    "duration": 0,
    "start_time": "2023-07-05T15:54:55.300Z"
   },
   {
    "duration": 0,
    "start_time": "2023-07-05T15:54:55.301Z"
   },
   {
    "duration": 0,
    "start_time": "2023-07-05T15:54:55.302Z"
   },
   {
    "duration": 0,
    "start_time": "2023-07-05T15:54:55.303Z"
   },
   {
    "duration": 0,
    "start_time": "2023-07-05T15:54:55.303Z"
   },
   {
    "duration": 0,
    "start_time": "2023-07-05T15:54:55.304Z"
   },
   {
    "duration": 0,
    "start_time": "2023-07-05T15:54:55.305Z"
   },
   {
    "duration": 0,
    "start_time": "2023-07-05T15:54:55.306Z"
   },
   {
    "duration": 0,
    "start_time": "2023-07-05T15:54:55.307Z"
   },
   {
    "duration": 0,
    "start_time": "2023-07-05T15:54:55.307Z"
   },
   {
    "duration": 0,
    "start_time": "2023-07-05T15:54:55.308Z"
   },
   {
    "duration": 0,
    "start_time": "2023-07-05T15:54:55.309Z"
   },
   {
    "duration": 0,
    "start_time": "2023-07-05T15:54:55.310Z"
   },
   {
    "duration": 0,
    "start_time": "2023-07-05T15:54:55.311Z"
   },
   {
    "duration": 0,
    "start_time": "2023-07-05T15:54:55.312Z"
   },
   {
    "duration": 0,
    "start_time": "2023-07-05T15:54:55.312Z"
   },
   {
    "duration": 0,
    "start_time": "2023-07-05T15:54:55.313Z"
   },
   {
    "duration": 0,
    "start_time": "2023-07-05T15:54:55.314Z"
   },
   {
    "duration": 0,
    "start_time": "2023-07-05T15:54:55.315Z"
   },
   {
    "duration": 3,
    "start_time": "2023-07-05T15:55:01.811Z"
   },
   {
    "duration": 88,
    "start_time": "2023-07-05T15:55:03.383Z"
   },
   {
    "duration": 61,
    "start_time": "2023-07-05T15:55:03.825Z"
   },
   {
    "duration": 1917,
    "start_time": "2023-07-05T15:55:49.781Z"
   },
   {
    "duration": 1972,
    "start_time": "2023-07-05T15:55:51.700Z"
   },
   {
    "duration": 5,
    "start_time": "2023-07-05T15:55:53.675Z"
   },
   {
    "duration": 766,
    "start_time": "2023-07-05T15:55:53.682Z"
   },
   {
    "duration": 14,
    "start_time": "2023-07-05T15:55:54.449Z"
   },
   {
    "duration": 15,
    "start_time": "2023-07-05T15:55:54.465Z"
   },
   {
    "duration": 19,
    "start_time": "2023-07-05T15:55:54.482Z"
   },
   {
    "duration": 112,
    "start_time": "2023-07-05T15:55:54.502Z"
   },
   {
    "duration": 85,
    "start_time": "2023-07-05T15:55:54.615Z"
   },
   {
    "duration": 1102,
    "start_time": "2023-07-05T15:55:54.704Z"
   },
   {
    "duration": 61,
    "start_time": "2023-07-05T15:55:55.807Z"
   },
   {
    "duration": 34,
    "start_time": "2023-07-05T15:55:55.869Z"
   },
   {
    "duration": 32,
    "start_time": "2023-07-05T15:55:55.904Z"
   },
   {
    "duration": 31,
    "start_time": "2023-07-05T15:55:55.938Z"
   },
   {
    "duration": 39,
    "start_time": "2023-07-05T15:55:55.971Z"
   },
   {
    "duration": 199,
    "start_time": "2023-07-05T15:55:56.011Z"
   },
   {
    "duration": 231,
    "start_time": "2023-07-05T15:55:56.212Z"
   },
   {
    "duration": 205,
    "start_time": "2023-07-05T15:55:56.445Z"
   },
   {
    "duration": 254,
    "start_time": "2023-07-05T15:55:56.652Z"
   },
   {
    "duration": 19,
    "start_time": "2023-07-05T15:55:56.908Z"
   },
   {
    "duration": 4,
    "start_time": "2023-07-05T15:55:56.929Z"
   },
   {
    "duration": 28,
    "start_time": "2023-07-05T15:55:56.935Z"
   },
   {
    "duration": 178,
    "start_time": "2023-07-05T15:55:56.964Z"
   },
   {
    "duration": 17,
    "start_time": "2023-07-05T15:55:57.144Z"
   },
   {
    "duration": 76,
    "start_time": "2023-07-05T15:55:57.162Z"
   },
   {
    "duration": 84,
    "start_time": "2023-07-05T15:55:57.240Z"
   },
   {
    "duration": 177,
    "start_time": "2023-07-05T15:55:57.326Z"
   },
   {
    "duration": 26,
    "start_time": "2023-07-05T15:55:57.506Z"
   },
   {
    "duration": 8,
    "start_time": "2023-07-05T15:55:57.534Z"
   },
   {
    "duration": 7,
    "start_time": "2023-07-05T15:55:57.543Z"
   },
   {
    "duration": 8,
    "start_time": "2023-07-05T15:55:57.552Z"
   },
   {
    "duration": 52,
    "start_time": "2023-07-05T15:55:57.562Z"
   },
   {
    "duration": 148,
    "start_time": "2023-07-05T15:55:57.616Z"
   },
   {
    "duration": 16,
    "start_time": "2023-07-05T15:55:57.766Z"
   },
   {
    "duration": 61,
    "start_time": "2023-07-05T15:55:57.783Z"
   },
   {
    "duration": 10,
    "start_time": "2023-07-05T15:55:57.846Z"
   },
   {
    "duration": 748,
    "start_time": "2023-07-05T15:55:57.858Z"
   },
   {
    "duration": 11,
    "start_time": "2023-07-05T15:55:58.607Z"
   },
   {
    "duration": 27,
    "start_time": "2023-07-05T15:55:58.619Z"
   },
   {
    "duration": 60,
    "start_time": "2023-07-05T15:56:10.308Z"
   },
   {
    "duration": 4,
    "start_time": "2023-07-05T15:56:10.678Z"
   },
   {
    "duration": 4,
    "start_time": "2023-07-05T15:56:10.833Z"
   },
   {
    "duration": 2,
    "start_time": "2023-07-05T15:56:13.449Z"
   },
   {
    "duration": 3,
    "start_time": "2023-07-05T15:56:13.635Z"
   },
   {
    "duration": 40,
    "start_time": "2023-07-05T15:56:14.615Z"
   },
   {
    "duration": 17,
    "start_time": "2023-07-05T15:56:14.838Z"
   },
   {
    "duration": 33,
    "start_time": "2023-07-05T15:56:15.032Z"
   },
   {
    "duration": 387,
    "start_time": "2023-07-05T15:56:18.799Z"
   },
   {
    "duration": 112,
    "start_time": "2023-07-05T15:56:19.188Z"
   },
   {
    "duration": 247,
    "start_time": "2023-07-05T15:56:19.302Z"
   },
   {
    "duration": 2,
    "start_time": "2023-07-05T15:56:21.117Z"
   },
   {
    "duration": 3,
    "start_time": "2023-07-05T15:56:21.327Z"
   },
   {
    "duration": 296,
    "start_time": "2023-07-05T15:56:21.501Z"
   },
   {
    "duration": 181,
    "start_time": "2023-07-05T15:56:21.798Z"
   },
   {
    "duration": 111,
    "start_time": "2023-07-05T15:56:22.010Z"
   },
   {
    "duration": 2,
    "start_time": "2023-07-05T15:56:24.206Z"
   },
   {
    "duration": 213,
    "start_time": "2023-07-05T15:56:24.381Z"
   },
   {
    "duration": 4,
    "start_time": "2023-07-05T15:56:28.174Z"
   },
   {
    "duration": 318045,
    "start_time": "2023-07-05T15:56:29.212Z"
   },
   {
    "duration": 76,
    "start_time": "2023-07-05T16:01:47.258Z"
   },
   {
    "duration": 7,
    "start_time": "2023-07-05T16:01:47.335Z"
   },
   {
    "duration": 37,
    "start_time": "2023-07-05T16:02:35.442Z"
   },
   {
    "duration": 274,
    "start_time": "2023-07-05T16:02:51.592Z"
   },
   {
    "duration": 9426,
    "start_time": "2023-07-05T16:02:59.176Z"
   },
   {
    "duration": 723,
    "start_time": "2023-07-05T16:03:11.076Z"
   },
   {
    "duration": 6,
    "start_time": "2023-07-05T16:03:13.132Z"
   },
   {
    "duration": 12,
    "start_time": "2023-07-05T16:05:04.109Z"
   },
   {
    "duration": 1975,
    "start_time": "2023-07-05T16:05:13.588Z"
   },
   {
    "duration": 1977,
    "start_time": "2023-07-05T16:05:15.565Z"
   },
   {
    "duration": 4,
    "start_time": "2023-07-05T16:05:17.544Z"
   },
   {
    "duration": 725,
    "start_time": "2023-07-05T16:05:17.550Z"
   },
   {
    "duration": 13,
    "start_time": "2023-07-05T16:05:18.276Z"
   },
   {
    "duration": 10,
    "start_time": "2023-07-05T16:05:18.291Z"
   },
   {
    "duration": 14,
    "start_time": "2023-07-05T16:05:18.302Z"
   },
   {
    "duration": 124,
    "start_time": "2023-07-05T16:05:18.318Z"
   },
   {
    "duration": 89,
    "start_time": "2023-07-05T16:05:18.443Z"
   },
   {
    "duration": 907,
    "start_time": "2023-07-05T16:05:18.534Z"
   },
   {
    "duration": 68,
    "start_time": "2023-07-05T16:05:19.442Z"
   },
   {
    "duration": 24,
    "start_time": "2023-07-05T16:05:19.512Z"
   },
   {
    "duration": 62,
    "start_time": "2023-07-05T16:05:19.538Z"
   },
   {
    "duration": 9,
    "start_time": "2023-07-05T16:05:19.602Z"
   },
   {
    "duration": 1576,
    "start_time": "2023-07-05T16:06:01.501Z"
   },
   {
    "duration": 164,
    "start_time": "2023-07-05T16:11:36.706Z"
   },
   {
    "duration": 2009,
    "start_time": "2023-07-05T16:12:01.582Z"
   },
   {
    "duration": 1985,
    "start_time": "2023-07-05T16:12:03.593Z"
   },
   {
    "duration": 4,
    "start_time": "2023-07-05T16:12:05.580Z"
   },
   {
    "duration": 784,
    "start_time": "2023-07-05T16:12:05.586Z"
   },
   {
    "duration": 14,
    "start_time": "2023-07-05T16:12:06.371Z"
   },
   {
    "duration": 13,
    "start_time": "2023-07-05T16:12:06.387Z"
   },
   {
    "duration": 17,
    "start_time": "2023-07-05T16:12:06.402Z"
   },
   {
    "duration": 124,
    "start_time": "2023-07-05T16:12:06.421Z"
   },
   {
    "duration": 89,
    "start_time": "2023-07-05T16:12:06.547Z"
   },
   {
    "duration": 1112,
    "start_time": "2023-07-05T16:12:06.639Z"
   },
   {
    "duration": 62,
    "start_time": "2023-07-05T16:12:07.752Z"
   },
   {
    "duration": 23,
    "start_time": "2023-07-05T16:12:07.816Z"
   },
   {
    "duration": 42,
    "start_time": "2023-07-05T16:12:07.841Z"
   },
   {
    "duration": 25,
    "start_time": "2023-07-05T16:12:07.899Z"
   },
   {
    "duration": 20,
    "start_time": "2023-07-05T16:12:07.926Z"
   },
   {
    "duration": 184,
    "start_time": "2023-07-05T16:12:07.947Z"
   },
   {
    "duration": 210,
    "start_time": "2023-07-05T16:12:08.133Z"
   },
   {
    "duration": 261,
    "start_time": "2023-07-05T16:12:08.345Z"
   },
   {
    "duration": 19,
    "start_time": "2023-07-05T16:12:08.607Z"
   },
   {
    "duration": 3,
    "start_time": "2023-07-05T16:12:08.628Z"
   },
   {
    "duration": 30,
    "start_time": "2023-07-05T16:12:08.633Z"
   },
   {
    "duration": 168,
    "start_time": "2023-07-05T16:12:08.664Z"
   },
   {
    "duration": 18,
    "start_time": "2023-07-05T16:12:08.833Z"
   },
   {
    "duration": 78,
    "start_time": "2023-07-05T16:12:08.853Z"
   },
   {
    "duration": 113,
    "start_time": "2023-07-05T16:12:08.932Z"
   },
   {
    "duration": 163,
    "start_time": "2023-07-05T16:12:09.046Z"
   },
   {
    "duration": 25,
    "start_time": "2023-07-05T16:12:09.210Z"
   },
   {
    "duration": 8,
    "start_time": "2023-07-05T16:12:09.238Z"
   },
   {
    "duration": 12,
    "start_time": "2023-07-05T16:12:09.248Z"
   },
   {
    "duration": 9,
    "start_time": "2023-07-05T16:12:09.262Z"
   },
   {
    "duration": 37,
    "start_time": "2023-07-05T16:12:09.273Z"
   },
   {
    "duration": 164,
    "start_time": "2023-07-05T16:12:09.311Z"
   },
   {
    "duration": 27,
    "start_time": "2023-07-05T16:12:09.477Z"
   },
   {
    "duration": 28,
    "start_time": "2023-07-05T16:12:09.505Z"
   },
   {
    "duration": 9,
    "start_time": "2023-07-05T16:12:09.535Z"
   },
   {
    "duration": 755,
    "start_time": "2023-07-05T16:12:09.545Z"
   },
   {
    "duration": 10,
    "start_time": "2023-07-05T16:12:10.301Z"
   },
   {
    "duration": 27,
    "start_time": "2023-07-05T16:12:10.312Z"
   },
   {
    "duration": 250,
    "start_time": "2023-07-05T16:12:10.340Z"
   },
   {
    "duration": 10,
    "start_time": "2023-07-05T16:12:10.592Z"
   },
   {
    "duration": 23,
    "start_time": "2023-07-05T16:12:10.604Z"
   },
   {
    "duration": 3,
    "start_time": "2023-07-05T16:12:10.629Z"
   },
   {
    "duration": 84,
    "start_time": "2023-07-05T16:12:10.634Z"
   },
   {
    "duration": 4,
    "start_time": "2023-07-05T16:12:10.719Z"
   },
   {
    "duration": 7,
    "start_time": "2023-07-05T16:12:10.725Z"
   },
   {
    "duration": 5,
    "start_time": "2023-07-05T16:12:10.733Z"
   },
   {
    "duration": 11,
    "start_time": "2023-07-05T16:12:10.739Z"
   },
   {
    "duration": 32,
    "start_time": "2023-07-05T16:12:10.751Z"
   },
   {
    "duration": 28,
    "start_time": "2023-07-05T16:12:10.785Z"
   },
   {
    "duration": 30,
    "start_time": "2023-07-05T16:12:10.814Z"
   },
   {
    "duration": 413,
    "start_time": "2023-07-05T16:12:10.846Z"
   },
   {
    "duration": 104,
    "start_time": "2023-07-05T16:12:11.261Z"
   },
   {
    "duration": 265,
    "start_time": "2023-07-05T16:12:11.367Z"
   },
   {
    "duration": 3,
    "start_time": "2023-07-05T16:12:11.633Z"
   },
   {
    "duration": 8,
    "start_time": "2023-07-05T16:12:11.637Z"
   },
   {
    "duration": 313,
    "start_time": "2023-07-05T16:12:11.647Z"
   },
   {
    "duration": 198,
    "start_time": "2023-07-05T16:12:11.962Z"
   },
   {
    "duration": 103,
    "start_time": "2023-07-05T16:12:12.162Z"
   },
   {
    "duration": 2,
    "start_time": "2023-07-05T16:12:12.266Z"
   },
   {
    "duration": 223,
    "start_time": "2023-07-05T16:12:12.270Z"
   },
   {
    "duration": 4,
    "start_time": "2023-07-05T16:12:20.200Z"
   },
   {
    "duration": 37532,
    "start_time": "2023-07-05T16:12:21.054Z"
   },
   {
    "duration": 3,
    "start_time": "2023-07-05T16:13:03.792Z"
   },
   {
    "duration": 1943,
    "start_time": "2023-07-05T16:13:30.301Z"
   },
   {
    "duration": 1892,
    "start_time": "2023-07-05T16:13:32.247Z"
   },
   {
    "duration": 1330,
    "start_time": "2023-07-05T16:13:34.141Z"
   },
   {
    "duration": 798,
    "start_time": "2023-07-05T16:13:35.474Z"
   },
   {
    "duration": 18,
    "start_time": "2023-07-05T16:13:36.273Z"
   },
   {
    "duration": 12,
    "start_time": "2023-07-05T16:13:36.292Z"
   },
   {
    "duration": 45,
    "start_time": "2023-07-05T16:13:36.305Z"
   },
   {
    "duration": 111,
    "start_time": "2023-07-05T16:13:36.352Z"
   },
   {
    "duration": 85,
    "start_time": "2023-07-05T16:13:36.464Z"
   },
   {
    "duration": 964,
    "start_time": "2023-07-05T16:13:36.551Z"
   },
   {
    "duration": 71,
    "start_time": "2023-07-05T16:13:37.517Z"
   },
   {
    "duration": 37,
    "start_time": "2023-07-05T16:13:37.599Z"
   },
   {
    "duration": 64,
    "start_time": "2023-07-05T16:13:37.637Z"
   },
   {
    "duration": 26,
    "start_time": "2023-07-05T16:13:37.703Z"
   },
   {
    "duration": 20,
    "start_time": "2023-07-05T16:13:37.730Z"
   },
   {
    "duration": 183,
    "start_time": "2023-07-05T16:13:37.751Z"
   },
   {
    "duration": 206,
    "start_time": "2023-07-05T16:13:37.936Z"
   },
   {
    "duration": 256,
    "start_time": "2023-07-05T16:13:38.144Z"
   },
   {
    "duration": 18,
    "start_time": "2023-07-05T16:13:38.402Z"
   },
   {
    "duration": 3,
    "start_time": "2023-07-05T16:13:38.422Z"
   },
   {
    "duration": 33,
    "start_time": "2023-07-05T16:13:38.426Z"
   },
   {
    "duration": 159,
    "start_time": "2023-07-05T16:13:38.460Z"
   },
   {
    "duration": 17,
    "start_time": "2023-07-05T16:13:38.621Z"
   },
   {
    "duration": 78,
    "start_time": "2023-07-05T16:13:38.639Z"
   },
   {
    "duration": 83,
    "start_time": "2023-07-05T16:13:38.718Z"
   },
   {
    "duration": 170,
    "start_time": "2023-07-05T16:13:38.803Z"
   },
   {
    "duration": 66,
    "start_time": "2023-07-05T16:13:38.975Z"
   },
   {
    "duration": 8,
    "start_time": "2023-07-05T16:13:39.046Z"
   },
   {
    "duration": 8,
    "start_time": "2023-07-05T16:13:39.056Z"
   },
   {
    "duration": 22,
    "start_time": "2023-07-05T16:13:39.066Z"
   },
   {
    "duration": 21,
    "start_time": "2023-07-05T16:13:39.100Z"
   },
   {
    "duration": 159,
    "start_time": "2023-07-05T16:13:39.123Z"
   },
   {
    "duration": 22,
    "start_time": "2023-07-05T16:13:39.284Z"
   },
   {
    "duration": 28,
    "start_time": "2023-07-05T16:13:39.307Z"
   },
   {
    "duration": 10,
    "start_time": "2023-07-05T16:13:39.336Z"
   },
   {
    "duration": 829,
    "start_time": "2023-07-05T16:13:39.347Z"
   },
   {
    "duration": 10,
    "start_time": "2023-07-05T16:13:40.178Z"
   },
   {
    "duration": 61,
    "start_time": "2023-07-05T16:13:40.189Z"
   },
   {
    "duration": 214,
    "start_time": "2023-07-05T16:13:40.251Z"
   },
   {
    "duration": 9,
    "start_time": "2023-07-05T16:13:40.466Z"
   },
   {
    "duration": 35,
    "start_time": "2023-07-05T16:13:40.477Z"
   },
   {
    "duration": 4,
    "start_time": "2023-07-05T16:13:40.513Z"
   },
   {
    "duration": 59,
    "start_time": "2023-07-05T16:13:40.519Z"
   },
   {
    "duration": 5,
    "start_time": "2023-07-05T16:13:40.579Z"
   },
   {
    "duration": 17,
    "start_time": "2023-07-05T16:13:40.585Z"
   },
   {
    "duration": 20,
    "start_time": "2023-07-05T16:13:40.603Z"
   },
   {
    "duration": 6,
    "start_time": "2023-07-05T16:13:40.624Z"
   },
   {
    "duration": 40,
    "start_time": "2023-07-05T16:13:40.632Z"
   },
   {
    "duration": 15,
    "start_time": "2023-07-05T16:13:40.674Z"
   },
   {
    "duration": 74,
    "start_time": "2023-07-05T16:13:40.691Z"
   },
   {
    "duration": 392,
    "start_time": "2023-07-05T16:13:40.766Z"
   },
   {
    "duration": 102,
    "start_time": "2023-07-05T16:13:41.159Z"
   },
   {
    "duration": 79,
    "start_time": "2023-07-05T16:13:41.262Z"
   },
   {
    "duration": 2,
    "start_time": "2023-07-05T16:13:41.342Z"
   },
   {
    "duration": 16,
    "start_time": "2023-07-05T16:13:41.346Z"
   },
   {
    "duration": 295,
    "start_time": "2023-07-05T16:13:41.364Z"
   },
   {
    "duration": 180,
    "start_time": "2023-07-05T16:13:41.661Z"
   },
   {
    "duration": 131,
    "start_time": "2023-07-05T16:13:41.843Z"
   },
   {
    "duration": 3,
    "start_time": "2023-07-05T16:13:41.975Z"
   },
   {
    "duration": 226,
    "start_time": "2023-07-05T16:13:41.979Z"
   },
   {
    "duration": 3,
    "start_time": "2023-07-05T16:13:55.574Z"
   },
   {
    "duration": 251162,
    "start_time": "2023-07-05T16:13:57.382Z"
   },
   {
    "duration": 22113,
    "start_time": "2023-07-05T16:18:14.619Z"
   },
   {
    "duration": 3,
    "start_time": "2023-07-05T16:18:42.433Z"
   },
   {
    "duration": 74,
    "start_time": "2023-07-05T16:18:44.299Z"
   },
   {
    "duration": 36525,
    "start_time": "2023-07-05T16:18:48.311Z"
   },
   {
    "duration": 2224,
    "start_time": "2023-07-05T16:22:01.503Z"
   },
   {
    "duration": 1946,
    "start_time": "2023-07-05T16:22:03.729Z"
   },
   {
    "duration": 4,
    "start_time": "2023-07-05T16:22:05.677Z"
   },
   {
    "duration": 786,
    "start_time": "2023-07-05T16:22:05.682Z"
   },
   {
    "duration": 13,
    "start_time": "2023-07-05T16:22:06.471Z"
   },
   {
    "duration": 18,
    "start_time": "2023-07-05T16:22:06.485Z"
   },
   {
    "duration": 15,
    "start_time": "2023-07-05T16:22:06.504Z"
   },
   {
    "duration": 118,
    "start_time": "2023-07-05T16:22:06.521Z"
   },
   {
    "duration": 93,
    "start_time": "2023-07-05T16:22:06.641Z"
   },
   {
    "duration": 1105,
    "start_time": "2023-07-05T16:22:06.736Z"
   },
   {
    "duration": 72,
    "start_time": "2023-07-05T16:22:07.843Z"
   },
   {
    "duration": 26,
    "start_time": "2023-07-05T16:22:07.917Z"
   },
   {
    "duration": 60,
    "start_time": "2023-07-05T16:22:07.945Z"
   },
   {
    "duration": 28,
    "start_time": "2023-07-05T16:22:08.008Z"
   },
   {
    "duration": 22,
    "start_time": "2023-07-05T16:22:08.037Z"
   },
   {
    "duration": 214,
    "start_time": "2023-07-05T16:22:08.060Z"
   },
   {
    "duration": 216,
    "start_time": "2023-07-05T16:22:08.276Z"
   },
   {
    "duration": 275,
    "start_time": "2023-07-05T16:22:08.502Z"
   },
   {
    "duration": 30,
    "start_time": "2023-07-05T16:22:08.779Z"
   },
   {
    "duration": 4,
    "start_time": "2023-07-05T16:22:08.811Z"
   },
   {
    "duration": 34,
    "start_time": "2023-07-05T16:22:08.816Z"
   },
   {
    "duration": 175,
    "start_time": "2023-07-05T16:22:08.852Z"
   },
   {
    "duration": 18,
    "start_time": "2023-07-05T16:22:09.029Z"
   },
   {
    "duration": 81,
    "start_time": "2023-07-05T16:22:09.048Z"
   },
   {
    "duration": 94,
    "start_time": "2023-07-05T16:22:09.130Z"
   },
   {
    "duration": 177,
    "start_time": "2023-07-05T16:22:09.226Z"
   },
   {
    "duration": 28,
    "start_time": "2023-07-05T16:22:09.404Z"
   },
   {
    "duration": 9,
    "start_time": "2023-07-05T16:22:09.434Z"
   },
   {
    "duration": 7,
    "start_time": "2023-07-05T16:22:09.444Z"
   },
   {
    "duration": 8,
    "start_time": "2023-07-05T16:22:09.452Z"
   },
   {
    "duration": 60,
    "start_time": "2023-07-05T16:22:09.461Z"
   },
   {
    "duration": 180,
    "start_time": "2023-07-05T16:22:09.523Z"
   },
   {
    "duration": 16,
    "start_time": "2023-07-05T16:22:09.704Z"
   },
   {
    "duration": 42,
    "start_time": "2023-07-05T16:22:09.722Z"
   },
   {
    "duration": 10,
    "start_time": "2023-07-05T16:22:09.765Z"
   },
   {
    "duration": 936,
    "start_time": "2023-07-05T16:22:09.777Z"
   },
   {
    "duration": 12,
    "start_time": "2023-07-05T16:22:10.714Z"
   },
   {
    "duration": 27,
    "start_time": "2023-07-05T16:22:10.727Z"
   },
   {
    "duration": 261,
    "start_time": "2023-07-05T16:22:10.756Z"
   },
   {
    "duration": 10,
    "start_time": "2023-07-05T16:22:11.019Z"
   },
   {
    "duration": 23,
    "start_time": "2023-07-05T16:22:11.032Z"
   },
   {
    "duration": 4,
    "start_time": "2023-07-05T16:22:11.056Z"
   },
   {
    "duration": 87,
    "start_time": "2023-07-05T16:22:11.062Z"
   },
   {
    "duration": 3,
    "start_time": "2023-07-05T16:22:11.151Z"
   },
   {
    "duration": 11,
    "start_time": "2023-07-05T16:22:11.156Z"
   },
   {
    "duration": 5,
    "start_time": "2023-07-05T16:22:11.168Z"
   },
   {
    "duration": 10,
    "start_time": "2023-07-05T16:22:11.174Z"
   },
   {
    "duration": 39,
    "start_time": "2023-07-05T16:22:11.200Z"
   },
   {
    "duration": 23,
    "start_time": "2023-07-05T16:22:11.241Z"
   },
   {
    "duration": 57,
    "start_time": "2023-07-05T16:22:11.266Z"
   },
   {
    "duration": 420,
    "start_time": "2023-07-05T16:22:11.324Z"
   },
   {
    "duration": 122,
    "start_time": "2023-07-05T16:22:11.746Z"
   },
   {
    "duration": 87,
    "start_time": "2023-07-05T16:22:11.870Z"
   },
   {
    "duration": 3,
    "start_time": "2023-07-05T16:22:11.959Z"
   },
   {
    "duration": 10,
    "start_time": "2023-07-05T16:22:11.964Z"
   },
   {
    "duration": 343,
    "start_time": "2023-07-05T16:22:11.976Z"
   },
   {
    "duration": 181,
    "start_time": "2023-07-05T16:22:12.321Z"
   },
   {
    "duration": 114,
    "start_time": "2023-07-05T16:22:12.504Z"
   },
   {
    "duration": 3,
    "start_time": "2023-07-05T16:22:12.619Z"
   },
   {
    "duration": 235,
    "start_time": "2023-07-05T16:22:12.623Z"
   },
   {
    "duration": 3,
    "start_time": "2023-07-05T16:22:18.897Z"
   },
   {
    "duration": 7999,
    "start_time": "2023-07-05T16:26:04.808Z"
   },
   {
    "duration": 2188,
    "start_time": "2023-07-05T16:28:26.253Z"
   },
   {
    "duration": 2021,
    "start_time": "2023-07-05T16:28:28.443Z"
   },
   {
    "duration": 4,
    "start_time": "2023-07-05T16:28:30.465Z"
   },
   {
    "duration": 885,
    "start_time": "2023-07-05T16:28:30.471Z"
   },
   {
    "duration": 14,
    "start_time": "2023-07-05T16:28:31.358Z"
   },
   {
    "duration": 91,
    "start_time": "2023-07-05T16:28:31.373Z"
   },
   {
    "duration": 129,
    "start_time": "2023-07-05T16:28:31.465Z"
   },
   {
    "duration": 116,
    "start_time": "2023-07-05T16:28:31.595Z"
   },
   {
    "duration": 82,
    "start_time": "2023-07-05T16:28:31.712Z"
   },
   {
    "duration": 1050,
    "start_time": "2023-07-05T16:28:31.801Z"
   },
   {
    "duration": 62,
    "start_time": "2023-07-05T16:28:32.852Z"
   },
   {
    "duration": 24,
    "start_time": "2023-07-05T16:28:32.916Z"
   },
   {
    "duration": 42,
    "start_time": "2023-07-05T16:28:32.941Z"
   },
   {
    "duration": 52,
    "start_time": "2023-07-05T16:28:32.984Z"
   },
   {
    "duration": 167,
    "start_time": "2023-07-05T16:28:33.038Z"
   },
   {
    "duration": 204,
    "start_time": "2023-07-05T16:28:33.206Z"
   },
   {
    "duration": 256,
    "start_time": "2023-07-05T16:28:33.412Z"
   },
   {
    "duration": 20,
    "start_time": "2023-07-05T16:28:33.670Z"
   },
   {
    "duration": 6,
    "start_time": "2023-07-05T16:28:33.700Z"
   },
   {
    "duration": 43,
    "start_time": "2023-07-05T16:28:33.707Z"
   },
   {
    "duration": 155,
    "start_time": "2023-07-05T16:28:33.751Z"
   },
   {
    "duration": 15,
    "start_time": "2023-07-05T16:28:33.908Z"
   },
   {
    "duration": 77,
    "start_time": "2023-07-05T16:28:33.924Z"
   },
   {
    "duration": 74,
    "start_time": "2023-07-05T16:28:34.002Z"
   },
   {
    "duration": 168,
    "start_time": "2023-07-05T16:28:34.077Z"
   },
   {
    "duration": 25,
    "start_time": "2023-07-05T16:28:34.247Z"
   },
   {
    "duration": 8,
    "start_time": "2023-07-05T16:28:34.274Z"
   },
   {
    "duration": 8,
    "start_time": "2023-07-05T16:28:34.301Z"
   },
   {
    "duration": 12,
    "start_time": "2023-07-05T16:28:34.310Z"
   },
   {
    "duration": 27,
    "start_time": "2023-07-05T16:28:34.324Z"
   },
   {
    "duration": 175,
    "start_time": "2023-07-05T16:28:34.353Z"
   },
   {
    "duration": 15,
    "start_time": "2023-07-05T16:28:34.530Z"
   },
   {
    "duration": 29,
    "start_time": "2023-07-05T16:28:34.547Z"
   },
   {
    "duration": 29,
    "start_time": "2023-07-05T16:28:34.577Z"
   },
   {
    "duration": 1081,
    "start_time": "2023-07-05T16:28:34.607Z"
   },
   {
    "duration": 16,
    "start_time": "2023-07-05T16:28:35.690Z"
   },
   {
    "duration": 69,
    "start_time": "2023-07-05T16:28:35.707Z"
   },
   {
    "duration": 235,
    "start_time": "2023-07-05T16:28:35.777Z"
   },
   {
    "duration": 12,
    "start_time": "2023-07-05T16:28:36.014Z"
   },
   {
    "duration": 46,
    "start_time": "2023-07-05T16:28:36.028Z"
   },
   {
    "duration": 14,
    "start_time": "2023-07-05T16:28:36.076Z"
   },
   {
    "duration": 90,
    "start_time": "2023-07-05T16:28:36.092Z"
   },
   {
    "duration": 4,
    "start_time": "2023-07-05T16:28:36.184Z"
   },
   {
    "duration": 17,
    "start_time": "2023-07-05T16:28:36.190Z"
   },
   {
    "duration": 11,
    "start_time": "2023-07-05T16:28:36.208Z"
   },
   {
    "duration": 15,
    "start_time": "2023-07-05T16:28:36.221Z"
   },
   {
    "duration": 49,
    "start_time": "2023-07-05T16:28:36.239Z"
   },
   {
    "duration": 15,
    "start_time": "2023-07-05T16:28:36.289Z"
   },
   {
    "duration": 32,
    "start_time": "2023-07-05T16:28:36.306Z"
   },
   {
    "duration": 391,
    "start_time": "2023-07-05T16:28:36.339Z"
   },
   {
    "duration": 106,
    "start_time": "2023-07-05T16:28:36.732Z"
   },
   {
    "duration": 81,
    "start_time": "2023-07-05T16:28:36.839Z"
   },
   {
    "duration": 3,
    "start_time": "2023-07-05T16:28:36.921Z"
   },
   {
    "duration": 6,
    "start_time": "2023-07-05T16:28:36.925Z"
   },
   {
    "duration": 308,
    "start_time": "2023-07-05T16:28:36.932Z"
   },
   {
    "duration": 175,
    "start_time": "2023-07-05T16:28:37.241Z"
   },
   {
    "duration": 128,
    "start_time": "2023-07-05T16:28:37.418Z"
   },
   {
    "duration": 3,
    "start_time": "2023-07-05T16:29:03.831Z"
   },
   {
    "duration": 9453,
    "start_time": "2023-07-05T16:29:05.655Z"
   },
   {
    "duration": 820,
    "start_time": "2023-07-05T16:29:19.086Z"
   },
   {
    "duration": 5,
    "start_time": "2023-07-05T16:29:20.234Z"
   },
   {
    "duration": 2199,
    "start_time": "2023-07-05T16:30:11.105Z"
   },
   {
    "duration": 2010,
    "start_time": "2023-07-05T16:30:13.306Z"
   },
   {
    "duration": 1409,
    "start_time": "2023-07-05T16:30:15.317Z"
   },
   {
    "duration": 853,
    "start_time": "2023-07-05T16:30:16.728Z"
   },
   {
    "duration": 19,
    "start_time": "2023-07-05T16:30:17.583Z"
   },
   {
    "duration": 5,
    "start_time": "2023-07-05T16:30:17.603Z"
   },
   {
    "duration": 18,
    "start_time": "2023-07-05T16:30:17.610Z"
   },
   {
    "duration": 143,
    "start_time": "2023-07-05T16:30:17.629Z"
   },
   {
    "duration": 97,
    "start_time": "2023-07-05T16:30:17.773Z"
   },
   {
    "duration": 1070,
    "start_time": "2023-07-05T16:30:17.871Z"
   },
   {
    "duration": 84,
    "start_time": "2023-07-05T16:30:18.943Z"
   },
   {
    "duration": 31,
    "start_time": "2023-07-05T16:30:19.029Z"
   },
   {
    "duration": 53,
    "start_time": "2023-07-05T16:30:19.061Z"
   },
   {
    "duration": 27,
    "start_time": "2023-07-05T16:30:19.117Z"
   },
   {
    "duration": 203,
    "start_time": "2023-07-05T16:30:19.146Z"
   },
   {
    "duration": 233,
    "start_time": "2023-07-05T16:30:19.350Z"
   },
   {
    "duration": 276,
    "start_time": "2023-07-05T16:30:19.585Z"
   },
   {
    "duration": 23,
    "start_time": "2023-07-05T16:30:19.863Z"
   },
   {
    "duration": 14,
    "start_time": "2023-07-05T16:30:19.888Z"
   },
   {
    "duration": 36,
    "start_time": "2023-07-05T16:30:19.903Z"
   },
   {
    "duration": 174,
    "start_time": "2023-07-05T16:30:19.940Z"
   },
   {
    "duration": 18,
    "start_time": "2023-07-05T16:30:20.115Z"
   },
   {
    "duration": 86,
    "start_time": "2023-07-05T16:30:20.134Z"
   },
   {
    "duration": 97,
    "start_time": "2023-07-05T16:30:20.221Z"
   },
   {
    "duration": 171,
    "start_time": "2023-07-05T16:30:20.320Z"
   },
   {
    "duration": 46,
    "start_time": "2023-07-05T16:30:20.493Z"
   },
   {
    "duration": 9,
    "start_time": "2023-07-05T16:30:20.540Z"
   },
   {
    "duration": 16,
    "start_time": "2023-07-05T16:30:20.551Z"
   },
   {
    "duration": 30,
    "start_time": "2023-07-05T16:30:20.568Z"
   },
   {
    "duration": 23,
    "start_time": "2023-07-05T16:30:20.599Z"
   },
   {
    "duration": 169,
    "start_time": "2023-07-05T16:30:20.624Z"
   },
   {
    "duration": 17,
    "start_time": "2023-07-05T16:30:20.795Z"
   },
   {
    "duration": 39,
    "start_time": "2023-07-05T16:30:20.813Z"
   },
   {
    "duration": 15,
    "start_time": "2023-07-05T16:30:20.853Z"
   },
   {
    "duration": 965,
    "start_time": "2023-07-05T16:30:20.869Z"
   },
   {
    "duration": 10,
    "start_time": "2023-07-05T16:30:21.835Z"
   },
   {
    "duration": 28,
    "start_time": "2023-07-05T16:30:21.847Z"
   },
   {
    "duration": 230,
    "start_time": "2023-07-05T16:30:21.876Z"
   },
   {
    "duration": 9,
    "start_time": "2023-07-05T16:30:22.107Z"
   },
   {
    "duration": 21,
    "start_time": "2023-07-05T16:30:22.117Z"
   },
   {
    "duration": 3,
    "start_time": "2023-07-05T16:30:22.142Z"
   },
   {
    "duration": 88,
    "start_time": "2023-07-05T16:30:22.146Z"
   },
   {
    "duration": 3,
    "start_time": "2023-07-05T16:30:22.236Z"
   },
   {
    "duration": 13,
    "start_time": "2023-07-05T16:30:22.240Z"
   },
   {
    "duration": 4,
    "start_time": "2023-07-05T16:30:22.254Z"
   },
   {
    "duration": 7,
    "start_time": "2023-07-05T16:30:22.260Z"
   },
   {
    "duration": 39,
    "start_time": "2023-07-05T16:30:22.268Z"
   },
   {
    "duration": 15,
    "start_time": "2023-07-05T16:30:22.309Z"
   },
   {
    "duration": 34,
    "start_time": "2023-07-05T16:30:22.325Z"
   },
   {
    "duration": 423,
    "start_time": "2023-07-05T16:30:22.361Z"
   },
   {
    "duration": 114,
    "start_time": "2023-07-05T16:30:22.785Z"
   },
   {
    "duration": 69,
    "start_time": "2023-07-05T16:30:22.901Z"
   },
   {
    "duration": 3,
    "start_time": "2023-07-05T16:30:22.972Z"
   },
   {
    "duration": 10,
    "start_time": "2023-07-05T16:30:22.977Z"
   },
   {
    "duration": 300,
    "start_time": "2023-07-05T16:30:23.000Z"
   },
   {
    "duration": 178,
    "start_time": "2023-07-05T16:30:23.302Z"
   },
   {
    "duration": 130,
    "start_time": "2023-07-05T16:30:23.481Z"
   },
   {
    "duration": 3,
    "start_time": "2023-07-05T16:30:23.613Z"
   },
   {
    "duration": 240,
    "start_time": "2023-07-05T16:30:23.617Z"
   },
   {
    "duration": 3,
    "start_time": "2023-07-05T16:30:23.859Z"
   },
   {
    "duration": 5,
    "start_time": "2023-07-05T16:30:23.864Z"
   },
   {
    "duration": 3,
    "start_time": "2023-07-05T16:30:23.871Z"
   },
   {
    "duration": 968833,
    "start_time": "2023-07-05T16:30:23.876Z"
   },
   {
    "duration": 4,
    "start_time": "2023-07-05T16:46:32.710Z"
   },
   {
    "duration": 85,
    "start_time": "2023-07-05T16:46:32.715Z"
   },
   {
    "duration": 13,
    "start_time": "2023-07-05T16:46:32.802Z"
   },
   {
    "duration": 7086,
    "start_time": "2023-07-05T16:46:32.817Z"
   },
   {
    "duration": 796,
    "start_time": "2023-07-05T16:46:39.904Z"
   },
   {
    "duration": 4,
    "start_time": "2023-07-05T16:46:40.703Z"
   },
   {
    "duration": 24,
    "start_time": "2023-07-05T16:46:40.708Z"
   },
   {
    "duration": 33,
    "start_time": "2023-07-05T16:46:40.733Z"
   },
   {
    "duration": 20,
    "start_time": "2023-07-05T16:46:40.767Z"
   },
   {
    "duration": 10766,
    "start_time": "2023-07-05T16:46:40.788Z"
   },
   {
    "duration": 156,
    "start_time": "2023-07-05T16:46:51.556Z"
   },
   {
    "duration": 6,
    "start_time": "2023-07-05T16:46:51.714Z"
   },
   {
    "duration": 49,
    "start_time": "2023-07-05T18:44:27.309Z"
   },
   {
    "duration": 2993,
    "start_time": "2023-07-05T18:44:30.243Z"
   },
   {
    "duration": 3507,
    "start_time": "2023-07-05T18:44:33.238Z"
   },
   {
    "duration": 1930,
    "start_time": "2023-07-05T18:44:36.748Z"
   },
   {
    "duration": 3524,
    "start_time": "2023-07-05T18:44:38.680Z"
   },
   {
    "duration": 23,
    "start_time": "2023-07-05T18:44:42.208Z"
   },
   {
    "duration": 13,
    "start_time": "2023-07-05T18:44:42.233Z"
   },
   {
    "duration": 29,
    "start_time": "2023-07-05T18:44:42.248Z"
   },
   {
    "duration": 151,
    "start_time": "2023-07-05T18:44:42.281Z"
   },
   {
    "duration": 111,
    "start_time": "2023-07-05T18:44:42.434Z"
   },
   {
    "duration": 1430,
    "start_time": "2023-07-05T18:44:42.547Z"
   },
   {
    "duration": 104,
    "start_time": "2023-07-05T18:44:43.979Z"
   },
   {
    "duration": 41,
    "start_time": "2023-07-05T18:44:44.085Z"
   },
   {
    "duration": 70,
    "start_time": "2023-07-05T18:44:44.129Z"
   },
   {
    "duration": 35,
    "start_time": "2023-07-05T18:44:44.203Z"
   },
   {
    "duration": 335,
    "start_time": "2023-07-05T18:44:44.240Z"
   },
   {
    "duration": 278,
    "start_time": "2023-07-05T18:44:44.577Z"
   },
   {
    "duration": 360,
    "start_time": "2023-07-05T18:44:44.857Z"
   },
   {
    "duration": 25,
    "start_time": "2023-07-05T18:44:45.219Z"
   },
   {
    "duration": 21,
    "start_time": "2023-07-05T18:44:45.246Z"
   },
   {
    "duration": 48,
    "start_time": "2023-07-05T18:44:45.269Z"
   },
   {
    "duration": 208,
    "start_time": "2023-07-05T18:44:45.319Z"
   },
   {
    "duration": 20,
    "start_time": "2023-07-05T18:44:45.530Z"
   },
   {
    "duration": 105,
    "start_time": "2023-07-05T18:44:45.560Z"
   },
   {
    "duration": 130,
    "start_time": "2023-07-05T18:44:45.667Z"
   },
   {
    "duration": 239,
    "start_time": "2023-07-05T18:44:45.799Z"
   },
   {
    "duration": 60,
    "start_time": "2023-07-05T18:44:46.040Z"
   },
   {
    "duration": 16,
    "start_time": "2023-07-05T18:44:46.102Z"
   },
   {
    "duration": 14,
    "start_time": "2023-07-05T18:44:46.120Z"
   },
   {
    "duration": 17,
    "start_time": "2023-07-05T18:44:46.158Z"
   },
   {
    "duration": 33,
    "start_time": "2023-07-05T18:44:46.177Z"
   },
   {
    "duration": 216,
    "start_time": "2023-07-05T18:44:46.211Z"
   },
   {
    "duration": 46,
    "start_time": "2023-07-05T18:44:46.429Z"
   },
   {
    "duration": 32,
    "start_time": "2023-07-05T18:44:46.478Z"
   },
   {
    "duration": 13,
    "start_time": "2023-07-05T18:44:46.512Z"
   },
   {
    "duration": 1481,
    "start_time": "2023-07-05T18:44:46.527Z"
   },
   {
    "duration": 13,
    "start_time": "2023-07-05T18:44:48.010Z"
   },
   {
    "duration": 60,
    "start_time": "2023-07-05T18:44:48.025Z"
   },
   {
    "duration": 319,
    "start_time": "2023-07-05T18:44:48.093Z"
   },
   {
    "duration": 22,
    "start_time": "2023-07-05T18:44:49.988Z"
   },
   {
    "duration": 34,
    "start_time": "2023-07-05T18:44:59.288Z"
   },
   {
    "duration": 43,
    "start_time": "2023-07-05T18:45:23.944Z"
   },
   {
    "duration": 2684,
    "start_time": "2023-07-05T18:57:52.636Z"
   },
   {
    "duration": 2467,
    "start_time": "2023-07-05T18:57:55.323Z"
   },
   {
    "duration": 5,
    "start_time": "2023-07-05T18:57:57.794Z"
   },
   {
    "duration": 908,
    "start_time": "2023-07-05T18:57:57.801Z"
   },
   {
    "duration": 17,
    "start_time": "2023-07-05T18:57:58.711Z"
   },
   {
    "duration": 11,
    "start_time": "2023-07-05T18:57:58.729Z"
   },
   {
    "duration": 42,
    "start_time": "2023-07-05T18:57:58.743Z"
   },
   {
    "duration": 139,
    "start_time": "2023-07-05T18:57:58.792Z"
   },
   {
    "duration": 114,
    "start_time": "2023-07-05T18:57:58.933Z"
   },
   {
    "duration": 1524,
    "start_time": "2023-07-05T18:57:59.050Z"
   },
   {
    "duration": 77,
    "start_time": "2023-07-05T18:58:00.580Z"
   },
   {
    "duration": 33,
    "start_time": "2023-07-05T18:58:00.659Z"
   },
   {
    "duration": 102,
    "start_time": "2023-07-05T18:58:00.694Z"
   },
   {
    "duration": 35,
    "start_time": "2023-07-05T18:58:00.798Z"
   },
   {
    "duration": 293,
    "start_time": "2023-07-05T18:58:00.835Z"
   },
   {
    "duration": 287,
    "start_time": "2023-07-05T18:58:01.130Z"
   },
   {
    "duration": 372,
    "start_time": "2023-07-05T18:58:01.420Z"
   },
   {
    "duration": 23,
    "start_time": "2023-07-05T18:58:01.794Z"
   },
   {
    "duration": 11,
    "start_time": "2023-07-05T18:58:01.819Z"
   },
   {
    "duration": 68,
    "start_time": "2023-07-05T18:58:01.832Z"
   },
   {
    "duration": 250,
    "start_time": "2023-07-05T18:58:01.902Z"
   },
   {
    "duration": 36,
    "start_time": "2023-07-05T18:58:02.155Z"
   },
   {
    "duration": 90,
    "start_time": "2023-07-05T18:58:02.193Z"
   },
   {
    "duration": 128,
    "start_time": "2023-07-05T18:58:02.284Z"
   },
   {
    "duration": 220,
    "start_time": "2023-07-05T18:58:02.414Z"
   },
   {
    "duration": 55,
    "start_time": "2023-07-05T18:58:02.637Z"
   },
   {
    "duration": 17,
    "start_time": "2023-07-05T18:58:02.694Z"
   },
   {
    "duration": 21,
    "start_time": "2023-07-05T18:58:02.717Z"
   },
   {
    "duration": 41,
    "start_time": "2023-07-05T18:58:02.740Z"
   },
   {
    "duration": 34,
    "start_time": "2023-07-05T18:58:02.795Z"
   },
   {
    "duration": 197,
    "start_time": "2023-07-05T18:58:02.831Z"
   },
   {
    "duration": 31,
    "start_time": "2023-07-05T18:58:03.030Z"
   },
   {
    "duration": 37,
    "start_time": "2023-07-05T18:58:03.066Z"
   },
   {
    "duration": 13,
    "start_time": "2023-07-05T18:58:03.105Z"
   },
   {
    "duration": 1638,
    "start_time": "2023-07-05T18:58:03.120Z"
   },
   {
    "duration": 28,
    "start_time": "2023-07-05T18:58:04.764Z"
   },
   {
    "duration": 37,
    "start_time": "2023-07-05T18:58:04.795Z"
   },
   {
    "duration": 371,
    "start_time": "2023-07-05T18:58:04.834Z"
   },
   {
    "duration": 16,
    "start_time": "2023-07-05T18:58:05.209Z"
   },
   {
    "duration": 47,
    "start_time": "2023-07-05T18:58:05.228Z"
   },
   {
    "duration": 14,
    "start_time": "2023-07-05T18:58:05.277Z"
   },
   {
    "duration": 120,
    "start_time": "2023-07-05T18:58:05.293Z"
   },
   {
    "duration": 6,
    "start_time": "2023-07-05T18:58:05.415Z"
   },
   {
    "duration": 32,
    "start_time": "2023-07-05T18:58:05.423Z"
   },
   {
    "duration": 3,
    "start_time": "2023-07-05T18:58:08.102Z"
   },
   {
    "duration": 3,
    "start_time": "2023-07-05T18:58:09.404Z"
   },
   {
    "duration": 18,
    "start_time": "2023-07-05T18:58:10.826Z"
   },
   {
    "duration": 28,
    "start_time": "2023-07-05T18:58:12.680Z"
   },
   {
    "duration": 162,
    "start_time": "2023-07-05T18:58:13.884Z"
   },
   {
    "duration": 2,
    "start_time": "2023-07-05T18:58:29.524Z"
   },
   {
    "duration": 4,
    "start_time": "2023-07-05T18:58:29.940Z"
   },
   {
    "duration": 17,
    "start_time": "2023-07-05T18:58:31.236Z"
   },
   {
    "duration": 26,
    "start_time": "2023-07-05T18:58:31.650Z"
   },
   {
    "duration": 55,
    "start_time": "2023-07-05T18:58:33.358Z"
   },
   {
    "duration": 3,
    "start_time": "2023-07-05T18:58:49.852Z"
   },
   {
    "duration": 5,
    "start_time": "2023-07-05T18:58:50.176Z"
   },
   {
    "duration": 28,
    "start_time": "2023-07-05T18:58:51.325Z"
   },
   {
    "duration": 24,
    "start_time": "2023-07-05T18:58:52.178Z"
   },
   {
    "duration": 28,
    "start_time": "2023-07-05T18:58:53.619Z"
   },
   {
    "duration": 2561,
    "start_time": "2023-07-05T19:06:09.457Z"
   },
   {
    "duration": 2745,
    "start_time": "2023-07-05T19:06:12.021Z"
   },
   {
    "duration": 9,
    "start_time": "2023-07-05T19:06:14.768Z"
   },
   {
    "duration": 1139,
    "start_time": "2023-07-05T19:06:14.781Z"
   },
   {
    "duration": 18,
    "start_time": "2023-07-05T19:06:15.923Z"
   },
   {
    "duration": 28,
    "start_time": "2023-07-05T19:06:15.943Z"
   },
   {
    "duration": 31,
    "start_time": "2023-07-05T19:06:15.973Z"
   },
   {
    "duration": 169,
    "start_time": "2023-07-05T19:06:16.006Z"
   },
   {
    "duration": 124,
    "start_time": "2023-07-05T19:06:16.177Z"
   },
   {
    "duration": 1710,
    "start_time": "2023-07-05T19:06:16.304Z"
   },
   {
    "duration": 80,
    "start_time": "2023-07-05T19:06:18.021Z"
   },
   {
    "duration": 34,
    "start_time": "2023-07-05T19:06:18.107Z"
   },
   {
    "duration": 54,
    "start_time": "2023-07-05T19:06:18.142Z"
   },
   {
    "duration": 42,
    "start_time": "2023-07-05T19:06:18.200Z"
   },
   {
    "duration": 341,
    "start_time": "2023-07-05T19:06:18.244Z"
   },
   {
    "duration": 295,
    "start_time": "2023-07-05T19:06:18.586Z"
   },
   {
    "duration": 400,
    "start_time": "2023-07-05T19:06:18.882Z"
   },
   {
    "duration": 37,
    "start_time": "2023-07-05T19:06:19.284Z"
   },
   {
    "duration": 11,
    "start_time": "2023-07-05T19:06:19.327Z"
   },
   {
    "duration": 55,
    "start_time": "2023-07-05T19:06:19.342Z"
   },
   {
    "duration": 234,
    "start_time": "2023-07-05T19:06:19.403Z"
   },
   {
    "duration": 24,
    "start_time": "2023-07-05T19:06:19.639Z"
   },
   {
    "duration": 130,
    "start_time": "2023-07-05T19:06:19.665Z"
   },
   {
    "duration": 139,
    "start_time": "2023-07-05T19:06:19.797Z"
   },
   {
    "duration": 222,
    "start_time": "2023-07-05T19:06:19.938Z"
   },
   {
    "duration": 37,
    "start_time": "2023-07-05T19:06:20.162Z"
   },
   {
    "duration": 16,
    "start_time": "2023-07-05T19:06:20.200Z"
   },
   {
    "duration": 12,
    "start_time": "2023-07-05T19:06:20.219Z"
   },
   {
    "duration": 42,
    "start_time": "2023-07-05T19:06:20.233Z"
   },
   {
    "duration": 35,
    "start_time": "2023-07-05T19:06:20.277Z"
   },
   {
    "duration": 211,
    "start_time": "2023-07-05T19:06:20.315Z"
   },
   {
    "duration": 20,
    "start_time": "2023-07-05T19:06:20.528Z"
   },
   {
    "duration": 51,
    "start_time": "2023-07-05T19:06:20.550Z"
   },
   {
    "duration": 18,
    "start_time": "2023-07-05T19:06:20.603Z"
   },
   {
    "duration": 1625,
    "start_time": "2023-07-05T19:06:20.622Z"
   },
   {
    "duration": 36,
    "start_time": "2023-07-05T19:06:22.250Z"
   },
   {
    "duration": 42,
    "start_time": "2023-07-05T19:06:22.296Z"
   },
   {
    "duration": 309,
    "start_time": "2023-07-05T19:06:22.339Z"
   },
   {
    "duration": 31,
    "start_time": "2023-07-05T19:06:22.650Z"
   },
   {
    "duration": 36,
    "start_time": "2023-07-05T19:06:22.685Z"
   },
   {
    "duration": 4,
    "start_time": "2023-07-05T19:06:22.726Z"
   },
   {
    "duration": 142,
    "start_time": "2023-07-05T19:06:22.732Z"
   },
   {
    "duration": 4,
    "start_time": "2023-07-05T19:06:22.878Z"
   },
   {
    "duration": 8,
    "start_time": "2023-07-05T19:06:22.884Z"
   },
   {
    "duration": 6,
    "start_time": "2023-07-05T19:06:22.893Z"
   },
   {
    "duration": 11,
    "start_time": "2023-07-05T19:06:22.901Z"
   },
   {
    "duration": 38,
    "start_time": "2023-07-05T19:06:22.916Z"
   },
   {
    "duration": 31,
    "start_time": "2023-07-05T19:06:22.957Z"
   },
   {
    "duration": 39,
    "start_time": "2023-07-05T19:06:22.990Z"
   },
   {
    "duration": 475,
    "start_time": "2023-07-05T19:06:23.031Z"
   },
   {
    "duration": 155,
    "start_time": "2023-07-05T19:06:23.508Z"
   },
   {
    "duration": 123,
    "start_time": "2023-07-05T19:06:23.667Z"
   },
   {
    "duration": 4,
    "start_time": "2023-07-05T19:06:23.795Z"
   },
   {
    "duration": 16,
    "start_time": "2023-07-05T19:06:23.804Z"
   },
   {
    "duration": 571,
    "start_time": "2023-07-05T19:06:23.822Z"
   },
   {
    "duration": 307,
    "start_time": "2023-07-05T19:06:24.395Z"
   },
   {
    "duration": 249,
    "start_time": "2023-07-05T19:06:24.704Z"
   },
   {
    "duration": 8,
    "start_time": "2023-07-05T19:06:24.955Z"
   },
   {
    "duration": 645,
    "start_time": "2023-07-05T19:06:24.967Z"
   },
   {
    "duration": 538,
    "start_time": "2023-07-05T19:08:12.392Z"
   },
   {
    "duration": 2538,
    "start_time": "2023-07-05T19:08:59.013Z"
   },
   {
    "duration": 2559,
    "start_time": "2023-07-05T19:09:01.554Z"
   },
   {
    "duration": 1793,
    "start_time": "2023-07-05T19:09:04.116Z"
   },
   {
    "duration": 1035,
    "start_time": "2023-07-05T19:09:05.912Z"
   },
   {
    "duration": 31,
    "start_time": "2023-07-05T19:09:06.949Z"
   },
   {
    "duration": 13,
    "start_time": "2023-07-05T19:09:06.984Z"
   },
   {
    "duration": 16,
    "start_time": "2023-07-05T19:09:07.001Z"
   },
   {
    "duration": 173,
    "start_time": "2023-07-05T19:09:07.019Z"
   },
   {
    "duration": 111,
    "start_time": "2023-07-05T19:09:07.202Z"
   },
   {
    "duration": 1447,
    "start_time": "2023-07-05T19:09:07.316Z"
   },
   {
    "duration": 107,
    "start_time": "2023-07-05T19:09:08.766Z"
   },
   {
    "duration": 45,
    "start_time": "2023-07-05T19:09:08.875Z"
   },
   {
    "duration": 66,
    "start_time": "2023-07-05T19:09:08.921Z"
   },
   {
    "duration": 34,
    "start_time": "2023-07-05T19:09:08.992Z"
   },
   {
    "duration": 297,
    "start_time": "2023-07-05T19:09:09.028Z"
   },
   {
    "duration": 300,
    "start_time": "2023-07-05T19:09:09.327Z"
   },
   {
    "duration": 392,
    "start_time": "2023-07-05T19:09:09.629Z"
   },
   {
    "duration": 41,
    "start_time": "2023-07-05T19:09:10.023Z"
   },
   {
    "duration": 12,
    "start_time": "2023-07-05T19:09:10.066Z"
   },
   {
    "duration": 68,
    "start_time": "2023-07-05T19:09:10.080Z"
   },
   {
    "duration": 204,
    "start_time": "2023-07-05T19:09:10.149Z"
   },
   {
    "duration": 25,
    "start_time": "2023-07-05T19:09:10.354Z"
   },
   {
    "duration": 91,
    "start_time": "2023-07-05T19:09:10.381Z"
   },
   {
    "duration": 110,
    "start_time": "2023-07-05T19:09:10.474Z"
   },
   {
    "duration": 210,
    "start_time": "2023-07-05T19:09:10.586Z"
   },
   {
    "duration": 53,
    "start_time": "2023-07-05T19:09:10.799Z"
   },
   {
    "duration": 19,
    "start_time": "2023-07-05T19:09:10.854Z"
   },
   {
    "duration": 14,
    "start_time": "2023-07-05T19:09:10.878Z"
   },
   {
    "duration": 20,
    "start_time": "2023-07-05T19:09:10.894Z"
   },
   {
    "duration": 25,
    "start_time": "2023-07-05T19:09:10.915Z"
   },
   {
    "duration": 213,
    "start_time": "2023-07-05T19:09:10.960Z"
   },
   {
    "duration": 30,
    "start_time": "2023-07-05T19:09:11.176Z"
   },
   {
    "duration": 30,
    "start_time": "2023-07-05T19:09:11.208Z"
   },
   {
    "duration": 27,
    "start_time": "2023-07-05T19:09:11.240Z"
   },
   {
    "duration": 1511,
    "start_time": "2023-07-05T19:09:11.272Z"
   },
   {
    "duration": 22,
    "start_time": "2023-07-05T19:09:12.788Z"
   },
   {
    "duration": 60,
    "start_time": "2023-07-05T19:09:12.813Z"
   },
   {
    "duration": 312,
    "start_time": "2023-07-05T19:09:12.878Z"
   },
   {
    "duration": 16,
    "start_time": "2023-07-05T19:09:13.191Z"
   },
   {
    "duration": 35,
    "start_time": "2023-07-05T19:09:13.213Z"
   },
   {
    "duration": 18,
    "start_time": "2023-07-05T19:09:13.250Z"
   },
   {
    "duration": 112,
    "start_time": "2023-07-05T19:09:13.273Z"
   },
   {
    "duration": 6,
    "start_time": "2023-07-05T19:09:13.388Z"
   },
   {
    "duration": 5,
    "start_time": "2023-07-05T19:09:13.396Z"
   },
   {
    "duration": 8,
    "start_time": "2023-07-05T19:09:13.403Z"
   },
   {
    "duration": 5,
    "start_time": "2023-07-05T19:09:13.413Z"
   },
   {
    "duration": 45,
    "start_time": "2023-07-05T19:09:13.420Z"
   },
   {
    "duration": 22,
    "start_time": "2023-07-05T19:09:13.467Z"
   },
   {
    "duration": 41,
    "start_time": "2023-07-05T19:09:13.491Z"
   },
   {
    "duration": 479,
    "start_time": "2023-07-05T19:09:13.533Z"
   },
   {
    "duration": 157,
    "start_time": "2023-07-05T19:09:14.014Z"
   },
   {
    "duration": 125,
    "start_time": "2023-07-05T19:09:14.175Z"
   },
   {
    "duration": 3,
    "start_time": "2023-07-05T19:09:14.302Z"
   },
   {
    "duration": 11,
    "start_time": "2023-07-05T19:09:14.307Z"
   },
   {
    "duration": 523,
    "start_time": "2023-07-05T19:09:14.320Z"
   },
   {
    "duration": 333,
    "start_time": "2023-07-05T19:09:14.845Z"
   },
   {
    "duration": 214,
    "start_time": "2023-07-05T19:09:15.183Z"
   },
   {
    "duration": 3,
    "start_time": "2023-07-05T19:10:51.345Z"
   },
   {
    "duration": 668,
    "start_time": "2023-07-05T19:10:52.003Z"
   },
   {
    "duration": 115,
    "start_time": "2023-07-05T19:11:06.501Z"
   },
   {
    "duration": 207,
    "start_time": "2023-07-05T19:11:44.137Z"
   },
   {
    "duration": 472,
    "start_time": "2023-07-05T19:11:52.548Z"
   },
   {
    "duration": 2484,
    "start_time": "2023-07-05T19:12:28.099Z"
   },
   {
    "duration": 2542,
    "start_time": "2023-07-05T19:12:30.587Z"
   },
   {
    "duration": 4,
    "start_time": "2023-07-05T19:12:33.131Z"
   },
   {
    "duration": 973,
    "start_time": "2023-07-05T19:12:33.137Z"
   },
   {
    "duration": 21,
    "start_time": "2023-07-05T19:12:34.112Z"
   },
   {
    "duration": 11,
    "start_time": "2023-07-05T19:12:34.135Z"
   },
   {
    "duration": 34,
    "start_time": "2023-07-05T19:12:34.165Z"
   },
   {
    "duration": 186,
    "start_time": "2023-07-05T19:12:34.201Z"
   },
   {
    "duration": 124,
    "start_time": "2023-07-05T19:12:34.389Z"
   },
   {
    "duration": 1551,
    "start_time": "2023-07-05T19:12:34.516Z"
   },
   {
    "duration": 94,
    "start_time": "2023-07-05T19:12:36.069Z"
   },
   {
    "duration": 41,
    "start_time": "2023-07-05T19:12:36.180Z"
   },
   {
    "duration": 53,
    "start_time": "2023-07-05T19:12:36.223Z"
   },
   {
    "duration": 37,
    "start_time": "2023-07-05T19:12:36.285Z"
   },
   {
    "duration": 271,
    "start_time": "2023-07-05T19:12:36.324Z"
   },
   {
    "duration": 292,
    "start_time": "2023-07-05T19:12:36.600Z"
   },
   {
    "duration": 397,
    "start_time": "2023-07-05T19:12:36.897Z"
   },
   {
    "duration": 22,
    "start_time": "2023-07-05T19:12:37.302Z"
   },
   {
    "duration": 4,
    "start_time": "2023-07-05T19:12:37.326Z"
   },
   {
    "duration": 35,
    "start_time": "2023-07-05T19:12:37.332Z"
   },
   {
    "duration": 226,
    "start_time": "2023-07-05T19:12:37.369Z"
   },
   {
    "duration": 22,
    "start_time": "2023-07-05T19:12:37.597Z"
   },
   {
    "duration": 101,
    "start_time": "2023-07-05T19:12:37.620Z"
   },
   {
    "duration": 129,
    "start_time": "2023-07-05T19:12:37.723Z"
   },
   {
    "duration": 211,
    "start_time": "2023-07-05T19:12:37.854Z"
   },
   {
    "duration": 41,
    "start_time": "2023-07-05T19:12:38.067Z"
   },
   {
    "duration": 13,
    "start_time": "2023-07-05T19:12:38.110Z"
   },
   {
    "duration": 9,
    "start_time": "2023-07-05T19:12:38.128Z"
   },
   {
    "duration": 32,
    "start_time": "2023-07-05T19:12:38.139Z"
   },
   {
    "duration": 37,
    "start_time": "2023-07-05T19:12:38.173Z"
   },
   {
    "duration": 410,
    "start_time": "2023-07-05T19:12:38.212Z"
   },
   {
    "duration": 20,
    "start_time": "2023-07-05T19:12:38.624Z"
   },
   {
    "duration": 49,
    "start_time": "2023-07-05T19:12:38.645Z"
   },
   {
    "duration": 20,
    "start_time": "2023-07-05T19:12:38.696Z"
   },
   {
    "duration": 1395,
    "start_time": "2023-07-05T19:12:38.718Z"
   },
   {
    "duration": 13,
    "start_time": "2023-07-05T19:12:40.115Z"
   },
   {
    "duration": 70,
    "start_time": "2023-07-05T19:12:40.130Z"
   },
   {
    "duration": 311,
    "start_time": "2023-07-05T19:12:40.204Z"
   },
   {
    "duration": 12,
    "start_time": "2023-07-05T19:12:40.516Z"
   },
   {
    "duration": 53,
    "start_time": "2023-07-05T19:12:40.530Z"
   },
   {
    "duration": 5,
    "start_time": "2023-07-05T19:12:40.584Z"
   },
   {
    "duration": 117,
    "start_time": "2023-07-05T19:12:40.590Z"
   },
   {
    "duration": 4,
    "start_time": "2023-07-05T19:12:40.709Z"
   },
   {
    "duration": 13,
    "start_time": "2023-07-05T19:12:40.715Z"
   },
   {
    "duration": 6,
    "start_time": "2023-07-05T19:12:40.729Z"
   },
   {
    "duration": 5,
    "start_time": "2023-07-05T19:12:40.736Z"
   },
   {
    "duration": 75,
    "start_time": "2023-07-05T19:12:40.742Z"
   },
   {
    "duration": 19,
    "start_time": "2023-07-05T19:12:40.819Z"
   },
   {
    "duration": 52,
    "start_time": "2023-07-05T19:12:40.840Z"
   },
   {
    "duration": 533,
    "start_time": "2023-07-05T19:12:40.893Z"
   },
   {
    "duration": 162,
    "start_time": "2023-07-05T19:12:41.428Z"
   },
   {
    "duration": 102,
    "start_time": "2023-07-05T19:12:41.592Z"
   },
   {
    "duration": 2,
    "start_time": "2023-07-05T19:12:41.695Z"
   },
   {
    "duration": 14,
    "start_time": "2023-07-05T19:12:41.699Z"
   },
   {
    "duration": 458,
    "start_time": "2023-07-05T19:12:41.714Z"
   },
   {
    "duration": 245,
    "start_time": "2023-07-05T19:12:42.174Z"
   },
   {
    "duration": 121,
    "start_time": "2023-07-05T19:12:42.421Z"
   },
   {
    "duration": 2,
    "start_time": "2023-07-05T19:12:42.544Z"
   },
   {
    "duration": 96,
    "start_time": "2023-07-05T19:12:42.559Z"
   },
   {
    "duration": 289,
    "start_time": "2023-07-05T19:12:42.657Z"
   },
   {
    "duration": 4,
    "start_time": "2023-07-05T19:13:38.877Z"
   },
   {
    "duration": 16002,
    "start_time": "2023-07-05T19:13:41.853Z"
   },
   {
    "duration": 10271,
    "start_time": "2023-07-05T19:13:59.238Z"
   },
   {
    "duration": 22072,
    "start_time": "2023-07-05T19:14:11.245Z"
   },
   {
    "duration": 7,
    "start_time": "2023-07-05T19:14:33.635Z"
   },
   {
    "duration": 129,
    "start_time": "2023-07-05T19:14:37.707Z"
   },
   {
    "duration": 40438,
    "start_time": "2023-07-05T19:14:39.652Z"
   },
   {
    "duration": 5,
    "start_time": "2023-07-05T19:15:20.095Z"
   },
   {
    "duration": 7,
    "start_time": "2023-07-05T19:15:20.102Z"
   },
   {
    "duration": 4,
    "start_time": "2023-07-05T19:15:20.112Z"
   },
   {
    "duration": 4,
    "start_time": "2023-07-05T19:15:24.327Z"
   },
   {
    "duration": 4,
    "start_time": "2023-07-05T19:15:24.737Z"
   },
   {
    "duration": 11,
    "start_time": "2023-07-05T19:15:28.948Z"
   },
   {
    "duration": 3,
    "start_time": "2023-07-05T19:15:31.106Z"
   },
   {
    "duration": 47108,
    "start_time": "2023-07-05T19:15:33.626Z"
   },
   {
    "duration": 2754,
    "start_time": "2023-07-05T19:16:31.544Z"
   },
   {
    "duration": 2797,
    "start_time": "2023-07-05T19:16:34.302Z"
   },
   {
    "duration": 1919,
    "start_time": "2023-07-05T19:16:37.101Z"
   },
   {
    "duration": 1398,
    "start_time": "2023-07-05T19:16:39.023Z"
   },
   {
    "duration": 24,
    "start_time": "2023-07-05T19:16:40.427Z"
   },
   {
    "duration": 16,
    "start_time": "2023-07-05T19:16:40.453Z"
   },
   {
    "duration": 42,
    "start_time": "2023-07-05T19:16:40.471Z"
   },
   {
    "duration": 256,
    "start_time": "2023-07-05T19:16:40.516Z"
   },
   {
    "duration": 157,
    "start_time": "2023-07-05T19:16:40.774Z"
   },
   {
    "duration": 2019,
    "start_time": "2023-07-05T19:16:40.935Z"
   },
   {
    "duration": 111,
    "start_time": "2023-07-05T19:16:42.956Z"
   },
   {
    "duration": 64,
    "start_time": "2023-07-05T19:16:43.069Z"
   },
   {
    "duration": 71,
    "start_time": "2023-07-05T19:16:43.136Z"
   },
   {
    "duration": 39,
    "start_time": "2023-07-05T19:16:43.210Z"
   },
   {
    "duration": 347,
    "start_time": "2023-07-05T19:16:43.251Z"
   },
   {
    "duration": 334,
    "start_time": "2023-07-05T19:16:43.600Z"
   },
   {
    "duration": 455,
    "start_time": "2023-07-05T19:16:43.937Z"
   },
   {
    "duration": 37,
    "start_time": "2023-07-05T19:16:44.397Z"
   },
   {
    "duration": 6,
    "start_time": "2023-07-05T19:16:44.439Z"
   },
   {
    "duration": 88,
    "start_time": "2023-07-05T19:16:44.448Z"
   },
   {
    "duration": 268,
    "start_time": "2023-07-05T19:16:44.544Z"
   },
   {
    "duration": 25,
    "start_time": "2023-07-05T19:16:44.814Z"
   },
   {
    "duration": 157,
    "start_time": "2023-07-05T19:16:44.842Z"
   },
   {
    "duration": 145,
    "start_time": "2023-07-05T19:16:45.001Z"
   },
   {
    "duration": 262,
    "start_time": "2023-07-05T19:16:45.148Z"
   },
   {
    "duration": 55,
    "start_time": "2023-07-05T19:16:45.413Z"
   },
   {
    "duration": 18,
    "start_time": "2023-07-05T19:16:45.481Z"
   },
   {
    "duration": 19,
    "start_time": "2023-07-05T19:16:45.508Z"
   },
   {
    "duration": 24,
    "start_time": "2023-07-05T19:16:45.528Z"
   },
   {
    "duration": 33,
    "start_time": "2023-07-05T19:16:45.555Z"
   },
   {
    "duration": 257,
    "start_time": "2023-07-05T19:16:45.590Z"
   },
   {
    "duration": 34,
    "start_time": "2023-07-05T19:16:45.852Z"
   },
   {
    "duration": 44,
    "start_time": "2023-07-05T19:16:45.892Z"
   },
   {
    "duration": 44,
    "start_time": "2023-07-05T19:16:45.943Z"
   },
   {
    "duration": 1716,
    "start_time": "2023-07-05T19:16:45.999Z"
   },
   {
    "duration": 25,
    "start_time": "2023-07-05T19:16:47.723Z"
   },
   {
    "duration": 60,
    "start_time": "2023-07-05T19:16:47.755Z"
   },
   {
    "duration": 460,
    "start_time": "2023-07-05T19:16:47.822Z"
   },
   {
    "duration": 20,
    "start_time": "2023-07-05T19:16:48.284Z"
   },
   {
    "duration": 45,
    "start_time": "2023-07-05T19:16:48.306Z"
   },
   {
    "duration": 9,
    "start_time": "2023-07-05T19:16:48.355Z"
   },
   {
    "duration": 141,
    "start_time": "2023-07-05T19:16:48.366Z"
   },
   {
    "duration": 11,
    "start_time": "2023-07-05T19:16:48.514Z"
   },
   {
    "duration": 17,
    "start_time": "2023-07-05T19:16:48.530Z"
   },
   {
    "duration": 10,
    "start_time": "2023-07-05T19:16:48.553Z"
   },
   {
    "duration": 24,
    "start_time": "2023-07-05T19:16:48.574Z"
   },
   {
    "duration": 69,
    "start_time": "2023-07-05T19:16:48.605Z"
   },
   {
    "duration": 40,
    "start_time": "2023-07-05T19:16:48.680Z"
   },
   {
    "duration": 77,
    "start_time": "2023-07-05T19:16:48.726Z"
   },
   {
    "duration": 701,
    "start_time": "2023-07-05T19:16:48.808Z"
   },
   {
    "duration": 240,
    "start_time": "2023-07-05T19:16:49.511Z"
   },
   {
    "duration": 125,
    "start_time": "2023-07-05T19:16:49.754Z"
   },
   {
    "duration": 3,
    "start_time": "2023-07-05T19:16:49.883Z"
   },
   {
    "duration": 7,
    "start_time": "2023-07-05T19:16:49.888Z"
   },
   {
    "duration": 612,
    "start_time": "2023-07-05T19:16:49.896Z"
   },
   {
    "duration": 377,
    "start_time": "2023-07-05T19:16:50.512Z"
   },
   {
    "duration": 146,
    "start_time": "2023-07-05T19:16:50.894Z"
   },
   {
    "duration": 4,
    "start_time": "2023-07-05T19:16:51.042Z"
   },
   {
    "duration": 156,
    "start_time": "2023-07-05T19:16:51.048Z"
   },
   {
    "duration": 323,
    "start_time": "2023-07-05T19:16:51.207Z"
   },
   {
    "duration": 6,
    "start_time": "2023-07-05T19:16:51.535Z"
   },
   {
    "duration": 12,
    "start_time": "2023-07-05T19:16:51.543Z"
   },
   {
    "duration": 12,
    "start_time": "2023-07-05T19:16:51.557Z"
   },
   {
    "duration": 10480,
    "start_time": "2023-07-05T19:16:51.572Z"
   },
   {
    "duration": 21,
    "start_time": "2023-07-05T19:17:02.054Z"
   },
   {
    "duration": 0,
    "start_time": "2023-07-05T19:17:02.077Z"
   },
   {
    "duration": 0,
    "start_time": "2023-07-05T19:17:02.078Z"
   },
   {
    "duration": 4,
    "start_time": "2023-07-05T19:17:07.997Z"
   },
   {
    "duration": 9931,
    "start_time": "2023-07-05T19:17:09.337Z"
   },
   {
    "duration": 3353,
    "start_time": "2023-07-05T19:17:33.115Z"
   },
   {
    "duration": 3066,
    "start_time": "2023-07-05T19:17:36.473Z"
   },
   {
    "duration": 2008,
    "start_time": "2023-07-05T19:17:39.541Z"
   },
   {
    "duration": 1222,
    "start_time": "2023-07-05T19:17:41.556Z"
   },
   {
    "duration": 36,
    "start_time": "2023-07-05T19:17:42.784Z"
   },
   {
    "duration": 14,
    "start_time": "2023-07-05T19:17:42.822Z"
   },
   {
    "duration": 42,
    "start_time": "2023-07-05T19:17:42.838Z"
   },
   {
    "duration": 250,
    "start_time": "2023-07-05T19:17:42.881Z"
   },
   {
    "duration": 142,
    "start_time": "2023-07-05T19:17:43.134Z"
   },
   {
    "duration": 2076,
    "start_time": "2023-07-05T19:17:43.280Z"
   },
   {
    "duration": 129,
    "start_time": "2023-07-05T19:17:45.367Z"
   },
   {
    "duration": 61,
    "start_time": "2023-07-05T19:17:45.502Z"
   },
   {
    "duration": 73,
    "start_time": "2023-07-05T19:17:45.567Z"
   },
   {
    "duration": 52,
    "start_time": "2023-07-05T19:17:45.642Z"
   },
   {
    "duration": 405,
    "start_time": "2023-07-05T19:17:45.697Z"
   },
   {
    "duration": 357,
    "start_time": "2023-07-05T19:17:46.104Z"
   },
   {
    "duration": 414,
    "start_time": "2023-07-05T19:17:46.462Z"
   },
   {
    "duration": 37,
    "start_time": "2023-07-05T19:17:46.879Z"
   },
   {
    "duration": 6,
    "start_time": "2023-07-05T19:17:46.923Z"
   },
   {
    "duration": 53,
    "start_time": "2023-07-05T19:17:46.932Z"
   },
   {
    "duration": 254,
    "start_time": "2023-07-05T19:17:46.987Z"
   },
   {
    "duration": 25,
    "start_time": "2023-07-05T19:17:47.243Z"
   },
   {
    "duration": 137,
    "start_time": "2023-07-05T19:17:47.270Z"
   },
   {
    "duration": 133,
    "start_time": "2023-07-05T19:17:47.409Z"
   },
   {
    "duration": 210,
    "start_time": "2023-07-05T19:17:47.545Z"
   },
   {
    "duration": 67,
    "start_time": "2023-07-05T19:17:47.757Z"
   },
   {
    "duration": 12,
    "start_time": "2023-07-05T19:17:47.833Z"
   },
   {
    "duration": 12,
    "start_time": "2023-07-05T19:17:47.849Z"
   },
   {
    "duration": 23,
    "start_time": "2023-07-05T19:17:47.864Z"
   },
   {
    "duration": 42,
    "start_time": "2023-07-05T19:17:47.893Z"
   },
   {
    "duration": 208,
    "start_time": "2023-07-05T19:17:47.937Z"
   },
   {
    "duration": 56,
    "start_time": "2023-07-05T19:17:48.147Z"
   },
   {
    "duration": 35,
    "start_time": "2023-07-05T19:17:48.207Z"
   },
   {
    "duration": 12,
    "start_time": "2023-07-05T19:17:48.244Z"
   },
   {
    "duration": 1633,
    "start_time": "2023-07-05T19:17:48.258Z"
   },
   {
    "duration": 35,
    "start_time": "2023-07-05T19:17:49.893Z"
   },
   {
    "duration": 40,
    "start_time": "2023-07-05T19:17:49.929Z"
   },
   {
    "duration": 360,
    "start_time": "2023-07-05T19:17:49.971Z"
   },
   {
    "duration": 14,
    "start_time": "2023-07-05T19:17:50.334Z"
   },
   {
    "duration": 44,
    "start_time": "2023-07-05T19:17:50.350Z"
   },
   {
    "duration": 5,
    "start_time": "2023-07-05T19:17:50.396Z"
   },
   {
    "duration": 158,
    "start_time": "2023-07-05T19:17:50.410Z"
   },
   {
    "duration": 4,
    "start_time": "2023-07-05T19:17:50.570Z"
   },
   {
    "duration": 17,
    "start_time": "2023-07-05T19:17:50.576Z"
   },
   {
    "duration": 4,
    "start_time": "2023-07-05T19:17:50.597Z"
   },
   {
    "duration": 4,
    "start_time": "2023-07-05T19:17:50.605Z"
   },
   {
    "duration": 41,
    "start_time": "2023-07-05T19:17:50.614Z"
   },
   {
    "duration": 30,
    "start_time": "2023-07-05T19:17:50.659Z"
   },
   {
    "duration": 51,
    "start_time": "2023-07-05T19:17:50.691Z"
   },
   {
    "duration": 651,
    "start_time": "2023-07-05T19:17:50.744Z"
   },
   {
    "duration": 199,
    "start_time": "2023-07-05T19:17:51.397Z"
   },
   {
    "duration": 127,
    "start_time": "2023-07-05T19:17:51.602Z"
   },
   {
    "duration": 3,
    "start_time": "2023-07-05T19:17:51.733Z"
   },
   {
    "duration": 18,
    "start_time": "2023-07-05T19:17:51.739Z"
   },
   {
    "duration": 647,
    "start_time": "2023-07-05T19:17:51.764Z"
   },
   {
    "duration": 288,
    "start_time": "2023-07-05T19:17:52.419Z"
   },
   {
    "duration": 172,
    "start_time": "2023-07-05T19:17:52.713Z"
   },
   {
    "duration": 4,
    "start_time": "2023-07-05T19:17:52.890Z"
   },
   {
    "duration": 105,
    "start_time": "2023-07-05T19:17:52.900Z"
   },
   {
    "duration": 329,
    "start_time": "2023-07-05T19:17:53.015Z"
   },
   {
    "duration": 4,
    "start_time": "2023-07-05T19:18:11.648Z"
   },
   {
    "duration": 307086,
    "start_time": "2023-07-05T19:18:12.712Z"
   },
   {
    "duration": 52504,
    "start_time": "2023-07-05T19:24:22.735Z"
   },
   {
    "duration": 4958,
    "start_time": "2023-07-06T05:38:35.744Z"
   },
   {
    "duration": 3125,
    "start_time": "2023-07-06T05:38:40.704Z"
   },
   {
    "duration": 3088,
    "start_time": "2023-07-06T05:38:43.831Z"
   },
   {
    "duration": 1134,
    "start_time": "2023-07-06T05:38:46.921Z"
   },
   {
    "duration": 29,
    "start_time": "2023-07-06T05:38:48.058Z"
   },
   {
    "duration": 9,
    "start_time": "2023-07-06T05:38:48.088Z"
   },
   {
    "duration": 15,
    "start_time": "2023-07-06T05:38:48.099Z"
   },
   {
    "duration": 135,
    "start_time": "2023-07-06T05:38:48.115Z"
   },
   {
    "duration": 90,
    "start_time": "2023-07-06T05:38:48.251Z"
   },
   {
    "duration": 1135,
    "start_time": "2023-07-06T05:38:48.343Z"
   },
   {
    "duration": 72,
    "start_time": "2023-07-06T05:38:49.488Z"
   },
   {
    "duration": 39,
    "start_time": "2023-07-06T05:38:49.562Z"
   },
   {
    "duration": 39,
    "start_time": "2023-07-06T05:38:49.603Z"
   },
   {
    "duration": 42,
    "start_time": "2023-07-06T05:38:49.645Z"
   },
   {
    "duration": 232,
    "start_time": "2023-07-06T05:38:49.689Z"
   },
   {
    "duration": 229,
    "start_time": "2023-07-06T05:38:49.923Z"
   },
   {
    "duration": 294,
    "start_time": "2023-07-06T05:38:50.154Z"
   },
   {
    "duration": 36,
    "start_time": "2023-07-06T05:38:50.450Z"
   },
   {
    "duration": 5,
    "start_time": "2023-07-06T05:38:50.488Z"
   },
   {
    "duration": 37,
    "start_time": "2023-07-06T05:38:50.494Z"
   },
   {
    "duration": 162,
    "start_time": "2023-07-06T05:38:50.533Z"
   },
   {
    "duration": 17,
    "start_time": "2023-07-06T05:38:50.696Z"
   },
   {
    "duration": 99,
    "start_time": "2023-07-06T05:38:50.714Z"
   },
   {
    "duration": 104,
    "start_time": "2023-07-06T05:38:50.814Z"
   },
   {
    "duration": 149,
    "start_time": "2023-07-06T05:38:50.919Z"
   },
   {
    "duration": 42,
    "start_time": "2023-07-06T05:38:51.076Z"
   },
   {
    "duration": 10,
    "start_time": "2023-07-06T05:38:51.119Z"
   },
   {
    "duration": 36,
    "start_time": "2023-07-06T05:38:51.131Z"
   },
   {
    "duration": 36,
    "start_time": "2023-07-06T05:38:51.169Z"
   },
   {
    "duration": 80,
    "start_time": "2023-07-06T05:38:51.207Z"
   },
   {
    "duration": 169,
    "start_time": "2023-07-06T05:38:51.289Z"
   },
   {
    "duration": 28,
    "start_time": "2023-07-06T05:38:51.460Z"
   },
   {
    "duration": 65,
    "start_time": "2023-07-06T05:38:51.489Z"
   },
   {
    "duration": 31,
    "start_time": "2023-07-06T05:38:51.556Z"
   },
   {
    "duration": 1139,
    "start_time": "2023-07-06T05:38:51.589Z"
   },
   {
    "duration": 11,
    "start_time": "2023-07-06T05:38:52.729Z"
   },
   {
    "duration": 55,
    "start_time": "2023-07-06T05:38:52.741Z"
   },
   {
    "duration": 246,
    "start_time": "2023-07-06T05:38:52.798Z"
   },
   {
    "duration": 11,
    "start_time": "2023-07-06T05:38:53.045Z"
   },
   {
    "duration": 83,
    "start_time": "2023-07-06T05:38:53.058Z"
   },
   {
    "duration": 6,
    "start_time": "2023-07-06T05:38:53.144Z"
   },
   {
    "duration": 63,
    "start_time": "2023-07-06T05:38:53.151Z"
   },
   {
    "duration": 109,
    "start_time": "2023-07-06T05:38:53.216Z"
   },
   {
    "duration": 3,
    "start_time": "2023-07-06T05:38:53.327Z"
   },
   {
    "duration": 30,
    "start_time": "2023-07-06T05:38:53.332Z"
   },
   {
    "duration": 36,
    "start_time": "2023-07-06T05:38:53.364Z"
   },
   {
    "duration": 68,
    "start_time": "2023-07-06T05:39:13.168Z"
   }
  ],
  "kernelspec": {
   "display_name": "Python 3 (ipykernel)",
   "language": "python",
   "name": "python3"
  },
  "language_info": {
   "codemirror_mode": {
    "name": "ipython",
    "version": 3
   },
   "file_extension": ".py",
   "mimetype": "text/x-python",
   "name": "python",
   "nbconvert_exporter": "python",
   "pygments_lexer": "ipython3",
   "version": "3.9.16"
  },
  "toc": {
   "base_numbering": 1,
   "nav_menu": {},
   "number_sections": true,
   "sideBar": true,
   "skip_h1_title": true,
   "title_cell": "Table of Contents",
   "title_sidebar": "Contents",
   "toc_cell": false,
   "toc_position": {
    "height": "calc(100% - 180px)",
    "left": "10px",
    "top": "150px",
    "width": "371px"
   },
   "toc_section_display": true,
   "toc_window_display": true
  }
 },
 "nbformat": 4,
 "nbformat_minor": 2
}
