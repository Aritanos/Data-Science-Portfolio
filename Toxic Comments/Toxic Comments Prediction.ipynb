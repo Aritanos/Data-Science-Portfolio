{
 "cells": [
  {
   "cell_type": "markdown",
   "metadata": {},
   "source": [
    "# Проект для «Викишоп»"
   ]
  },
  {
   "cell_type": "markdown",
   "metadata": {},
   "source": [
    "## Подготовка"
   ]
  },
  {
   "cell_type": "markdown",
   "metadata": {},
   "source": [
    "#### Обзор данных"
   ]
  },
  {
   "cell_type": "code",
   "execution_count": 1,
   "metadata": {},
   "outputs": [
    {
     "name": "stdout",
     "output_type": "stream",
     "text": [
      "Collecting wordcloud==1.8.2.2\n",
      "  Downloading wordcloud-1.8.2.2-cp39-cp39-manylinux_2_17_x86_64.manylinux2014_x86_64.whl (458 kB)\n",
      "\u001b[K     |████████████████████████████████| 458 kB 571 kB/s eta 0:00:01\n",
      "\u001b[?25hRequirement already satisfied: numpy>=1.6.1 in /opt/conda/lib/python3.9/site-packages (from wordcloud==1.8.2.2) (1.21.1)\n",
      "Requirement already satisfied: matplotlib in /opt/conda/lib/python3.9/site-packages (from wordcloud==1.8.2.2) (3.3.4)\n",
      "Requirement already satisfied: pillow in /opt/conda/lib/python3.9/site-packages (from wordcloud==1.8.2.2) (8.4.0)\n",
      "Requirement already satisfied: pyparsing!=2.0.4,!=2.1.2,!=2.1.6,>=2.0.3 in /opt/conda/lib/python3.9/site-packages (from matplotlib->wordcloud==1.8.2.2) (2.4.7)\n",
      "Requirement already satisfied: kiwisolver>=1.0.1 in /opt/conda/lib/python3.9/site-packages (from matplotlib->wordcloud==1.8.2.2) (1.4.4)\n",
      "Requirement already satisfied: cycler>=0.10 in /opt/conda/lib/python3.9/site-packages (from matplotlib->wordcloud==1.8.2.2) (0.11.0)\n",
      "Requirement already satisfied: python-dateutil>=2.1 in /opt/conda/lib/python3.9/site-packages (from matplotlib->wordcloud==1.8.2.2) (2.8.1)\n",
      "Requirement already satisfied: six>=1.5 in /opt/conda/lib/python3.9/site-packages (from python-dateutil>=2.1->matplotlib->wordcloud==1.8.2.2) (1.16.0)\n",
      "Installing collected packages: wordcloud\n",
      "Successfully installed wordcloud-1.8.2.2\n",
      "Note: you may need to restart the kernel to use updated packages.\n"
     ]
    }
   ],
   "source": [
    "pip install wordcloud==1.8.2.2"
   ]
  },
  {
   "cell_type": "code",
   "execution_count": 2,
   "metadata": {},
   "outputs": [],
   "source": [
    "#!pip install -U pip setuptools wheel\n",
    "#!pip install -U spacy\n",
    "#python -m spacy download en_core_web_sm"
   ]
  },
  {
   "cell_type": "code",
   "execution_count": 3,
   "metadata": {},
   "outputs": [],
   "source": [
    "#!python -m spacy download en_core_web_sm"
   ]
  },
  {
   "cell_type": "code",
   "execution_count": 4,
   "metadata": {},
   "outputs": [],
   "source": [
    "import pandas as pd\n",
    "import nltk\n",
    "import os\n",
    "import re\n",
    "import lightgbm as lgb\n",
    "import spacy\n",
    "import matplotlib.pyplot as plt\n",
    "import random\n",
    "from tqdm.notebook import tqdm\n",
    "from nltk.corpus import stopwords as nltk_stopwords\n",
    "from nltk.tokenize import sent_tokenize, word_tokenize\n",
    "from sklearn.dummy import DummyClassifier\n",
    "from sklearn.pipeline import Pipeline\n",
    "from sklearn.utils import shuffle\n",
    "from sklearn.feature_extraction.text import TfidfVectorizer\n",
    "from sklearn.linear_model import LogisticRegression\n",
    "from sklearn.ensemble import RandomForestClassifier\n",
    "from sklearn.metrics import f1_score\n",
    "from sklearn.model_selection import train_test_split, GridSearchCV\n",
    "from wordcloud import WordCloud"
   ]
  },
  {
   "cell_type": "code",
   "execution_count": 5,
   "metadata": {},
   "outputs": [],
   "source": [
    "random.seed(42)"
   ]
  },
  {
   "cell_type": "code",
   "execution_count": 6,
   "metadata": {},
   "outputs": [],
   "source": [
    "tqdm.pandas()"
   ]
  },
  {
   "cell_type": "code",
   "execution_count": 7,
   "metadata": {},
   "outputs": [],
   "source": [
    "local_path = 'C:\\\\Users\\\\Aritanos\\\\Project12\\\\toxic_comments.csv'\n",
    "server_path = '/datasets/toxic_comments.csv'\n",
    "if os.path.exists(local_path):\n",
    "    data = pd.read_csv(local_path)\n",
    "else:\n",
    "    data = pd.read_csv(server_path)"
   ]
  },
  {
   "cell_type": "code",
   "execution_count": 8,
   "metadata": {},
   "outputs": [
    {
     "data": {
      "text/html": [
       "<div>\n",
       "<style scoped>\n",
       "    .dataframe tbody tr th:only-of-type {\n",
       "        vertical-align: middle;\n",
       "    }\n",
       "\n",
       "    .dataframe tbody tr th {\n",
       "        vertical-align: top;\n",
       "    }\n",
       "\n",
       "    .dataframe thead th {\n",
       "        text-align: right;\n",
       "    }\n",
       "</style>\n",
       "<table border=\"1\" class=\"dataframe\">\n",
       "  <thead>\n",
       "    <tr style=\"text-align: right;\">\n",
       "      <th></th>\n",
       "      <th>Unnamed: 0</th>\n",
       "      <th>text</th>\n",
       "      <th>toxic</th>\n",
       "    </tr>\n",
       "  </thead>\n",
       "  <tbody>\n",
       "    <tr>\n",
       "      <th>0</th>\n",
       "      <td>0</td>\n",
       "      <td>Explanation\\nWhy the edits made under my usern...</td>\n",
       "      <td>0</td>\n",
       "    </tr>\n",
       "    <tr>\n",
       "      <th>1</th>\n",
       "      <td>1</td>\n",
       "      <td>D'aww! He matches this background colour I'm s...</td>\n",
       "      <td>0</td>\n",
       "    </tr>\n",
       "    <tr>\n",
       "      <th>2</th>\n",
       "      <td>2</td>\n",
       "      <td>Hey man, I'm really not trying to edit war. It...</td>\n",
       "      <td>0</td>\n",
       "    </tr>\n",
       "    <tr>\n",
       "      <th>3</th>\n",
       "      <td>3</td>\n",
       "      <td>\"\\nMore\\nI can't make any real suggestions on ...</td>\n",
       "      <td>0</td>\n",
       "    </tr>\n",
       "    <tr>\n",
       "      <th>4</th>\n",
       "      <td>4</td>\n",
       "      <td>You, sir, are my hero. Any chance you remember...</td>\n",
       "      <td>0</td>\n",
       "    </tr>\n",
       "  </tbody>\n",
       "</table>\n",
       "</div>"
      ],
      "text/plain": [
       "   Unnamed: 0                                               text  toxic\n",
       "0           0  Explanation\\nWhy the edits made under my usern...      0\n",
       "1           1  D'aww! He matches this background colour I'm s...      0\n",
       "2           2  Hey man, I'm really not trying to edit war. It...      0\n",
       "3           3  \"\\nMore\\nI can't make any real suggestions on ...      0\n",
       "4           4  You, sir, are my hero. Any chance you remember...      0"
      ]
     },
     "execution_count": 8,
     "metadata": {},
     "output_type": "execute_result"
    }
   ],
   "source": [
    "data.head()"
   ]
  },
  {
   "cell_type": "code",
   "execution_count": 9,
   "metadata": {},
   "outputs": [
    {
     "name": "stdout",
     "output_type": "stream",
     "text": [
      "<class 'pandas.core.frame.DataFrame'>\n",
      "RangeIndex: 159292 entries, 0 to 159291\n",
      "Data columns (total 3 columns):\n",
      " #   Column      Non-Null Count   Dtype \n",
      "---  ------      --------------   ----- \n",
      " 0   Unnamed: 0  159292 non-null  int64 \n",
      " 1   text        159292 non-null  object\n",
      " 2   toxic       159292 non-null  int64 \n",
      "dtypes: int64(2), object(1)\n",
      "memory usage: 3.6+ MB\n"
     ]
    }
   ],
   "source": [
    "data.info()"
   ]
  },
  {
   "cell_type": "code",
   "execution_count": 10,
   "metadata": {},
   "outputs": [
    {
     "data": {
      "text/plain": [
       "array([0, 1])"
      ]
     },
     "execution_count": 10,
     "metadata": {},
     "output_type": "execute_result"
    }
   ],
   "source": [
    "data.toxic.unique()"
   ]
  },
  {
   "cell_type": "markdown",
   "metadata": {},
   "source": [
    "Пропусков в данных нет, типы данных верные, toxic имеет бинарные значения. Колонка 'Unnamed' дублирует индекс и не несёт полезной для нашей здачи информации, можно её удалить"
   ]
  },
  {
   "cell_type": "code",
   "execution_count": 11,
   "metadata": {},
   "outputs": [],
   "source": [
    "data = data.drop('Unnamed: 0', axis=1)"
   ]
  },
  {
   "cell_type": "markdown",
   "metadata": {},
   "source": [
    "Разделим данные на features и target:"
   ]
  },
  {
   "cell_type": "code",
   "execution_count": 12,
   "metadata": {},
   "outputs": [],
   "source": [
    "features = data.text\n",
    "target = data.toxic"
   ]
  },
  {
   "cell_type": "markdown",
   "metadata": {},
   "source": [
    "#### Лемматизация"
   ]
  },
  {
   "cell_type": "markdown",
   "metadata": {},
   "source": [
    "Сделаем лемматизацию текста в датасете."
   ]
  },
  {
   "cell_type": "code",
   "execution_count": 13,
   "metadata": {},
   "outputs": [],
   "source": [
    "spacy_model = spacy.load('en_core_web_sm', disable = ['parser','ner'])"
   ]
  },
  {
   "cell_type": "code",
   "execution_count": 14,
   "metadata": {},
   "outputs": [],
   "source": [
    "corpus = features#[:10000]\n",
    "target = target#[:10000]"
   ]
  },
  {
   "cell_type": "code",
   "execution_count": 15,
   "metadata": {},
   "outputs": [],
   "source": [
    "def lemmatize(text):\n",
    "    parsed_text = spacy_model(text.lower())\n",
    "    return \" \".join([token.lemma_ for token in parsed_text])"
   ]
  },
  {
   "cell_type": "code",
   "execution_count": 16,
   "metadata": {},
   "outputs": [],
   "source": [
    "def clear_text(text):\n",
    "    split = re.sub(r'[^A-zA-Z]', ' ', text).split()\n",
    "    return ' '.join(split)"
   ]
  },
  {
   "cell_type": "markdown",
   "metadata": {},
   "source": [
    "Загрузим стоп-слова:"
   ]
  },
  {
   "cell_type": "code",
   "execution_count": 17,
   "metadata": {
    "scrolled": true
   },
   "outputs": [
    {
     "name": "stderr",
     "output_type": "stream",
     "text": [
      "[nltk_data] Downloading package stopwords to /home/jovyan/nltk_data...\n",
      "[nltk_data]   Package stopwords is already up-to-date!\n",
      "[nltk_data] Downloading package punkt to /home/jovyan/nltk_data...\n",
      "[nltk_data]   Package punkt is already up-to-date!\n",
      "[nltk_data] Downloading package wordnet to /home/jovyan/nltk_data...\n",
      "[nltk_data]   Package wordnet is already up-to-date!\n"
     ]
    },
    {
     "data": {
      "text/plain": [
       "True"
      ]
     },
     "execution_count": 17,
     "metadata": {},
     "output_type": "execute_result"
    }
   ],
   "source": [
    "nltk.download('stopwords')\n",
    "nltk.download('punkt')\n",
    "nltk.download('wordnet')"
   ]
  },
  {
   "cell_type": "code",
   "execution_count": 18,
   "metadata": {},
   "outputs": [],
   "source": [
    "stopwords = set(nltk_stopwords.words('english'))"
   ]
  },
  {
   "cell_type": "code",
   "execution_count": 19,
   "metadata": {},
   "outputs": [
    {
     "data": {
      "application/vnd.jupyter.widget-view+json": {
       "model_id": "7fcc274d946f41b2a96ef09b9aa94c28",
       "version_major": 2,
       "version_minor": 0
      },
      "text/plain": [
       "  0%|          | 0/159292 [00:00<?, ?it/s]"
      ]
     },
     "metadata": {},
     "output_type": "display_data"
    },
    {
     "name": "stdout",
     "output_type": "stream",
     "text": [
      "CPU times: user 15min 10s, sys: 6.63 s, total: 15min 16s\n",
      "Wall time: 15min 40s\n"
     ]
    },
    {
     "data": {
      "text/plain": [
       "0         explanation why the edit make under my usernam...\n",
       "1         d aww he match this background colour I m seem...\n",
       "2         hey man I m really not try to edit war it s ju...\n",
       "3         more I can t make any real suggestion on impro...\n",
       "4         you sir be my hero any chance you remember wha...\n",
       "                                ...                        \n",
       "159287    and for the second time of ask when your view ...\n",
       "159288    you should be ashamed of yourself that be a ho...\n",
       "159289    spitzer umm there s no actual article for pros...\n",
       "159290    and it look like it be actually you who put on...\n",
       "159291    and I really don t think you understand I come...\n",
       "Name: text, Length: 159292, dtype: object"
      ]
     },
     "execution_count": 19,
     "metadata": {},
     "output_type": "execute_result"
    }
   ],
   "source": [
    "%%time\n",
    "corpus_lemmatized = corpus.progress_apply(lambda x: lemmatize(clear_text(x)))\n",
    "corpus_lemmatized"
   ]
  },
  {
   "cell_type": "markdown",
   "metadata": {},
   "source": [
    "#### Wordcloud"
   ]
  },
  {
   "cell_type": "markdown",
   "metadata": {},
   "source": [
    "Создадим облако слов для всего объёма текстов:"
   ]
  },
  {
   "cell_type": "code",
   "execution_count": 20,
   "metadata": {},
   "outputs": [],
   "source": [
    "cloud = WordCloud(stopwords=stopwords).generate(\" \".join(corpus for corpus in corpus_lemmatized))"
   ]
  },
  {
   "cell_type": "code",
   "execution_count": 21,
   "metadata": {},
   "outputs": [
    {
     "data": {
      "text/plain": [
       "<matplotlib.image.AxesImage at 0x7ff83157b0d0>"
      ]
     },
     "execution_count": 21,
     "metadata": {},
     "output_type": "execute_result"
    },
    {
     "data": {
      "image/png": "[encoded data removed]",
      "text/plain": [
       "<Figure size 432x288 with 1 Axes>"
      ]
     },
     "metadata": {
      "needs_background": "light"
     },
     "output_type": "display_data"
    }
   ],
   "source": [
    "plt.imshow(cloud, interpolation='bilinear')"
   ]
  },
  {
   "cell_type": "markdown",
   "metadata": {},
   "source": [
    "Самые часто встречающиеся слова: article, edit, make и think."
   ]
  },
  {
   "cell_type": "markdown",
   "metadata": {},
   "source": [
    "#### Разделение данных"
   ]
  },
  {
   "cell_type": "markdown",
   "metadata": {},
   "source": [
    "Разделим данные на train и test:"
   ]
  },
  {
   "cell_type": "code",
   "execution_count": 89,
   "metadata": {},
   "outputs": [],
   "source": [
    "features_train, features_test, target_train, target_test = train_test_split(corpus_lemmatized, target, test_size=0.25, random_state = 12345, stratify = target)"
   ]
  },
  {
   "cell_type": "markdown",
   "metadata": {},
   "source": [
    "#### Борьба с дисбалансом"
   ]
  },
  {
   "cell_type": "code",
   "execution_count": 81,
   "metadata": {},
   "outputs": [],
   "source": [
    "#target_train[target_train == 1].count()/target_train[target_train==0].count()"
   ]
  },
  {
   "cell_type": "code",
   "execution_count": 82,
   "metadata": {},
   "outputs": [],
   "source": [
    "#features_train, target_train = upsample(features_train, target_train, 9)"
   ]
  },
  {
   "cell_type": "code",
   "execution_count": 83,
   "metadata": {},
   "outputs": [],
   "source": [
    "#target_train[target_train == 1].count()/target_train[target_train==0].count()"
   ]
  },
  {
   "cell_type": "markdown",
   "metadata": {},
   "source": [
    "#### Векторизация"
   ]
  },
  {
   "cell_type": "markdown",
   "metadata": {},
   "source": [
    "Векторизируем текст:"
   ]
  },
  {
   "cell_type": "code",
   "execution_count": 84,
   "metadata": {},
   "outputs": [],
   "source": [
    "#tf_idf_vec = TfidfVectorizer(stop_words=stopwords)"
   ]
  },
  {
   "cell_type": "code",
   "execution_count": 52,
   "metadata": {},
   "outputs": [],
   "source": [
    "#%%time\n",
    "#tf_idf_train = tf_idf_vec.fit_transform(features_train)\n",
    "#tf_idf_test = tf_idf_vec.transform(features_test)"
   ]
  },
  {
   "cell_type": "markdown",
   "metadata": {},
   "source": [
    "#### Вывод"
   ]
  },
  {
   "cell_type": "markdown",
   "metadata": {},
   "source": [
    "Изучены данные. Из датасета исключена колонка 'Unnamed: 0', проведена лемматизация и векторизация данных, а также борьба с дисбалансом с помощью Upsampling."
   ]
  },
  {
   "cell_type": "markdown",
   "metadata": {},
   "source": [
    "## Обучение"
   ]
  },
  {
   "cell_type": "markdown",
   "metadata": {},
   "source": [
    "Для обучения воспользуемся несколькими моделями."
   ]
  },
  {
   "cell_type": "markdown",
   "metadata": {},
   "source": [
    "#### LogisticRegression"
   ]
  },
  {
   "cell_type": "code",
   "execution_count": 94,
   "metadata": {},
   "outputs": [],
   "source": [
    "params={'vect__ngram_range':[(1, 1), (3,3)]}\n",
    "pipeline = Pipeline([\n",
    "    ('vect', TfidfVectorizer(stop_words=stopwords)),\n",
    "    ('model', LogisticRegression(max_iter=1000))\n",
    "])"
   ]
  },
  {
   "cell_type": "code",
   "execution_count": 95,
   "metadata": {},
   "outputs": [
    {
     "name": "stdout",
     "output_type": "stream",
     "text": [
      "CPU times: user 4min 13s, sys: 2min 46s, total: 6min 59s\n",
      "Wall time: 7min\n"
     ]
    }
   ],
   "source": [
    "%%time\n",
    "grid = GridSearchCV(pipeline, cv=3, param_grid=params, scoring='f1')\n",
    "grid.fit(features_train, target_train)\n",
    "lr_best_model = grid.best_estimator_\n",
    "lr_best_score = grid.best_score_\n",
    "lr_best_params = grid.best_params_"
   ]
  },
  {
   "cell_type": "code",
   "execution_count": 96,
   "metadata": {},
   "outputs": [
    {
     "data": {
      "text/plain": [
       "Pipeline(steps=[('vect',\n",
       "                 TfidfVectorizer(stop_words={'a', 'about', 'above', 'after',\n",
       "                                             'again', 'against', 'ain', 'all',\n",
       "                                             'am', 'an', 'and', 'any', 'are',\n",
       "                                             'aren', \"aren't\", 'as', 'at', 'be',\n",
       "                                             'because', 'been', 'before',\n",
       "                                             'being', 'below', 'between',\n",
       "                                             'both', 'but', 'by', 'can',\n",
       "                                             'couldn', \"couldn't\", ...})),\n",
       "                ('model', LogisticRegression(max_iter=1000))])"
      ]
     },
     "execution_count": 96,
     "metadata": {},
     "output_type": "execute_result"
    }
   ],
   "source": [
    "lr_best_model"
   ]
  },
  {
   "cell_type": "markdown",
   "metadata": {},
   "source": [
    "Скор регрессии на кросс-валидации:"
   ]
  },
  {
   "cell_type": "code",
   "execution_count": 97,
   "metadata": {},
   "outputs": [
    {
     "data": {
      "text/plain": [
       "0.723916115390126"
      ]
     },
     "execution_count": 97,
     "metadata": {},
     "output_type": "execute_result"
    }
   ],
   "source": [
    "lr_best_score"
   ]
  },
  {
   "cell_type": "markdown",
   "metadata": {},
   "source": [
    "#### Random Forest"
   ]
  },
  {
   "cell_type": "code",
   "execution_count": 98,
   "metadata": {},
   "outputs": [],
   "source": [
    "params={\n",
    "    'vect__ngram_range':[(1, 1), (3,3)],\n",
    "    'model__max_depth':[25, 45],\n",
    "    'model__n_estimators':[50, 100]}"
   ]
  },
  {
   "cell_type": "code",
   "execution_count": 99,
   "metadata": {},
   "outputs": [],
   "source": [
    "pipeline = Pipeline([\n",
    "    ('vect', TfidfVectorizer(stop_words=stopwords)),\n",
    "    ('model', RandomForestClassifier(random_state=12345))\n",
    "])"
   ]
  },
  {
   "cell_type": "code",
   "execution_count": 100,
   "metadata": {},
   "outputs": [
    {
     "name": "stdout",
     "output_type": "stream",
     "text": [
      "CPU times: user 7min 16s, sys: 5.95 s, total: 7min 22s\n",
      "Wall time: 7min 23s\n"
     ]
    },
    {
     "data": {
      "text/plain": [
       "GridSearchCV(cv=3,\n",
       "             estimator=Pipeline(steps=[('vect',\n",
       "                                        TfidfVectorizer(stop_words={'a',\n",
       "                                                                    'about',\n",
       "                                                                    'above',\n",
       "                                                                    'after',\n",
       "                                                                    'again',\n",
       "                                                                    'against',\n",
       "                                                                    'ain',\n",
       "                                                                    'all', 'am',\n",
       "                                                                    'an', 'and',\n",
       "                                                                    'any',\n",
       "                                                                    'are',\n",
       "                                                                    'aren',\n",
       "                                                                    \"aren't\",\n",
       "                                                                    'as', 'at',\n",
       "                                                                    'be',\n",
       "                                                                    'because',\n",
       "                                                                    'been',\n",
       "                                                                    'before',\n",
       "                                                                    'being',\n",
       "                                                                    'below',\n",
       "                                                                    'between',\n",
       "                                                                    'both',\n",
       "                                                                    'but', 'by',\n",
       "                                                                    'can',\n",
       "                                                                    'couldn',\n",
       "                                                                    \"couldn't\", ...})),\n",
       "                                       ('model',\n",
       "                                        RandomForestClassifier(random_state=12345))]),\n",
       "             param_grid={'model__max_depth': [25, 45],\n",
       "                         'model__n_estimators': [50, 100],\n",
       "                         'vect__ngram_range': [(1, 1), (3, 3)]},\n",
       "             scoring='f1')"
      ]
     },
     "execution_count": 100,
     "metadata": {},
     "output_type": "execute_result"
    }
   ],
   "source": [
    "%%time\n",
    "grid = GridSearchCV(pipeline, cv=3, param_grid=params, scoring='f1')\n",
    "grid.fit(features_train, target_train)"
   ]
  },
  {
   "cell_type": "code",
   "execution_count": 101,
   "metadata": {},
   "outputs": [],
   "source": [
    "rf_best_model = grid.best_estimator_\n",
    "rf_best_score = grid.best_score_\n",
    "rf_best_params = grid.best_params_"
   ]
  },
  {
   "cell_type": "markdown",
   "metadata": {},
   "source": [
    "Скор леса на кросс-валидации:"
   ]
  },
  {
   "cell_type": "code",
   "execution_count": 102,
   "metadata": {},
   "outputs": [
    {
     "data": {
      "text/plain": [
       "0.07034844507980414"
      ]
     },
     "execution_count": 102,
     "metadata": {},
     "output_type": "execute_result"
    }
   ],
   "source": [
    "rf_best_score"
   ]
  },
  {
   "cell_type": "markdown",
   "metadata": {},
   "source": [
    "#### Gradient Boosting"
   ]
  },
  {
   "cell_type": "code",
   "execution_count": 103,
   "metadata": {},
   "outputs": [],
   "source": [
    "params = {\n",
    "    'vect__ngram_range':[(1, 1), (3,3)],\n",
    "    'model__metric':['f1'], \n",
    "    'model__num_iterations':[200], \n",
    "    'model__boosting':['gbdt'], \n",
    "    'model__max_depth':[25],\n",
    "    'model__num_leaves':[45], \n",
    "    'model__learning_rate':[0.2],\n",
    "         }"
   ]
  },
  {
   "cell_type": "code",
   "execution_count": 104,
   "metadata": {},
   "outputs": [],
   "source": [
    "pipeline = Pipeline([\n",
    "    ('vect', TfidfVectorizer(stop_words=stopwords)),\n",
    "    ('model', lgb.LGBMClassifier(objective='binary', metric='f1', random_state=12345))\n",
    "])"
   ]
  },
  {
   "cell_type": "code",
   "execution_count": 105,
   "metadata": {},
   "outputs": [
    {
     "name": "stderr",
     "output_type": "stream",
     "text": [
      "/opt/conda/lib/python3.9/site-packages/lightgbm/engine.py:177: UserWarning: Found `num_iterations` in params. Will use it instead of argument\n",
      "  _log_warning(f\"Found `{alias}` in params. Will use it instead of argument\")\n",
      "/opt/conda/lib/python3.9/site-packages/lightgbm/engine.py:177: UserWarning: Found `num_iterations` in params. Will use it instead of argument\n",
      "  _log_warning(f\"Found `{alias}` in params. Will use it instead of argument\")\n"
     ]
    },
    {
     "name": "stdout",
     "output_type": "stream",
     "text": [
      "[LightGBM] [Warning] boosting is set=gbdt, boosting_type=gbdt will be ignored. Current value: boosting=gbdt\n"
     ]
    },
    {
     "name": "stderr",
     "output_type": "stream",
     "text": [
      "/opt/conda/lib/python3.9/site-packages/lightgbm/engine.py:177: UserWarning: Found `num_iterations` in params. Will use it instead of argument\n",
      "  _log_warning(f\"Found `{alias}` in params. Will use it instead of argument\")\n"
     ]
    },
    {
     "name": "stdout",
     "output_type": "stream",
     "text": [
      "[LightGBM] [Warning] boosting is set=gbdt, boosting_type=gbdt will be ignored. Current value: boosting=gbdt\n"
     ]
    },
    {
     "name": "stderr",
     "output_type": "stream",
     "text": [
      "/opt/conda/lib/python3.9/site-packages/lightgbm/engine.py:177: UserWarning: Found `num_iterations` in params. Will use it instead of argument\n",
      "  _log_warning(f\"Found `{alias}` in params. Will use it instead of argument\")\n"
     ]
    },
    {
     "name": "stdout",
     "output_type": "stream",
     "text": [
      "[LightGBM] [Warning] boosting is set=gbdt, boosting_type=gbdt will be ignored. Current value: boosting=gbdt\n"
     ]
    },
    {
     "name": "stderr",
     "output_type": "stream",
     "text": [
      "/opt/conda/lib/python3.9/site-packages/lightgbm/engine.py:177: UserWarning: Found `num_iterations` in params. Will use it instead of argument\n",
      "  _log_warning(f\"Found `{alias}` in params. Will use it instead of argument\")\n"
     ]
    },
    {
     "name": "stdout",
     "output_type": "stream",
     "text": [
      "[LightGBM] [Warning] boosting is set=gbdt, boosting_type=gbdt will be ignored. Current value: boosting=gbdt\n"
     ]
    },
    {
     "name": "stderr",
     "output_type": "stream",
     "text": [
      "/opt/conda/lib/python3.9/site-packages/lightgbm/engine.py:177: UserWarning: Found `num_iterations` in params. Will use it instead of argument\n",
      "  _log_warning(f\"Found `{alias}` in params. Will use it instead of argument\")\n"
     ]
    },
    {
     "name": "stdout",
     "output_type": "stream",
     "text": [
      "[LightGBM] [Warning] boosting is set=gbdt, boosting_type=gbdt will be ignored. Current value: boosting=gbdt\n"
     ]
    },
    {
     "name": "stderr",
     "output_type": "stream",
     "text": [
      "/opt/conda/lib/python3.9/site-packages/lightgbm/engine.py:177: UserWarning: Found `num_iterations` in params. Will use it instead of argument\n",
      "  _log_warning(f\"Found `{alias}` in params. Will use it instead of argument\")\n"
     ]
    },
    {
     "name": "stdout",
     "output_type": "stream",
     "text": [
      "[LightGBM] [Warning] boosting is set=gbdt, boosting_type=gbdt will be ignored. Current value: boosting=gbdt\n",
      "CPU times: user 19min 49s, sys: 0 ns, total: 19min 49s\n",
      "Wall time: 19min 57s\n"
     ]
    }
   ],
   "source": [
    "%%time\n",
    "grid = GridSearchCV(pipeline, cv=3, param_grid=params, scoring='f1')\n",
    "grid.fit(features_train, target_train)\n",
    "gb_best_model = grid.best_estimator_\n",
    "gb_best_score = grid.best_score_\n",
    "gb_best_params = grid.best_params_"
   ]
  },
  {
   "cell_type": "markdown",
   "metadata": {},
   "source": [
    "Скор бустинга на кросс-валидации:"
   ]
  },
  {
   "cell_type": "code",
   "execution_count": 106,
   "metadata": {},
   "outputs": [
    {
     "data": {
      "text/plain": [
       "0.7742354202099303"
      ]
     },
     "execution_count": 106,
     "metadata": {},
     "output_type": "execute_result"
    }
   ],
   "source": [
    "gb_best_score"
   ]
  },
  {
   "cell_type": "markdown",
   "metadata": {},
   "source": [
    "#### Лучшая модель на валидации"
   ]
  },
  {
   "cell_type": "markdown",
   "metadata": {},
   "source": [
    "На валидации лучшая модель - LGBMClassifier с f1-метрикой 0.774:"
   ]
  },
  {
   "cell_type": "code",
   "execution_count": 107,
   "metadata": {
    "scrolled": false
   },
   "outputs": [
    {
     "data": {
      "text/plain": [
       "Pipeline(steps=[('vect',\n",
       "                 TfidfVectorizer(stop_words={'a', 'about', 'above', 'after',\n",
       "                                             'again', 'against', 'ain', 'all',\n",
       "                                             'am', 'an', 'and', 'any', 'are',\n",
       "                                             'aren', \"aren't\", 'as', 'at', 'be',\n",
       "                                             'because', 'been', 'before',\n",
       "                                             'being', 'below', 'between',\n",
       "                                             'both', 'but', 'by', 'can',\n",
       "                                             'couldn', \"couldn't\", ...})),\n",
       "                ('model',\n",
       "                 LGBMClassifier(boosting='gbdt', learning_rate=0.2,\n",
       "                                max_depth=25, metric='f1', num_iterations=200,\n",
       "                                num_leaves=45, objective='binary',\n",
       "                                random_state=12345))])"
      ]
     },
     "execution_count": 107,
     "metadata": {},
     "output_type": "execute_result"
    }
   ],
   "source": [
    "best_model = gb_best_model\n",
    "best_model"
   ]
  },
  {
   "cell_type": "code",
   "execution_count": 108,
   "metadata": {},
   "outputs": [],
   "source": [
    "best_params = gb_best_params"
   ]
  },
  {
   "cell_type": "markdown",
   "metadata": {},
   "source": [
    "#### Тестирование модели"
   ]
  },
  {
   "cell_type": "markdown",
   "metadata": {},
   "source": [
    "Проверим лучшую модель по кросс-валидации на тестовых данных:"
   ]
  },
  {
   "cell_type": "code",
   "execution_count": 109,
   "metadata": {},
   "outputs": [
    {
     "name": "stderr",
     "output_type": "stream",
     "text": [
      "/opt/conda/lib/python3.9/site-packages/lightgbm/engine.py:177: UserWarning: Found `num_iterations` in params. Will use it instead of argument\n",
      "  _log_warning(f\"Found `{alias}` in params. Will use it instead of argument\")\n"
     ]
    },
    {
     "data": {
      "text/plain": [
       "Pipeline(steps=[('vect',\n",
       "                 TfidfVectorizer(stop_words={'a', 'about', 'above', 'after',\n",
       "                                             'again', 'against', 'ain', 'all',\n",
       "                                             'am', 'an', 'and', 'any', 'are',\n",
       "                                             'aren', \"aren't\", 'as', 'at', 'be',\n",
       "                                             'because', 'been', 'before',\n",
       "                                             'being', 'below', 'between',\n",
       "                                             'both', 'but', 'by', 'can',\n",
       "                                             'couldn', \"couldn't\", ...})),\n",
       "                ('model',\n",
       "                 LGBMClassifier(boosting='gbdt', learning_rate=0.2,\n",
       "                                max_depth=25, metric='f1', num_iterations=200,\n",
       "                                num_leaves=45, objective='binary',\n",
       "                                random_state=12345))])"
      ]
     },
     "execution_count": 109,
     "metadata": {},
     "output_type": "execute_result"
    }
   ],
   "source": [
    "best_model.fit(features_train, target_train)"
   ]
  },
  {
   "cell_type": "code",
   "execution_count": 110,
   "metadata": {},
   "outputs": [
    {
     "data": {
      "text/plain": [
       "0.7788394959146931"
      ]
     },
     "execution_count": 110,
     "metadata": {},
     "output_type": "execute_result"
    }
   ],
   "source": [
    "f1_score(target_test, best_model.predict(features_test))"
   ]
  },
  {
   "cell_type": "code",
   "execution_count": 111,
   "metadata": {},
   "outputs": [
    {
     "data": {
      "text/plain": [
       "{'model__boosting': 'gbdt',\n",
       " 'model__learning_rate': 0.2,\n",
       " 'model__max_depth': 25,\n",
       " 'model__metric': 'f1',\n",
       " 'model__num_iterations': 200,\n",
       " 'model__num_leaves': 45,\n",
       " 'vect__ngram_range': (1, 1)}"
      ]
     },
     "execution_count": 111,
     "metadata": {},
     "output_type": "execute_result"
    }
   ],
   "source": [
    "best_params"
   ]
  },
  {
   "cell_type": "code",
   "execution_count": 112,
   "metadata": {},
   "outputs": [
    {
     "data": {
      "text/plain": [
       "Pipeline(steps=[('vect',\n",
       "                 TfidfVectorizer(stop_words={'a', 'about', 'above', 'after',\n",
       "                                             'again', 'against', 'ain', 'all',\n",
       "                                             'am', 'an', 'and', 'any', 'are',\n",
       "                                             'aren', \"aren't\", 'as', 'at', 'be',\n",
       "                                             'because', 'been', 'before',\n",
       "                                             'being', 'below', 'between',\n",
       "                                             'both', 'but', 'by', 'can',\n",
       "                                             'couldn', \"couldn't\", ...})),\n",
       "                ('model',\n",
       "                 LGBMClassifier(boosting='gbdt', learning_rate=0.2,\n",
       "                                max_depth=25, metric='f1', num_iterations=200,\n",
       "                                num_leaves=45, objective='binary',\n",
       "                                random_state=12345))])"
      ]
     },
     "execution_count": 112,
     "metadata": {},
     "output_type": "execute_result"
    }
   ],
   "source": [
    "best_model"
   ]
  },
  {
   "cell_type": "markdown",
   "metadata": {},
   "source": [
    "#### Вывод"
   ]
  },
  {
   "cell_type": "markdown",
   "metadata": {},
   "source": [
    "Лучшая модель - LGBMClassifier с параметрами (boosting='gbdt', learning_rate=0.2,\n",
    "                                max_depth=25, metric='f1', num_iterations=200,\n",
    "                                num_leaves=45, objective='binary',\n",
    "                                random_state=12345). Лучшее количество n-gram: (1,1). Метрика f1 на тестовых данных - 0.779."
   ]
  },
  {
   "cell_type": "markdown",
   "metadata": {},
   "source": [
    "## Выводы"
   ]
  },
  {
   "cell_type": "markdown",
   "metadata": {},
   "source": [
    "В ходе проекта были изучены данные токсичных комментариев. Проведена лемматизация текстов и их векторизация с исключением стоп-слов, а также визуализировано облако наиболее частых слов.\n",
    "\n",
    "Были обучены три модели: LogisticRegression, RandomForestClassifier и LGBMClassifier. Хуже всего показал себя RandomForest, его метрика значительно уступает остальным. Метрика f1 логистической регрессии не достигает порога в 0.75, а LGBM бустинг с параметрами (boosting='gbdt', learning_rate=0.2, max_depth=25, metric='f1', num_iterations=200, num_leaves=45, objective='binary', random_state=12345) и n-gram= (1,1) преодолел порог метрики со значением 0.779 на тестовых данных. Лучшая модель - LGBMClassifier."
   ]
  }
 ],
 "metadata": {
  "ExecuteTimeLog": [
   {
    "duration": 1635,
    "start_time": "2023-07-18T12:20:00.523Z"
   },
   {
    "duration": 11,
    "start_time": "2023-07-18T12:20:03.071Z"
   },
   {
    "duration": 72,
    "start_time": "2023-07-18T12:20:27.219Z"
   },
   {
    "duration": 63347,
    "start_time": "2023-07-18T12:20:31.268Z"
   },
   {
    "duration": 5,
    "start_time": "2023-07-18T12:22:05.244Z"
   },
   {
    "duration": 1184,
    "start_time": "2023-07-18T12:22:17.465Z"
   },
   {
    "duration": 64484,
    "start_time": "2023-07-18T12:22:19.387Z"
   },
   {
    "duration": 3,
    "start_time": "2023-07-18T12:23:29.939Z"
   },
   {
    "duration": 15,
    "start_time": "2023-07-18T12:23:30.516Z"
   },
   {
    "duration": 55355,
    "start_time": "2023-07-18T12:23:52.678Z"
   },
   {
    "duration": 3,
    "start_time": "2023-07-18T12:25:09.398Z"
   },
   {
    "duration": 4,
    "start_time": "2023-07-18T12:25:10.935Z"
   },
   {
    "duration": 55808,
    "start_time": "2023-07-18T12:25:44.640Z"
   },
   {
    "duration": 3,
    "start_time": "2023-07-18T12:26:40.451Z"
   },
   {
    "duration": 35,
    "start_time": "2023-07-18T12:26:40.455Z"
   },
   {
    "duration": 727,
    "start_time": "2023-07-18T17:43:26.648Z"
   },
   {
    "duration": 2282,
    "start_time": "2023-07-18T17:43:28.451Z"
   },
   {
    "duration": 10,
    "start_time": "2023-07-18T17:43:30.735Z"
   },
   {
    "duration": 10,
    "start_time": "2023-07-18T17:45:48.318Z"
   },
   {
    "duration": 10,
    "start_time": "2023-07-18T17:50:19.557Z"
   },
   {
    "duration": 168,
    "start_time": "2023-07-18T17:51:58.008Z"
   },
   {
    "duration": 11,
    "start_time": "2023-07-18T17:52:05.085Z"
   },
   {
    "duration": 6,
    "start_time": "2023-07-18T17:52:06.756Z"
   },
   {
    "duration": 38,
    "start_time": "2023-07-18T17:52:08.649Z"
   },
   {
    "duration": 1450,
    "start_time": "2023-07-18T17:53:05.719Z"
   },
   {
    "duration": 2399,
    "start_time": "2023-07-18T17:53:09.004Z"
   },
   {
    "duration": 14,
    "start_time": "2023-07-18T17:53:11.405Z"
   },
   {
    "duration": 11,
    "start_time": "2023-07-18T17:53:11.421Z"
   },
   {
    "duration": 12,
    "start_time": "2023-07-18T17:53:11.546Z"
   },
   {
    "duration": 64,
    "start_time": "2023-07-18T17:53:31.197Z"
   },
   {
    "duration": 1481,
    "start_time": "2023-07-18T17:53:34.080Z"
   },
   {
    "duration": 2415,
    "start_time": "2023-07-18T17:53:35.563Z"
   },
   {
    "duration": 15,
    "start_time": "2023-07-18T17:53:37.979Z"
   },
   {
    "duration": 21,
    "start_time": "2023-07-18T17:53:37.996Z"
   },
   {
    "duration": 15,
    "start_time": "2023-07-18T17:53:38.018Z"
   },
   {
    "duration": 25,
    "start_time": "2023-07-18T17:53:38.034Z"
   },
   {
    "duration": 3,
    "start_time": "2023-07-18T17:53:41.360Z"
   },
   {
    "duration": 101,
    "start_time": "2023-07-18T17:53:42.921Z"
   },
   {
    "duration": 22,
    "start_time": "2023-07-18T17:54:00.091Z"
   },
   {
    "duration": 11,
    "start_time": "2023-07-18T17:55:28.197Z"
   },
   {
    "duration": 3,
    "start_time": "2023-07-18T17:55:43.198Z"
   },
   {
    "duration": 3,
    "start_time": "2023-07-18T17:55:44.231Z"
   },
   {
    "duration": 26458,
    "start_time": "2023-07-18T17:55:44.767Z"
   },
   {
    "duration": 1336,
    "start_time": "2023-07-18T17:56:20.796Z"
   },
   {
    "duration": 870,
    "start_time": "2023-07-18T17:56:22.134Z"
   },
   {
    "duration": 15,
    "start_time": "2023-07-18T17:56:23.006Z"
   },
   {
    "duration": 11,
    "start_time": "2023-07-18T17:56:23.024Z"
   },
   {
    "duration": 14,
    "start_time": "2023-07-18T17:56:23.037Z"
   },
   {
    "duration": 4,
    "start_time": "2023-07-18T17:56:23.074Z"
   },
   {
    "duration": 7,
    "start_time": "2023-07-18T17:56:23.080Z"
   },
   {
    "duration": 92488,
    "start_time": "2023-07-18T17:56:32.460Z"
   },
   {
    "duration": 7,
    "start_time": "2023-07-18T17:58:16.633Z"
   },
   {
    "duration": 36,
    "start_time": "2023-07-18T17:58:42.015Z"
   },
   {
    "duration": 3,
    "start_time": "2023-07-18T17:58:49.039Z"
   },
   {
    "duration": 3,
    "start_time": "2023-07-18T17:58:53.769Z"
   },
   {
    "duration": 19688,
    "start_time": "2023-07-18T17:59:01.389Z"
   },
   {
    "duration": 4,
    "start_time": "2023-07-18T17:59:26.600Z"
   },
   {
    "duration": 71,
    "start_time": "2023-07-18T17:59:28.020Z"
   },
   {
    "duration": 3,
    "start_time": "2023-07-18T17:59:34.363Z"
   },
   {
    "duration": 735,
    "start_time": "2023-07-18T17:59:35.041Z"
   },
   {
    "duration": 4,
    "start_time": "2023-07-18T17:59:56.495Z"
   },
   {
    "duration": 72142,
    "start_time": "2023-07-18T17:59:56.877Z"
   },
   {
    "duration": 1399,
    "start_time": "2023-07-18T18:03:56.096Z"
   },
   {
    "duration": 870,
    "start_time": "2023-07-18T18:03:57.497Z"
   },
   {
    "duration": 17,
    "start_time": "2023-07-18T18:03:58.369Z"
   },
   {
    "duration": 11,
    "start_time": "2023-07-18T18:03:59.357Z"
   },
   {
    "duration": 11,
    "start_time": "2023-07-18T18:03:59.673Z"
   },
   {
    "duration": 3,
    "start_time": "2023-07-18T18:03:59.998Z"
   },
   {
    "duration": 3,
    "start_time": "2023-07-18T18:04:00.541Z"
   },
   {
    "duration": 3,
    "start_time": "2023-07-18T18:04:00.852Z"
   },
   {
    "duration": 66229,
    "start_time": "2023-07-18T18:04:23.841Z"
   },
   {
    "duration": 4,
    "start_time": "2023-07-18T18:06:26.911Z"
   },
   {
    "duration": 4,
    "start_time": "2023-07-18T18:07:49.211Z"
   },
   {
    "duration": 829,
    "start_time": "2023-07-18T18:07:49.521Z"
   },
   {
    "duration": 8,
    "start_time": "2023-07-18T18:07:50.352Z"
   },
   {
    "duration": 25,
    "start_time": "2023-07-18T18:07:50.361Z"
   },
   {
    "duration": 36,
    "start_time": "2023-07-18T18:07:50.534Z"
   },
   {
    "duration": 3,
    "start_time": "2023-07-18T18:07:52.145Z"
   },
   {
    "duration": 4,
    "start_time": "2023-07-18T18:07:53.311Z"
   },
   {
    "duration": 3,
    "start_time": "2023-07-18T18:07:54.532Z"
   },
   {
    "duration": 415,
    "start_time": "2023-07-18T18:07:58.367Z"
   },
   {
    "duration": 1226,
    "start_time": "2023-07-18T18:08:48.010Z"
   },
   {
    "duration": 3,
    "start_time": "2023-07-18T18:08:59.293Z"
   },
   {
    "duration": 1606,
    "start_time": "2023-07-18T18:09:00.056Z"
   },
   {
    "duration": 1373,
    "start_time": "2023-07-18T18:09:53.938Z"
   },
   {
    "duration": 955,
    "start_time": "2023-07-18T18:09:55.313Z"
   },
   {
    "duration": 18,
    "start_time": "2023-07-18T18:09:56.270Z"
   },
   {
    "duration": 21,
    "start_time": "2023-07-18T18:09:56.290Z"
   },
   {
    "duration": 24,
    "start_time": "2023-07-18T18:09:56.314Z"
   },
   {
    "duration": 19,
    "start_time": "2023-07-18T18:09:56.340Z"
   },
   {
    "duration": 13,
    "start_time": "2023-07-18T18:09:56.361Z"
   },
   {
    "duration": 4,
    "start_time": "2023-07-18T18:10:02.399Z"
   },
   {
    "duration": 1157,
    "start_time": "2023-07-18T18:10:08.019Z"
   },
   {
    "duration": 5,
    "start_time": "2023-07-18T18:10:26.971Z"
   },
   {
    "duration": 4,
    "start_time": "2023-07-18T18:13:08.333Z"
   },
   {
    "duration": 3,
    "start_time": "2023-07-18T18:13:10.924Z"
   },
   {
    "duration": 11,
    "start_time": "2023-07-18T18:13:37.467Z"
   },
   {
    "duration": 129,
    "start_time": "2023-07-18T18:14:32.152Z"
   },
   {
    "duration": 2,
    "start_time": "2023-07-18T18:14:41.115Z"
   },
   {
    "duration": 14,
    "start_time": "2023-07-18T18:14:42.923Z"
   },
   {
    "duration": 4,
    "start_time": "2023-07-18T18:14:56.719Z"
   },
   {
    "duration": 1305,
    "start_time": "2023-07-18T18:15:54.202Z"
   },
   {
    "duration": 890,
    "start_time": "2023-07-18T18:15:55.509Z"
   },
   {
    "duration": 13,
    "start_time": "2023-07-18T18:15:56.401Z"
   },
   {
    "duration": 11,
    "start_time": "2023-07-18T18:15:56.415Z"
   },
   {
    "duration": 19,
    "start_time": "2023-07-18T18:15:56.428Z"
   },
   {
    "duration": 3,
    "start_time": "2023-07-18T18:15:56.448Z"
   },
   {
    "duration": 24,
    "start_time": "2023-07-18T18:15:56.452Z"
   },
   {
    "duration": 11,
    "start_time": "2023-07-18T18:15:56.478Z"
   },
   {
    "duration": 2,
    "start_time": "2023-07-18T18:15:58.566Z"
   },
   {
    "duration": 1294,
    "start_time": "2023-07-18T18:16:01.274Z"
   },
   {
    "duration": 3,
    "start_time": "2023-07-18T18:16:10.643Z"
   },
   {
    "duration": 4,
    "start_time": "2023-07-18T18:16:12.038Z"
   },
   {
    "duration": 4,
    "start_time": "2023-07-18T18:18:18.611Z"
   },
   {
    "duration": 80,
    "start_time": "2023-07-18T18:21:35.614Z"
   },
   {
    "duration": 3,
    "start_time": "2023-07-18T18:21:40.194Z"
   },
   {
    "duration": 3,
    "start_time": "2023-07-18T18:21:41.729Z"
   },
   {
    "duration": 3,
    "start_time": "2023-07-18T18:21:42.682Z"
   },
   {
    "duration": 4,
    "start_time": "2023-07-18T18:22:33.582Z"
   },
   {
    "duration": 968,
    "start_time": "2023-07-18T18:22:33.587Z"
   },
   {
    "duration": 7,
    "start_time": "2023-07-18T18:22:34.557Z"
   },
   {
    "duration": 20,
    "start_time": "2023-07-18T18:22:34.566Z"
   },
   {
    "duration": 19,
    "start_time": "2023-07-18T18:22:34.587Z"
   },
   {
    "duration": 3,
    "start_time": "2023-07-18T18:22:34.607Z"
   },
   {
    "duration": 7,
    "start_time": "2023-07-18T18:22:34.612Z"
   },
   {
    "duration": 15,
    "start_time": "2023-07-18T18:22:34.620Z"
   },
   {
    "duration": 31,
    "start_time": "2023-07-18T18:22:34.636Z"
   },
   {
    "duration": 630,
    "start_time": "2023-07-18T18:22:36.530Z"
   },
   {
    "duration": 3,
    "start_time": "2023-07-18T18:23:49.790Z"
   },
   {
    "duration": 3,
    "start_time": "2023-07-18T18:23:50.325Z"
   },
   {
    "duration": 2,
    "start_time": "2023-07-18T18:23:50.620Z"
   },
   {
    "duration": 10,
    "start_time": "2023-07-18T18:23:52.135Z"
   },
   {
    "duration": 5,
    "start_time": "2023-07-18T18:24:10.383Z"
   },
   {
    "duration": 3,
    "start_time": "2023-07-18T18:24:18.018Z"
   },
   {
    "duration": 3,
    "start_time": "2023-07-18T18:24:18.692Z"
   },
   {
    "duration": 3,
    "start_time": "2023-07-18T18:24:19.052Z"
   },
   {
    "duration": 4,
    "start_time": "2023-07-18T18:24:19.736Z"
   },
   {
    "duration": 4,
    "start_time": "2023-07-18T18:24:40.327Z"
   },
   {
    "duration": 3,
    "start_time": "2023-07-18T18:24:41.606Z"
   },
   {
    "duration": 5,
    "start_time": "2023-07-18T18:24:41.794Z"
   },
   {
    "duration": 11,
    "start_time": "2023-07-18T18:24:42.086Z"
   },
   {
    "duration": 4,
    "start_time": "2023-07-18T18:25:00.690Z"
   },
   {
    "duration": 3,
    "start_time": "2023-07-18T18:25:01.084Z"
   },
   {
    "duration": 2,
    "start_time": "2023-07-18T18:25:01.450Z"
   },
   {
    "duration": 12,
    "start_time": "2023-07-18T18:25:02.022Z"
   },
   {
    "duration": 3,
    "start_time": "2023-07-18T18:25:37.087Z"
   },
   {
    "duration": 2,
    "start_time": "2023-07-18T18:25:37.993Z"
   },
   {
    "duration": 3,
    "start_time": "2023-07-18T18:25:38.676Z"
   },
   {
    "duration": 9,
    "start_time": "2023-07-18T18:25:43.654Z"
   },
   {
    "duration": 69,
    "start_time": "2023-07-18T18:26:55.856Z"
   },
   {
    "duration": 5,
    "start_time": "2023-07-18T18:27:11.392Z"
   },
   {
    "duration": 3,
    "start_time": "2023-07-18T18:27:12.049Z"
   },
   {
    "duration": 3,
    "start_time": "2023-07-18T18:27:12.477Z"
   },
   {
    "duration": 11,
    "start_time": "2023-07-18T18:27:13.090Z"
   },
   {
    "duration": 3,
    "start_time": "2023-07-18T18:27:20.600Z"
   },
   {
    "duration": 3,
    "start_time": "2023-07-18T18:27:22.695Z"
   },
   {
    "duration": 3,
    "start_time": "2023-07-18T18:27:23.133Z"
   },
   {
    "duration": 8,
    "start_time": "2023-07-18T18:27:23.612Z"
   },
   {
    "duration": 4,
    "start_time": "2023-07-18T18:28:34.345Z"
   },
   {
    "duration": 4,
    "start_time": "2023-07-18T18:28:51.873Z"
   },
   {
    "duration": 3,
    "start_time": "2023-07-18T18:28:54.852Z"
   },
   {
    "duration": 4,
    "start_time": "2023-07-18T18:29:02.491Z"
   },
   {
    "duration": 4,
    "start_time": "2023-07-18T18:29:17.464Z"
   },
   {
    "duration": 4,
    "start_time": "2023-07-18T18:29:20.887Z"
   },
   {
    "duration": 4,
    "start_time": "2023-07-18T18:29:25.597Z"
   },
   {
    "duration": 4,
    "start_time": "2023-07-18T18:29:28.248Z"
   },
   {
    "duration": 3,
    "start_time": "2023-07-18T18:29:34.624Z"
   },
   {
    "duration": 4,
    "start_time": "2023-07-18T18:29:39.058Z"
   },
   {
    "duration": 3,
    "start_time": "2023-07-18T18:29:57.612Z"
   },
   {
    "duration": 4,
    "start_time": "2023-07-18T18:29:58.604Z"
   },
   {
    "duration": 3,
    "start_time": "2023-07-18T18:29:59.481Z"
   },
   {
    "duration": 6,
    "start_time": "2023-07-18T18:30:01.251Z"
   },
   {
    "duration": 14,
    "start_time": "2023-07-18T18:30:47.332Z"
   },
   {
    "duration": 182,
    "start_time": "2023-07-18T18:32:24.809Z"
   },
   {
    "duration": 19456,
    "start_time": "2023-07-18T18:32:34.253Z"
   },
   {
    "duration": 3,
    "start_time": "2023-07-18T18:33:11.045Z"
   },
   {
    "duration": 1347,
    "start_time": "2023-07-18T18:35:00.022Z"
   },
   {
    "duration": 996,
    "start_time": "2023-07-18T18:35:01.372Z"
   },
   {
    "duration": 16,
    "start_time": "2023-07-18T18:35:02.370Z"
   },
   {
    "duration": 29,
    "start_time": "2023-07-18T18:35:02.388Z"
   },
   {
    "duration": 29,
    "start_time": "2023-07-18T18:35:02.419Z"
   },
   {
    "duration": 28,
    "start_time": "2023-07-18T18:35:02.450Z"
   },
   {
    "duration": 31,
    "start_time": "2023-07-18T18:35:02.481Z"
   },
   {
    "duration": 33,
    "start_time": "2023-07-18T18:35:02.514Z"
   },
   {
    "duration": 4,
    "start_time": "2023-07-18T18:35:03.729Z"
   },
   {
    "duration": 1678,
    "start_time": "2023-07-18T18:35:08.501Z"
   },
   {
    "duration": 84471,
    "start_time": "2023-07-18T18:37:01.345Z"
   },
   {
    "duration": 244,
    "start_time": "2023-07-18T18:39:55.065Z"
   },
   {
    "duration": 3,
    "start_time": "2023-07-18T18:41:50.416Z"
   },
   {
    "duration": 3,
    "start_time": "2023-07-18T18:42:22.858Z"
   },
   {
    "duration": 3,
    "start_time": "2023-07-18T18:42:57.404Z"
   },
   {
    "duration": 28,
    "start_time": "2023-07-18T18:44:24.601Z"
   },
   {
    "duration": 41,
    "start_time": "2023-07-18T18:45:10.894Z"
   },
   {
    "duration": 4842,
    "start_time": "2023-07-18T18:45:33.791Z"
   },
   {
    "duration": 6785,
    "start_time": "2023-07-18T18:45:44.702Z"
   },
   {
    "duration": 5,
    "start_time": "2023-07-18T18:45:56.969Z"
   },
   {
    "duration": 5,
    "start_time": "2023-07-18T18:46:01.233Z"
   },
   {
    "duration": 4,
    "start_time": "2023-07-18T18:46:04.276Z"
   },
   {
    "duration": 45,
    "start_time": "2023-07-18T18:46:10.993Z"
   },
   {
    "duration": 3,
    "start_time": "2023-07-18T18:46:36.255Z"
   },
   {
    "duration": 38036,
    "start_time": "2023-07-18T18:48:20.844Z"
   },
   {
    "duration": 27,
    "start_time": "2023-07-18T18:49:01.492Z"
   },
   {
    "duration": 36,
    "start_time": "2023-07-18T18:49:54.786Z"
   },
   {
    "duration": 5,
    "start_time": "2023-07-18T18:50:06.551Z"
   },
   {
    "duration": 3,
    "start_time": "2023-07-18T18:50:59.163Z"
   },
   {
    "duration": 1290,
    "start_time": "2023-07-18T18:56:44.232Z"
   },
   {
    "duration": 895,
    "start_time": "2023-07-18T18:56:45.524Z"
   },
   {
    "duration": 14,
    "start_time": "2023-07-18T18:56:46.421Z"
   },
   {
    "duration": 14,
    "start_time": "2023-07-18T18:56:46.438Z"
   },
   {
    "duration": 4,
    "start_time": "2023-07-18T18:56:46.474Z"
   },
   {
    "duration": 8,
    "start_time": "2023-07-18T18:56:46.480Z"
   },
   {
    "duration": 8,
    "start_time": "2023-07-18T18:56:46.490Z"
   },
   {
    "duration": 6,
    "start_time": "2023-07-18T18:56:46.500Z"
   },
   {
    "duration": 83112,
    "start_time": "2023-07-18T18:56:46.507Z"
   },
   {
    "duration": 155,
    "start_time": "2023-07-18T18:58:09.621Z"
   },
   {
    "duration": 4,
    "start_time": "2023-07-18T18:58:09.777Z"
   },
   {
    "duration": 5,
    "start_time": "2023-07-18T18:58:09.783Z"
   },
   {
    "duration": 33,
    "start_time": "2023-07-18T18:58:09.789Z"
   },
   {
    "duration": 6544,
    "start_time": "2023-07-18T18:58:09.823Z"
   },
   {
    "duration": 3,
    "start_time": "2023-07-18T18:58:16.374Z"
   },
   {
    "duration": 36498,
    "start_time": "2023-07-18T18:58:16.378Z"
   },
   {
    "duration": 20,
    "start_time": "2023-07-18T18:58:52.879Z"
   },
   {
    "duration": 6,
    "start_time": "2023-07-18T18:58:52.902Z"
   },
   {
    "duration": 507032,
    "start_time": "2023-07-18T18:58:52.910Z"
   },
   {
    "duration": 6342,
    "start_time": "2023-07-18T19:07:19.943Z"
   },
   {
    "duration": 109,
    "start_time": "2023-07-18T19:12:48.493Z"
   },
   {
    "duration": 3,
    "start_time": "2023-07-18T19:18:53.616Z"
   },
   {
    "duration": 3,
    "start_time": "2023-07-18T19:18:55.412Z"
   },
   {
    "duration": 122,
    "start_time": "2023-07-18T19:18:58.856Z"
   },
   {
    "duration": 4,
    "start_time": "2023-07-18T19:19:11.871Z"
   },
   {
    "duration": 3,
    "start_time": "2023-07-18T19:19:19.340Z"
   },
   {
    "duration": 94,
    "start_time": "2023-07-18T19:21:42.381Z"
   },
   {
    "duration": 3,
    "start_time": "2023-07-18T19:21:46.933Z"
   },
   {
    "duration": 3,
    "start_time": "2023-07-18T19:21:47.213Z"
   },
   {
    "duration": 3,
    "start_time": "2023-07-18T19:21:47.793Z"
   },
   {
    "duration": 155981,
    "start_time": "2023-07-18T19:21:48.341Z"
   },
   {
    "duration": 56,
    "start_time": "2023-07-18T19:24:24.324Z"
   },
   {
    "duration": 0,
    "start_time": "2023-07-18T19:24:24.382Z"
   },
   {
    "duration": 0,
    "start_time": "2023-07-18T19:24:24.383Z"
   },
   {
    "duration": 2,
    "start_time": "2023-07-18T19:24:47.480Z"
   },
   {
    "duration": 3,
    "start_time": "2023-07-18T19:24:50.744Z"
   },
   {
    "duration": 51556,
    "start_time": "2023-07-18T19:24:51.914Z"
   },
   {
    "duration": 56,
    "start_time": "2023-07-18T19:25:43.472Z"
   },
   {
    "duration": 0,
    "start_time": "2023-07-18T19:25:43.530Z"
   },
   {
    "duration": 0,
    "start_time": "2023-07-18T19:25:43.531Z"
   },
   {
    "duration": 3,
    "start_time": "2023-07-18T19:25:53.598Z"
   },
   {
    "duration": 3,
    "start_time": "2023-07-18T19:25:53.916Z"
   },
   {
    "duration": 3,
    "start_time": "2023-07-18T19:25:54.251Z"
   },
   {
    "duration": 860731,
    "start_time": "2023-07-18T19:25:54.581Z"
   },
   {
    "duration": 2,
    "start_time": "2023-07-18T19:40:15.314Z"
   },
   {
    "duration": 214591,
    "start_time": "2023-07-18T19:40:15.318Z"
   },
   {
    "duration": 3478,
    "start_time": "2023-07-18T19:43:49.911Z"
   },
   {
    "duration": 4,
    "start_time": "2023-07-18T19:44:44.892Z"
   },
   {
    "duration": 11,
    "start_time": "2023-07-18T19:47:44.015Z"
   },
   {
    "duration": 3,
    "start_time": "2023-07-18T19:47:57.359Z"
   },
   {
    "duration": 651381,
    "start_time": "2023-07-18T19:48:00.424Z"
   },
   {
    "duration": 6607,
    "start_time": "2023-07-18T19:58:51.807Z"
   },
   {
    "duration": 46,
    "start_time": "2023-07-19T07:02:09.091Z"
   },
   {
    "duration": 1439,
    "start_time": "2023-07-19T07:02:19.269Z"
   },
   {
    "duration": 3546,
    "start_time": "2023-07-19T07:02:20.711Z"
   },
   {
    "duration": 12,
    "start_time": "2023-07-19T07:02:24.258Z"
   },
   {
    "duration": 43,
    "start_time": "2023-07-19T07:02:24.272Z"
   },
   {
    "duration": 3,
    "start_time": "2023-07-19T07:02:24.317Z"
   },
   {
    "duration": 32,
    "start_time": "2023-07-19T07:02:24.321Z"
   },
   {
    "duration": 29,
    "start_time": "2023-07-19T07:02:24.355Z"
   },
   {
    "duration": 28,
    "start_time": "2023-07-19T07:02:24.385Z"
   },
   {
    "duration": 77510,
    "start_time": "2023-07-19T07:02:24.415Z"
   },
   {
    "duration": 165,
    "start_time": "2023-07-19T07:03:41.927Z"
   },
   {
    "duration": 4,
    "start_time": "2023-07-19T07:03:42.093Z"
   },
   {
    "duration": 48,
    "start_time": "2023-07-19T07:03:42.098Z"
   },
   {
    "duration": 2,
    "start_time": "2023-07-19T07:03:42.148Z"
   },
   {
    "duration": 6265,
    "start_time": "2023-07-19T07:03:42.152Z"
   },
   {
    "duration": 8,
    "start_time": "2023-07-19T07:05:40.814Z"
   },
   {
    "duration": 6,
    "start_time": "2023-07-19T07:10:01.575Z"
   },
   {
    "duration": 4,
    "start_time": "2023-07-19T07:10:16.756Z"
   },
   {
    "duration": 89,
    "start_time": "2023-07-19T07:10:35.974Z"
   },
   {
    "duration": 6,
    "start_time": "2023-07-19T07:10:53.761Z"
   },
   {
    "duration": 35,
    "start_time": "2023-07-19T07:10:59.061Z"
   },
   {
    "duration": 4,
    "start_time": "2023-07-19T07:11:28.565Z"
   },
   {
    "duration": 4,
    "start_time": "2023-07-19T07:11:33.376Z"
   },
   {
    "duration": 34,
    "start_time": "2023-07-19T07:11:34.369Z"
   },
   {
    "duration": 7,
    "start_time": "2023-07-19T07:11:39.902Z"
   },
   {
    "duration": 4,
    "start_time": "2023-07-19T07:12:25.487Z"
   },
   {
    "duration": 679,
    "start_time": "2023-07-19T07:12:25.493Z"
   },
   {
    "duration": 7,
    "start_time": "2023-07-19T07:12:26.173Z"
   },
   {
    "duration": 11,
    "start_time": "2023-07-19T07:12:26.181Z"
   },
   {
    "duration": 16,
    "start_time": "2023-07-19T07:12:26.194Z"
   },
   {
    "duration": 13,
    "start_time": "2023-07-19T07:12:26.212Z"
   },
   {
    "duration": 9,
    "start_time": "2023-07-19T07:12:26.227Z"
   },
   {
    "duration": 13,
    "start_time": "2023-07-19T07:12:26.238Z"
   },
   {
    "duration": 71947,
    "start_time": "2023-07-19T07:12:26.253Z"
   },
   {
    "duration": 5,
    "start_time": "2023-07-19T07:13:38.206Z"
   },
   {
    "duration": 5,
    "start_time": "2023-07-19T07:13:38.213Z"
   },
   {
    "duration": 43,
    "start_time": "2023-07-19T07:13:38.219Z"
   },
   {
    "duration": 14,
    "start_time": "2023-07-19T07:13:38.264Z"
   },
   {
    "duration": 5942,
    "start_time": "2023-07-19T07:13:38.280Z"
   },
   {
    "duration": 8,
    "start_time": "2023-07-19T07:13:54.057Z"
   },
   {
    "duration": 4,
    "start_time": "2023-07-19T07:13:55.909Z"
   },
   {
    "duration": 30,
    "start_time": "2023-07-19T07:13:56.827Z"
   },
   {
    "duration": 4,
    "start_time": "2023-07-19T07:14:09.664Z"
   },
   {
    "duration": 4,
    "start_time": "2023-07-19T07:14:40.879Z"
   },
   {
    "duration": 4450,
    "start_time": "2023-07-19T07:30:51.973Z"
   },
   {
    "duration": 4506,
    "start_time": "2023-07-19T07:31:11.881Z"
   },
   {
    "duration": 26,
    "start_time": "2023-07-19T07:31:27.803Z"
   },
   {
    "duration": 6,
    "start_time": "2023-07-19T07:31:29.623Z"
   },
   {
    "duration": 3,
    "start_time": "2023-07-19T07:31:32.040Z"
   },
   {
    "duration": 19,
    "start_time": "2023-07-19T07:31:32.506Z"
   },
   {
    "duration": 11,
    "start_time": "2023-07-19T07:31:46.948Z"
   },
   {
    "duration": 20,
    "start_time": "2023-07-19T07:32:24.999Z"
   },
   {
    "duration": 19,
    "start_time": "2023-07-19T07:33:17.399Z"
   },
   {
    "duration": 13,
    "start_time": "2023-07-19T07:33:22.459Z"
   },
   {
    "duration": 15,
    "start_time": "2023-07-19T07:33:29.456Z"
   },
   {
    "duration": 4,
    "start_time": "2023-07-19T07:33:38.134Z"
   },
   {
    "duration": 3,
    "start_time": "2023-07-19T07:33:45.838Z"
   },
   {
    "duration": 5,
    "start_time": "2023-07-19T07:37:31.286Z"
   },
   {
    "duration": 795,
    "start_time": "2023-07-19T07:37:31.945Z"
   },
   {
    "duration": 10,
    "start_time": "2023-07-19T07:37:32.743Z"
   },
   {
    "duration": 31,
    "start_time": "2023-07-19T07:37:32.755Z"
   },
   {
    "duration": 4,
    "start_time": "2023-07-19T07:37:32.863Z"
   },
   {
    "duration": 7,
    "start_time": "2023-07-19T07:37:34.408Z"
   },
   {
    "duration": 3,
    "start_time": "2023-07-19T07:37:34.581Z"
   },
   {
    "duration": 3,
    "start_time": "2023-07-19T07:37:34.739Z"
   },
   {
    "duration": 86338,
    "start_time": "2023-07-19T07:37:35.084Z"
   },
   {
    "duration": 8,
    "start_time": "2023-07-19T07:39:01.430Z"
   },
   {
    "duration": 96,
    "start_time": "2023-07-19T07:39:01.443Z"
   },
   {
    "duration": 124,
    "start_time": "2023-07-19T07:39:01.541Z"
   },
   {
    "duration": 7,
    "start_time": "2023-07-19T07:40:00.206Z"
   },
   {
    "duration": 5,
    "start_time": "2023-07-19T07:40:02.056Z"
   },
   {
    "duration": 40,
    "start_time": "2023-07-19T07:40:14.716Z"
   },
   {
    "duration": 7,
    "start_time": "2023-07-19T07:40:15.582Z"
   },
   {
    "duration": 2,
    "start_time": "2023-07-19T07:40:18.430Z"
   },
   {
    "duration": 2548,
    "start_time": "2023-07-19T07:40:20.748Z"
   },
   {
    "duration": 10,
    "start_time": "2023-07-19T07:40:23.298Z"
   },
   {
    "duration": 3,
    "start_time": "2023-07-19T07:40:31.929Z"
   },
   {
    "duration": 12955,
    "start_time": "2023-07-19T07:40:32.657Z"
   },
   {
    "duration": 16,
    "start_time": "2023-07-19T07:40:47.889Z"
   },
   {
    "duration": 3,
    "start_time": "2023-07-19T07:41:58.029Z"
   },
   {
    "duration": 5009,
    "start_time": "2023-07-19T11:41:21.537Z"
   },
   {
    "duration": 526,
    "start_time": "2023-07-19T11:48:36.212Z"
   },
   {
    "duration": 690,
    "start_time": "2023-07-19T11:48:57.889Z"
   },
   {
    "duration": 23,
    "start_time": "2023-07-19T11:49:29.384Z"
   },
   {
    "duration": 4,
    "start_time": "2023-07-19T11:49:34.241Z"
   },
   {
    "duration": 2469,
    "start_time": "2023-07-19T11:49:34.251Z"
   },
   {
    "duration": 15,
    "start_time": "2023-07-19T11:49:36.722Z"
   },
   {
    "duration": 51,
    "start_time": "2023-07-19T11:49:36.739Z"
   },
   {
    "duration": 19,
    "start_time": "2023-07-19T11:49:36.792Z"
   },
   {
    "duration": 30,
    "start_time": "2023-07-19T11:49:36.814Z"
   },
   {
    "duration": 28,
    "start_time": "2023-07-19T11:49:36.846Z"
   },
   {
    "duration": 4,
    "start_time": "2023-07-19T11:52:58.934Z"
   },
   {
    "duration": 4772,
    "start_time": "2023-07-19T12:02:42.657Z"
   },
   {
    "duration": 1030,
    "start_time": "2023-07-19T12:02:47.432Z"
   },
   {
    "duration": 17,
    "start_time": "2023-07-19T12:02:48.464Z"
   },
   {
    "duration": 64,
    "start_time": "2023-07-19T12:02:48.484Z"
   },
   {
    "duration": 8,
    "start_time": "2023-07-19T12:02:48.550Z"
   },
   {
    "duration": 27,
    "start_time": "2023-07-19T12:02:48.561Z"
   },
   {
    "duration": 14,
    "start_time": "2023-07-19T12:02:48.591Z"
   },
   {
    "duration": 585,
    "start_time": "2023-07-19T12:02:48.608Z"
   },
   {
    "duration": 4,
    "start_time": "2023-07-19T12:02:49.196Z"
   },
   {
    "duration": 37,
    "start_time": "2023-07-19T12:02:49.208Z"
   },
   {
    "duration": 52,
    "start_time": "2023-07-19T12:02:49.247Z"
   },
   {
    "duration": 3,
    "start_time": "2023-07-19T12:02:52.987Z"
   },
   {
    "duration": 361,
    "start_time": "2023-07-19T12:02:54.521Z"
   },
   {
    "duration": 308,
    "start_time": "2023-07-19T12:03:04.308Z"
   },
   {
    "duration": 3,
    "start_time": "2023-07-19T12:03:27.116Z"
   },
   {
    "duration": 45,
    "start_time": "2023-07-19T12:03:29.711Z"
   },
   {
    "duration": 4,
    "start_time": "2023-07-19T12:03:58.499Z"
   },
   {
    "duration": 3,
    "start_time": "2023-07-19T12:04:00.167Z"
   },
   {
    "duration": 12,
    "start_time": "2023-07-19T12:04:00.487Z"
   },
   {
    "duration": 3,
    "start_time": "2023-07-19T12:04:40.868Z"
   },
   {
    "duration": 11,
    "start_time": "2023-07-19T12:04:43.309Z"
   },
   {
    "duration": 10,
    "start_time": "2023-07-19T12:05:13.970Z"
   },
   {
    "duration": 3,
    "start_time": "2023-07-19T12:05:47.876Z"
   },
   {
    "duration": 3,
    "start_time": "2023-07-19T12:05:48.401Z"
   },
   {
    "duration": 4,
    "start_time": "2023-07-19T12:05:49.966Z"
   },
   {
    "duration": 194,
    "start_time": "2023-07-19T12:05:51.396Z"
   },
   {
    "duration": 4,
    "start_time": "2023-07-19T12:05:52.957Z"
   },
   {
    "duration": 121544,
    "start_time": "2023-07-19T12:05:54.467Z"
   },
   {
    "duration": 302,
    "start_time": "2023-07-19T12:08:15.548Z"
   },
   {
    "duration": 4,
    "start_time": "2023-07-19T12:08:47.512Z"
   },
   {
    "duration": 140380,
    "start_time": "2023-07-19T12:08:49.933Z"
   },
   {
    "duration": 4,
    "start_time": "2023-07-19T12:11:10.316Z"
   },
   {
    "duration": 5,
    "start_time": "2023-07-19T12:11:19.806Z"
   },
   {
    "duration": 1032,
    "start_time": "2023-07-19T12:11:19.813Z"
   },
   {
    "duration": 8,
    "start_time": "2023-07-19T12:11:20.847Z"
   },
   {
    "duration": 98,
    "start_time": "2023-07-19T12:11:20.858Z"
   },
   {
    "duration": 30,
    "start_time": "2023-07-19T12:11:20.959Z"
   },
   {
    "duration": 91,
    "start_time": "2023-07-19T12:11:20.991Z"
   },
   {
    "duration": 12,
    "start_time": "2023-07-19T12:11:21.084Z"
   },
   {
    "duration": 476,
    "start_time": "2023-07-19T12:11:21.098Z"
   },
   {
    "duration": 3,
    "start_time": "2023-07-19T12:11:21.576Z"
   },
   {
    "duration": 18,
    "start_time": "2023-07-19T12:11:21.581Z"
   },
   {
    "duration": 22,
    "start_time": "2023-07-19T12:11:21.601Z"
   },
   {
    "duration": 23,
    "start_time": "2023-07-19T12:11:21.626Z"
   },
   {
    "duration": 12,
    "start_time": "2023-07-19T12:11:21.651Z"
   },
   {
    "duration": 24,
    "start_time": "2023-07-19T12:11:21.666Z"
   },
   {
    "duration": 1276,
    "start_time": "2023-07-19T12:11:24.416Z"
   },
   {
    "duration": 3,
    "start_time": "2023-07-19T12:11:38.840Z"
   },
   {
    "duration": 342337,
    "start_time": "2023-07-19T12:11:42.381Z"
   },
   {
    "duration": 26,
    "start_time": "2023-07-19T12:22:57.344Z"
   },
   {
    "duration": 6,
    "start_time": "2023-07-19T12:55:07.747Z"
   },
   {
    "duration": 4,
    "start_time": "2023-07-19T13:14:52.362Z"
   },
   {
    "duration": 4703,
    "start_time": "2023-07-19T13:24:22.523Z"
   },
   {
    "duration": 3,
    "start_time": "2023-07-19T13:24:27.228Z"
   },
   {
    "duration": 953,
    "start_time": "2023-07-19T13:24:27.233Z"
   },
   {
    "duration": 21,
    "start_time": "2023-07-19T13:24:28.188Z"
   },
   {
    "duration": 53,
    "start_time": "2023-07-19T13:24:28.212Z"
   },
   {
    "duration": 37,
    "start_time": "2023-07-19T13:24:28.267Z"
   },
   {
    "duration": 38,
    "start_time": "2023-07-19T13:24:28.306Z"
   },
   {
    "duration": 14,
    "start_time": "2023-07-19T13:24:28.346Z"
   },
   {
    "duration": 541,
    "start_time": "2023-07-19T13:24:28.362Z"
   },
   {
    "duration": 3,
    "start_time": "2023-07-19T13:24:28.906Z"
   },
   {
    "duration": 18,
    "start_time": "2023-07-19T13:24:28.911Z"
   },
   {
    "duration": 26,
    "start_time": "2023-07-19T13:24:28.931Z"
   },
   {
    "duration": 211,
    "start_time": "2023-07-19T13:24:28.959Z"
   },
   {
    "duration": 4,
    "start_time": "2023-07-19T13:24:29.173Z"
   },
   {
    "duration": 3388,
    "start_time": "2023-07-19T13:24:29.179Z"
   },
   {
    "duration": 76801,
    "start_time": "2023-07-19T13:24:32.570Z"
   },
   {
    "duration": 353,
    "start_time": "2023-07-19T13:26:11.135Z"
   },
   {
    "duration": 3,
    "start_time": "2023-07-19T13:26:51.716Z"
   },
   {
    "duration": 11,
    "start_time": "2023-07-19T13:26:55.952Z"
   },
   {
    "duration": 3,
    "start_time": "2023-07-19T13:27:21.814Z"
   },
   {
    "duration": 19803,
    "start_time": "2023-07-19T13:27:23.311Z"
   },
   {
    "duration": 6,
    "start_time": "2023-07-19T13:31:22.415Z"
   },
   {
    "duration": 7,
    "start_time": "2023-07-19T13:31:24.215Z"
   },
   {
    "duration": 886,
    "start_time": "2023-07-19T13:31:24.454Z"
   },
   {
    "duration": 8,
    "start_time": "2023-07-19T13:31:25.343Z"
   },
   {
    "duration": 48,
    "start_time": "2023-07-19T13:31:25.353Z"
   },
   {
    "duration": 20,
    "start_time": "2023-07-19T13:31:25.403Z"
   },
   {
    "duration": 19,
    "start_time": "2023-07-19T13:31:25.506Z"
   },
   {
    "duration": 4,
    "start_time": "2023-07-19T13:31:26.253Z"
   },
   {
    "duration": 555,
    "start_time": "2023-07-19T13:31:27.093Z"
   },
   {
    "duration": 27,
    "start_time": "2023-07-19T13:31:29.994Z"
   },
   {
    "duration": 4,
    "start_time": "2023-07-19T13:31:30.733Z"
   },
   {
    "duration": 3,
    "start_time": "2023-07-19T13:31:32.175Z"
   },
   {
    "duration": 6,
    "start_time": "2023-07-19T13:31:32.893Z"
   },
   {
    "duration": 5,
    "start_time": "2023-07-19T13:31:33.216Z"
   },
   {
    "duration": 2446,
    "start_time": "2023-07-19T13:31:34.698Z"
   },
   {
    "duration": 136,
    "start_time": "2023-07-19T13:31:37.754Z"
   },
   {
    "duration": 127,
    "start_time": "2023-07-19T13:31:55.627Z"
   },
   {
    "duration": 1183853,
    "start_time": "2023-07-19T13:32:56.834Z"
   },
   {
    "duration": 1159707,
    "start_time": "2023-07-19T13:53:17.969Z"
   },
   {
    "duration": 71,
    "start_time": "2023-07-19T14:16:06.325Z"
   },
   {
    "duration": 4,
    "start_time": "2023-07-19T14:16:12.396Z"
   },
   {
    "duration": 195934,
    "start_time": "2023-07-19T14:16:13.878Z"
   },
   {
    "duration": 4,
    "start_time": "2023-07-19T14:30:01.702Z"
   },
   {
    "duration": 4,
    "start_time": "2023-07-19T14:30:02.489Z"
   },
   {
    "duration": 263,
    "start_time": "2023-07-19T14:30:03.490Z"
   },
   {
    "duration": 4,
    "start_time": "2023-07-19T14:31:21.457Z"
   },
   {
    "duration": 3,
    "start_time": "2023-07-19T14:31:22.716Z"
   },
   {
    "duration": 1637488,
    "start_time": "2023-07-19T14:31:24.251Z"
   },
   {
    "duration": 190,
    "start_time": "2023-07-19T14:59:44.078Z"
   },
   {
    "duration": 4,
    "start_time": "2023-07-19T15:00:07.464Z"
   },
   {
    "duration": 4,
    "start_time": "2023-07-19T15:00:08.942Z"
   },
   {
    "duration": 3232,
    "start_time": "2023-07-21T21:09:43.584Z"
   },
   {
    "duration": 2,
    "start_time": "2023-07-21T21:09:46.818Z"
   },
   {
    "duration": 6,
    "start_time": "2023-07-21T21:09:46.822Z"
   },
   {
    "duration": 5491,
    "start_time": "2023-07-21T21:09:46.830Z"
   },
   {
    "duration": 5,
    "start_time": "2023-07-21T21:09:52.323Z"
   },
   {
    "duration": 2453,
    "start_time": "2023-07-21T21:09:52.330Z"
   },
   {
    "duration": 15,
    "start_time": "2023-07-21T21:09:54.785Z"
   },
   {
    "duration": 38,
    "start_time": "2023-07-21T21:09:54.802Z"
   },
   {
    "duration": 18,
    "start_time": "2023-07-21T21:09:54.842Z"
   },
   {
    "duration": 23,
    "start_time": "2023-07-21T21:09:54.863Z"
   },
   {
    "duration": 33,
    "start_time": "2023-07-21T21:09:54.888Z"
   },
   {
    "duration": 478,
    "start_time": "2023-07-21T21:09:54.922Z"
   },
   {
    "duration": 2,
    "start_time": "2023-07-21T21:09:55.402Z"
   },
   {
    "duration": 31,
    "start_time": "2023-07-21T21:09:55.405Z"
   },
   {
    "duration": 18,
    "start_time": "2023-07-21T21:09:55.437Z"
   },
   {
    "duration": 234,
    "start_time": "2023-07-21T21:09:55.457Z"
   },
   {
    "duration": 4,
    "start_time": "2023-07-21T21:09:55.693Z"
   },
   {
    "duration": 934315,
    "start_time": "2023-07-21T21:09:55.698Z"
   },
   {
    "duration": 23268,
    "start_time": "2023-07-21T21:25:30.015Z"
   },
   {
    "duration": 272,
    "start_time": "2023-07-21T21:25:53.284Z"
   },
   {
    "duration": 56,
    "start_time": "2023-07-21T21:25:53.558Z"
   },
   {
    "duration": 2,
    "start_time": "2023-07-21T21:25:53.616Z"
   },
   {
    "duration": 6,
    "start_time": "2023-07-21T21:25:53.619Z"
   },
   {
    "duration": 5,
    "start_time": "2023-07-21T21:25:53.627Z"
   },
   {
    "duration": 13,
    "start_time": "2023-07-21T21:25:53.633Z"
   },
   {
    "duration": 7,
    "start_time": "2023-07-21T21:25:53.647Z"
   },
   {
    "duration": 10,
    "start_time": "2023-07-21T21:25:53.655Z"
   },
   {
    "duration": 427173,
    "start_time": "2023-07-21T21:25:53.670Z"
   },
   {
    "duration": 93,
    "start_time": "2023-07-21T21:33:00.845Z"
   },
   {
    "duration": 29,
    "start_time": "2023-07-21T21:33:00.940Z"
   },
   {
    "duration": 40,
    "start_time": "2023-07-21T21:33:00.970Z"
   },
   {
    "duration": 49,
    "start_time": "2023-07-21T21:33:01.012Z"
   },
   {
    "duration": 468975,
    "start_time": "2023-07-21T21:33:01.062Z"
   },
   {
    "duration": 3,
    "start_time": "2023-07-21T21:40:50.038Z"
   },
   {
    "duration": 26,
    "start_time": "2023-07-21T21:40:50.042Z"
   },
   {
    "duration": 9,
    "start_time": "2023-07-21T21:40:50.070Z"
   },
   {
    "duration": 17,
    "start_time": "2023-07-21T21:40:50.080Z"
   },
   {
    "duration": 1262156,
    "start_time": "2023-07-21T21:40:50.098Z"
   },
   {
    "duration": 3,
    "start_time": "2023-07-21T22:01:52.257Z"
   },
   {
    "duration": 18,
    "start_time": "2023-07-21T22:01:52.262Z"
   },
   {
    "duration": 6,
    "start_time": "2023-07-21T22:01:52.281Z"
   },
   {
    "duration": 310975,
    "start_time": "2023-07-21T22:01:52.289Z"
   },
   {
    "duration": 7722,
    "start_time": "2023-07-21T22:07:03.265Z"
   },
   {
    "duration": 4,
    "start_time": "2023-07-21T22:07:10.989Z"
   },
   {
    "duration": 13,
    "start_time": "2023-07-21T22:07:11.032Z"
   },
   {
    "duration": 314,
    "start_time": "2023-07-21T22:08:09.245Z"
   },
   {
    "duration": 4,
    "start_time": "2023-07-21T22:10:05.765Z"
   },
   {
    "duration": 3,
    "start_time": "2023-07-21T22:10:14.594Z"
   },
   {
    "duration": 3,
    "start_time": "2023-07-21T22:10:27.443Z"
   },
   {
    "duration": 3504,
    "start_time": "2023-07-22T08:30:33.175Z"
   },
   {
    "duration": 3,
    "start_time": "2023-07-22T08:30:36.681Z"
   },
   {
    "duration": 8,
    "start_time": "2023-07-22T08:30:36.685Z"
   },
   {
    "duration": 4990,
    "start_time": "2023-07-22T08:30:36.694Z"
   },
   {
    "duration": 6,
    "start_time": "2023-07-22T08:30:41.686Z"
   },
   {
    "duration": 33,
    "start_time": "2023-07-22T08:30:41.693Z"
   },
   {
    "duration": 2339,
    "start_time": "2023-07-22T08:30:41.727Z"
   },
   {
    "duration": 13,
    "start_time": "2023-07-22T08:30:44.067Z"
   },
   {
    "duration": 35,
    "start_time": "2023-07-22T08:30:44.081Z"
   },
   {
    "duration": 5,
    "start_time": "2023-07-22T08:30:44.121Z"
   },
   {
    "duration": 15,
    "start_time": "2023-07-22T08:30:44.127Z"
   },
   {
    "duration": 8,
    "start_time": "2023-07-22T08:30:44.144Z"
   },
   {
    "duration": 518,
    "start_time": "2023-07-22T08:30:44.153Z"
   },
   {
    "duration": 3,
    "start_time": "2023-07-22T08:30:44.673Z"
   },
   {
    "duration": 5,
    "start_time": "2023-07-22T08:30:44.678Z"
   },
   {
    "duration": 5,
    "start_time": "2023-07-22T08:30:44.685Z"
   },
   {
    "duration": 193,
    "start_time": "2023-07-22T08:30:44.691Z"
   },
   {
    "duration": 5,
    "start_time": "2023-07-22T08:30:44.886Z"
   },
   {
    "duration": 940484,
    "start_time": "2023-07-22T08:30:44.893Z"
   },
   {
    "duration": 23844,
    "start_time": "2023-07-22T08:46:25.378Z"
   },
   {
    "duration": 289,
    "start_time": "2023-07-22T08:46:49.224Z"
   },
   {
    "duration": 56,
    "start_time": "2023-07-22T08:46:49.515Z"
   },
   {
    "duration": 3,
    "start_time": "2023-07-22T08:46:49.572Z"
   },
   {
    "duration": 6,
    "start_time": "2023-07-22T08:46:49.576Z"
   },
   {
    "duration": 6,
    "start_time": "2023-07-22T08:46:49.584Z"
   },
   {
    "duration": 5,
    "start_time": "2023-07-22T08:46:49.591Z"
   },
   {
    "duration": 8,
    "start_time": "2023-07-22T08:46:49.597Z"
   },
   {
    "duration": 9,
    "start_time": "2023-07-22T08:46:49.606Z"
   },
   {
    "duration": 441711,
    "start_time": "2023-07-22T08:46:49.616Z"
   },
   {
    "duration": 92,
    "start_time": "2023-07-22T08:54:11.330Z"
   },
   {
    "duration": 19,
    "start_time": "2023-07-22T08:54:11.425Z"
   },
   {
    "duration": 12,
    "start_time": "2023-07-22T08:54:11.446Z"
   },
   {
    "duration": 7,
    "start_time": "2023-07-22T08:54:11.460Z"
   },
   {
    "duration": 471491,
    "start_time": "2023-07-22T08:54:11.468Z"
   },
   {
    "duration": 2,
    "start_time": "2023-07-22T09:02:02.961Z"
   },
   {
    "duration": 18,
    "start_time": "2023-07-22T09:02:02.964Z"
   },
   {
    "duration": 5,
    "start_time": "2023-07-22T09:02:02.984Z"
   },
   {
    "duration": 26,
    "start_time": "2023-07-22T09:02:02.991Z"
   },
   {
    "duration": 1431759,
    "start_time": "2023-07-22T09:02:03.018Z"
   },
   {
    "duration": 7,
    "start_time": "2023-07-22T09:25:54.822Z"
   },
   {
    "duration": 31,
    "start_time": "2023-07-22T09:25:54.834Z"
   },
   {
    "duration": 15,
    "start_time": "2023-07-22T09:25:54.869Z"
   },
   {
    "duration": 324445,
    "start_time": "2023-07-22T09:25:54.893Z"
   },
   {
    "duration": 7318,
    "start_time": "2023-07-22T09:31:19.340Z"
   },
   {
    "duration": 3,
    "start_time": "2023-07-22T09:31:26.659Z"
   },
   {
    "duration": 8,
    "start_time": "2023-07-22T09:31:26.721Z"
   },
   {
    "duration": 75,
    "start_time": "2023-07-22T09:32:39.413Z"
   },
   {
    "duration": 2,
    "start_time": "2023-07-22T09:32:39.490Z"
   },
   {
    "duration": 5,
    "start_time": "2023-07-22T09:32:39.494Z"
   },
   {
    "duration": 8,
    "start_time": "2023-07-22T09:32:39.500Z"
   },
   {
    "duration": 3,
    "start_time": "2023-07-22T09:32:39.520Z"
   },
   {
    "duration": 16,
    "start_time": "2023-07-22T09:32:39.525Z"
   },
   {
    "duration": 13,
    "start_time": "2023-07-22T09:32:39.543Z"
   },
   {
    "duration": 367767,
    "start_time": "2023-07-22T09:32:39.557Z"
   },
   {
    "duration": 7,
    "start_time": "2023-07-22T09:38:47.326Z"
   },
   {
    "duration": 32,
    "start_time": "2023-07-22T09:38:47.334Z"
   },
   {
    "duration": 11,
    "start_time": "2023-07-22T09:38:47.367Z"
   },
   {
    "duration": 7,
    "start_time": "2023-07-22T09:38:47.379Z"
   },
   {
    "duration": 181960,
    "start_time": "2023-07-22T09:38:47.388Z"
   },
   {
    "duration": 31,
    "start_time": "2023-07-22T09:41:49.350Z"
   },
   {
    "duration": 0,
    "start_time": "2023-07-22T09:41:49.383Z"
   },
   {
    "duration": 0,
    "start_time": "2023-07-22T09:41:49.383Z"
   },
   {
    "duration": 0,
    "start_time": "2023-07-22T09:41:49.385Z"
   },
   {
    "duration": 0,
    "start_time": "2023-07-22T09:41:49.386Z"
   },
   {
    "duration": 0,
    "start_time": "2023-07-22T09:41:49.387Z"
   },
   {
    "duration": 0,
    "start_time": "2023-07-22T09:41:49.388Z"
   },
   {
    "duration": 0,
    "start_time": "2023-07-22T09:41:49.389Z"
   },
   {
    "duration": 0,
    "start_time": "2023-07-22T09:41:49.389Z"
   },
   {
    "duration": 0,
    "start_time": "2023-07-22T09:41:49.390Z"
   },
   {
    "duration": 0,
    "start_time": "2023-07-22T09:41:49.391Z"
   },
   {
    "duration": 0,
    "start_time": "2023-07-22T09:41:49.392Z"
   },
   {
    "duration": 84,
    "start_time": "2023-07-22T09:42:07.398Z"
   },
   {
    "duration": 4,
    "start_time": "2023-07-22T09:42:10.926Z"
   },
   {
    "duration": 431032,
    "start_time": "2023-07-22T09:42:11.290Z"
   },
   {
    "duration": 98,
    "start_time": "2023-07-22T09:49:22.324Z"
   },
   {
    "duration": 19,
    "start_time": "2023-07-22T09:49:22.424Z"
   },
   {
    "duration": 75,
    "start_time": "2023-07-22T09:57:03.095Z"
   },
   {
    "duration": 3,
    "start_time": "2023-07-22T09:57:08.030Z"
   },
   {
    "duration": 424183,
    "start_time": "2023-07-22T09:57:08.239Z"
   },
   {
    "duration": 98,
    "start_time": "2023-07-22T10:04:12.424Z"
   },
   {
    "duration": 30,
    "start_time": "2023-07-22T10:04:12.525Z"
   },
   {
    "duration": 39,
    "start_time": "2023-07-22T10:04:12.557Z"
   },
   {
    "duration": 20,
    "start_time": "2023-07-22T10:04:12.598Z"
   },
   {
    "duration": 447291,
    "start_time": "2023-07-22T10:04:12.620Z"
   },
   {
    "duration": 3,
    "start_time": "2023-07-22T10:11:39.919Z"
   },
   {
    "duration": 29,
    "start_time": "2023-07-22T10:11:39.923Z"
   },
   {
    "duration": 10,
    "start_time": "2023-07-22T10:11:39.954Z"
   },
   {
    "duration": 7,
    "start_time": "2023-07-22T10:11:39.966Z"
   },
   {
    "duration": 25394,
    "start_time": "2023-07-22T10:11:39.974Z"
   },
   {
    "duration": 4,
    "start_time": "2023-07-22T10:12:05.369Z"
   },
   {
    "duration": 90,
    "start_time": "2023-07-22T10:12:05.374Z"
   },
   {
    "duration": 2,
    "start_time": "2023-07-22T10:12:05.465Z"
   },
   {
    "duration": 37,
    "start_time": "2023-07-22T10:12:05.469Z"
   },
   {
    "duration": 72,
    "start_time": "2023-07-22T10:12:05.507Z"
   },
   {
    "duration": 36,
    "start_time": "2023-07-22T10:12:05.581Z"
   },
   {
    "duration": 42,
    "start_time": "2023-07-22T10:12:05.619Z"
   },
   {
    "duration": 70369,
    "start_time": "2023-07-22T10:12:05.663Z"
   },
   {
    "duration": 7,
    "start_time": "2023-07-22T10:13:16.034Z"
   },
   {
    "duration": 98,
    "start_time": "2023-07-22T10:13:16.042Z"
   },
   {
    "duration": 75,
    "start_time": "2023-07-22T10:13:21.339Z"
   },
   {
    "duration": 3,
    "start_time": "2023-07-22T10:13:24.005Z"
   },
   {
    "duration": 423951,
    "start_time": "2023-07-22T10:13:24.370Z"
   },
   {
    "duration": 98,
    "start_time": "2023-07-22T10:20:28.324Z"
   },
   {
    "duration": 17,
    "start_time": "2023-07-22T10:20:28.424Z"
   },
   {
    "duration": 3,
    "start_time": "2023-07-22T10:22:08.829Z"
   },
   {
    "duration": 420100,
    "start_time": "2023-07-22T10:22:09.823Z"
   },
   {
    "duration": 98,
    "start_time": "2023-07-22T10:29:09.925Z"
   },
   {
    "duration": 22,
    "start_time": "2023-07-22T10:29:10.024Z"
   },
   {
    "duration": 20,
    "start_time": "2023-07-22T10:29:10.049Z"
   },
   {
    "duration": 26,
    "start_time": "2023-07-22T10:29:10.071Z"
   },
   {
    "duration": 443088,
    "start_time": "2023-07-22T10:29:10.099Z"
   },
   {
    "duration": 3,
    "start_time": "2023-07-22T10:36:33.189Z"
   },
   {
    "duration": 13,
    "start_time": "2023-07-22T10:36:33.193Z"
   },
   {
    "duration": 6,
    "start_time": "2023-07-22T10:36:33.208Z"
   },
   {
    "duration": 2,
    "start_time": "2023-07-22T10:36:33.221Z"
   },
   {
    "duration": 1197022,
    "start_time": "2023-07-22T10:36:33.225Z"
   },
   {
    "duration": 4,
    "start_time": "2023-07-22T10:56:30.249Z"
   },
   {
    "duration": 49,
    "start_time": "2023-07-22T10:56:30.254Z"
   },
   {
    "duration": 49,
    "start_time": "2023-07-22T10:56:30.305Z"
   },
   {
    "duration": 607507,
    "start_time": "2023-07-22T10:56:30.356Z"
   },
   {
    "duration": 8388,
    "start_time": "2023-07-22T11:06:37.864Z"
   },
   {
    "duration": 3,
    "start_time": "2023-07-22T11:06:46.254Z"
   },
   {
    "duration": 31,
    "start_time": "2023-07-22T11:06:46.259Z"
   }
  ],
  "kernelspec": {
   "display_name": "Python 3 (ipykernel)",
   "language": "python",
   "name": "python3"
  },
  "language_info": {
   "codemirror_mode": {
    "name": "ipython",
    "version": 3
   },
   "file_extension": ".py",
   "mimetype": "text/x-python",
   "name": "python",
   "nbconvert_exporter": "python",
   "pygments_lexer": "ipython3",
   "version": "3.9.16"
  },
  "toc": {
   "base_numbering": 1,
   "nav_menu": {},
   "number_sections": true,
   "sideBar": true,
   "skip_h1_title": true,
   "title_cell": "Содержание",
   "title_sidebar": "Contents",
   "toc_cell": true,
   "toc_position": {
    "height": "calc(100% - 180px)",
    "left": "10px",
    "top": "150px",
    "width": "302.391px"
   },
   "toc_section_display": true,
   "toc_window_display": false
  }
 },
 "nbformat": 4,
 "nbformat_minor": 2
}
